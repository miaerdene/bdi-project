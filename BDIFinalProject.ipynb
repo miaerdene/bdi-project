{
  "nbformat": 4,
  "nbformat_minor": 0,
  "metadata": {
    "colab": {
      "name": "BDIFinalProject.ipynb",
      "provenance": [],
      "collapsed_sections": [],
      "authorship_tag": "ABX9TyPNE7kFbnvpzoN3u1MitWsP",
      "include_colab_link": true
    },
    "kernelspec": {
      "name": "python3",
      "display_name": "Python 3"
    },
    "language_info": {
      "name": "python"
    }
  },
  "cells": [
    {
      "cell_type": "markdown",
      "metadata": {
        "id": "view-in-github",
        "colab_type": "text"
      },
      "source": [
        "<a href=\"https://colab.research.google.com/github/miaerdene/bdi-project/blob/main/BDIFinalProject.ipynb\" target=\"_parent\"><img src=\"https://colab.research.google.com/assets/colab-badge.svg\" alt=\"Open In Colab\"/></a>"
      ]
    },
    {
      "cell_type": "code",
      "metadata": {
        "colab": {
          "base_uri": "https://localhost:8080/"
        },
        "id": "0Y5YrgRZNUIU",
        "outputId": "f98d7630-0651-4489-a756-b0b2d3edded9"
      },
      "source": [
        "if 'google.colab' in str(get_ipython()):\n",
        "    !pip install plotly==5.3.1"
      ],
      "execution_count": 297,
      "outputs": [
        {
          "output_type": "stream",
          "name": "stdout",
          "text": [
            "Requirement already satisfied: plotly==5.3.1 in /usr/local/lib/python3.7/dist-packages (5.3.1)\n",
            "Requirement already satisfied: tenacity>=6.2.0 in /usr/local/lib/python3.7/dist-packages (from plotly==5.3.1) (8.0.1)\n",
            "Requirement already satisfied: six in /usr/local/lib/python3.7/dist-packages (from plotly==5.3.1) (1.15.0)\n"
          ]
        }
      ]
    },
    {
      "cell_type": "code",
      "metadata": {
        "id": "v6jTxk5pNcbj"
      },
      "source": [
        "import pandas as pd\n",
        "import numpy as np\n",
        "import seaborn as sb\n",
        "import plotly\n",
        "import plotly.express as px\n",
        "import plotly.graph_objects as go\n",
        "import plotly.io as pio\n",
        "import matplotlib\n",
        "import matplotlib.pyplot as plt\n",
        "\n",
        "pd.set_option('display.max_columns', 50)"
      ],
      "execution_count": 298,
      "outputs": []
    },
    {
      "cell_type": "markdown",
      "source": [
        "# **Chosen Dataset: Netflix Movies and TV Shows**"
      ],
      "metadata": {
        "id": "ThvpJWi1VIJM"
      }
    },
    {
      "cell_type": "markdown",
      "source": [
        "Yoyoyo, who likes Netflix and loves binging their favorite shows? \n",
        "\n",
        "Let's use this opportunity to have fun while also practicing data visualization! \n",
        "\n",
        "This dataset consists of listings of all the movies and tv shows available on Netflix, along with details such as - cast, directors, ratings, release year, duration, etc. "
      ],
      "metadata": {
        "id": "WlJi0zKIVzSa"
      }
    },
    {
      "cell_type": "code",
      "metadata": {
        "colab": {
          "base_uri": "https://localhost:8080/",
          "height": 374
        },
        "id": "ZtjsRQZUNo3B",
        "outputId": "51ac414d-a196-4970-96e8-410d3d06cf83"
      },
      "source": [
        "df = pd.read_csv('https://github.com/miaerdene/bdi-project/blob/main/netflix_titles.csv?raw=true')\n",
        "df_backup = df.copy()\n",
        "df.head(5)"
      ],
      "execution_count": 299,
      "outputs": [
        {
          "output_type": "execute_result",
          "data": {
            "text/html": [
              "<div>\n",
              "<style scoped>\n",
              "    .dataframe tbody tr th:only-of-type {\n",
              "        vertical-align: middle;\n",
              "    }\n",
              "\n",
              "    .dataframe tbody tr th {\n",
              "        vertical-align: top;\n",
              "    }\n",
              "\n",
              "    .dataframe thead th {\n",
              "        text-align: right;\n",
              "    }\n",
              "</style>\n",
              "<table border=\"1\" class=\"dataframe\">\n",
              "  <thead>\n",
              "    <tr style=\"text-align: right;\">\n",
              "      <th></th>\n",
              "      <th>show_id</th>\n",
              "      <th>type</th>\n",
              "      <th>title</th>\n",
              "      <th>director</th>\n",
              "      <th>cast</th>\n",
              "      <th>country</th>\n",
              "      <th>date_added</th>\n",
              "      <th>release_year</th>\n",
              "      <th>rating</th>\n",
              "      <th>duration</th>\n",
              "      <th>listed_in</th>\n",
              "      <th>description</th>\n",
              "    </tr>\n",
              "  </thead>\n",
              "  <tbody>\n",
              "    <tr>\n",
              "      <th>0</th>\n",
              "      <td>s1</td>\n",
              "      <td>Movie</td>\n",
              "      <td>Dick Johnson Is Dead</td>\n",
              "      <td>Kirsten Johnson</td>\n",
              "      <td>NaN</td>\n",
              "      <td>United States</td>\n",
              "      <td>September 25, 2021</td>\n",
              "      <td>2020</td>\n",
              "      <td>PG-13</td>\n",
              "      <td>90 min</td>\n",
              "      <td>Documentaries</td>\n",
              "      <td>As her father nears the end of his life, filmm...</td>\n",
              "    </tr>\n",
              "    <tr>\n",
              "      <th>1</th>\n",
              "      <td>s2</td>\n",
              "      <td>TV Show</td>\n",
              "      <td>Blood &amp; Water</td>\n",
              "      <td>NaN</td>\n",
              "      <td>Ama Qamata, Khosi Ngema, Gail Mabalane, Thaban...</td>\n",
              "      <td>South Africa</td>\n",
              "      <td>September 24, 2021</td>\n",
              "      <td>2021</td>\n",
              "      <td>TV-MA</td>\n",
              "      <td>2 Seasons</td>\n",
              "      <td>International TV Shows, TV Dramas, TV Mysteries</td>\n",
              "      <td>After crossing paths at a party, a Cape Town t...</td>\n",
              "    </tr>\n",
              "    <tr>\n",
              "      <th>2</th>\n",
              "      <td>s3</td>\n",
              "      <td>TV Show</td>\n",
              "      <td>Ganglands</td>\n",
              "      <td>Julien Leclercq</td>\n",
              "      <td>Sami Bouajila, Tracy Gotoas, Samuel Jouy, Nabi...</td>\n",
              "      <td>NaN</td>\n",
              "      <td>September 24, 2021</td>\n",
              "      <td>2021</td>\n",
              "      <td>TV-MA</td>\n",
              "      <td>1 Season</td>\n",
              "      <td>Crime TV Shows, International TV Shows, TV Act...</td>\n",
              "      <td>To protect his family from a powerful drug lor...</td>\n",
              "    </tr>\n",
              "    <tr>\n",
              "      <th>3</th>\n",
              "      <td>s4</td>\n",
              "      <td>TV Show</td>\n",
              "      <td>Jailbirds New Orleans</td>\n",
              "      <td>NaN</td>\n",
              "      <td>NaN</td>\n",
              "      <td>NaN</td>\n",
              "      <td>September 24, 2021</td>\n",
              "      <td>2021</td>\n",
              "      <td>TV-MA</td>\n",
              "      <td>1 Season</td>\n",
              "      <td>Docuseries, Reality TV</td>\n",
              "      <td>Feuds, flirtations and toilet talk go down amo...</td>\n",
              "    </tr>\n",
              "    <tr>\n",
              "      <th>4</th>\n",
              "      <td>s5</td>\n",
              "      <td>TV Show</td>\n",
              "      <td>Kota Factory</td>\n",
              "      <td>NaN</td>\n",
              "      <td>Mayur More, Jitendra Kumar, Ranjan Raj, Alam K...</td>\n",
              "      <td>India</td>\n",
              "      <td>September 24, 2021</td>\n",
              "      <td>2021</td>\n",
              "      <td>TV-MA</td>\n",
              "      <td>2 Seasons</td>\n",
              "      <td>International TV Shows, Romantic TV Shows, TV ...</td>\n",
              "      <td>In a city of coaching centers known to train I...</td>\n",
              "    </tr>\n",
              "  </tbody>\n",
              "</table>\n",
              "</div>"
            ],
            "text/plain": [
              "  show_id     type                  title         director  \\\n",
              "0      s1    Movie   Dick Johnson Is Dead  Kirsten Johnson   \n",
              "1      s2  TV Show          Blood & Water              NaN   \n",
              "2      s3  TV Show              Ganglands  Julien Leclercq   \n",
              "3      s4  TV Show  Jailbirds New Orleans              NaN   \n",
              "4      s5  TV Show           Kota Factory              NaN   \n",
              "\n",
              "                                                cast        country  \\\n",
              "0                                                NaN  United States   \n",
              "1  Ama Qamata, Khosi Ngema, Gail Mabalane, Thaban...   South Africa   \n",
              "2  Sami Bouajila, Tracy Gotoas, Samuel Jouy, Nabi...            NaN   \n",
              "3                                                NaN            NaN   \n",
              "4  Mayur More, Jitendra Kumar, Ranjan Raj, Alam K...          India   \n",
              "\n",
              "           date_added  release_year rating   duration  \\\n",
              "0  September 25, 2021          2020  PG-13     90 min   \n",
              "1  September 24, 2021          2021  TV-MA  2 Seasons   \n",
              "2  September 24, 2021          2021  TV-MA   1 Season   \n",
              "3  September 24, 2021          2021  TV-MA   1 Season   \n",
              "4  September 24, 2021          2021  TV-MA  2 Seasons   \n",
              "\n",
              "                                           listed_in  \\\n",
              "0                                      Documentaries   \n",
              "1    International TV Shows, TV Dramas, TV Mysteries   \n",
              "2  Crime TV Shows, International TV Shows, TV Act...   \n",
              "3                             Docuseries, Reality TV   \n",
              "4  International TV Shows, Romantic TV Shows, TV ...   \n",
              "\n",
              "                                         description  \n",
              "0  As her father nears the end of his life, filmm...  \n",
              "1  After crossing paths at a party, a Cape Town t...  \n",
              "2  To protect his family from a powerful drug lor...  \n",
              "3  Feuds, flirtations and toilet talk go down amo...  \n",
              "4  In a city of coaching centers known to train I...  "
            ]
          },
          "metadata": {},
          "execution_count": 299
        }
      ]
    },
    {
      "cell_type": "markdown",
      "source": [
        "Let's see the number of rows and columns of this dataset. "
      ],
      "metadata": {
        "id": "IkzeN9XRXx9b"
      }
    },
    {
      "cell_type": "code",
      "metadata": {
        "colab": {
          "base_uri": "https://localhost:8080/"
        },
        "id": "W6yD8ViOO2R4",
        "outputId": "0b5eb455-76cf-4dc5-fe00-eb7e015a9ea6"
      },
      "source": [
        "num_rows = df.shape[0]\n",
        "num_cols = df.shape[1]\n",
        "\n",
        "print(f'There are {num_rows} rows and {num_cols} columns in the dataset.')"
      ],
      "execution_count": 300,
      "outputs": [
        {
          "output_type": "stream",
          "name": "stdout",
          "text": [
            "There are 8807 rows and 12 columns in the dataset.\n"
          ]
        }
      ]
    },
    {
      "cell_type": "markdown",
      "source": [
        "Let's check the data types of each column and number of non-missing rows."
      ],
      "metadata": {
        "id": "9BPvtEHBX9lO"
      }
    },
    {
      "cell_type": "code",
      "metadata": {
        "colab": {
          "base_uri": "https://localhost:8080/"
        },
        "id": "Yq1SSJmoP6mD",
        "outputId": "558a3aee-4875-4203-ae3d-cb5ef0857ad1"
      },
      "source": [
        "df.info()"
      ],
      "execution_count": 301,
      "outputs": [
        {
          "output_type": "stream",
          "name": "stdout",
          "text": [
            "<class 'pandas.core.frame.DataFrame'>\n",
            "RangeIndex: 8807 entries, 0 to 8806\n",
            "Data columns (total 12 columns):\n",
            " #   Column        Non-Null Count  Dtype \n",
            "---  ------        --------------  ----- \n",
            " 0   show_id       8807 non-null   object\n",
            " 1   type          8807 non-null   object\n",
            " 2   title         8807 non-null   object\n",
            " 3   director      6173 non-null   object\n",
            " 4   cast          7982 non-null   object\n",
            " 5   country       7976 non-null   object\n",
            " 6   date_added    8797 non-null   object\n",
            " 7   release_year  8807 non-null   int64 \n",
            " 8   rating        8803 non-null   object\n",
            " 9   duration      8804 non-null   object\n",
            " 10  listed_in     8807 non-null   object\n",
            " 11  description   8807 non-null   object\n",
            "dtypes: int64(1), object(11)\n",
            "memory usage: 825.8+ KB\n"
          ]
        }
      ]
    },
    {
      "cell_type": "markdown",
      "source": [
        "I want to know what the end of the data looks like! "
      ],
      "metadata": {
        "id": "Zt-lkLn7YFUM"
      }
    },
    {
      "cell_type": "code",
      "metadata": {
        "colab": {
          "base_uri": "https://localhost:8080/",
          "height": 374
        },
        "id": "UHITU72hQA0N",
        "outputId": "53904eae-8c59-4e34-ce65-e1711dbffff9"
      },
      "source": [
        "df.tail(5)"
      ],
      "execution_count": 302,
      "outputs": [
        {
          "output_type": "execute_result",
          "data": {
            "text/html": [
              "<div>\n",
              "<style scoped>\n",
              "    .dataframe tbody tr th:only-of-type {\n",
              "        vertical-align: middle;\n",
              "    }\n",
              "\n",
              "    .dataframe tbody tr th {\n",
              "        vertical-align: top;\n",
              "    }\n",
              "\n",
              "    .dataframe thead th {\n",
              "        text-align: right;\n",
              "    }\n",
              "</style>\n",
              "<table border=\"1\" class=\"dataframe\">\n",
              "  <thead>\n",
              "    <tr style=\"text-align: right;\">\n",
              "      <th></th>\n",
              "      <th>show_id</th>\n",
              "      <th>type</th>\n",
              "      <th>title</th>\n",
              "      <th>director</th>\n",
              "      <th>cast</th>\n",
              "      <th>country</th>\n",
              "      <th>date_added</th>\n",
              "      <th>release_year</th>\n",
              "      <th>rating</th>\n",
              "      <th>duration</th>\n",
              "      <th>listed_in</th>\n",
              "      <th>description</th>\n",
              "    </tr>\n",
              "  </thead>\n",
              "  <tbody>\n",
              "    <tr>\n",
              "      <th>8802</th>\n",
              "      <td>s8803</td>\n",
              "      <td>Movie</td>\n",
              "      <td>Zodiac</td>\n",
              "      <td>David Fincher</td>\n",
              "      <td>Mark Ruffalo, Jake Gyllenhaal, Robert Downey J...</td>\n",
              "      <td>United States</td>\n",
              "      <td>November 20, 2019</td>\n",
              "      <td>2007</td>\n",
              "      <td>R</td>\n",
              "      <td>158 min</td>\n",
              "      <td>Cult Movies, Dramas, Thrillers</td>\n",
              "      <td>A political cartoonist, a crime reporter and a...</td>\n",
              "    </tr>\n",
              "    <tr>\n",
              "      <th>8803</th>\n",
              "      <td>s8804</td>\n",
              "      <td>TV Show</td>\n",
              "      <td>Zombie Dumb</td>\n",
              "      <td>NaN</td>\n",
              "      <td>NaN</td>\n",
              "      <td>NaN</td>\n",
              "      <td>July 1, 2019</td>\n",
              "      <td>2018</td>\n",
              "      <td>TV-Y7</td>\n",
              "      <td>2 Seasons</td>\n",
              "      <td>Kids' TV, Korean TV Shows, TV Comedies</td>\n",
              "      <td>While living alone in a spooky town, a young g...</td>\n",
              "    </tr>\n",
              "    <tr>\n",
              "      <th>8804</th>\n",
              "      <td>s8805</td>\n",
              "      <td>Movie</td>\n",
              "      <td>Zombieland</td>\n",
              "      <td>Ruben Fleischer</td>\n",
              "      <td>Jesse Eisenberg, Woody Harrelson, Emma Stone, ...</td>\n",
              "      <td>United States</td>\n",
              "      <td>November 1, 2019</td>\n",
              "      <td>2009</td>\n",
              "      <td>R</td>\n",
              "      <td>88 min</td>\n",
              "      <td>Comedies, Horror Movies</td>\n",
              "      <td>Looking to survive in a world taken over by zo...</td>\n",
              "    </tr>\n",
              "    <tr>\n",
              "      <th>8805</th>\n",
              "      <td>s8806</td>\n",
              "      <td>Movie</td>\n",
              "      <td>Zoom</td>\n",
              "      <td>Peter Hewitt</td>\n",
              "      <td>Tim Allen, Courteney Cox, Chevy Chase, Kate Ma...</td>\n",
              "      <td>United States</td>\n",
              "      <td>January 11, 2020</td>\n",
              "      <td>2006</td>\n",
              "      <td>PG</td>\n",
              "      <td>88 min</td>\n",
              "      <td>Children &amp; Family Movies, Comedies</td>\n",
              "      <td>Dragged from civilian life, a former superhero...</td>\n",
              "    </tr>\n",
              "    <tr>\n",
              "      <th>8806</th>\n",
              "      <td>s8807</td>\n",
              "      <td>Movie</td>\n",
              "      <td>Zubaan</td>\n",
              "      <td>Mozez Singh</td>\n",
              "      <td>Vicky Kaushal, Sarah-Jane Dias, Raaghav Chanan...</td>\n",
              "      <td>India</td>\n",
              "      <td>March 2, 2019</td>\n",
              "      <td>2015</td>\n",
              "      <td>TV-14</td>\n",
              "      <td>111 min</td>\n",
              "      <td>Dramas, International Movies, Music &amp; Musicals</td>\n",
              "      <td>A scrappy but poor boy worms his way into a ty...</td>\n",
              "    </tr>\n",
              "  </tbody>\n",
              "</table>\n",
              "</div>"
            ],
            "text/plain": [
              "     show_id     type        title         director  \\\n",
              "8802   s8803    Movie       Zodiac    David Fincher   \n",
              "8803   s8804  TV Show  Zombie Dumb              NaN   \n",
              "8804   s8805    Movie   Zombieland  Ruben Fleischer   \n",
              "8805   s8806    Movie         Zoom     Peter Hewitt   \n",
              "8806   s8807    Movie       Zubaan      Mozez Singh   \n",
              "\n",
              "                                                   cast        country  \\\n",
              "8802  Mark Ruffalo, Jake Gyllenhaal, Robert Downey J...  United States   \n",
              "8803                                                NaN            NaN   \n",
              "8804  Jesse Eisenberg, Woody Harrelson, Emma Stone, ...  United States   \n",
              "8805  Tim Allen, Courteney Cox, Chevy Chase, Kate Ma...  United States   \n",
              "8806  Vicky Kaushal, Sarah-Jane Dias, Raaghav Chanan...          India   \n",
              "\n",
              "             date_added  release_year rating   duration  \\\n",
              "8802  November 20, 2019          2007      R    158 min   \n",
              "8803       July 1, 2019          2018  TV-Y7  2 Seasons   \n",
              "8804   November 1, 2019          2009      R     88 min   \n",
              "8805   January 11, 2020          2006     PG     88 min   \n",
              "8806      March 2, 2019          2015  TV-14    111 min   \n",
              "\n",
              "                                           listed_in  \\\n",
              "8802                  Cult Movies, Dramas, Thrillers   \n",
              "8803          Kids' TV, Korean TV Shows, TV Comedies   \n",
              "8804                         Comedies, Horror Movies   \n",
              "8805              Children & Family Movies, Comedies   \n",
              "8806  Dramas, International Movies, Music & Musicals   \n",
              "\n",
              "                                            description  \n",
              "8802  A political cartoonist, a crime reporter and a...  \n",
              "8803  While living alone in a spooky town, a young g...  \n",
              "8804  Looking to survive in a world taken over by zo...  \n",
              "8805  Dragged from civilian life, a former superhero...  \n",
              "8806  A scrappy but poor boy worms his way into a ty...  "
            ]
          },
          "metadata": {},
          "execution_count": 302
        }
      ]
    },
    {
      "cell_type": "markdown",
      "source": [
        "Let us check if there are columns with missing values. "
      ],
      "metadata": {
        "id": "G7MAvZTFYOd2"
      }
    },
    {
      "cell_type": "code",
      "source": [
        "for i in df.columns: \n",
        "    null_percentage = df[i].isna().sum() / len(df) * 100 \n",
        "    if null_percentage > 0:\n",
        "      print(\"{} has null percentage of {}%\". format(i, round(null_percentage,2)))"
      ],
      "metadata": {
        "colab": {
          "base_uri": "https://localhost:8080/"
        },
        "id": "hB6ZCACiYgAN",
        "outputId": "7f4ecaa8-a92c-480f-f37d-b1219d5ac778"
      },
      "execution_count": 303,
      "outputs": [
        {
          "output_type": "stream",
          "name": "stdout",
          "text": [
            "director has null percentage of 29.91%\n",
            "cast has null percentage of 9.37%\n",
            "country has null percentage of 9.44%\n",
            "date_added has null percentage of 0.11%\n",
            "rating has null percentage of 0.05%\n",
            "duration has null percentage of 0.03%\n"
          ]
        }
      ]
    },
    {
      "cell_type": "code",
      "source": [
        "df = df.dropna( how='any',subset=['cast', 'director'])"
      ],
      "metadata": {
        "id": "cYjlZ8lVOtkR"
      },
      "execution_count": 304,
      "outputs": []
    },
    {
      "cell_type": "markdown",
      "source": [
        "So, as you can see, these five columns have missing values. Some greater than the other. Director has missing values in almost 30% of the data! \n",
        "\n",
        "I want to replace these blank values with 'No Data' string. "
      ],
      "metadata": {
        "id": "hv28SAaLZQQB"
      }
    },
    {
      "cell_type": "code",
      "source": [
        "# Replace\n",
        "\n",
        "df['country'].replace(np.nan, 'United States', inplace = True)\n",
        "\n",
        "# Drop duplicates\n",
        "\n",
        "df.dropna(inplace = True)\n",
        "\n",
        "df.drop_duplicates(inplace = True)\n"
      ],
      "metadata": {
        "id": "IMVTL5_GZ7Tb"
      },
      "execution_count": 305,
      "outputs": []
    },
    {
      "cell_type": "code",
      "source": [
        "df.info()"
      ],
      "metadata": {
        "colab": {
          "base_uri": "https://localhost:8080/"
        },
        "id": "I_5nHXsGah11",
        "outputId": "e7048f29-4934-4a12-b379-6a3d7c8fa6c6"
      },
      "execution_count": 306,
      "outputs": [
        {
          "output_type": "stream",
          "name": "stdout",
          "text": [
            "<class 'pandas.core.frame.DataFrame'>\n",
            "Int64Index: 5696 entries, 2 to 8806\n",
            "Data columns (total 12 columns):\n",
            " #   Column        Non-Null Count  Dtype \n",
            "---  ------        --------------  ----- \n",
            " 0   show_id       5696 non-null   object\n",
            " 1   type          5696 non-null   object\n",
            " 2   title         5696 non-null   object\n",
            " 3   director      5696 non-null   object\n",
            " 4   cast          5696 non-null   object\n",
            " 5   country       5696 non-null   object\n",
            " 6   date_added    5696 non-null   object\n",
            " 7   release_year  5696 non-null   int64 \n",
            " 8   rating        5696 non-null   object\n",
            " 9   duration      5696 non-null   object\n",
            " 10  listed_in     5696 non-null   object\n",
            " 11  description   5696 non-null   object\n",
            "dtypes: int64(1), object(11)\n",
            "memory usage: 578.5+ KB\n"
          ]
        }
      ]
    },
    {
      "cell_type": "code",
      "source": [
        "df = df.rename(columns={\"listed_in\":\"Genre\"})\n",
        "df['Genre'] = df['Genre'].apply(lambda x: x.split(\",\")[0])\n",
        "df['Genre'].head()"
      ],
      "metadata": {
        "colab": {
          "base_uri": "https://localhost:8080/"
        },
        "id": "74SzDMAX0sxT",
        "outputId": "2eb76cf4-2d5b-42cb-fb6e-4489a611732b"
      },
      "execution_count": 307,
      "outputs": [
        {
          "output_type": "execute_result",
          "data": {
            "text/plain": [
              "2              Crime TV Shows\n",
              "5                   TV Dramas\n",
              "6    Children & Family Movies\n",
              "7                      Dramas\n",
              "8            British TV Shows\n",
              "Name: Genre, dtype: object"
            ]
          },
          "metadata": {},
          "execution_count": 307
        }
      ]
    },
    {
      "cell_type": "markdown",
      "source": [
        "Checking date string"
      ],
      "metadata": {
        "id": "KNDWkh4pU47J"
      }
    },
    {
      "cell_type": "code",
      "metadata": {
        "colab": {
          "base_uri": "https://localhost:8080/",
          "height": 37
        },
        "id": "YqhF-OWAR1gw",
        "outputId": "13c8da09-78e5-4934-9883-db0a22c3a804"
      },
      "source": [
        "str(df['date_added'].dtype)"
      ],
      "execution_count": 308,
      "outputs": [
        {
          "output_type": "execute_result",
          "data": {
            "application/vnd.google.colaboratory.intrinsic+json": {
              "type": "string"
            },
            "text/plain": [
              "'object'"
            ]
          },
          "metadata": {},
          "execution_count": 308
        }
      ]
    },
    {
      "cell_type": "markdown",
      "source": [
        "Let's fix the date. "
      ],
      "metadata": {
        "id": "4IXX7yohbB2c"
      }
    },
    {
      "cell_type": "code",
      "source": [
        "#Parse date with a new column\n",
        "\n",
        "df['date_added_parsed'] = pd.to_datetime(df['date_added'])\n",
        "\n",
        "#Drop start_date column inplace\n",
        "\n",
        "df.drop(columns = ['date_added'], inplace = True)\n",
        "\n",
        "df.head(5)"
      ],
      "metadata": {
        "colab": {
          "base_uri": "https://localhost:8080/",
          "height": 459
        },
        "id": "8zx3UcXYbM56",
        "outputId": "1717d577-be72-447a-89c5-cc45cbf21077"
      },
      "execution_count": 309,
      "outputs": [
        {
          "output_type": "execute_result",
          "data": {
            "text/html": [
              "<div>\n",
              "<style scoped>\n",
              "    .dataframe tbody tr th:only-of-type {\n",
              "        vertical-align: middle;\n",
              "    }\n",
              "\n",
              "    .dataframe tbody tr th {\n",
              "        vertical-align: top;\n",
              "    }\n",
              "\n",
              "    .dataframe thead th {\n",
              "        text-align: right;\n",
              "    }\n",
              "</style>\n",
              "<table border=\"1\" class=\"dataframe\">\n",
              "  <thead>\n",
              "    <tr style=\"text-align: right;\">\n",
              "      <th></th>\n",
              "      <th>show_id</th>\n",
              "      <th>type</th>\n",
              "      <th>title</th>\n",
              "      <th>director</th>\n",
              "      <th>cast</th>\n",
              "      <th>country</th>\n",
              "      <th>release_year</th>\n",
              "      <th>rating</th>\n",
              "      <th>duration</th>\n",
              "      <th>Genre</th>\n",
              "      <th>description</th>\n",
              "      <th>date_added_parsed</th>\n",
              "    </tr>\n",
              "  </thead>\n",
              "  <tbody>\n",
              "    <tr>\n",
              "      <th>2</th>\n",
              "      <td>s3</td>\n",
              "      <td>TV Show</td>\n",
              "      <td>Ganglands</td>\n",
              "      <td>Julien Leclercq</td>\n",
              "      <td>Sami Bouajila, Tracy Gotoas, Samuel Jouy, Nabi...</td>\n",
              "      <td>United States</td>\n",
              "      <td>2021</td>\n",
              "      <td>TV-MA</td>\n",
              "      <td>1 Season</td>\n",
              "      <td>Crime TV Shows</td>\n",
              "      <td>To protect his family from a powerful drug lor...</td>\n",
              "      <td>2021-09-24</td>\n",
              "    </tr>\n",
              "    <tr>\n",
              "      <th>5</th>\n",
              "      <td>s6</td>\n",
              "      <td>TV Show</td>\n",
              "      <td>Midnight Mass</td>\n",
              "      <td>Mike Flanagan</td>\n",
              "      <td>Kate Siegel, Zach Gilford, Hamish Linklater, H...</td>\n",
              "      <td>United States</td>\n",
              "      <td>2021</td>\n",
              "      <td>TV-MA</td>\n",
              "      <td>1 Season</td>\n",
              "      <td>TV Dramas</td>\n",
              "      <td>The arrival of a charismatic young priest brin...</td>\n",
              "      <td>2021-09-24</td>\n",
              "    </tr>\n",
              "    <tr>\n",
              "      <th>6</th>\n",
              "      <td>s7</td>\n",
              "      <td>Movie</td>\n",
              "      <td>My Little Pony: A New Generation</td>\n",
              "      <td>Robert Cullen, José Luis Ucha</td>\n",
              "      <td>Vanessa Hudgens, Kimiko Glenn, James Marsden, ...</td>\n",
              "      <td>United States</td>\n",
              "      <td>2021</td>\n",
              "      <td>PG</td>\n",
              "      <td>91 min</td>\n",
              "      <td>Children &amp; Family Movies</td>\n",
              "      <td>Equestria's divided. But a bright-eyed hero be...</td>\n",
              "      <td>2021-09-24</td>\n",
              "    </tr>\n",
              "    <tr>\n",
              "      <th>7</th>\n",
              "      <td>s8</td>\n",
              "      <td>Movie</td>\n",
              "      <td>Sankofa</td>\n",
              "      <td>Haile Gerima</td>\n",
              "      <td>Kofi Ghanaba, Oyafunmike Ogunlano, Alexandra D...</td>\n",
              "      <td>United States, Ghana, Burkina Faso, United Kin...</td>\n",
              "      <td>1993</td>\n",
              "      <td>TV-MA</td>\n",
              "      <td>125 min</td>\n",
              "      <td>Dramas</td>\n",
              "      <td>On a photo shoot in Ghana, an American model s...</td>\n",
              "      <td>2021-09-24</td>\n",
              "    </tr>\n",
              "    <tr>\n",
              "      <th>8</th>\n",
              "      <td>s9</td>\n",
              "      <td>TV Show</td>\n",
              "      <td>The Great British Baking Show</td>\n",
              "      <td>Andy Devonshire</td>\n",
              "      <td>Mel Giedroyc, Sue Perkins, Mary Berry, Paul Ho...</td>\n",
              "      <td>United Kingdom</td>\n",
              "      <td>2021</td>\n",
              "      <td>TV-14</td>\n",
              "      <td>9 Seasons</td>\n",
              "      <td>British TV Shows</td>\n",
              "      <td>A talented batch of amateur bakers face off in...</td>\n",
              "      <td>2021-09-24</td>\n",
              "    </tr>\n",
              "  </tbody>\n",
              "</table>\n",
              "</div>"
            ],
            "text/plain": [
              "  show_id     type                             title  \\\n",
              "2      s3  TV Show                         Ganglands   \n",
              "5      s6  TV Show                     Midnight Mass   \n",
              "6      s7    Movie  My Little Pony: A New Generation   \n",
              "7      s8    Movie                           Sankofa   \n",
              "8      s9  TV Show     The Great British Baking Show   \n",
              "\n",
              "                        director  \\\n",
              "2                Julien Leclercq   \n",
              "5                  Mike Flanagan   \n",
              "6  Robert Cullen, José Luis Ucha   \n",
              "7                   Haile Gerima   \n",
              "8                Andy Devonshire   \n",
              "\n",
              "                                                cast  \\\n",
              "2  Sami Bouajila, Tracy Gotoas, Samuel Jouy, Nabi...   \n",
              "5  Kate Siegel, Zach Gilford, Hamish Linklater, H...   \n",
              "6  Vanessa Hudgens, Kimiko Glenn, James Marsden, ...   \n",
              "7  Kofi Ghanaba, Oyafunmike Ogunlano, Alexandra D...   \n",
              "8  Mel Giedroyc, Sue Perkins, Mary Berry, Paul Ho...   \n",
              "\n",
              "                                             country  release_year rating  \\\n",
              "2                                      United States          2021  TV-MA   \n",
              "5                                      United States          2021  TV-MA   \n",
              "6                                      United States          2021     PG   \n",
              "7  United States, Ghana, Burkina Faso, United Kin...          1993  TV-MA   \n",
              "8                                     United Kingdom          2021  TV-14   \n",
              "\n",
              "    duration                     Genre  \\\n",
              "2   1 Season            Crime TV Shows   \n",
              "5   1 Season                 TV Dramas   \n",
              "6     91 min  Children & Family Movies   \n",
              "7    125 min                    Dramas   \n",
              "8  9 Seasons          British TV Shows   \n",
              "\n",
              "                                         description date_added_parsed  \n",
              "2  To protect his family from a powerful drug lor...        2021-09-24  \n",
              "5  The arrival of a charismatic young priest brin...        2021-09-24  \n",
              "6  Equestria's divided. But a bright-eyed hero be...        2021-09-24  \n",
              "7  On a photo shoot in Ghana, an American model s...        2021-09-24  \n",
              "8  A talented batch of amateur bakers face off in...        2021-09-24  "
            ]
          },
          "metadata": {},
          "execution_count": 309
        }
      ]
    },
    {
      "cell_type": "code",
      "source": [
        "df.sample(5)"
      ],
      "metadata": {
        "colab": {
          "base_uri": "https://localhost:8080/",
          "height": 374
        },
        "id": "jTir3iQPdri5",
        "outputId": "db974221-27c3-4c75-d8da-f8e7b66275e7"
      },
      "execution_count": 310,
      "outputs": [
        {
          "output_type": "execute_result",
          "data": {
            "text/html": [
              "<div>\n",
              "<style scoped>\n",
              "    .dataframe tbody tr th:only-of-type {\n",
              "        vertical-align: middle;\n",
              "    }\n",
              "\n",
              "    .dataframe tbody tr th {\n",
              "        vertical-align: top;\n",
              "    }\n",
              "\n",
              "    .dataframe thead th {\n",
              "        text-align: right;\n",
              "    }\n",
              "</style>\n",
              "<table border=\"1\" class=\"dataframe\">\n",
              "  <thead>\n",
              "    <tr style=\"text-align: right;\">\n",
              "      <th></th>\n",
              "      <th>show_id</th>\n",
              "      <th>type</th>\n",
              "      <th>title</th>\n",
              "      <th>director</th>\n",
              "      <th>cast</th>\n",
              "      <th>country</th>\n",
              "      <th>release_year</th>\n",
              "      <th>rating</th>\n",
              "      <th>duration</th>\n",
              "      <th>Genre</th>\n",
              "      <th>description</th>\n",
              "      <th>date_added_parsed</th>\n",
              "    </tr>\n",
              "  </thead>\n",
              "  <tbody>\n",
              "    <tr>\n",
              "      <th>1103</th>\n",
              "      <td>s1104</td>\n",
              "      <td>Movie</td>\n",
              "      <td>Air Strike</td>\n",
              "      <td>Xiao Feng</td>\n",
              "      <td>Bruce Willis, Liu Ye, Song Seung-heon, William...</td>\n",
              "      <td>China</td>\n",
              "      <td>2018</td>\n",
              "      <td>R</td>\n",
              "      <td>97 min</td>\n",
              "      <td>Action &amp; Adventure</td>\n",
              "      <td>The residents of Chongqing try to survive Japa...</td>\n",
              "      <td>2021-04-02</td>\n",
              "    </tr>\n",
              "    <tr>\n",
              "      <th>4165</th>\n",
              "      <td>s4166</td>\n",
              "      <td>Movie</td>\n",
              "      <td>Animas</td>\n",
              "      <td>Laura Alvea, José Ortuño</td>\n",
              "      <td>Clare Durant, Iván Pellicer, Luis Bermejo, Liz...</td>\n",
              "      <td>Spain, Belgium</td>\n",
              "      <td>2018</td>\n",
              "      <td>TV-MA</td>\n",
              "      <td>88 min</td>\n",
              "      <td>Horror Movies</td>\n",
              "      <td>A teen's eerie visions become increasingly fre...</td>\n",
              "      <td>2019-01-25</td>\n",
              "    </tr>\n",
              "    <tr>\n",
              "      <th>8274</th>\n",
              "      <td>s8275</td>\n",
              "      <td>Movie</td>\n",
              "      <td>The Detained</td>\n",
              "      <td>Blair Hayes</td>\n",
              "      <td>Alex Frnka, Sarah Davenport, Henry Zaga, Coy S...</td>\n",
              "      <td>United States</td>\n",
              "      <td>2017</td>\n",
              "      <td>TV-14</td>\n",
              "      <td>85 min</td>\n",
              "      <td>Horror Movies</td>\n",
              "      <td>Five high school students serving Saturday det...</td>\n",
              "      <td>2019-02-15</td>\n",
              "    </tr>\n",
              "    <tr>\n",
              "      <th>886</th>\n",
              "      <td>s887</td>\n",
              "      <td>TV Show</td>\n",
              "      <td>The Mystic River</td>\n",
              "      <td>Uzodinma Okpechi</td>\n",
              "      <td>Jide Kosoko, Dele Odule, Lota Chukwu, Ben Toui...</td>\n",
              "      <td>United States</td>\n",
              "      <td>2020</td>\n",
              "      <td>TV-14</td>\n",
              "      <td>1 Season</td>\n",
              "      <td>International TV Shows</td>\n",
              "      <td>As pregnant women vanish in a remote Nigerian ...</td>\n",
              "      <td>2021-05-14</td>\n",
              "    </tr>\n",
              "    <tr>\n",
              "      <th>6540</th>\n",
              "      <td>s6541</td>\n",
              "      <td>Movie</td>\n",
              "      <td>Crash</td>\n",
              "      <td>Paul Haggis</td>\n",
              "      <td>Sandra Bullock, Don Cheadle, Matt Dillon, Jenn...</td>\n",
              "      <td>United States, Germany</td>\n",
              "      <td>2004</td>\n",
              "      <td>R</td>\n",
              "      <td>112 min</td>\n",
              "      <td>Dramas</td>\n",
              "      <td>In post-Sept. 11 Los Angeles, tensions erupt w...</td>\n",
              "      <td>2019-10-01</td>\n",
              "    </tr>\n",
              "  </tbody>\n",
              "</table>\n",
              "</div>"
            ],
            "text/plain": [
              "     show_id     type             title                  director  \\\n",
              "1103   s1104    Movie        Air Strike                 Xiao Feng   \n",
              "4165   s4166    Movie            Animas  Laura Alvea, José Ortuño   \n",
              "8274   s8275    Movie      The Detained               Blair Hayes   \n",
              "886     s887  TV Show  The Mystic River          Uzodinma Okpechi   \n",
              "6540   s6541    Movie             Crash               Paul Haggis   \n",
              "\n",
              "                                                   cast  \\\n",
              "1103  Bruce Willis, Liu Ye, Song Seung-heon, William...   \n",
              "4165  Clare Durant, Iván Pellicer, Luis Bermejo, Liz...   \n",
              "8274  Alex Frnka, Sarah Davenport, Henry Zaga, Coy S...   \n",
              "886   Jide Kosoko, Dele Odule, Lota Chukwu, Ben Toui...   \n",
              "6540  Sandra Bullock, Don Cheadle, Matt Dillon, Jenn...   \n",
              "\n",
              "                     country  release_year rating  duration  \\\n",
              "1103                   China          2018      R    97 min   \n",
              "4165          Spain, Belgium          2018  TV-MA    88 min   \n",
              "8274           United States          2017  TV-14    85 min   \n",
              "886            United States          2020  TV-14  1 Season   \n",
              "6540  United States, Germany          2004      R   112 min   \n",
              "\n",
              "                       Genre  \\\n",
              "1103      Action & Adventure   \n",
              "4165           Horror Movies   \n",
              "8274           Horror Movies   \n",
              "886   International TV Shows   \n",
              "6540                  Dramas   \n",
              "\n",
              "                                            description date_added_parsed  \n",
              "1103  The residents of Chongqing try to survive Japa...        2021-04-02  \n",
              "4165  A teen's eerie visions become increasingly fre...        2019-01-25  \n",
              "8274  Five high school students serving Saturday det...        2019-02-15  \n",
              "886   As pregnant women vanish in a remote Nigerian ...        2021-05-14  \n",
              "6540  In post-Sept. 11 Los Angeles, tensions erupt w...        2019-10-01  "
            ]
          },
          "metadata": {},
          "execution_count": 310
        }
      ]
    },
    {
      "cell_type": "markdown",
      "source": [
        "Let's try to understand the data in its general form. "
      ],
      "metadata": {
        "id": "-9ml3djId4Mg"
      }
    },
    {
      "cell_type": "markdown",
      "source": [
        "Let's sort df by release year and date_added_parsed without changing df. "
      ],
      "metadata": {
        "id": "7A_H9iBUeHdT"
      }
    },
    {
      "cell_type": "code",
      "source": [
        "#Filtering\n",
        "df_sort_year_release_date = df.sort_values(['release_year'], ascending = False)\n",
        "df_sort_year_release_date"
      ],
      "metadata": {
        "colab": {
          "base_uri": "https://localhost:8080/",
          "height": 963
        },
        "id": "d0ZjZQw3d7h-",
        "outputId": "1d5a84bd-18ff-41c2-df48-d02b6cd952b6"
      },
      "execution_count": 311,
      "outputs": [
        {
          "output_type": "execute_result",
          "data": {
            "text/html": [
              "<div>\n",
              "<style scoped>\n",
              "    .dataframe tbody tr th:only-of-type {\n",
              "        vertical-align: middle;\n",
              "    }\n",
              "\n",
              "    .dataframe tbody tr th {\n",
              "        vertical-align: top;\n",
              "    }\n",
              "\n",
              "    .dataframe thead th {\n",
              "        text-align: right;\n",
              "    }\n",
              "</style>\n",
              "<table border=\"1\" class=\"dataframe\">\n",
              "  <thead>\n",
              "    <tr style=\"text-align: right;\">\n",
              "      <th></th>\n",
              "      <th>show_id</th>\n",
              "      <th>type</th>\n",
              "      <th>title</th>\n",
              "      <th>director</th>\n",
              "      <th>cast</th>\n",
              "      <th>country</th>\n",
              "      <th>release_year</th>\n",
              "      <th>rating</th>\n",
              "      <th>duration</th>\n",
              "      <th>Genre</th>\n",
              "      <th>description</th>\n",
              "      <th>date_added_parsed</th>\n",
              "    </tr>\n",
              "  </thead>\n",
              "  <tbody>\n",
              "    <tr>\n",
              "      <th>2</th>\n",
              "      <td>s3</td>\n",
              "      <td>TV Show</td>\n",
              "      <td>Ganglands</td>\n",
              "      <td>Julien Leclercq</td>\n",
              "      <td>Sami Bouajila, Tracy Gotoas, Samuel Jouy, Nabi...</td>\n",
              "      <td>United States</td>\n",
              "      <td>2021</td>\n",
              "      <td>TV-MA</td>\n",
              "      <td>1 Season</td>\n",
              "      <td>Crime TV Shows</td>\n",
              "      <td>To protect his family from a powerful drug lor...</td>\n",
              "      <td>2021-09-24</td>\n",
              "    </tr>\n",
              "    <tr>\n",
              "      <th>766</th>\n",
              "      <td>s767</td>\n",
              "      <td>Movie</td>\n",
              "      <td>Alan Saldaña: Locked Up</td>\n",
              "      <td>Alex Díaz</td>\n",
              "      <td>Alan Saldaña</td>\n",
              "      <td>Mexico</td>\n",
              "      <td>2021</td>\n",
              "      <td>TV-MA</td>\n",
              "      <td>49 min</td>\n",
              "      <td>Stand-Up Comedy</td>\n",
              "      <td>Mexican comedian Alan Saldaña is back, poking ...</td>\n",
              "      <td>2021-06-03</td>\n",
              "    </tr>\n",
              "    <tr>\n",
              "      <th>764</th>\n",
              "      <td>s765</td>\n",
              "      <td>Movie</td>\n",
              "      <td>Trippin' with the Kandasamys</td>\n",
              "      <td>Jayan Moodley</td>\n",
              "      <td>Jailoshini Naidoo, Maeshni Naicker, Madhushan ...</td>\n",
              "      <td>South Africa</td>\n",
              "      <td>2021</td>\n",
              "      <td>TV-14</td>\n",
              "      <td>94 min</td>\n",
              "      <td>Comedies</td>\n",
              "      <td>To rekindle their marriages, best friends-turn...</td>\n",
              "      <td>2021-06-04</td>\n",
              "    </tr>\n",
              "    <tr>\n",
              "      <th>762</th>\n",
              "      <td>s763</td>\n",
              "      <td>Movie</td>\n",
              "      <td>Sweet &amp; Sour</td>\n",
              "      <td>Lee Kae-byeok</td>\n",
              "      <td>Jang Ki-yong, Chae Soo-bin, Jung Soo-jung</td>\n",
              "      <td>South Korea</td>\n",
              "      <td>2021</td>\n",
              "      <td>TV-14</td>\n",
              "      <td>103 min</td>\n",
              "      <td>Comedies</td>\n",
              "      <td>Faced with real-world opportunities and challe...</td>\n",
              "      <td>2021-06-04</td>\n",
              "    </tr>\n",
              "    <tr>\n",
              "      <th>758</th>\n",
              "      <td>s759</td>\n",
              "      <td>TV Show</td>\n",
              "      <td>Feel Good</td>\n",
              "      <td>Ally Pankiw</td>\n",
              "      <td>Mae Martin, Charlotte Ritchie, Lisa Kudrow, So...</td>\n",
              "      <td>United Kingdom</td>\n",
              "      <td>2021</td>\n",
              "      <td>TV-MA</td>\n",
              "      <td>2 Seasons</td>\n",
              "      <td>Romantic TV Shows</td>\n",
              "      <td>Stand-up comic Mae Martin navigates a passiona...</td>\n",
              "      <td>2021-06-04</td>\n",
              "    </tr>\n",
              "    <tr>\n",
              "      <th>...</th>\n",
              "      <td>...</td>\n",
              "      <td>...</td>\n",
              "      <td>...</td>\n",
              "      <td>...</td>\n",
              "      <td>...</td>\n",
              "      <td>...</td>\n",
              "      <td>...</td>\n",
              "      <td>...</td>\n",
              "      <td>...</td>\n",
              "      <td>...</td>\n",
              "      <td>...</td>\n",
              "      <td>...</td>\n",
              "    </tr>\n",
              "    <tr>\n",
              "      <th>8587</th>\n",
              "      <td>s8588</td>\n",
              "      <td>Movie</td>\n",
              "      <td>Thunderbolt</td>\n",
              "      <td>William Wyler, John Sturges</td>\n",
              "      <td>James Stewart, Lloyd Bridges</td>\n",
              "      <td>United States</td>\n",
              "      <td>1947</td>\n",
              "      <td>TV-PG</td>\n",
              "      <td>42 min</td>\n",
              "      <td>Classic Movies</td>\n",
              "      <td>A P-47 Thunderbolt squadron is shown in prepar...</td>\n",
              "      <td>2017-03-31</td>\n",
              "    </tr>\n",
              "    <tr>\n",
              "      <th>7294</th>\n",
              "      <td>s7295</td>\n",
              "      <td>Movie</td>\n",
              "      <td>Let There Be Light</td>\n",
              "      <td>John Huston</td>\n",
              "      <td>Walter Huston</td>\n",
              "      <td>United States</td>\n",
              "      <td>1946</td>\n",
              "      <td>TV-PG</td>\n",
              "      <td>58 min</td>\n",
              "      <td>Classic Movies</td>\n",
              "      <td>Some returning combat veterans suffer scars th...</td>\n",
              "      <td>2017-03-31</td>\n",
              "    </tr>\n",
              "    <tr>\n",
              "      <th>7219</th>\n",
              "      <td>s7220</td>\n",
              "      <td>Movie</td>\n",
              "      <td>Know Your Enemy - Japan</td>\n",
              "      <td>Frank Capra, Joris Ivens</td>\n",
              "      <td>Walter Huston, Dana Andrews</td>\n",
              "      <td>United States</td>\n",
              "      <td>1945</td>\n",
              "      <td>TV-14</td>\n",
              "      <td>63 min</td>\n",
              "      <td>Classic Movies</td>\n",
              "      <td>Though culturally insensitive by modern standa...</td>\n",
              "      <td>2017-03-31</td>\n",
              "    </tr>\n",
              "    <tr>\n",
              "      <th>8640</th>\n",
              "      <td>s8641</td>\n",
              "      <td>Movie</td>\n",
              "      <td>Tunisian Victory</td>\n",
              "      <td>Frank Capra, John Huston, Hugh Stewart, Roy Bo...</td>\n",
              "      <td>Burgess Meredith</td>\n",
              "      <td>United States, United Kingdom</td>\n",
              "      <td>1944</td>\n",
              "      <td>TV-14</td>\n",
              "      <td>76 min</td>\n",
              "      <td>Classic Movies</td>\n",
              "      <td>British and American troops join forces to lib...</td>\n",
              "      <td>2017-03-31</td>\n",
              "    </tr>\n",
              "    <tr>\n",
              "      <th>8205</th>\n",
              "      <td>s8206</td>\n",
              "      <td>Movie</td>\n",
              "      <td>The Battle of Midway</td>\n",
              "      <td>John Ford</td>\n",
              "      <td>Henry Fonda, Jane Darwell</td>\n",
              "      <td>United States</td>\n",
              "      <td>1942</td>\n",
              "      <td>TV-14</td>\n",
              "      <td>18 min</td>\n",
              "      <td>Classic Movies</td>\n",
              "      <td>Director John Ford captures combat footage of ...</td>\n",
              "      <td>2017-03-31</td>\n",
              "    </tr>\n",
              "  </tbody>\n",
              "</table>\n",
              "<p>5696 rows × 12 columns</p>\n",
              "</div>"
            ],
            "text/plain": [
              "     show_id     type                         title  \\\n",
              "2         s3  TV Show                     Ganglands   \n",
              "766     s767    Movie       Alan Saldaña: Locked Up   \n",
              "764     s765    Movie  Trippin' with the Kandasamys   \n",
              "762     s763    Movie                  Sweet & Sour   \n",
              "758     s759  TV Show                     Feel Good   \n",
              "...      ...      ...                           ...   \n",
              "8587   s8588    Movie                   Thunderbolt   \n",
              "7294   s7295    Movie            Let There Be Light   \n",
              "7219   s7220    Movie       Know Your Enemy - Japan   \n",
              "8640   s8641    Movie              Tunisian Victory   \n",
              "8205   s8206    Movie          The Battle of Midway   \n",
              "\n",
              "                                               director  \\\n",
              "2                                       Julien Leclercq   \n",
              "766                                           Alex Díaz   \n",
              "764                                       Jayan Moodley   \n",
              "762                                       Lee Kae-byeok   \n",
              "758                                         Ally Pankiw   \n",
              "...                                                 ...   \n",
              "8587                        William Wyler, John Sturges   \n",
              "7294                                        John Huston   \n",
              "7219                           Frank Capra, Joris Ivens   \n",
              "8640  Frank Capra, John Huston, Hugh Stewart, Roy Bo...   \n",
              "8205                                          John Ford   \n",
              "\n",
              "                                                   cast  \\\n",
              "2     Sami Bouajila, Tracy Gotoas, Samuel Jouy, Nabi...   \n",
              "766                                        Alan Saldaña   \n",
              "764   Jailoshini Naidoo, Maeshni Naicker, Madhushan ...   \n",
              "762           Jang Ki-yong, Chae Soo-bin, Jung Soo-jung   \n",
              "758   Mae Martin, Charlotte Ritchie, Lisa Kudrow, So...   \n",
              "...                                                 ...   \n",
              "8587                       James Stewart, Lloyd Bridges   \n",
              "7294                                      Walter Huston   \n",
              "7219                        Walter Huston, Dana Andrews   \n",
              "8640                                   Burgess Meredith   \n",
              "8205                          Henry Fonda, Jane Darwell   \n",
              "\n",
              "                            country  release_year rating   duration  \\\n",
              "2                     United States          2021  TV-MA   1 Season   \n",
              "766                          Mexico          2021  TV-MA     49 min   \n",
              "764                    South Africa          2021  TV-14     94 min   \n",
              "762                     South Korea          2021  TV-14    103 min   \n",
              "758                  United Kingdom          2021  TV-MA  2 Seasons   \n",
              "...                             ...           ...    ...        ...   \n",
              "8587                  United States          1947  TV-PG     42 min   \n",
              "7294                  United States          1946  TV-PG     58 min   \n",
              "7219                  United States          1945  TV-14     63 min   \n",
              "8640  United States, United Kingdom          1944  TV-14     76 min   \n",
              "8205                  United States          1942  TV-14     18 min   \n",
              "\n",
              "                  Genre                                        description  \\\n",
              "2        Crime TV Shows  To protect his family from a powerful drug lor...   \n",
              "766     Stand-Up Comedy  Mexican comedian Alan Saldaña is back, poking ...   \n",
              "764            Comedies  To rekindle their marriages, best friends-turn...   \n",
              "762            Comedies  Faced with real-world opportunities and challe...   \n",
              "758   Romantic TV Shows  Stand-up comic Mae Martin navigates a passiona...   \n",
              "...                 ...                                                ...   \n",
              "8587     Classic Movies  A P-47 Thunderbolt squadron is shown in prepar...   \n",
              "7294     Classic Movies  Some returning combat veterans suffer scars th...   \n",
              "7219     Classic Movies  Though culturally insensitive by modern standa...   \n",
              "8640     Classic Movies  British and American troops join forces to lib...   \n",
              "8205     Classic Movies  Director John Ford captures combat footage of ...   \n",
              "\n",
              "     date_added_parsed  \n",
              "2           2021-09-24  \n",
              "766         2021-06-03  \n",
              "764         2021-06-04  \n",
              "762         2021-06-04  \n",
              "758         2021-06-04  \n",
              "...                ...  \n",
              "8587        2017-03-31  \n",
              "7294        2017-03-31  \n",
              "7219        2017-03-31  \n",
              "8640        2017-03-31  \n",
              "8205        2017-03-31  \n",
              "\n",
              "[5696 rows x 12 columns]"
            ]
          },
          "metadata": {},
          "execution_count": 311
        }
      ]
    },
    {
      "cell_type": "code",
      "source": [
        "df['year_added'] = df['date_added_parsed'].dt.year\n",
        "df['month_added'] = df['date_added_parsed'].dt.month\n",
        "df['day_added'] = df['date_added_parsed'].dt.day\n",
        "df.sample(5)"
      ],
      "metadata": {
        "id": "q3gRz_w5kZaw",
        "colab": {
          "base_uri": "https://localhost:8080/",
          "height": 700
        },
        "outputId": "f6239a4e-db03-4673-aac7-360556d38e0e"
      },
      "execution_count": 312,
      "outputs": [
        {
          "output_type": "execute_result",
          "data": {
            "text/html": [
              "<div>\n",
              "<style scoped>\n",
              "    .dataframe tbody tr th:only-of-type {\n",
              "        vertical-align: middle;\n",
              "    }\n",
              "\n",
              "    .dataframe tbody tr th {\n",
              "        vertical-align: top;\n",
              "    }\n",
              "\n",
              "    .dataframe thead th {\n",
              "        text-align: right;\n",
              "    }\n",
              "</style>\n",
              "<table border=\"1\" class=\"dataframe\">\n",
              "  <thead>\n",
              "    <tr style=\"text-align: right;\">\n",
              "      <th></th>\n",
              "      <th>show_id</th>\n",
              "      <th>type</th>\n",
              "      <th>title</th>\n",
              "      <th>director</th>\n",
              "      <th>cast</th>\n",
              "      <th>country</th>\n",
              "      <th>release_year</th>\n",
              "      <th>rating</th>\n",
              "      <th>duration</th>\n",
              "      <th>Genre</th>\n",
              "      <th>description</th>\n",
              "      <th>date_added_parsed</th>\n",
              "      <th>year_added</th>\n",
              "      <th>month_added</th>\n",
              "      <th>day_added</th>\n",
              "    </tr>\n",
              "  </thead>\n",
              "  <tbody>\n",
              "    <tr>\n",
              "      <th>7354</th>\n",
              "      <td>s7355</td>\n",
              "      <td>Movie</td>\n",
              "      <td>Love, Rosie</td>\n",
              "      <td>Christian Ditter</td>\n",
              "      <td>Lily Collins, Sam Claflin, Christian Cooke, Ja...</td>\n",
              "      <td>Germany, United Kingdom</td>\n",
              "      <td>2014</td>\n",
              "      <td>R</td>\n",
              "      <td>103 min</td>\n",
              "      <td>Comedies</td>\n",
              "      <td>Over the years, as they come and go in each ot...</td>\n",
              "      <td>2019-11-20</td>\n",
              "      <td>2019</td>\n",
              "      <td>11</td>\n",
              "      <td>20</td>\n",
              "    </tr>\n",
              "    <tr>\n",
              "      <th>1484</th>\n",
              "      <td>s1485</td>\n",
              "      <td>Movie</td>\n",
              "      <td>Cops and Robbers</td>\n",
              "      <td>Arnon Manor, Timothy Ware-Hill</td>\n",
              "      <td>Timothy Ware-Hill</td>\n",
              "      <td>United States</td>\n",
              "      <td>2020</td>\n",
              "      <td>PG-13</td>\n",
              "      <td>8 min</td>\n",
              "      <td>Dramas</td>\n",
              "      <td>Animation and activism unite in this multimedi...</td>\n",
              "      <td>2020-12-28</td>\n",
              "      <td>2020</td>\n",
              "      <td>12</td>\n",
              "      <td>28</td>\n",
              "    </tr>\n",
              "    <tr>\n",
              "      <th>2939</th>\n",
              "      <td>s2940</td>\n",
              "      <td>Movie</td>\n",
              "      <td>Horse Girl</td>\n",
              "      <td>Jeff Baena</td>\n",
              "      <td>Alison Brie, Debby Ryan, Paul Reiser, John Rey...</td>\n",
              "      <td>United States</td>\n",
              "      <td>2020</td>\n",
              "      <td>R</td>\n",
              "      <td>104 min</td>\n",
              "      <td>Dramas</td>\n",
              "      <td>A sweet misfit with a fondness for crafts, hor...</td>\n",
              "      <td>2020-02-07</td>\n",
              "      <td>2020</td>\n",
              "      <td>2</td>\n",
              "      <td>7</td>\n",
              "    </tr>\n",
              "    <tr>\n",
              "      <th>2725</th>\n",
              "      <td>s2726</td>\n",
              "      <td>Movie</td>\n",
              "      <td>Gumrah</td>\n",
              "      <td>Mahesh Bhatt</td>\n",
              "      <td>Sanjay Dutt, Sridevi, Anupam Kher, Rahul Roy, ...</td>\n",
              "      <td>India</td>\n",
              "      <td>1993</td>\n",
              "      <td>TV-14</td>\n",
              "      <td>149 min</td>\n",
              "      <td>Action &amp; Adventure</td>\n",
              "      <td>Jailed for drug trafficking while searching fo...</td>\n",
              "      <td>2020-04-01</td>\n",
              "      <td>2020</td>\n",
              "      <td>4</td>\n",
              "      <td>1</td>\n",
              "    </tr>\n",
              "    <tr>\n",
              "      <th>4928</th>\n",
              "      <td>s4929</td>\n",
              "      <td>Movie</td>\n",
              "      <td>Come Sunday</td>\n",
              "      <td>Joshua Marston</td>\n",
              "      <td>Chiwetel Ejiofor, Martin Sheen, Danny Glover, ...</td>\n",
              "      <td>United States</td>\n",
              "      <td>2018</td>\n",
              "      <td>TV-14</td>\n",
              "      <td>105 min</td>\n",
              "      <td>Dramas</td>\n",
              "      <td>A crisis of faith sets renowned fundamentalist...</td>\n",
              "      <td>2018-04-13</td>\n",
              "      <td>2018</td>\n",
              "      <td>4</td>\n",
              "      <td>13</td>\n",
              "    </tr>\n",
              "  </tbody>\n",
              "</table>\n",
              "</div>"
            ],
            "text/plain": [
              "     show_id   type             title                        director  \\\n",
              "7354   s7355  Movie       Love, Rosie                Christian Ditter   \n",
              "1484   s1485  Movie  Cops and Robbers  Arnon Manor, Timothy Ware-Hill   \n",
              "2939   s2940  Movie        Horse Girl                      Jeff Baena   \n",
              "2725   s2726  Movie            Gumrah                    Mahesh Bhatt   \n",
              "4928   s4929  Movie       Come Sunday                  Joshua Marston   \n",
              "\n",
              "                                                   cast  \\\n",
              "7354  Lily Collins, Sam Claflin, Christian Cooke, Ja...   \n",
              "1484                                  Timothy Ware-Hill   \n",
              "2939  Alison Brie, Debby Ryan, Paul Reiser, John Rey...   \n",
              "2725  Sanjay Dutt, Sridevi, Anupam Kher, Rahul Roy, ...   \n",
              "4928  Chiwetel Ejiofor, Martin Sheen, Danny Glover, ...   \n",
              "\n",
              "                      country  release_year rating duration  \\\n",
              "7354  Germany, United Kingdom          2014      R  103 min   \n",
              "1484            United States          2020  PG-13    8 min   \n",
              "2939            United States          2020      R  104 min   \n",
              "2725                    India          1993  TV-14  149 min   \n",
              "4928            United States          2018  TV-14  105 min   \n",
              "\n",
              "                   Genre                                        description  \\\n",
              "7354            Comedies  Over the years, as they come and go in each ot...   \n",
              "1484              Dramas  Animation and activism unite in this multimedi...   \n",
              "2939              Dramas  A sweet misfit with a fondness for crafts, hor...   \n",
              "2725  Action & Adventure  Jailed for drug trafficking while searching fo...   \n",
              "4928              Dramas  A crisis of faith sets renowned fundamentalist...   \n",
              "\n",
              "     date_added_parsed  year_added  month_added  day_added  \n",
              "7354        2019-11-20        2019           11         20  \n",
              "1484        2020-12-28        2020           12         28  \n",
              "2939        2020-02-07        2020            2          7  \n",
              "2725        2020-04-01        2020            4          1  \n",
              "4928        2018-04-13        2018            4         13  "
            ]
          },
          "metadata": {},
          "execution_count": 312
        }
      ]
    },
    {
      "cell_type": "code",
      "source": [
        "df_monthly = df[df['country'] == 'United States']\n",
        "df_monthly = df.groupby(['year_added','month_added'], as_index=False).agg({\n",
        "    'date_added_parsed' : 'count',\n",
        "}).rename(columns ={\n",
        "    'date_added_parsed' : 'num_releases'\n",
        "})\n",
        "df_monthly = df_monthly.sort_values(['month_added'], ascending = True)\n",
        "df_monthly.head(10)"
      ],
      "metadata": {
        "colab": {
          "base_uri": "https://localhost:8080/",
          "height": 359
        },
        "id": "k40vldTYxUsW",
        "outputId": "27cf3389-ba4e-4ba6-b17e-01fbde1c6a60"
      },
      "execution_count": 313,
      "outputs": [
        {
          "output_type": "execute_result",
          "data": {
            "text/html": [
              "<div>\n",
              "<style scoped>\n",
              "    .dataframe tbody tr th:only-of-type {\n",
              "        vertical-align: middle;\n",
              "    }\n",
              "\n",
              "    .dataframe tbody tr th {\n",
              "        vertical-align: top;\n",
              "    }\n",
              "\n",
              "    .dataframe thead th {\n",
              "        text-align: right;\n",
              "    }\n",
              "</style>\n",
              "<table border=\"1\" class=\"dataframe\">\n",
              "  <thead>\n",
              "    <tr style=\"text-align: right;\">\n",
              "      <th></th>\n",
              "      <th>year_added</th>\n",
              "      <th>month_added</th>\n",
              "      <th>num_releases</th>\n",
              "    </tr>\n",
              "  </thead>\n",
              "  <tbody>\n",
              "    <tr>\n",
              "      <th>0</th>\n",
              "      <td>2008</td>\n",
              "      <td>1</td>\n",
              "      <td>1</td>\n",
              "    </tr>\n",
              "    <tr>\n",
              "      <th>58</th>\n",
              "      <td>2018</td>\n",
              "      <td>1</td>\n",
              "      <td>90</td>\n",
              "    </tr>\n",
              "    <tr>\n",
              "      <th>34</th>\n",
              "      <td>2016</td>\n",
              "      <td>1</td>\n",
              "      <td>7</td>\n",
              "    </tr>\n",
              "    <tr>\n",
              "      <th>70</th>\n",
              "      <td>2019</td>\n",
              "      <td>1</td>\n",
              "      <td>105</td>\n",
              "    </tr>\n",
              "    <tr>\n",
              "      <th>82</th>\n",
              "      <td>2020</td>\n",
              "      <td>1</td>\n",
              "      <td>153</td>\n",
              "    </tr>\n",
              "    <tr>\n",
              "      <th>15</th>\n",
              "      <td>2014</td>\n",
              "      <td>1</td>\n",
              "      <td>2</td>\n",
              "    </tr>\n",
              "    <tr>\n",
              "      <th>94</th>\n",
              "      <td>2021</td>\n",
              "      <td>1</td>\n",
              "      <td>95</td>\n",
              "    </tr>\n",
              "    <tr>\n",
              "      <th>46</th>\n",
              "      <td>2017</td>\n",
              "      <td>1</td>\n",
              "      <td>50</td>\n",
              "    </tr>\n",
              "    <tr>\n",
              "      <th>95</th>\n",
              "      <td>2021</td>\n",
              "      <td>2</td>\n",
              "      <td>60</td>\n",
              "    </tr>\n",
              "    <tr>\n",
              "      <th>35</th>\n",
              "      <td>2016</td>\n",
              "      <td>2</td>\n",
              "      <td>8</td>\n",
              "    </tr>\n",
              "  </tbody>\n",
              "</table>\n",
              "</div>"
            ],
            "text/plain": [
              "    year_added  month_added  num_releases\n",
              "0         2008            1             1\n",
              "58        2018            1            90\n",
              "34        2016            1             7\n",
              "70        2019            1           105\n",
              "82        2020            1           153\n",
              "15        2014            1             2\n",
              "94        2021            1            95\n",
              "46        2017            1            50\n",
              "95        2021            2            60\n",
              "35        2016            2             8"
            ]
          },
          "metadata": {},
          "execution_count": 313
        }
      ]
    },
    {
      "cell_type": "markdown",
      "source": [
        "Compare 2020 and 2021 movie releases"
      ],
      "metadata": {
        "id": "MZfp_u7Ez6Wi"
      }
    },
    {
      "cell_type": "code",
      "source": [
        "num_2021_movies = df[df['year_added'] == 2021].shape[0]\n",
        "num_2020_movies = df[df['year_added'] == 2020].shape[0]\n",
        "num_2019_movies = df[df['year_added'] == 2019].shape[0]\n",
        "\n",
        "print(f'There were {num_2021_movies} movies in 2021.')\n",
        "print(f'There were {num_2020_movies} movies in 2020.')\n",
        "print(f'There were {num_2019_movies} movies in 2019.')\n",
        "print(f'The number of movies decreased by {(num_2021_movies - num_2019_movies) / num_2021_movies * 100:.1f}%.')"
      ],
      "metadata": {
        "colab": {
          "base_uri": "https://localhost:8080/"
        },
        "id": "I6wn-XIRzpTO",
        "outputId": "ec1f59ca-3a5b-4d74-fcbc-038d708b6439"
      },
      "execution_count": 314,
      "outputs": [
        {
          "output_type": "stream",
          "name": "stdout",
          "text": [
            "There were 962 movies in 2021.\n",
            "There were 1248 movies in 2020.\n",
            "There were 1323 movies in 2019.\n",
            "The number of movies decreased by -37.5%.\n"
          ]
        }
      ]
    },
    {
      "cell_type": "markdown",
      "source": [
        "Sunburst chart of monthly releases"
      ],
      "metadata": {
        "id": "2zchePRo0EAb"
      }
    },
    {
      "cell_type": "code",
      "source": [
        "\n",
        "fig = px.sunburst(\n",
        "    df_monthly[df_monthly['year_added'] >= 2019],\n",
        "    path = ['year_added', 'month_added'],\n",
        "    values = 'num_releases',\n",
        "    title = 'Sunburst Chart of Monthly Movie Releases on Netflix',\n",
        "    width = 600,\n",
        "    height = 600,\n",
        ")\n",
        "fig.show()"
      ],
      "metadata": {
        "colab": {
          "base_uri": "https://localhost:8080/",
          "height": 617
        },
        "id": "2cTiNO3Sz_an",
        "outputId": "30db3850-3516-437f-816d-625d469f096e"
      },
      "execution_count": 315,
      "outputs": [
        {
          "output_type": "display_data",
          "data": {
            "text/html": [
              "<html>\n",
              "<head><meta charset=\"utf-8\" /></head>\n",
              "<body>\n",
              "    <div>            <script src=\"https://cdnjs.cloudflare.com/ajax/libs/mathjax/2.7.5/MathJax.js?config=TeX-AMS-MML_SVG\"></script><script type=\"text/javascript\">if (window.MathJax) {MathJax.Hub.Config({SVG: {font: \"STIX-Web\"}});}</script>                <script type=\"text/javascript\">window.PlotlyConfig = {MathJaxConfig: 'local'};</script>\n",
              "        <script src=\"https://cdn.plot.ly/plotly-2.4.2.min.js\"></script>                <div id=\"6f51e6c1-6bf0-4c70-8284-a8b4cba01c9a\" class=\"plotly-graph-div\" style=\"height:600px; width:600px;\"></div>            <script type=\"text/javascript\">                                    window.PLOTLYENV=window.PLOTLYENV || {};                                    if (document.getElementById(\"6f51e6c1-6bf0-4c70-8284-a8b4cba01c9a\")) {                    Plotly.newPlot(                        \"6f51e6c1-6bf0-4c70-8284-a8b4cba01c9a\",                        [{\"branchvalues\":\"total\",\"domain\":{\"x\":[0.0,1.0],\"y\":[0.0,1.0]},\"hovertemplate\":\"labels=%{label}<br>num_releases=%{value}<br>parent=%{parent}<br>id=%{id}<extra></extra>\",\"ids\":[\"2019/1\",\"2020/1\",\"2021/1\",\"2019/2\",\"2020/2\",\"2021/2\",\"2019/3\",\"2020/3\",\"2021/3\",\"2019/4\",\"2020/4\",\"2021/4\",\"2019/5\",\"2020/5\",\"2021/5\",\"2019/6\",\"2020/6\",\"2021/6\",\"2019/7\",\"2020/7\",\"2021/7\",\"2019/8\",\"2020/8\",\"2021/8\",\"2019/9\",\"2020/9\",\"2021/9\",\"2019/10\",\"2020/10\",\"2019/11\",\"2020/11\",\"2019/12\",\"2020/12\",\"2019\",\"2020\",\"2021\"],\"labels\":[\"1\",\"1\",\"1\",\"2\",\"2\",\"2\",\"3\",\"3\",\"3\",\"4\",\"4\",\"4\",\"5\",\"5\",\"5\",\"6\",\"6\",\"6\",\"7\",\"7\",\"7\",\"8\",\"8\",\"8\",\"9\",\"9\",\"9\",\"10\",\"10\",\"11\",\"11\",\"12\",\"12\",\"2019\",\"2020\",\"2021\"],\"name\":\"\",\"parents\":[\"2019\",\"2020\",\"2021\",\"2019\",\"2020\",\"2021\",\"2019\",\"2020\",\"2021\",\"2019\",\"2020\",\"2021\",\"2019\",\"2020\",\"2021\",\"2019\",\"2020\",\"2021\",\"2019\",\"2020\",\"2021\",\"2019\",\"2020\",\"2021\",\"2019\",\"2020\",\"2021\",\"2019\",\"2020\",\"2019\",\"2020\",\"2019\",\"2020\",\"\",\"\",\"\"],\"type\":\"sunburst\",\"values\":[105,153,95,96,71,60,115,87,73,110,122,126,78,110,88,112,109,123,85,99,165,82,78,114,83,109,118,115,112,176,99,166,99,1323,1248,962]}],                        {\"height\":600,\"legend\":{\"tracegroupgap\":0},\"template\":{\"data\":{\"bar\":[{\"error_x\":{\"color\":\"#2a3f5f\"},\"error_y\":{\"color\":\"#2a3f5f\"},\"marker\":{\"line\":{\"color\":\"#E5ECF6\",\"width\":0.5},\"pattern\":{\"fillmode\":\"overlay\",\"size\":10,\"solidity\":0.2}},\"type\":\"bar\"}],\"barpolar\":[{\"marker\":{\"line\":{\"color\":\"#E5ECF6\",\"width\":0.5},\"pattern\":{\"fillmode\":\"overlay\",\"size\":10,\"solidity\":0.2}},\"type\":\"barpolar\"}],\"carpet\":[{\"aaxis\":{\"endlinecolor\":\"#2a3f5f\",\"gridcolor\":\"white\",\"linecolor\":\"white\",\"minorgridcolor\":\"white\",\"startlinecolor\":\"#2a3f5f\"},\"baxis\":{\"endlinecolor\":\"#2a3f5f\",\"gridcolor\":\"white\",\"linecolor\":\"white\",\"minorgridcolor\":\"white\",\"startlinecolor\":\"#2a3f5f\"},\"type\":\"carpet\"}],\"choropleth\":[{\"colorbar\":{\"outlinewidth\":0,\"ticks\":\"\"},\"type\":\"choropleth\"}],\"contour\":[{\"colorbar\":{\"outlinewidth\":0,\"ticks\":\"\"},\"colorscale\":[[0.0,\"#0d0887\"],[0.1111111111111111,\"#46039f\"],[0.2222222222222222,\"#7201a8\"],[0.3333333333333333,\"#9c179e\"],[0.4444444444444444,\"#bd3786\"],[0.5555555555555556,\"#d8576b\"],[0.6666666666666666,\"#ed7953\"],[0.7777777777777778,\"#fb9f3a\"],[0.8888888888888888,\"#fdca26\"],[1.0,\"#f0f921\"]],\"type\":\"contour\"}],\"contourcarpet\":[{\"colorbar\":{\"outlinewidth\":0,\"ticks\":\"\"},\"type\":\"contourcarpet\"}],\"heatmap\":[{\"colorbar\":{\"outlinewidth\":0,\"ticks\":\"\"},\"colorscale\":[[0.0,\"#0d0887\"],[0.1111111111111111,\"#46039f\"],[0.2222222222222222,\"#7201a8\"],[0.3333333333333333,\"#9c179e\"],[0.4444444444444444,\"#bd3786\"],[0.5555555555555556,\"#d8576b\"],[0.6666666666666666,\"#ed7953\"],[0.7777777777777778,\"#fb9f3a\"],[0.8888888888888888,\"#fdca26\"],[1.0,\"#f0f921\"]],\"type\":\"heatmap\"}],\"heatmapgl\":[{\"colorbar\":{\"outlinewidth\":0,\"ticks\":\"\"},\"colorscale\":[[0.0,\"#0d0887\"],[0.1111111111111111,\"#46039f\"],[0.2222222222222222,\"#7201a8\"],[0.3333333333333333,\"#9c179e\"],[0.4444444444444444,\"#bd3786\"],[0.5555555555555556,\"#d8576b\"],[0.6666666666666666,\"#ed7953\"],[0.7777777777777778,\"#fb9f3a\"],[0.8888888888888888,\"#fdca26\"],[1.0,\"#f0f921\"]],\"type\":\"heatmapgl\"}],\"histogram\":[{\"marker\":{\"pattern\":{\"fillmode\":\"overlay\",\"size\":10,\"solidity\":0.2}},\"type\":\"histogram\"}],\"histogram2d\":[{\"colorbar\":{\"outlinewidth\":0,\"ticks\":\"\"},\"colorscale\":[[0.0,\"#0d0887\"],[0.1111111111111111,\"#46039f\"],[0.2222222222222222,\"#7201a8\"],[0.3333333333333333,\"#9c179e\"],[0.4444444444444444,\"#bd3786\"],[0.5555555555555556,\"#d8576b\"],[0.6666666666666666,\"#ed7953\"],[0.7777777777777778,\"#fb9f3a\"],[0.8888888888888888,\"#fdca26\"],[1.0,\"#f0f921\"]],\"type\":\"histogram2d\"}],\"histogram2dcontour\":[{\"colorbar\":{\"outlinewidth\":0,\"ticks\":\"\"},\"colorscale\":[[0.0,\"#0d0887\"],[0.1111111111111111,\"#46039f\"],[0.2222222222222222,\"#7201a8\"],[0.3333333333333333,\"#9c179e\"],[0.4444444444444444,\"#bd3786\"],[0.5555555555555556,\"#d8576b\"],[0.6666666666666666,\"#ed7953\"],[0.7777777777777778,\"#fb9f3a\"],[0.8888888888888888,\"#fdca26\"],[1.0,\"#f0f921\"]],\"type\":\"histogram2dcontour\"}],\"mesh3d\":[{\"colorbar\":{\"outlinewidth\":0,\"ticks\":\"\"},\"type\":\"mesh3d\"}],\"parcoords\":[{\"line\":{\"colorbar\":{\"outlinewidth\":0,\"ticks\":\"\"}},\"type\":\"parcoords\"}],\"pie\":[{\"automargin\":true,\"type\":\"pie\"}],\"scatter\":[{\"marker\":{\"colorbar\":{\"outlinewidth\":0,\"ticks\":\"\"}},\"type\":\"scatter\"}],\"scatter3d\":[{\"line\":{\"colorbar\":{\"outlinewidth\":0,\"ticks\":\"\"}},\"marker\":{\"colorbar\":{\"outlinewidth\":0,\"ticks\":\"\"}},\"type\":\"scatter3d\"}],\"scattercarpet\":[{\"marker\":{\"colorbar\":{\"outlinewidth\":0,\"ticks\":\"\"}},\"type\":\"scattercarpet\"}],\"scattergeo\":[{\"marker\":{\"colorbar\":{\"outlinewidth\":0,\"ticks\":\"\"}},\"type\":\"scattergeo\"}],\"scattergl\":[{\"marker\":{\"colorbar\":{\"outlinewidth\":0,\"ticks\":\"\"}},\"type\":\"scattergl\"}],\"scattermapbox\":[{\"marker\":{\"colorbar\":{\"outlinewidth\":0,\"ticks\":\"\"}},\"type\":\"scattermapbox\"}],\"scatterpolar\":[{\"marker\":{\"colorbar\":{\"outlinewidth\":0,\"ticks\":\"\"}},\"type\":\"scatterpolar\"}],\"scatterpolargl\":[{\"marker\":{\"colorbar\":{\"outlinewidth\":0,\"ticks\":\"\"}},\"type\":\"scatterpolargl\"}],\"scatterternary\":[{\"marker\":{\"colorbar\":{\"outlinewidth\":0,\"ticks\":\"\"}},\"type\":\"scatterternary\"}],\"surface\":[{\"colorbar\":{\"outlinewidth\":0,\"ticks\":\"\"},\"colorscale\":[[0.0,\"#0d0887\"],[0.1111111111111111,\"#46039f\"],[0.2222222222222222,\"#7201a8\"],[0.3333333333333333,\"#9c179e\"],[0.4444444444444444,\"#bd3786\"],[0.5555555555555556,\"#d8576b\"],[0.6666666666666666,\"#ed7953\"],[0.7777777777777778,\"#fb9f3a\"],[0.8888888888888888,\"#fdca26\"],[1.0,\"#f0f921\"]],\"type\":\"surface\"}],\"table\":[{\"cells\":{\"fill\":{\"color\":\"#EBF0F8\"},\"line\":{\"color\":\"white\"}},\"header\":{\"fill\":{\"color\":\"#C8D4E3\"},\"line\":{\"color\":\"white\"}},\"type\":\"table\"}]},\"layout\":{\"annotationdefaults\":{\"arrowcolor\":\"#2a3f5f\",\"arrowhead\":0,\"arrowwidth\":1},\"autotypenumbers\":\"strict\",\"coloraxis\":{\"colorbar\":{\"outlinewidth\":0,\"ticks\":\"\"}},\"colorscale\":{\"diverging\":[[0,\"#8e0152\"],[0.1,\"#c51b7d\"],[0.2,\"#de77ae\"],[0.3,\"#f1b6da\"],[0.4,\"#fde0ef\"],[0.5,\"#f7f7f7\"],[0.6,\"#e6f5d0\"],[0.7,\"#b8e186\"],[0.8,\"#7fbc41\"],[0.9,\"#4d9221\"],[1,\"#276419\"]],\"sequential\":[[0.0,\"#0d0887\"],[0.1111111111111111,\"#46039f\"],[0.2222222222222222,\"#7201a8\"],[0.3333333333333333,\"#9c179e\"],[0.4444444444444444,\"#bd3786\"],[0.5555555555555556,\"#d8576b\"],[0.6666666666666666,\"#ed7953\"],[0.7777777777777778,\"#fb9f3a\"],[0.8888888888888888,\"#fdca26\"],[1.0,\"#f0f921\"]],\"sequentialminus\":[[0.0,\"#0d0887\"],[0.1111111111111111,\"#46039f\"],[0.2222222222222222,\"#7201a8\"],[0.3333333333333333,\"#9c179e\"],[0.4444444444444444,\"#bd3786\"],[0.5555555555555556,\"#d8576b\"],[0.6666666666666666,\"#ed7953\"],[0.7777777777777778,\"#fb9f3a\"],[0.8888888888888888,\"#fdca26\"],[1.0,\"#f0f921\"]]},\"colorway\":[\"#636efa\",\"#EF553B\",\"#00cc96\",\"#ab63fa\",\"#FFA15A\",\"#19d3f3\",\"#FF6692\",\"#B6E880\",\"#FF97FF\",\"#FECB52\"],\"font\":{\"color\":\"#2a3f5f\"},\"geo\":{\"bgcolor\":\"white\",\"lakecolor\":\"white\",\"landcolor\":\"#E5ECF6\",\"showlakes\":true,\"showland\":true,\"subunitcolor\":\"white\"},\"hoverlabel\":{\"align\":\"left\"},\"hovermode\":\"closest\",\"mapbox\":{\"style\":\"light\"},\"paper_bgcolor\":\"white\",\"plot_bgcolor\":\"#E5ECF6\",\"polar\":{\"angularaxis\":{\"gridcolor\":\"white\",\"linecolor\":\"white\",\"ticks\":\"\"},\"bgcolor\":\"#E5ECF6\",\"radialaxis\":{\"gridcolor\":\"white\",\"linecolor\":\"white\",\"ticks\":\"\"}},\"scene\":{\"xaxis\":{\"backgroundcolor\":\"#E5ECF6\",\"gridcolor\":\"white\",\"gridwidth\":2,\"linecolor\":\"white\",\"showbackground\":true,\"ticks\":\"\",\"zerolinecolor\":\"white\"},\"yaxis\":{\"backgroundcolor\":\"#E5ECF6\",\"gridcolor\":\"white\",\"gridwidth\":2,\"linecolor\":\"white\",\"showbackground\":true,\"ticks\":\"\",\"zerolinecolor\":\"white\"},\"zaxis\":{\"backgroundcolor\":\"#E5ECF6\",\"gridcolor\":\"white\",\"gridwidth\":2,\"linecolor\":\"white\",\"showbackground\":true,\"ticks\":\"\",\"zerolinecolor\":\"white\"}},\"shapedefaults\":{\"line\":{\"color\":\"#2a3f5f\"}},\"ternary\":{\"aaxis\":{\"gridcolor\":\"white\",\"linecolor\":\"white\",\"ticks\":\"\"},\"baxis\":{\"gridcolor\":\"white\",\"linecolor\":\"white\",\"ticks\":\"\"},\"bgcolor\":\"#E5ECF6\",\"caxis\":{\"gridcolor\":\"white\",\"linecolor\":\"white\",\"ticks\":\"\"}},\"title\":{\"x\":0.05},\"xaxis\":{\"automargin\":true,\"gridcolor\":\"white\",\"linecolor\":\"white\",\"ticks\":\"\",\"title\":{\"standoff\":15},\"zerolinecolor\":\"white\",\"zerolinewidth\":2},\"yaxis\":{\"automargin\":true,\"gridcolor\":\"white\",\"linecolor\":\"white\",\"ticks\":\"\",\"title\":{\"standoff\":15},\"zerolinecolor\":\"white\",\"zerolinewidth\":2}}},\"title\":{\"text\":\"Sunburst Chart of Monthly Movie Releases on Netflix\"},\"width\":600},                        {\"responsive\": true}                    ).then(function(){\n",
              "                            \n",
              "var gd = document.getElementById('6f51e6c1-6bf0-4c70-8284-a8b4cba01c9a');\n",
              "var x = new MutationObserver(function (mutations, observer) {{\n",
              "        var display = window.getComputedStyle(gd).display;\n",
              "        if (!display || display === 'none') {{\n",
              "            console.log([gd, 'removed!']);\n",
              "            Plotly.purge(gd);\n",
              "            observer.disconnect();\n",
              "        }}\n",
              "}});\n",
              "\n",
              "// Listen for the removal of the full notebook cells\n",
              "var notebookContainer = gd.closest('#notebook-container');\n",
              "if (notebookContainer) {{\n",
              "    x.observe(notebookContainer, {childList: true});\n",
              "}}\n",
              "\n",
              "// Listen for the clearing of the current output cell\n",
              "var outputEl = gd.closest('.output');\n",
              "if (outputEl) {{\n",
              "    x.observe(outputEl, {childList: true});\n",
              "}}\n",
              "\n",
              "                        })                };                            </script>        </div>\n",
              "</body>\n",
              "</html>"
            ]
          },
          "metadata": {}
        }
      ]
    },
    {
      "cell_type": "code",
      "source": [
        "fig = px.scatter_3d(\n",
        "    df[df['year_added'] >= 2019],\n",
        "    title='July 4th 5-6 PM trips 3D scatter plots',\n",
        "    x='day_added',\n",
        "    y='month_added',\n",
        "    z='year_added',\n",
        "    color='year_added',\n",
        "    template='plotly_dark',\n",
        "    width=800,\n",
        "    height=800\n",
        ")\n",
        "fig.show()"
      ],
      "metadata": {
        "colab": {
          "base_uri": "https://localhost:8080/",
          "height": 817
        },
        "id": "vYpkvNtgQT_j",
        "outputId": "af7ae688-495d-42d9-eb88-046ef8b63ef2"
      },
      "execution_count": 341,
      "outputs": [
        {
          "output_type": "display_data",
          "data": {
            "text/html": [
              "<html>\n",
              "<head><meta charset=\"utf-8\" /></head>\n",
              "<body>\n",
              "    <div>            <script src=\"https://cdnjs.cloudflare.com/ajax/libs/mathjax/2.7.5/MathJax.js?config=TeX-AMS-MML_SVG\"></script><script type=\"text/javascript\">if (window.MathJax) {MathJax.Hub.Config({SVG: {font: \"STIX-Web\"}});}</script>                <script type=\"text/javascript\">window.PlotlyConfig = {MathJaxConfig: 'local'};</script>\n",
              "        <script src=\"https://cdn.plot.ly/plotly-2.4.2.min.js\"></script>                <div id=\"dc2adcd2-a0d4-4ad9-a045-48a51fba7251\" class=\"plotly-graph-div\" style=\"height:800px; width:800px;\"></div>            <script type=\"text/javascript\">                                    window.PLOTLYENV=window.PLOTLYENV || {};                                    if (document.getElementById(\"dc2adcd2-a0d4-4ad9-a045-48a51fba7251\")) {                    Plotly.newPlot(                        \"dc2adcd2-a0d4-4ad9-a045-48a51fba7251\",                        [{\"hovertemplate\":\"day_added=%{x}<br>month_added=%{y}<br>year_added=%{marker.color}<extra></extra>\",\"legendgroup\":\"\",\"marker\":{\"color\":[80741,4033,116962,563385,963337,1593240,2683131,193830,3914191,920435,205950,248356,6048,6055],\"coloraxis\":\"coloraxis\",\"symbol\":\"circle\"},\"mode\":\"markers\",\"name\":\"\",\"scene\":\"scene\",\"showlegend\":false,\"type\":\"scatter3d\",\"x\":[302,50,531,2481,3992,8000,16690,1137,27189,5677,1088,1487,44,17],\"y\":[214,17,377,1785,3199,5077,9022,683,12580,3193,813,742,21,22],\"z\":[80741,4033,116962,563385,963337,1593240,2683131,193830,3914191,920435,205950,248356,6048,6055]}],                        {\"coloraxis\":{\"colorbar\":{\"title\":{\"text\":\"year_added\"}},\"colorscale\":[[0.0,\"#0d0887\"],[0.1111111111111111,\"#46039f\"],[0.2222222222222222,\"#7201a8\"],[0.3333333333333333,\"#9c179e\"],[0.4444444444444444,\"#bd3786\"],[0.5555555555555556,\"#d8576b\"],[0.6666666666666666,\"#ed7953\"],[0.7777777777777778,\"#fb9f3a\"],[0.8888888888888888,\"#fdca26\"],[1.0,\"#f0f921\"]]},\"height\":800,\"legend\":{\"tracegroupgap\":0},\"scene\":{\"domain\":{\"x\":[0.0,1.0],\"y\":[0.0,1.0]},\"xaxis\":{\"title\":{\"text\":\"day_added\"}},\"yaxis\":{\"title\":{\"text\":\"month_added\"}},\"zaxis\":{\"title\":{\"text\":\"year_added\"}}},\"template\":{\"data\":{\"bar\":[{\"error_x\":{\"color\":\"#f2f5fa\"},\"error_y\":{\"color\":\"#f2f5fa\"},\"marker\":{\"line\":{\"color\":\"rgb(17,17,17)\",\"width\":0.5},\"pattern\":{\"fillmode\":\"overlay\",\"size\":10,\"solidity\":0.2}},\"type\":\"bar\"}],\"barpolar\":[{\"marker\":{\"line\":{\"color\":\"rgb(17,17,17)\",\"width\":0.5},\"pattern\":{\"fillmode\":\"overlay\",\"size\":10,\"solidity\":0.2}},\"type\":\"barpolar\"}],\"carpet\":[{\"aaxis\":{\"endlinecolor\":\"#A2B1C6\",\"gridcolor\":\"#506784\",\"linecolor\":\"#506784\",\"minorgridcolor\":\"#506784\",\"startlinecolor\":\"#A2B1C6\"},\"baxis\":{\"endlinecolor\":\"#A2B1C6\",\"gridcolor\":\"#506784\",\"linecolor\":\"#506784\",\"minorgridcolor\":\"#506784\",\"startlinecolor\":\"#A2B1C6\"},\"type\":\"carpet\"}],\"choropleth\":[{\"colorbar\":{\"outlinewidth\":0,\"ticks\":\"\"},\"type\":\"choropleth\"}],\"contour\":[{\"colorbar\":{\"outlinewidth\":0,\"ticks\":\"\"},\"colorscale\":[[0.0,\"#0d0887\"],[0.1111111111111111,\"#46039f\"],[0.2222222222222222,\"#7201a8\"],[0.3333333333333333,\"#9c179e\"],[0.4444444444444444,\"#bd3786\"],[0.5555555555555556,\"#d8576b\"],[0.6666666666666666,\"#ed7953\"],[0.7777777777777778,\"#fb9f3a\"],[0.8888888888888888,\"#fdca26\"],[1.0,\"#f0f921\"]],\"type\":\"contour\"}],\"contourcarpet\":[{\"colorbar\":{\"outlinewidth\":0,\"ticks\":\"\"},\"type\":\"contourcarpet\"}],\"heatmap\":[{\"colorbar\":{\"outlinewidth\":0,\"ticks\":\"\"},\"colorscale\":[[0.0,\"#0d0887\"],[0.1111111111111111,\"#46039f\"],[0.2222222222222222,\"#7201a8\"],[0.3333333333333333,\"#9c179e\"],[0.4444444444444444,\"#bd3786\"],[0.5555555555555556,\"#d8576b\"],[0.6666666666666666,\"#ed7953\"],[0.7777777777777778,\"#fb9f3a\"],[0.8888888888888888,\"#fdca26\"],[1.0,\"#f0f921\"]],\"type\":\"heatmap\"}],\"heatmapgl\":[{\"colorbar\":{\"outlinewidth\":0,\"ticks\":\"\"},\"colorscale\":[[0.0,\"#0d0887\"],[0.1111111111111111,\"#46039f\"],[0.2222222222222222,\"#7201a8\"],[0.3333333333333333,\"#9c179e\"],[0.4444444444444444,\"#bd3786\"],[0.5555555555555556,\"#d8576b\"],[0.6666666666666666,\"#ed7953\"],[0.7777777777777778,\"#fb9f3a\"],[0.8888888888888888,\"#fdca26\"],[1.0,\"#f0f921\"]],\"type\":\"heatmapgl\"}],\"histogram\":[{\"marker\":{\"pattern\":{\"fillmode\":\"overlay\",\"size\":10,\"solidity\":0.2}},\"type\":\"histogram\"}],\"histogram2d\":[{\"colorbar\":{\"outlinewidth\":0,\"ticks\":\"\"},\"colorscale\":[[0.0,\"#0d0887\"],[0.1111111111111111,\"#46039f\"],[0.2222222222222222,\"#7201a8\"],[0.3333333333333333,\"#9c179e\"],[0.4444444444444444,\"#bd3786\"],[0.5555555555555556,\"#d8576b\"],[0.6666666666666666,\"#ed7953\"],[0.7777777777777778,\"#fb9f3a\"],[0.8888888888888888,\"#fdca26\"],[1.0,\"#f0f921\"]],\"type\":\"histogram2d\"}],\"histogram2dcontour\":[{\"colorbar\":{\"outlinewidth\":0,\"ticks\":\"\"},\"colorscale\":[[0.0,\"#0d0887\"],[0.1111111111111111,\"#46039f\"],[0.2222222222222222,\"#7201a8\"],[0.3333333333333333,\"#9c179e\"],[0.4444444444444444,\"#bd3786\"],[0.5555555555555556,\"#d8576b\"],[0.6666666666666666,\"#ed7953\"],[0.7777777777777778,\"#fb9f3a\"],[0.8888888888888888,\"#fdca26\"],[1.0,\"#f0f921\"]],\"type\":\"histogram2dcontour\"}],\"mesh3d\":[{\"colorbar\":{\"outlinewidth\":0,\"ticks\":\"\"},\"type\":\"mesh3d\"}],\"parcoords\":[{\"line\":{\"colorbar\":{\"outlinewidth\":0,\"ticks\":\"\"}},\"type\":\"parcoords\"}],\"pie\":[{\"automargin\":true,\"type\":\"pie\"}],\"scatter\":[{\"marker\":{\"line\":{\"color\":\"#283442\"}},\"type\":\"scatter\"}],\"scatter3d\":[{\"line\":{\"colorbar\":{\"outlinewidth\":0,\"ticks\":\"\"}},\"marker\":{\"colorbar\":{\"outlinewidth\":0,\"ticks\":\"\"}},\"type\":\"scatter3d\"}],\"scattercarpet\":[{\"marker\":{\"colorbar\":{\"outlinewidth\":0,\"ticks\":\"\"}},\"type\":\"scattercarpet\"}],\"scattergeo\":[{\"marker\":{\"colorbar\":{\"outlinewidth\":0,\"ticks\":\"\"}},\"type\":\"scattergeo\"}],\"scattergl\":[{\"marker\":{\"line\":{\"color\":\"#283442\"}},\"type\":\"scattergl\"}],\"scattermapbox\":[{\"marker\":{\"colorbar\":{\"outlinewidth\":0,\"ticks\":\"\"}},\"type\":\"scattermapbox\"}],\"scatterpolar\":[{\"marker\":{\"colorbar\":{\"outlinewidth\":0,\"ticks\":\"\"}},\"type\":\"scatterpolar\"}],\"scatterpolargl\":[{\"marker\":{\"colorbar\":{\"outlinewidth\":0,\"ticks\":\"\"}},\"type\":\"scatterpolargl\"}],\"scatterternary\":[{\"marker\":{\"colorbar\":{\"outlinewidth\":0,\"ticks\":\"\"}},\"type\":\"scatterternary\"}],\"surface\":[{\"colorbar\":{\"outlinewidth\":0,\"ticks\":\"\"},\"colorscale\":[[0.0,\"#0d0887\"],[0.1111111111111111,\"#46039f\"],[0.2222222222222222,\"#7201a8\"],[0.3333333333333333,\"#9c179e\"],[0.4444444444444444,\"#bd3786\"],[0.5555555555555556,\"#d8576b\"],[0.6666666666666666,\"#ed7953\"],[0.7777777777777778,\"#fb9f3a\"],[0.8888888888888888,\"#fdca26\"],[1.0,\"#f0f921\"]],\"type\":\"surface\"}],\"table\":[{\"cells\":{\"fill\":{\"color\":\"#506784\"},\"line\":{\"color\":\"rgb(17,17,17)\"}},\"header\":{\"fill\":{\"color\":\"#2a3f5f\"},\"line\":{\"color\":\"rgb(17,17,17)\"}},\"type\":\"table\"}]},\"layout\":{\"annotationdefaults\":{\"arrowcolor\":\"#f2f5fa\",\"arrowhead\":0,\"arrowwidth\":1},\"autotypenumbers\":\"strict\",\"coloraxis\":{\"colorbar\":{\"outlinewidth\":0,\"ticks\":\"\"}},\"colorscale\":{\"diverging\":[[0,\"#8e0152\"],[0.1,\"#c51b7d\"],[0.2,\"#de77ae\"],[0.3,\"#f1b6da\"],[0.4,\"#fde0ef\"],[0.5,\"#f7f7f7\"],[0.6,\"#e6f5d0\"],[0.7,\"#b8e186\"],[0.8,\"#7fbc41\"],[0.9,\"#4d9221\"],[1,\"#276419\"]],\"sequential\":[[0.0,\"#0d0887\"],[0.1111111111111111,\"#46039f\"],[0.2222222222222222,\"#7201a8\"],[0.3333333333333333,\"#9c179e\"],[0.4444444444444444,\"#bd3786\"],[0.5555555555555556,\"#d8576b\"],[0.6666666666666666,\"#ed7953\"],[0.7777777777777778,\"#fb9f3a\"],[0.8888888888888888,\"#fdca26\"],[1.0,\"#f0f921\"]],\"sequentialminus\":[[0.0,\"#0d0887\"],[0.1111111111111111,\"#46039f\"],[0.2222222222222222,\"#7201a8\"],[0.3333333333333333,\"#9c179e\"],[0.4444444444444444,\"#bd3786\"],[0.5555555555555556,\"#d8576b\"],[0.6666666666666666,\"#ed7953\"],[0.7777777777777778,\"#fb9f3a\"],[0.8888888888888888,\"#fdca26\"],[1.0,\"#f0f921\"]]},\"colorway\":[\"#636efa\",\"#EF553B\",\"#00cc96\",\"#ab63fa\",\"#FFA15A\",\"#19d3f3\",\"#FF6692\",\"#B6E880\",\"#FF97FF\",\"#FECB52\"],\"font\":{\"color\":\"#f2f5fa\"},\"geo\":{\"bgcolor\":\"rgb(17,17,17)\",\"lakecolor\":\"rgb(17,17,17)\",\"landcolor\":\"rgb(17,17,17)\",\"showlakes\":true,\"showland\":true,\"subunitcolor\":\"#506784\"},\"hoverlabel\":{\"align\":\"left\"},\"hovermode\":\"closest\",\"mapbox\":{\"style\":\"dark\"},\"paper_bgcolor\":\"rgb(17,17,17)\",\"plot_bgcolor\":\"rgb(17,17,17)\",\"polar\":{\"angularaxis\":{\"gridcolor\":\"#506784\",\"linecolor\":\"#506784\",\"ticks\":\"\"},\"bgcolor\":\"rgb(17,17,17)\",\"radialaxis\":{\"gridcolor\":\"#506784\",\"linecolor\":\"#506784\",\"ticks\":\"\"}},\"scene\":{\"xaxis\":{\"backgroundcolor\":\"rgb(17,17,17)\",\"gridcolor\":\"#506784\",\"gridwidth\":2,\"linecolor\":\"#506784\",\"showbackground\":true,\"ticks\":\"\",\"zerolinecolor\":\"#C8D4E3\"},\"yaxis\":{\"backgroundcolor\":\"rgb(17,17,17)\",\"gridcolor\":\"#506784\",\"gridwidth\":2,\"linecolor\":\"#506784\",\"showbackground\":true,\"ticks\":\"\",\"zerolinecolor\":\"#C8D4E3\"},\"zaxis\":{\"backgroundcolor\":\"rgb(17,17,17)\",\"gridcolor\":\"#506784\",\"gridwidth\":2,\"linecolor\":\"#506784\",\"showbackground\":true,\"ticks\":\"\",\"zerolinecolor\":\"#C8D4E3\"}},\"shapedefaults\":{\"line\":{\"color\":\"#f2f5fa\"}},\"sliderdefaults\":{\"bgcolor\":\"#C8D4E3\",\"bordercolor\":\"rgb(17,17,17)\",\"borderwidth\":1,\"tickwidth\":0},\"ternary\":{\"aaxis\":{\"gridcolor\":\"#506784\",\"linecolor\":\"#506784\",\"ticks\":\"\"},\"baxis\":{\"gridcolor\":\"#506784\",\"linecolor\":\"#506784\",\"ticks\":\"\"},\"bgcolor\":\"rgb(17,17,17)\",\"caxis\":{\"gridcolor\":\"#506784\",\"linecolor\":\"#506784\",\"ticks\":\"\"}},\"title\":{\"x\":0.05},\"updatemenudefaults\":{\"bgcolor\":\"#506784\",\"borderwidth\":0},\"xaxis\":{\"automargin\":true,\"gridcolor\":\"#283442\",\"linecolor\":\"#506784\",\"ticks\":\"\",\"title\":{\"standoff\":15},\"zerolinecolor\":\"#283442\",\"zerolinewidth\":2},\"yaxis\":{\"automargin\":true,\"gridcolor\":\"#283442\",\"linecolor\":\"#506784\",\"ticks\":\"\",\"title\":{\"standoff\":15},\"zerolinecolor\":\"#283442\",\"zerolinewidth\":2}}},\"title\":{\"text\":\"July 4th 5-6 PM trips 3D scatter plots\"},\"width\":800},                        {\"responsive\": true}                    ).then(function(){\n",
              "                            \n",
              "var gd = document.getElementById('dc2adcd2-a0d4-4ad9-a045-48a51fba7251');\n",
              "var x = new MutationObserver(function (mutations, observer) {{\n",
              "        var display = window.getComputedStyle(gd).display;\n",
              "        if (!display || display === 'none') {{\n",
              "            console.log([gd, 'removed!']);\n",
              "            Plotly.purge(gd);\n",
              "            observer.disconnect();\n",
              "        }}\n",
              "}});\n",
              "\n",
              "// Listen for the removal of the full notebook cells\n",
              "var notebookContainer = gd.closest('#notebook-container');\n",
              "if (notebookContainer) {{\n",
              "    x.observe(notebookContainer, {childList: true});\n",
              "}}\n",
              "\n",
              "// Listen for the clearing of the current output cell\n",
              "var outputEl = gd.closest('.output');\n",
              "if (outputEl) {{\n",
              "    x.observe(outputEl, {childList: true});\n",
              "}}\n",
              "\n",
              "                        })                };                            </script>        </div>\n",
              "</body>\n",
              "</html>"
            ]
          },
          "metadata": {}
        }
      ]
    },
    {
      "cell_type": "markdown",
      "source": [
        "Find countries with highest number of releases. "
      ],
      "metadata": {
        "id": "fZ_9Jchpz1zj"
      }
    },
    {
      "cell_type": "code",
      "source": [
        "df_countries = pd.DataFrame(df.country.value_counts().reset_index().values, columns=[\"country\", \"count\"])\n",
        "df_countries = df_countries.sort_values(by = 'count', ascending = False)\n",
        "df_countries.head(10)"
      ],
      "metadata": {
        "colab": {
          "base_uri": "https://localhost:8080/",
          "height": 359
        },
        "id": "wSrQuCq1Zo-v",
        "outputId": "d1b0c2e1-d2f5-44d5-b7c9-b04d64ee74c7"
      },
      "execution_count": 316,
      "outputs": [
        {
          "output_type": "execute_result",
          "data": {
            "text/html": [
              "<div>\n",
              "<style scoped>\n",
              "    .dataframe tbody tr th:only-of-type {\n",
              "        vertical-align: middle;\n",
              "    }\n",
              "\n",
              "    .dataframe tbody tr th {\n",
              "        vertical-align: top;\n",
              "    }\n",
              "\n",
              "    .dataframe thead th {\n",
              "        text-align: right;\n",
              "    }\n",
              "</style>\n",
              "<table border=\"1\" class=\"dataframe\">\n",
              "  <thead>\n",
              "    <tr style=\"text-align: right;\">\n",
              "      <th></th>\n",
              "      <th>country</th>\n",
              "      <th>count</th>\n",
              "    </tr>\n",
              "  </thead>\n",
              "  <tbody>\n",
              "    <tr>\n",
              "      <th>0</th>\n",
              "      <td>United States</td>\n",
              "      <td>2210</td>\n",
              "    </tr>\n",
              "    <tr>\n",
              "      <th>1</th>\n",
              "      <td>India</td>\n",
              "      <td>875</td>\n",
              "    </tr>\n",
              "    <tr>\n",
              "      <th>2</th>\n",
              "      <td>United Kingdom</td>\n",
              "      <td>183</td>\n",
              "    </tr>\n",
              "    <tr>\n",
              "      <th>3</th>\n",
              "      <td>Canada</td>\n",
              "      <td>107</td>\n",
              "    </tr>\n",
              "    <tr>\n",
              "      <th>4</th>\n",
              "      <td>Spain</td>\n",
              "      <td>91</td>\n",
              "    </tr>\n",
              "    <tr>\n",
              "      <th>5</th>\n",
              "      <td>Egypt</td>\n",
              "      <td>90</td>\n",
              "    </tr>\n",
              "    <tr>\n",
              "      <th>6</th>\n",
              "      <td>Nigeria</td>\n",
              "      <td>88</td>\n",
              "    </tr>\n",
              "    <tr>\n",
              "      <th>7</th>\n",
              "      <td>Japan</td>\n",
              "      <td>83</td>\n",
              "    </tr>\n",
              "    <tr>\n",
              "      <th>8</th>\n",
              "      <td>Turkey</td>\n",
              "      <td>79</td>\n",
              "    </tr>\n",
              "    <tr>\n",
              "      <th>9</th>\n",
              "      <td>Indonesia</td>\n",
              "      <td>76</td>\n",
              "    </tr>\n",
              "  </tbody>\n",
              "</table>\n",
              "</div>"
            ],
            "text/plain": [
              "          country count\n",
              "0   United States  2210\n",
              "1           India   875\n",
              "2  United Kingdom   183\n",
              "3          Canada   107\n",
              "4           Spain    91\n",
              "5           Egypt    90\n",
              "6         Nigeria    88\n",
              "7           Japan    83\n",
              "8          Turkey    79\n",
              "9       Indonesia    76"
            ]
          },
          "metadata": {},
          "execution_count": 316
        }
      ]
    },
    {
      "cell_type": "code",
      "source": [
        "df_countries[\"count\"] = df_countries[\"count\"].astype(str).astype(int)"
      ],
      "metadata": {
        "id": "soXeFTCa7EK0"
      },
      "execution_count": 317,
      "outputs": []
    },
    {
      "cell_type": "code",
      "source": [
        "fig = px.bar(df_countries.nlargest(15, ['count']), x=\"count\", y=\"country\", orientation='h')\n",
        "fig.show()"
      ],
      "metadata": {
        "colab": {
          "base_uri": "https://localhost:8080/",
          "height": 542
        },
        "id": "ugIjPN0c3wZ2",
        "outputId": "c8dfb41d-1149-4070-cd42-e6a9f2ae3e9d"
      },
      "execution_count": 318,
      "outputs": [
        {
          "output_type": "display_data",
          "data": {
            "text/html": [
              "<html>\n",
              "<head><meta charset=\"utf-8\" /></head>\n",
              "<body>\n",
              "    <div>            <script src=\"https://cdnjs.cloudflare.com/ajax/libs/mathjax/2.7.5/MathJax.js?config=TeX-AMS-MML_SVG\"></script><script type=\"text/javascript\">if (window.MathJax) {MathJax.Hub.Config({SVG: {font: \"STIX-Web\"}});}</script>                <script type=\"text/javascript\">window.PlotlyConfig = {MathJaxConfig: 'local'};</script>\n",
              "        <script src=\"https://cdn.plot.ly/plotly-2.4.2.min.js\"></script>                <div id=\"5a7801b8-bdb7-4daf-9928-fb87a536378e\" class=\"plotly-graph-div\" style=\"height:525px; width:100%;\"></div>            <script type=\"text/javascript\">                                    window.PLOTLYENV=window.PLOTLYENV || {};                                    if (document.getElementById(\"5a7801b8-bdb7-4daf-9928-fb87a536378e\")) {                    Plotly.newPlot(                        \"5a7801b8-bdb7-4daf-9928-fb87a536378e\",                        [{\"alignmentgroup\":\"True\",\"hovertemplate\":\"count=%{x}<br>country=%{y}<extra></extra>\",\"legendgroup\":\"\",\"marker\":{\"color\":\"#636efa\",\"pattern\":{\"shape\":\"\"}},\"name\":\"\",\"offsetgroup\":\"\",\"orientation\":\"h\",\"showlegend\":false,\"textposition\":\"auto\",\"type\":\"bar\",\"x\":[2210,875,183,107,91,90,88,83,79,76,74,73,64,59,52],\"xaxis\":\"x\",\"y\":[\"United States\",\"India\",\"United Kingdom\",\"Canada\",\"Spain\",\"Egypt\",\"Nigeria\",\"Japan\",\"Turkey\",\"Indonesia\",\"Philippines\",\"France\",\"Mexico\",\"United Kingdom, United States\",\"United States, Canada\"],\"yaxis\":\"y\"}],                        {\"barmode\":\"relative\",\"legend\":{\"tracegroupgap\":0},\"margin\":{\"t\":60},\"template\":{\"data\":{\"bar\":[{\"error_x\":{\"color\":\"#2a3f5f\"},\"error_y\":{\"color\":\"#2a3f5f\"},\"marker\":{\"line\":{\"color\":\"#E5ECF6\",\"width\":0.5},\"pattern\":{\"fillmode\":\"overlay\",\"size\":10,\"solidity\":0.2}},\"type\":\"bar\"}],\"barpolar\":[{\"marker\":{\"line\":{\"color\":\"#E5ECF6\",\"width\":0.5},\"pattern\":{\"fillmode\":\"overlay\",\"size\":10,\"solidity\":0.2}},\"type\":\"barpolar\"}],\"carpet\":[{\"aaxis\":{\"endlinecolor\":\"#2a3f5f\",\"gridcolor\":\"white\",\"linecolor\":\"white\",\"minorgridcolor\":\"white\",\"startlinecolor\":\"#2a3f5f\"},\"baxis\":{\"endlinecolor\":\"#2a3f5f\",\"gridcolor\":\"white\",\"linecolor\":\"white\",\"minorgridcolor\":\"white\",\"startlinecolor\":\"#2a3f5f\"},\"type\":\"carpet\"}],\"choropleth\":[{\"colorbar\":{\"outlinewidth\":0,\"ticks\":\"\"},\"type\":\"choropleth\"}],\"contour\":[{\"colorbar\":{\"outlinewidth\":0,\"ticks\":\"\"},\"colorscale\":[[0.0,\"#0d0887\"],[0.1111111111111111,\"#46039f\"],[0.2222222222222222,\"#7201a8\"],[0.3333333333333333,\"#9c179e\"],[0.4444444444444444,\"#bd3786\"],[0.5555555555555556,\"#d8576b\"],[0.6666666666666666,\"#ed7953\"],[0.7777777777777778,\"#fb9f3a\"],[0.8888888888888888,\"#fdca26\"],[1.0,\"#f0f921\"]],\"type\":\"contour\"}],\"contourcarpet\":[{\"colorbar\":{\"outlinewidth\":0,\"ticks\":\"\"},\"type\":\"contourcarpet\"}],\"heatmap\":[{\"colorbar\":{\"outlinewidth\":0,\"ticks\":\"\"},\"colorscale\":[[0.0,\"#0d0887\"],[0.1111111111111111,\"#46039f\"],[0.2222222222222222,\"#7201a8\"],[0.3333333333333333,\"#9c179e\"],[0.4444444444444444,\"#bd3786\"],[0.5555555555555556,\"#d8576b\"],[0.6666666666666666,\"#ed7953\"],[0.7777777777777778,\"#fb9f3a\"],[0.8888888888888888,\"#fdca26\"],[1.0,\"#f0f921\"]],\"type\":\"heatmap\"}],\"heatmapgl\":[{\"colorbar\":{\"outlinewidth\":0,\"ticks\":\"\"},\"colorscale\":[[0.0,\"#0d0887\"],[0.1111111111111111,\"#46039f\"],[0.2222222222222222,\"#7201a8\"],[0.3333333333333333,\"#9c179e\"],[0.4444444444444444,\"#bd3786\"],[0.5555555555555556,\"#d8576b\"],[0.6666666666666666,\"#ed7953\"],[0.7777777777777778,\"#fb9f3a\"],[0.8888888888888888,\"#fdca26\"],[1.0,\"#f0f921\"]],\"type\":\"heatmapgl\"}],\"histogram\":[{\"marker\":{\"pattern\":{\"fillmode\":\"overlay\",\"size\":10,\"solidity\":0.2}},\"type\":\"histogram\"}],\"histogram2d\":[{\"colorbar\":{\"outlinewidth\":0,\"ticks\":\"\"},\"colorscale\":[[0.0,\"#0d0887\"],[0.1111111111111111,\"#46039f\"],[0.2222222222222222,\"#7201a8\"],[0.3333333333333333,\"#9c179e\"],[0.4444444444444444,\"#bd3786\"],[0.5555555555555556,\"#d8576b\"],[0.6666666666666666,\"#ed7953\"],[0.7777777777777778,\"#fb9f3a\"],[0.8888888888888888,\"#fdca26\"],[1.0,\"#f0f921\"]],\"type\":\"histogram2d\"}],\"histogram2dcontour\":[{\"colorbar\":{\"outlinewidth\":0,\"ticks\":\"\"},\"colorscale\":[[0.0,\"#0d0887\"],[0.1111111111111111,\"#46039f\"],[0.2222222222222222,\"#7201a8\"],[0.3333333333333333,\"#9c179e\"],[0.4444444444444444,\"#bd3786\"],[0.5555555555555556,\"#d8576b\"],[0.6666666666666666,\"#ed7953\"],[0.7777777777777778,\"#fb9f3a\"],[0.8888888888888888,\"#fdca26\"],[1.0,\"#f0f921\"]],\"type\":\"histogram2dcontour\"}],\"mesh3d\":[{\"colorbar\":{\"outlinewidth\":0,\"ticks\":\"\"},\"type\":\"mesh3d\"}],\"parcoords\":[{\"line\":{\"colorbar\":{\"outlinewidth\":0,\"ticks\":\"\"}},\"type\":\"parcoords\"}],\"pie\":[{\"automargin\":true,\"type\":\"pie\"}],\"scatter\":[{\"marker\":{\"colorbar\":{\"outlinewidth\":0,\"ticks\":\"\"}},\"type\":\"scatter\"}],\"scatter3d\":[{\"line\":{\"colorbar\":{\"outlinewidth\":0,\"ticks\":\"\"}},\"marker\":{\"colorbar\":{\"outlinewidth\":0,\"ticks\":\"\"}},\"type\":\"scatter3d\"}],\"scattercarpet\":[{\"marker\":{\"colorbar\":{\"outlinewidth\":0,\"ticks\":\"\"}},\"type\":\"scattercarpet\"}],\"scattergeo\":[{\"marker\":{\"colorbar\":{\"outlinewidth\":0,\"ticks\":\"\"}},\"type\":\"scattergeo\"}],\"scattergl\":[{\"marker\":{\"colorbar\":{\"outlinewidth\":0,\"ticks\":\"\"}},\"type\":\"scattergl\"}],\"scattermapbox\":[{\"marker\":{\"colorbar\":{\"outlinewidth\":0,\"ticks\":\"\"}},\"type\":\"scattermapbox\"}],\"scatterpolar\":[{\"marker\":{\"colorbar\":{\"outlinewidth\":0,\"ticks\":\"\"}},\"type\":\"scatterpolar\"}],\"scatterpolargl\":[{\"marker\":{\"colorbar\":{\"outlinewidth\":0,\"ticks\":\"\"}},\"type\":\"scatterpolargl\"}],\"scatterternary\":[{\"marker\":{\"colorbar\":{\"outlinewidth\":0,\"ticks\":\"\"}},\"type\":\"scatterternary\"}],\"surface\":[{\"colorbar\":{\"outlinewidth\":0,\"ticks\":\"\"},\"colorscale\":[[0.0,\"#0d0887\"],[0.1111111111111111,\"#46039f\"],[0.2222222222222222,\"#7201a8\"],[0.3333333333333333,\"#9c179e\"],[0.4444444444444444,\"#bd3786\"],[0.5555555555555556,\"#d8576b\"],[0.6666666666666666,\"#ed7953\"],[0.7777777777777778,\"#fb9f3a\"],[0.8888888888888888,\"#fdca26\"],[1.0,\"#f0f921\"]],\"type\":\"surface\"}],\"table\":[{\"cells\":{\"fill\":{\"color\":\"#EBF0F8\"},\"line\":{\"color\":\"white\"}},\"header\":{\"fill\":{\"color\":\"#C8D4E3\"},\"line\":{\"color\":\"white\"}},\"type\":\"table\"}]},\"layout\":{\"annotationdefaults\":{\"arrowcolor\":\"#2a3f5f\",\"arrowhead\":0,\"arrowwidth\":1},\"autotypenumbers\":\"strict\",\"coloraxis\":{\"colorbar\":{\"outlinewidth\":0,\"ticks\":\"\"}},\"colorscale\":{\"diverging\":[[0,\"#8e0152\"],[0.1,\"#c51b7d\"],[0.2,\"#de77ae\"],[0.3,\"#f1b6da\"],[0.4,\"#fde0ef\"],[0.5,\"#f7f7f7\"],[0.6,\"#e6f5d0\"],[0.7,\"#b8e186\"],[0.8,\"#7fbc41\"],[0.9,\"#4d9221\"],[1,\"#276419\"]],\"sequential\":[[0.0,\"#0d0887\"],[0.1111111111111111,\"#46039f\"],[0.2222222222222222,\"#7201a8\"],[0.3333333333333333,\"#9c179e\"],[0.4444444444444444,\"#bd3786\"],[0.5555555555555556,\"#d8576b\"],[0.6666666666666666,\"#ed7953\"],[0.7777777777777778,\"#fb9f3a\"],[0.8888888888888888,\"#fdca26\"],[1.0,\"#f0f921\"]],\"sequentialminus\":[[0.0,\"#0d0887\"],[0.1111111111111111,\"#46039f\"],[0.2222222222222222,\"#7201a8\"],[0.3333333333333333,\"#9c179e\"],[0.4444444444444444,\"#bd3786\"],[0.5555555555555556,\"#d8576b\"],[0.6666666666666666,\"#ed7953\"],[0.7777777777777778,\"#fb9f3a\"],[0.8888888888888888,\"#fdca26\"],[1.0,\"#f0f921\"]]},\"colorway\":[\"#636efa\",\"#EF553B\",\"#00cc96\",\"#ab63fa\",\"#FFA15A\",\"#19d3f3\",\"#FF6692\",\"#B6E880\",\"#FF97FF\",\"#FECB52\"],\"font\":{\"color\":\"#2a3f5f\"},\"geo\":{\"bgcolor\":\"white\",\"lakecolor\":\"white\",\"landcolor\":\"#E5ECF6\",\"showlakes\":true,\"showland\":true,\"subunitcolor\":\"white\"},\"hoverlabel\":{\"align\":\"left\"},\"hovermode\":\"closest\",\"mapbox\":{\"style\":\"light\"},\"paper_bgcolor\":\"white\",\"plot_bgcolor\":\"#E5ECF6\",\"polar\":{\"angularaxis\":{\"gridcolor\":\"white\",\"linecolor\":\"white\",\"ticks\":\"\"},\"bgcolor\":\"#E5ECF6\",\"radialaxis\":{\"gridcolor\":\"white\",\"linecolor\":\"white\",\"ticks\":\"\"}},\"scene\":{\"xaxis\":{\"backgroundcolor\":\"#E5ECF6\",\"gridcolor\":\"white\",\"gridwidth\":2,\"linecolor\":\"white\",\"showbackground\":true,\"ticks\":\"\",\"zerolinecolor\":\"white\"},\"yaxis\":{\"backgroundcolor\":\"#E5ECF6\",\"gridcolor\":\"white\",\"gridwidth\":2,\"linecolor\":\"white\",\"showbackground\":true,\"ticks\":\"\",\"zerolinecolor\":\"white\"},\"zaxis\":{\"backgroundcolor\":\"#E5ECF6\",\"gridcolor\":\"white\",\"gridwidth\":2,\"linecolor\":\"white\",\"showbackground\":true,\"ticks\":\"\",\"zerolinecolor\":\"white\"}},\"shapedefaults\":{\"line\":{\"color\":\"#2a3f5f\"}},\"ternary\":{\"aaxis\":{\"gridcolor\":\"white\",\"linecolor\":\"white\",\"ticks\":\"\"},\"baxis\":{\"gridcolor\":\"white\",\"linecolor\":\"white\",\"ticks\":\"\"},\"bgcolor\":\"#E5ECF6\",\"caxis\":{\"gridcolor\":\"white\",\"linecolor\":\"white\",\"ticks\":\"\"}},\"title\":{\"x\":0.05},\"xaxis\":{\"automargin\":true,\"gridcolor\":\"white\",\"linecolor\":\"white\",\"ticks\":\"\",\"title\":{\"standoff\":15},\"zerolinecolor\":\"white\",\"zerolinewidth\":2},\"yaxis\":{\"automargin\":true,\"gridcolor\":\"white\",\"linecolor\":\"white\",\"ticks\":\"\",\"title\":{\"standoff\":15},\"zerolinecolor\":\"white\",\"zerolinewidth\":2}}},\"xaxis\":{\"anchor\":\"y\",\"domain\":[0.0,1.0],\"title\":{\"text\":\"count\"}},\"yaxis\":{\"anchor\":\"x\",\"domain\":[0.0,1.0],\"title\":{\"text\":\"country\"}}},                        {\"responsive\": true}                    ).then(function(){\n",
              "                            \n",
              "var gd = document.getElementById('5a7801b8-bdb7-4daf-9928-fb87a536378e');\n",
              "var x = new MutationObserver(function (mutations, observer) {{\n",
              "        var display = window.getComputedStyle(gd).display;\n",
              "        if (!display || display === 'none') {{\n",
              "            console.log([gd, 'removed!']);\n",
              "            Plotly.purge(gd);\n",
              "            observer.disconnect();\n",
              "        }}\n",
              "}});\n",
              "\n",
              "// Listen for the removal of the full notebook cells\n",
              "var notebookContainer = gd.closest('#notebook-container');\n",
              "if (notebookContainer) {{\n",
              "    x.observe(notebookContainer, {childList: true});\n",
              "}}\n",
              "\n",
              "// Listen for the clearing of the current output cell\n",
              "var outputEl = gd.closest('.output');\n",
              "if (outputEl) {{\n",
              "    x.observe(outputEl, {childList: true});\n",
              "}}\n",
              "\n",
              "                        })                };                            </script>        </div>\n",
              "</body>\n",
              "</html>"
            ]
          },
          "metadata": {}
        }
      ]
    },
    {
      "cell_type": "markdown",
      "source": [
        "Finding countries with highest rating"
      ],
      "metadata": {
        "id": "tsWEfRB29EOd"
      }
    },
    {
      "cell_type": "code",
      "source": [
        "highest_rating=df[0:10]\n",
        "fig =px.sunburst(\n",
        "    highest_rating,\n",
        "    path=['country'])\n",
        "fig.show()\n"
      ],
      "metadata": {
        "colab": {
          "base_uri": "https://localhost:8080/",
          "height": 542
        },
        "id": "7QmaiGs2E-M5",
        "outputId": "ac2b5f93-46d4-43ad-a057-20d52cef616d"
      },
      "execution_count": 319,
      "outputs": [
        {
          "output_type": "display_data",
          "data": {
            "text/html": [
              "<html>\n",
              "<head><meta charset=\"utf-8\" /></head>\n",
              "<body>\n",
              "    <div>            <script src=\"https://cdnjs.cloudflare.com/ajax/libs/mathjax/2.7.5/MathJax.js?config=TeX-AMS-MML_SVG\"></script><script type=\"text/javascript\">if (window.MathJax) {MathJax.Hub.Config({SVG: {font: \"STIX-Web\"}});}</script>                <script type=\"text/javascript\">window.PlotlyConfig = {MathJaxConfig: 'local'};</script>\n",
              "        <script src=\"https://cdn.plot.ly/plotly-2.4.2.min.js\"></script>                <div id=\"078936ec-9286-42da-8e5f-a34dfb872cfc\" class=\"plotly-graph-div\" style=\"height:525px; width:100%;\"></div>            <script type=\"text/javascript\">                                    window.PLOTLYENV=window.PLOTLYENV || {};                                    if (document.getElementById(\"078936ec-9286-42da-8e5f-a34dfb872cfc\")) {                    Plotly.newPlot(                        \"078936ec-9286-42da-8e5f-a34dfb872cfc\",                        [{\"branchvalues\":\"total\",\"domain\":{\"x\":[0.0,1.0],\"y\":[0.0,1.0]},\"hovertemplate\":\"labels=%{label}<br>count=%{value}<br>parent=%{parent}<br>id=%{id}<extra></extra>\",\"ids\":[\"Germany, Czech Republic\",\"United Kingdom\",\"United States\",\"United States, Ghana, Burkina Faso, United Kingdom, Germany, Ethiopia\"],\"labels\":[\"Germany, Czech Republic\",\"United Kingdom\",\"United States\",\"United States, Ghana, Burkina Faso, United Kingdom, Germany, Ethiopia\"],\"name\":\"\",\"parents\":[\"\",\"\",\"\",\"\"],\"type\":\"sunburst\",\"values\":[1,1,7,1]}],                        {\"legend\":{\"tracegroupgap\":0},\"margin\":{\"t\":60},\"template\":{\"data\":{\"bar\":[{\"error_x\":{\"color\":\"#2a3f5f\"},\"error_y\":{\"color\":\"#2a3f5f\"},\"marker\":{\"line\":{\"color\":\"#E5ECF6\",\"width\":0.5},\"pattern\":{\"fillmode\":\"overlay\",\"size\":10,\"solidity\":0.2}},\"type\":\"bar\"}],\"barpolar\":[{\"marker\":{\"line\":{\"color\":\"#E5ECF6\",\"width\":0.5},\"pattern\":{\"fillmode\":\"overlay\",\"size\":10,\"solidity\":0.2}},\"type\":\"barpolar\"}],\"carpet\":[{\"aaxis\":{\"endlinecolor\":\"#2a3f5f\",\"gridcolor\":\"white\",\"linecolor\":\"white\",\"minorgridcolor\":\"white\",\"startlinecolor\":\"#2a3f5f\"},\"baxis\":{\"endlinecolor\":\"#2a3f5f\",\"gridcolor\":\"white\",\"linecolor\":\"white\",\"minorgridcolor\":\"white\",\"startlinecolor\":\"#2a3f5f\"},\"type\":\"carpet\"}],\"choropleth\":[{\"colorbar\":{\"outlinewidth\":0,\"ticks\":\"\"},\"type\":\"choropleth\"}],\"contour\":[{\"colorbar\":{\"outlinewidth\":0,\"ticks\":\"\"},\"colorscale\":[[0.0,\"#0d0887\"],[0.1111111111111111,\"#46039f\"],[0.2222222222222222,\"#7201a8\"],[0.3333333333333333,\"#9c179e\"],[0.4444444444444444,\"#bd3786\"],[0.5555555555555556,\"#d8576b\"],[0.6666666666666666,\"#ed7953\"],[0.7777777777777778,\"#fb9f3a\"],[0.8888888888888888,\"#fdca26\"],[1.0,\"#f0f921\"]],\"type\":\"contour\"}],\"contourcarpet\":[{\"colorbar\":{\"outlinewidth\":0,\"ticks\":\"\"},\"type\":\"contourcarpet\"}],\"heatmap\":[{\"colorbar\":{\"outlinewidth\":0,\"ticks\":\"\"},\"colorscale\":[[0.0,\"#0d0887\"],[0.1111111111111111,\"#46039f\"],[0.2222222222222222,\"#7201a8\"],[0.3333333333333333,\"#9c179e\"],[0.4444444444444444,\"#bd3786\"],[0.5555555555555556,\"#d8576b\"],[0.6666666666666666,\"#ed7953\"],[0.7777777777777778,\"#fb9f3a\"],[0.8888888888888888,\"#fdca26\"],[1.0,\"#f0f921\"]],\"type\":\"heatmap\"}],\"heatmapgl\":[{\"colorbar\":{\"outlinewidth\":0,\"ticks\":\"\"},\"colorscale\":[[0.0,\"#0d0887\"],[0.1111111111111111,\"#46039f\"],[0.2222222222222222,\"#7201a8\"],[0.3333333333333333,\"#9c179e\"],[0.4444444444444444,\"#bd3786\"],[0.5555555555555556,\"#d8576b\"],[0.6666666666666666,\"#ed7953\"],[0.7777777777777778,\"#fb9f3a\"],[0.8888888888888888,\"#fdca26\"],[1.0,\"#f0f921\"]],\"type\":\"heatmapgl\"}],\"histogram\":[{\"marker\":{\"pattern\":{\"fillmode\":\"overlay\",\"size\":10,\"solidity\":0.2}},\"type\":\"histogram\"}],\"histogram2d\":[{\"colorbar\":{\"outlinewidth\":0,\"ticks\":\"\"},\"colorscale\":[[0.0,\"#0d0887\"],[0.1111111111111111,\"#46039f\"],[0.2222222222222222,\"#7201a8\"],[0.3333333333333333,\"#9c179e\"],[0.4444444444444444,\"#bd3786\"],[0.5555555555555556,\"#d8576b\"],[0.6666666666666666,\"#ed7953\"],[0.7777777777777778,\"#fb9f3a\"],[0.8888888888888888,\"#fdca26\"],[1.0,\"#f0f921\"]],\"type\":\"histogram2d\"}],\"histogram2dcontour\":[{\"colorbar\":{\"outlinewidth\":0,\"ticks\":\"\"},\"colorscale\":[[0.0,\"#0d0887\"],[0.1111111111111111,\"#46039f\"],[0.2222222222222222,\"#7201a8\"],[0.3333333333333333,\"#9c179e\"],[0.4444444444444444,\"#bd3786\"],[0.5555555555555556,\"#d8576b\"],[0.6666666666666666,\"#ed7953\"],[0.7777777777777778,\"#fb9f3a\"],[0.8888888888888888,\"#fdca26\"],[1.0,\"#f0f921\"]],\"type\":\"histogram2dcontour\"}],\"mesh3d\":[{\"colorbar\":{\"outlinewidth\":0,\"ticks\":\"\"},\"type\":\"mesh3d\"}],\"parcoords\":[{\"line\":{\"colorbar\":{\"outlinewidth\":0,\"ticks\":\"\"}},\"type\":\"parcoords\"}],\"pie\":[{\"automargin\":true,\"type\":\"pie\"}],\"scatter\":[{\"marker\":{\"colorbar\":{\"outlinewidth\":0,\"ticks\":\"\"}},\"type\":\"scatter\"}],\"scatter3d\":[{\"line\":{\"colorbar\":{\"outlinewidth\":0,\"ticks\":\"\"}},\"marker\":{\"colorbar\":{\"outlinewidth\":0,\"ticks\":\"\"}},\"type\":\"scatter3d\"}],\"scattercarpet\":[{\"marker\":{\"colorbar\":{\"outlinewidth\":0,\"ticks\":\"\"}},\"type\":\"scattercarpet\"}],\"scattergeo\":[{\"marker\":{\"colorbar\":{\"outlinewidth\":0,\"ticks\":\"\"}},\"type\":\"scattergeo\"}],\"scattergl\":[{\"marker\":{\"colorbar\":{\"outlinewidth\":0,\"ticks\":\"\"}},\"type\":\"scattergl\"}],\"scattermapbox\":[{\"marker\":{\"colorbar\":{\"outlinewidth\":0,\"ticks\":\"\"}},\"type\":\"scattermapbox\"}],\"scatterpolar\":[{\"marker\":{\"colorbar\":{\"outlinewidth\":0,\"ticks\":\"\"}},\"type\":\"scatterpolar\"}],\"scatterpolargl\":[{\"marker\":{\"colorbar\":{\"outlinewidth\":0,\"ticks\":\"\"}},\"type\":\"scatterpolargl\"}],\"scatterternary\":[{\"marker\":{\"colorbar\":{\"outlinewidth\":0,\"ticks\":\"\"}},\"type\":\"scatterternary\"}],\"surface\":[{\"colorbar\":{\"outlinewidth\":0,\"ticks\":\"\"},\"colorscale\":[[0.0,\"#0d0887\"],[0.1111111111111111,\"#46039f\"],[0.2222222222222222,\"#7201a8\"],[0.3333333333333333,\"#9c179e\"],[0.4444444444444444,\"#bd3786\"],[0.5555555555555556,\"#d8576b\"],[0.6666666666666666,\"#ed7953\"],[0.7777777777777778,\"#fb9f3a\"],[0.8888888888888888,\"#fdca26\"],[1.0,\"#f0f921\"]],\"type\":\"surface\"}],\"table\":[{\"cells\":{\"fill\":{\"color\":\"#EBF0F8\"},\"line\":{\"color\":\"white\"}},\"header\":{\"fill\":{\"color\":\"#C8D4E3\"},\"line\":{\"color\":\"white\"}},\"type\":\"table\"}]},\"layout\":{\"annotationdefaults\":{\"arrowcolor\":\"#2a3f5f\",\"arrowhead\":0,\"arrowwidth\":1},\"autotypenumbers\":\"strict\",\"coloraxis\":{\"colorbar\":{\"outlinewidth\":0,\"ticks\":\"\"}},\"colorscale\":{\"diverging\":[[0,\"#8e0152\"],[0.1,\"#c51b7d\"],[0.2,\"#de77ae\"],[0.3,\"#f1b6da\"],[0.4,\"#fde0ef\"],[0.5,\"#f7f7f7\"],[0.6,\"#e6f5d0\"],[0.7,\"#b8e186\"],[0.8,\"#7fbc41\"],[0.9,\"#4d9221\"],[1,\"#276419\"]],\"sequential\":[[0.0,\"#0d0887\"],[0.1111111111111111,\"#46039f\"],[0.2222222222222222,\"#7201a8\"],[0.3333333333333333,\"#9c179e\"],[0.4444444444444444,\"#bd3786\"],[0.5555555555555556,\"#d8576b\"],[0.6666666666666666,\"#ed7953\"],[0.7777777777777778,\"#fb9f3a\"],[0.8888888888888888,\"#fdca26\"],[1.0,\"#f0f921\"]],\"sequentialminus\":[[0.0,\"#0d0887\"],[0.1111111111111111,\"#46039f\"],[0.2222222222222222,\"#7201a8\"],[0.3333333333333333,\"#9c179e\"],[0.4444444444444444,\"#bd3786\"],[0.5555555555555556,\"#d8576b\"],[0.6666666666666666,\"#ed7953\"],[0.7777777777777778,\"#fb9f3a\"],[0.8888888888888888,\"#fdca26\"],[1.0,\"#f0f921\"]]},\"colorway\":[\"#636efa\",\"#EF553B\",\"#00cc96\",\"#ab63fa\",\"#FFA15A\",\"#19d3f3\",\"#FF6692\",\"#B6E880\",\"#FF97FF\",\"#FECB52\"],\"font\":{\"color\":\"#2a3f5f\"},\"geo\":{\"bgcolor\":\"white\",\"lakecolor\":\"white\",\"landcolor\":\"#E5ECF6\",\"showlakes\":true,\"showland\":true,\"subunitcolor\":\"white\"},\"hoverlabel\":{\"align\":\"left\"},\"hovermode\":\"closest\",\"mapbox\":{\"style\":\"light\"},\"paper_bgcolor\":\"white\",\"plot_bgcolor\":\"#E5ECF6\",\"polar\":{\"angularaxis\":{\"gridcolor\":\"white\",\"linecolor\":\"white\",\"ticks\":\"\"},\"bgcolor\":\"#E5ECF6\",\"radialaxis\":{\"gridcolor\":\"white\",\"linecolor\":\"white\",\"ticks\":\"\"}},\"scene\":{\"xaxis\":{\"backgroundcolor\":\"#E5ECF6\",\"gridcolor\":\"white\",\"gridwidth\":2,\"linecolor\":\"white\",\"showbackground\":true,\"ticks\":\"\",\"zerolinecolor\":\"white\"},\"yaxis\":{\"backgroundcolor\":\"#E5ECF6\",\"gridcolor\":\"white\",\"gridwidth\":2,\"linecolor\":\"white\",\"showbackground\":true,\"ticks\":\"\",\"zerolinecolor\":\"white\"},\"zaxis\":{\"backgroundcolor\":\"#E5ECF6\",\"gridcolor\":\"white\",\"gridwidth\":2,\"linecolor\":\"white\",\"showbackground\":true,\"ticks\":\"\",\"zerolinecolor\":\"white\"}},\"shapedefaults\":{\"line\":{\"color\":\"#2a3f5f\"}},\"ternary\":{\"aaxis\":{\"gridcolor\":\"white\",\"linecolor\":\"white\",\"ticks\":\"\"},\"baxis\":{\"gridcolor\":\"white\",\"linecolor\":\"white\",\"ticks\":\"\"},\"bgcolor\":\"#E5ECF6\",\"caxis\":{\"gridcolor\":\"white\",\"linecolor\":\"white\",\"ticks\":\"\"}},\"title\":{\"x\":0.05},\"xaxis\":{\"automargin\":true,\"gridcolor\":\"white\",\"linecolor\":\"white\",\"ticks\":\"\",\"title\":{\"standoff\":15},\"zerolinecolor\":\"white\",\"zerolinewidth\":2},\"yaxis\":{\"automargin\":true,\"gridcolor\":\"white\",\"linecolor\":\"white\",\"ticks\":\"\",\"title\":{\"standoff\":15},\"zerolinecolor\":\"white\",\"zerolinewidth\":2}}}},                        {\"responsive\": true}                    ).then(function(){\n",
              "                            \n",
              "var gd = document.getElementById('078936ec-9286-42da-8e5f-a34dfb872cfc');\n",
              "var x = new MutationObserver(function (mutations, observer) {{\n",
              "        var display = window.getComputedStyle(gd).display;\n",
              "        if (!display || display === 'none') {{\n",
              "            console.log([gd, 'removed!']);\n",
              "            Plotly.purge(gd);\n",
              "            observer.disconnect();\n",
              "        }}\n",
              "}});\n",
              "\n",
              "// Listen for the removal of the full notebook cells\n",
              "var notebookContainer = gd.closest('#notebook-container');\n",
              "if (notebookContainer) {{\n",
              "    x.observe(notebookContainer, {childList: true});\n",
              "}}\n",
              "\n",
              "// Listen for the clearing of the current output cell\n",
              "var outputEl = gd.closest('.output');\n",
              "if (outputEl) {{\n",
              "    x.observe(outputEl, {childList: true});\n",
              "}}\n",
              "\n",
              "                        })                };                            </script>        </div>\n",
              "</body>\n",
              "</html>"
            ]
          },
          "metadata": {}
        }
      ]
    },
    {
      "cell_type": "markdown",
      "source": [
        "Find out which Genre had the highest rating."
      ],
      "metadata": {
        "id": "mLCT0UWK2Er3"
      }
    },
    {
      "cell_type": "code",
      "source": [
        "fig = df['rating'].value_counts().plot.pie(autopct='%1.1f%%',figsize=(10,25)) "
      ],
      "metadata": {
        "colab": {
          "base_uri": "https://localhost:8080/",
          "height": 589
        },
        "id": "xcTY3Lh_DkLB",
        "outputId": "3f2271b4-3be7-432f-ebbe-3f14d07972c0"
      },
      "execution_count": 320,
      "outputs": [
        {
          "output_type": "display_data",
          "data": {
            "image/png": "[encoded data removed]",
            "text/plain": [
              "<Figure size 720x1800 with 1 Axes>"
            ]
          },
          "metadata": {}
        }
      ]
    },
    {
      "cell_type": "markdown",
      "source": [
        "Monthly releases in 2029 and 2020 in US. "
      ],
      "metadata": {
        "id": "C-lAHST12Jcr"
      }
    },
    {
      "cell_type": "code",
      "source": [
        "fig = px.bar(\n",
        "    df_monthly[df_monthly['year_added'] >= 2019],\n",
        "    title = 'Monthly number of releases in 2019 and 2020 in US',\n",
        "    x = 'month_added',\n",
        "    y = 'num_releases',\n",
        "    facet_col='year_added',\n",
        "    width=1000,\n",
        "    height=500,\n",
        "    template='plotly_dark',\n",
        "    color='num_releases',\n",
        "    color_continuous_scale=['White', 'Yellow']\n",
        ")\n",
        "fig.show()"
      ],
      "metadata": {
        "colab": {
          "base_uri": "https://localhost:8080/",
          "height": 517
        },
        "id": "66Ce9SD72OyW",
        "outputId": "c18b7fba-b574-4c35-ecd2-0387cafbb410"
      },
      "execution_count": 321,
      "outputs": [
        {
          "output_type": "display_data",
          "data": {
            "text/html": [
              "<html>\n",
              "<head><meta charset=\"utf-8\" /></head>\n",
              "<body>\n",
              "    <div>            <script src=\"https://cdnjs.cloudflare.com/ajax/libs/mathjax/2.7.5/MathJax.js?config=TeX-AMS-MML_SVG\"></script><script type=\"text/javascript\">if (window.MathJax) {MathJax.Hub.Config({SVG: {font: \"STIX-Web\"}});}</script>                <script type=\"text/javascript\">window.PlotlyConfig = {MathJaxConfig: 'local'};</script>\n",
              "        <script src=\"https://cdn.plot.ly/plotly-2.4.2.min.js\"></script>                <div id=\"cf1928d6-cc4e-4f89-8364-126b375a1137\" class=\"plotly-graph-div\" style=\"height:500px; width:1000px;\"></div>            <script type=\"text/javascript\">                                    window.PLOTLYENV=window.PLOTLYENV || {};                                    if (document.getElementById(\"cf1928d6-cc4e-4f89-8364-126b375a1137\")) {                    Plotly.newPlot(                        \"cf1928d6-cc4e-4f89-8364-126b375a1137\",                        [{\"alignmentgroup\":\"True\",\"hovertemplate\":\"year_added=2019<br>month_added=%{x}<br>num_releases=%{marker.color}<extra></extra>\",\"legendgroup\":\"\",\"marker\":{\"color\":[105,96,115,110,78,112,85,82,83,115,176,166],\"coloraxis\":\"coloraxis\",\"pattern\":{\"shape\":\"\"}},\"name\":\"\",\"offsetgroup\":\"\",\"orientation\":\"v\",\"showlegend\":false,\"textposition\":\"auto\",\"type\":\"bar\",\"x\":[1,2,3,4,5,6,7,8,9,10,11,12],\"xaxis\":\"x\",\"y\":[105,96,115,110,78,112,85,82,83,115,176,166],\"yaxis\":\"y\"},{\"alignmentgroup\":\"True\",\"hovertemplate\":\"year_added=2020<br>month_added=%{x}<br>num_releases=%{marker.color}<extra></extra>\",\"legendgroup\":\"\",\"marker\":{\"color\":[153,71,87,122,110,109,99,78,109,112,99,99],\"coloraxis\":\"coloraxis\",\"pattern\":{\"shape\":\"\"}},\"name\":\"\",\"offsetgroup\":\"\",\"orientation\":\"v\",\"showlegend\":false,\"textposition\":\"auto\",\"type\":\"bar\",\"x\":[1,2,3,4,5,6,7,8,9,10,11,12],\"xaxis\":\"x2\",\"y\":[153,71,87,122,110,109,99,78,109,112,99,99],\"yaxis\":\"y2\"},{\"alignmentgroup\":\"True\",\"hovertemplate\":\"year_added=2021<br>month_added=%{x}<br>num_releases=%{marker.color}<extra></extra>\",\"legendgroup\":\"\",\"marker\":{\"color\":[95,60,73,126,88,123,165,114,118],\"coloraxis\":\"coloraxis\",\"pattern\":{\"shape\":\"\"}},\"name\":\"\",\"offsetgroup\":\"\",\"orientation\":\"v\",\"showlegend\":false,\"textposition\":\"auto\",\"type\":\"bar\",\"x\":[1,2,3,4,5,6,7,8,9],\"xaxis\":\"x3\",\"y\":[95,60,73,126,88,123,165,114,118],\"yaxis\":\"y3\"}],                        {\"annotations\":[{\"font\":{},\"showarrow\":false,\"text\":\"year_added=2019\",\"x\":0.15999999999999998,\"xanchor\":\"center\",\"xref\":\"paper\",\"y\":1.0,\"yanchor\":\"bottom\",\"yref\":\"paper\"},{\"font\":{},\"showarrow\":false,\"text\":\"year_added=2020\",\"x\":0.49999999999999994,\"xanchor\":\"center\",\"xref\":\"paper\",\"y\":1.0,\"yanchor\":\"bottom\",\"yref\":\"paper\"},{\"font\":{},\"showarrow\":false,\"text\":\"year_added=2021\",\"x\":0.8399999999999999,\"xanchor\":\"center\",\"xref\":\"paper\",\"y\":1.0,\"yanchor\":\"bottom\",\"yref\":\"paper\"}],\"barmode\":\"relative\",\"coloraxis\":{\"colorbar\":{\"title\":{\"text\":\"num_releases\"}},\"colorscale\":[[0.0,\"White\"],[1.0,\"Yellow\"]]},\"height\":500,\"legend\":{\"tracegroupgap\":0},\"template\":{\"data\":{\"bar\":[{\"error_x\":{\"color\":\"#f2f5fa\"},\"error_y\":{\"color\":\"#f2f5fa\"},\"marker\":{\"line\":{\"color\":\"rgb(17,17,17)\",\"width\":0.5},\"pattern\":{\"fillmode\":\"overlay\",\"size\":10,\"solidity\":0.2}},\"type\":\"bar\"}],\"barpolar\":[{\"marker\":{\"line\":{\"color\":\"rgb(17,17,17)\",\"width\":0.5},\"pattern\":{\"fillmode\":\"overlay\",\"size\":10,\"solidity\":0.2}},\"type\":\"barpolar\"}],\"carpet\":[{\"aaxis\":{\"endlinecolor\":\"#A2B1C6\",\"gridcolor\":\"#506784\",\"linecolor\":\"#506784\",\"minorgridcolor\":\"#506784\",\"startlinecolor\":\"#A2B1C6\"},\"baxis\":{\"endlinecolor\":\"#A2B1C6\",\"gridcolor\":\"#506784\",\"linecolor\":\"#506784\",\"minorgridcolor\":\"#506784\",\"startlinecolor\":\"#A2B1C6\"},\"type\":\"carpet\"}],\"choropleth\":[{\"colorbar\":{\"outlinewidth\":0,\"ticks\":\"\"},\"type\":\"choropleth\"}],\"contour\":[{\"colorbar\":{\"outlinewidth\":0,\"ticks\":\"\"},\"colorscale\":[[0.0,\"#0d0887\"],[0.1111111111111111,\"#46039f\"],[0.2222222222222222,\"#7201a8\"],[0.3333333333333333,\"#9c179e\"],[0.4444444444444444,\"#bd3786\"],[0.5555555555555556,\"#d8576b\"],[0.6666666666666666,\"#ed7953\"],[0.7777777777777778,\"#fb9f3a\"],[0.8888888888888888,\"#fdca26\"],[1.0,\"#f0f921\"]],\"type\":\"contour\"}],\"contourcarpet\":[{\"colorbar\":{\"outlinewidth\":0,\"ticks\":\"\"},\"type\":\"contourcarpet\"}],\"heatmap\":[{\"colorbar\":{\"outlinewidth\":0,\"ticks\":\"\"},\"colorscale\":[[0.0,\"#0d0887\"],[0.1111111111111111,\"#46039f\"],[0.2222222222222222,\"#7201a8\"],[0.3333333333333333,\"#9c179e\"],[0.4444444444444444,\"#bd3786\"],[0.5555555555555556,\"#d8576b\"],[0.6666666666666666,\"#ed7953\"],[0.7777777777777778,\"#fb9f3a\"],[0.8888888888888888,\"#fdca26\"],[1.0,\"#f0f921\"]],\"type\":\"heatmap\"}],\"heatmapgl\":[{\"colorbar\":{\"outlinewidth\":0,\"ticks\":\"\"},\"colorscale\":[[0.0,\"#0d0887\"],[0.1111111111111111,\"#46039f\"],[0.2222222222222222,\"#7201a8\"],[0.3333333333333333,\"#9c179e\"],[0.4444444444444444,\"#bd3786\"],[0.5555555555555556,\"#d8576b\"],[0.6666666666666666,\"#ed7953\"],[0.7777777777777778,\"#fb9f3a\"],[0.8888888888888888,\"#fdca26\"],[1.0,\"#f0f921\"]],\"type\":\"heatmapgl\"}],\"histogram\":[{\"marker\":{\"pattern\":{\"fillmode\":\"overlay\",\"size\":10,\"solidity\":0.2}},\"type\":\"histogram\"}],\"histogram2d\":[{\"colorbar\":{\"outlinewidth\":0,\"ticks\":\"\"},\"colorscale\":[[0.0,\"#0d0887\"],[0.1111111111111111,\"#46039f\"],[0.2222222222222222,\"#7201a8\"],[0.3333333333333333,\"#9c179e\"],[0.4444444444444444,\"#bd3786\"],[0.5555555555555556,\"#d8576b\"],[0.6666666666666666,\"#ed7953\"],[0.7777777777777778,\"#fb9f3a\"],[0.8888888888888888,\"#fdca26\"],[1.0,\"#f0f921\"]],\"type\":\"histogram2d\"}],\"histogram2dcontour\":[{\"colorbar\":{\"outlinewidth\":0,\"ticks\":\"\"},\"colorscale\":[[0.0,\"#0d0887\"],[0.1111111111111111,\"#46039f\"],[0.2222222222222222,\"#7201a8\"],[0.3333333333333333,\"#9c179e\"],[0.4444444444444444,\"#bd3786\"],[0.5555555555555556,\"#d8576b\"],[0.6666666666666666,\"#ed7953\"],[0.7777777777777778,\"#fb9f3a\"],[0.8888888888888888,\"#fdca26\"],[1.0,\"#f0f921\"]],\"type\":\"histogram2dcontour\"}],\"mesh3d\":[{\"colorbar\":{\"outlinewidth\":0,\"ticks\":\"\"},\"type\":\"mesh3d\"}],\"parcoords\":[{\"line\":{\"colorbar\":{\"outlinewidth\":0,\"ticks\":\"\"}},\"type\":\"parcoords\"}],\"pie\":[{\"automargin\":true,\"type\":\"pie\"}],\"scatter\":[{\"marker\":{\"line\":{\"color\":\"#283442\"}},\"type\":\"scatter\"}],\"scatter3d\":[{\"line\":{\"colorbar\":{\"outlinewidth\":0,\"ticks\":\"\"}},\"marker\":{\"colorbar\":{\"outlinewidth\":0,\"ticks\":\"\"}},\"type\":\"scatter3d\"}],\"scattercarpet\":[{\"marker\":{\"colorbar\":{\"outlinewidth\":0,\"ticks\":\"\"}},\"type\":\"scattercarpet\"}],\"scattergeo\":[{\"marker\":{\"colorbar\":{\"outlinewidth\":0,\"ticks\":\"\"}},\"type\":\"scattergeo\"}],\"scattergl\":[{\"marker\":{\"line\":{\"color\":\"#283442\"}},\"type\":\"scattergl\"}],\"scattermapbox\":[{\"marker\":{\"colorbar\":{\"outlinewidth\":0,\"ticks\":\"\"}},\"type\":\"scattermapbox\"}],\"scatterpolar\":[{\"marker\":{\"colorbar\":{\"outlinewidth\":0,\"ticks\":\"\"}},\"type\":\"scatterpolar\"}],\"scatterpolargl\":[{\"marker\":{\"colorbar\":{\"outlinewidth\":0,\"ticks\":\"\"}},\"type\":\"scatterpolargl\"}],\"scatterternary\":[{\"marker\":{\"colorbar\":{\"outlinewidth\":0,\"ticks\":\"\"}},\"type\":\"scatterternary\"}],\"surface\":[{\"colorbar\":{\"outlinewidth\":0,\"ticks\":\"\"},\"colorscale\":[[0.0,\"#0d0887\"],[0.1111111111111111,\"#46039f\"],[0.2222222222222222,\"#7201a8\"],[0.3333333333333333,\"#9c179e\"],[0.4444444444444444,\"#bd3786\"],[0.5555555555555556,\"#d8576b\"],[0.6666666666666666,\"#ed7953\"],[0.7777777777777778,\"#fb9f3a\"],[0.8888888888888888,\"#fdca26\"],[1.0,\"#f0f921\"]],\"type\":\"surface\"}],\"table\":[{\"cells\":{\"fill\":{\"color\":\"#506784\"},\"line\":{\"color\":\"rgb(17,17,17)\"}},\"header\":{\"fill\":{\"color\":\"#2a3f5f\"},\"line\":{\"color\":\"rgb(17,17,17)\"}},\"type\":\"table\"}]},\"layout\":{\"annotationdefaults\":{\"arrowcolor\":\"#f2f5fa\",\"arrowhead\":0,\"arrowwidth\":1},\"autotypenumbers\":\"strict\",\"coloraxis\":{\"colorbar\":{\"outlinewidth\":0,\"ticks\":\"\"}},\"colorscale\":{\"diverging\":[[0,\"#8e0152\"],[0.1,\"#c51b7d\"],[0.2,\"#de77ae\"],[0.3,\"#f1b6da\"],[0.4,\"#fde0ef\"],[0.5,\"#f7f7f7\"],[0.6,\"#e6f5d0\"],[0.7,\"#b8e186\"],[0.8,\"#7fbc41\"],[0.9,\"#4d9221\"],[1,\"#276419\"]],\"sequential\":[[0.0,\"#0d0887\"],[0.1111111111111111,\"#46039f\"],[0.2222222222222222,\"#7201a8\"],[0.3333333333333333,\"#9c179e\"],[0.4444444444444444,\"#bd3786\"],[0.5555555555555556,\"#d8576b\"],[0.6666666666666666,\"#ed7953\"],[0.7777777777777778,\"#fb9f3a\"],[0.8888888888888888,\"#fdca26\"],[1.0,\"#f0f921\"]],\"sequentialminus\":[[0.0,\"#0d0887\"],[0.1111111111111111,\"#46039f\"],[0.2222222222222222,\"#7201a8\"],[0.3333333333333333,\"#9c179e\"],[0.4444444444444444,\"#bd3786\"],[0.5555555555555556,\"#d8576b\"],[0.6666666666666666,\"#ed7953\"],[0.7777777777777778,\"#fb9f3a\"],[0.8888888888888888,\"#fdca26\"],[1.0,\"#f0f921\"]]},\"colorway\":[\"#636efa\",\"#EF553B\",\"#00cc96\",\"#ab63fa\",\"#FFA15A\",\"#19d3f3\",\"#FF6692\",\"#B6E880\",\"#FF97FF\",\"#FECB52\"],\"font\":{\"color\":\"#f2f5fa\"},\"geo\":{\"bgcolor\":\"rgb(17,17,17)\",\"lakecolor\":\"rgb(17,17,17)\",\"landcolor\":\"rgb(17,17,17)\",\"showlakes\":true,\"showland\":true,\"subunitcolor\":\"#506784\"},\"hoverlabel\":{\"align\":\"left\"},\"hovermode\":\"closest\",\"mapbox\":{\"style\":\"dark\"},\"paper_bgcolor\":\"rgb(17,17,17)\",\"plot_bgcolor\":\"rgb(17,17,17)\",\"polar\":{\"angularaxis\":{\"gridcolor\":\"#506784\",\"linecolor\":\"#506784\",\"ticks\":\"\"},\"bgcolor\":\"rgb(17,17,17)\",\"radialaxis\":{\"gridcolor\":\"#506784\",\"linecolor\":\"#506784\",\"ticks\":\"\"}},\"scene\":{\"xaxis\":{\"backgroundcolor\":\"rgb(17,17,17)\",\"gridcolor\":\"#506784\",\"gridwidth\":2,\"linecolor\":\"#506784\",\"showbackground\":true,\"ticks\":\"\",\"zerolinecolor\":\"#C8D4E3\"},\"yaxis\":{\"backgroundcolor\":\"rgb(17,17,17)\",\"gridcolor\":\"#506784\",\"gridwidth\":2,\"linecolor\":\"#506784\",\"showbackground\":true,\"ticks\":\"\",\"zerolinecolor\":\"#C8D4E3\"},\"zaxis\":{\"backgroundcolor\":\"rgb(17,17,17)\",\"gridcolor\":\"#506784\",\"gridwidth\":2,\"linecolor\":\"#506784\",\"showbackground\":true,\"ticks\":\"\",\"zerolinecolor\":\"#C8D4E3\"}},\"shapedefaults\":{\"line\":{\"color\":\"#f2f5fa\"}},\"sliderdefaults\":{\"bgcolor\":\"#C8D4E3\",\"bordercolor\":\"rgb(17,17,17)\",\"borderwidth\":1,\"tickwidth\":0},\"ternary\":{\"aaxis\":{\"gridcolor\":\"#506784\",\"linecolor\":\"#506784\",\"ticks\":\"\"},\"baxis\":{\"gridcolor\":\"#506784\",\"linecolor\":\"#506784\",\"ticks\":\"\"},\"bgcolor\":\"rgb(17,17,17)\",\"caxis\":{\"gridcolor\":\"#506784\",\"linecolor\":\"#506784\",\"ticks\":\"\"}},\"title\":{\"x\":0.05},\"updatemenudefaults\":{\"bgcolor\":\"#506784\",\"borderwidth\":0},\"xaxis\":{\"automargin\":true,\"gridcolor\":\"#283442\",\"linecolor\":\"#506784\",\"ticks\":\"\",\"title\":{\"standoff\":15},\"zerolinecolor\":\"#283442\",\"zerolinewidth\":2},\"yaxis\":{\"automargin\":true,\"gridcolor\":\"#283442\",\"linecolor\":\"#506784\",\"ticks\":\"\",\"title\":{\"standoff\":15},\"zerolinecolor\":\"#283442\",\"zerolinewidth\":2}}},\"title\":{\"text\":\"Monthly number of releases in 2019 and 2020 in US\"},\"width\":1000,\"xaxis\":{\"anchor\":\"y\",\"domain\":[0.0,0.31999999999999995],\"title\":{\"text\":\"month_added\"}},\"xaxis2\":{\"anchor\":\"y2\",\"domain\":[0.33999999999999997,0.6599999999999999],\"matches\":\"x\",\"title\":{\"text\":\"month_added\"}},\"xaxis3\":{\"anchor\":\"y3\",\"domain\":[0.6799999999999999,0.9999999999999999],\"matches\":\"x\",\"title\":{\"text\":\"month_added\"}},\"yaxis\":{\"anchor\":\"x\",\"domain\":[0.0,1.0],\"title\":{\"text\":\"num_releases\"}},\"yaxis2\":{\"anchor\":\"x2\",\"domain\":[0.0,1.0],\"matches\":\"y\",\"showticklabels\":false},\"yaxis3\":{\"anchor\":\"x3\",\"domain\":[0.0,1.0],\"matches\":\"y\",\"showticklabels\":false}},                        {\"responsive\": true}                    ).then(function(){\n",
              "                            \n",
              "var gd = document.getElementById('cf1928d6-cc4e-4f89-8364-126b375a1137');\n",
              "var x = new MutationObserver(function (mutations, observer) {{\n",
              "        var display = window.getComputedStyle(gd).display;\n",
              "        if (!display || display === 'none') {{\n",
              "            console.log([gd, 'removed!']);\n",
              "            Plotly.purge(gd);\n",
              "            observer.disconnect();\n",
              "        }}\n",
              "}});\n",
              "\n",
              "// Listen for the removal of the full notebook cells\n",
              "var notebookContainer = gd.closest('#notebook-container');\n",
              "if (notebookContainer) {{\n",
              "    x.observe(notebookContainer, {childList: true});\n",
              "}}\n",
              "\n",
              "// Listen for the clearing of the current output cell\n",
              "var outputEl = gd.closest('.output');\n",
              "if (outputEl) {{\n",
              "    x.observe(outputEl, {childList: true});\n",
              "}}\n",
              "\n",
              "                        })                };                            </script>        </div>\n",
              "</body>\n",
              "</html>"
            ]
          },
          "metadata": {}
        }
      ]
    },
    {
      "cell_type": "markdown",
      "source": [
        "Differentiate Movie and TV Show "
      ],
      "metadata": {
        "id": "JTYe0idwH7xI"
      }
    },
    {
      "cell_type": "code",
      "source": [
        "movie_df = df[df['type'] == 'Movie']\n",
        "tv_df = df[df['type'] == 'TV Show']"
      ],
      "metadata": {
        "id": "wD3d--qAb2E8"
      },
      "execution_count": 322,
      "outputs": []
    },
    {
      "cell_type": "code",
      "source": [
        "movie_df.head(5)"
      ],
      "metadata": {
        "colab": {
          "base_uri": "https://localhost:8080/",
          "height": 666
        },
        "id": "TMPwt5Tmaut6",
        "outputId": "38ad2843-aa28-4aed-b654-f829bac17752"
      },
      "execution_count": 323,
      "outputs": [
        {
          "output_type": "execute_result",
          "data": {
            "text/html": [
              "<div>\n",
              "<style scoped>\n",
              "    .dataframe tbody tr th:only-of-type {\n",
              "        vertical-align: middle;\n",
              "    }\n",
              "\n",
              "    .dataframe tbody tr th {\n",
              "        vertical-align: top;\n",
              "    }\n",
              "\n",
              "    .dataframe thead th {\n",
              "        text-align: right;\n",
              "    }\n",
              "</style>\n",
              "<table border=\"1\" class=\"dataframe\">\n",
              "  <thead>\n",
              "    <tr style=\"text-align: right;\">\n",
              "      <th></th>\n",
              "      <th>show_id</th>\n",
              "      <th>type</th>\n",
              "      <th>title</th>\n",
              "      <th>director</th>\n",
              "      <th>cast</th>\n",
              "      <th>country</th>\n",
              "      <th>release_year</th>\n",
              "      <th>rating</th>\n",
              "      <th>duration</th>\n",
              "      <th>Genre</th>\n",
              "      <th>description</th>\n",
              "      <th>date_added_parsed</th>\n",
              "      <th>year_added</th>\n",
              "      <th>month_added</th>\n",
              "      <th>day_added</th>\n",
              "    </tr>\n",
              "  </thead>\n",
              "  <tbody>\n",
              "    <tr>\n",
              "      <th>6</th>\n",
              "      <td>s7</td>\n",
              "      <td>Movie</td>\n",
              "      <td>My Little Pony: A New Generation</td>\n",
              "      <td>Robert Cullen, José Luis Ucha</td>\n",
              "      <td>Vanessa Hudgens, Kimiko Glenn, James Marsden, ...</td>\n",
              "      <td>United States</td>\n",
              "      <td>2021</td>\n",
              "      <td>PG</td>\n",
              "      <td>91 min</td>\n",
              "      <td>Children &amp; Family Movies</td>\n",
              "      <td>Equestria's divided. But a bright-eyed hero be...</td>\n",
              "      <td>2021-09-24</td>\n",
              "      <td>2021</td>\n",
              "      <td>9</td>\n",
              "      <td>24</td>\n",
              "    </tr>\n",
              "    <tr>\n",
              "      <th>7</th>\n",
              "      <td>s8</td>\n",
              "      <td>Movie</td>\n",
              "      <td>Sankofa</td>\n",
              "      <td>Haile Gerima</td>\n",
              "      <td>Kofi Ghanaba, Oyafunmike Ogunlano, Alexandra D...</td>\n",
              "      <td>United States, Ghana, Burkina Faso, United Kin...</td>\n",
              "      <td>1993</td>\n",
              "      <td>TV-MA</td>\n",
              "      <td>125 min</td>\n",
              "      <td>Dramas</td>\n",
              "      <td>On a photo shoot in Ghana, an American model s...</td>\n",
              "      <td>2021-09-24</td>\n",
              "      <td>2021</td>\n",
              "      <td>9</td>\n",
              "      <td>24</td>\n",
              "    </tr>\n",
              "    <tr>\n",
              "      <th>9</th>\n",
              "      <td>s10</td>\n",
              "      <td>Movie</td>\n",
              "      <td>The Starling</td>\n",
              "      <td>Theodore Melfi</td>\n",
              "      <td>Melissa McCarthy, Chris O'Dowd, Kevin Kline, T...</td>\n",
              "      <td>United States</td>\n",
              "      <td>2021</td>\n",
              "      <td>PG-13</td>\n",
              "      <td>104 min</td>\n",
              "      <td>Comedies</td>\n",
              "      <td>A woman adjusting to life after a loss contend...</td>\n",
              "      <td>2021-09-24</td>\n",
              "      <td>2021</td>\n",
              "      <td>9</td>\n",
              "      <td>24</td>\n",
              "    </tr>\n",
              "    <tr>\n",
              "      <th>12</th>\n",
              "      <td>s13</td>\n",
              "      <td>Movie</td>\n",
              "      <td>Je Suis Karl</td>\n",
              "      <td>Christian Schwochow</td>\n",
              "      <td>Luna Wedler, Jannis Niewöhner, Milan Peschel, ...</td>\n",
              "      <td>Germany, Czech Republic</td>\n",
              "      <td>2021</td>\n",
              "      <td>TV-MA</td>\n",
              "      <td>127 min</td>\n",
              "      <td>Dramas</td>\n",
              "      <td>After most of her family is murdered in a terr...</td>\n",
              "      <td>2021-09-23</td>\n",
              "      <td>2021</td>\n",
              "      <td>9</td>\n",
              "      <td>23</td>\n",
              "    </tr>\n",
              "    <tr>\n",
              "      <th>13</th>\n",
              "      <td>s14</td>\n",
              "      <td>Movie</td>\n",
              "      <td>Confessions of an Invisible Girl</td>\n",
              "      <td>Bruno Garotti</td>\n",
              "      <td>Klara Castanho, Lucca Picon, Júlia Gomes, Marc...</td>\n",
              "      <td>United States</td>\n",
              "      <td>2021</td>\n",
              "      <td>TV-PG</td>\n",
              "      <td>91 min</td>\n",
              "      <td>Children &amp; Family Movies</td>\n",
              "      <td>When the clever but socially-awkward Tetê join...</td>\n",
              "      <td>2021-09-22</td>\n",
              "      <td>2021</td>\n",
              "      <td>9</td>\n",
              "      <td>22</td>\n",
              "    </tr>\n",
              "  </tbody>\n",
              "</table>\n",
              "</div>"
            ],
            "text/plain": [
              "   show_id   type                             title  \\\n",
              "6       s7  Movie  My Little Pony: A New Generation   \n",
              "7       s8  Movie                           Sankofa   \n",
              "9      s10  Movie                      The Starling   \n",
              "12     s13  Movie                      Je Suis Karl   \n",
              "13     s14  Movie  Confessions of an Invisible Girl   \n",
              "\n",
              "                         director  \\\n",
              "6   Robert Cullen, José Luis Ucha   \n",
              "7                    Haile Gerima   \n",
              "9                  Theodore Melfi   \n",
              "12            Christian Schwochow   \n",
              "13                  Bruno Garotti   \n",
              "\n",
              "                                                 cast  \\\n",
              "6   Vanessa Hudgens, Kimiko Glenn, James Marsden, ...   \n",
              "7   Kofi Ghanaba, Oyafunmike Ogunlano, Alexandra D...   \n",
              "9   Melissa McCarthy, Chris O'Dowd, Kevin Kline, T...   \n",
              "12  Luna Wedler, Jannis Niewöhner, Milan Peschel, ...   \n",
              "13  Klara Castanho, Lucca Picon, Júlia Gomes, Marc...   \n",
              "\n",
              "                                              country  release_year rating  \\\n",
              "6                                       United States          2021     PG   \n",
              "7   United States, Ghana, Burkina Faso, United Kin...          1993  TV-MA   \n",
              "9                                       United States          2021  PG-13   \n",
              "12                            Germany, Czech Republic          2021  TV-MA   \n",
              "13                                      United States          2021  TV-PG   \n",
              "\n",
              "   duration                     Genre  \\\n",
              "6    91 min  Children & Family Movies   \n",
              "7   125 min                    Dramas   \n",
              "9   104 min                  Comedies   \n",
              "12  127 min                    Dramas   \n",
              "13   91 min  Children & Family Movies   \n",
              "\n",
              "                                          description date_added_parsed  \\\n",
              "6   Equestria's divided. But a bright-eyed hero be...        2021-09-24   \n",
              "7   On a photo shoot in Ghana, an American model s...        2021-09-24   \n",
              "9   A woman adjusting to life after a loss contend...        2021-09-24   \n",
              "12  After most of her family is murdered in a terr...        2021-09-23   \n",
              "13  When the clever but socially-awkward Tetê join...        2021-09-22   \n",
              "\n",
              "    year_added  month_added  day_added  \n",
              "6         2021            9         24  \n",
              "7         2021            9         24  \n",
              "9         2021            9         24  \n",
              "12        2021            9         23  \n",
              "13        2021            9         22  "
            ]
          },
          "metadata": {},
          "execution_count": 323
        }
      ]
    },
    {
      "cell_type": "code",
      "source": [
        "\n",
        "fig = px.bar(df, x = 'type', barmode = 'group', color = 'type')\n",
        "fig.show()"
      ],
      "metadata": {
        "colab": {
          "base_uri": "https://localhost:8080/",
          "height": 542
        },
        "id": "wHoKBkdwdfAy",
        "outputId": "397f240a-393f-46c9-da62-d0e6c19bb7dd"
      },
      "execution_count": 324,
      "outputs": [
        {
          "output_type": "display_data",
          "data": {
            "text/html": [
              "<html>\n",
              "<head><meta charset=\"utf-8\" /></head>\n",
              "<body>\n",
              "    <div>            <script src=\"https://cdnjs.cloudflare.com/ajax/libs/mathjax/2.7.5/MathJax.js?config=TeX-AMS-MML_SVG\"></script><script type=\"text/javascript\">if (window.MathJax) {MathJax.Hub.Config({SVG: {font: \"STIX-Web\"}});}</script>                <script type=\"text/javascript\">window.PlotlyConfig = {MathJaxConfig: 'local'};</script>\n",
              "        <script src=\"https://cdn.plot.ly/plotly-2.4.2.min.js\"></script>                <div id=\"f2015c83-0e2e-4043-9f3d-e3e8f2fbc527\" class=\"plotly-graph-div\" style=\"height:525px; width:100%;\"></div>            <script type=\"text/javascript\">                                    window.PLOTLYENV=window.PLOTLYENV || {};                                    if (document.getElementById(\"f2015c83-0e2e-4043-9f3d-e3e8f2fbc527\")) {                    Plotly.newPlot(                        \"f2015c83-0e2e-4043-9f3d-e3e8f2fbc527\",                        [{\"alignmentgroup\":\"True\",\"hovertemplate\":\"type=%{x}<br>count=%{y}<extra></extra>\",\"legendgroup\":\"TV Show\",\"marker\":{\"color\":\"#636efa\",\"pattern\":{\"shape\":\"\"}},\"name\":\"TV Show\",\"offsetgroup\":\"TV Show\",\"orientation\":\"v\",\"showlegend\":true,\"textposition\":\"auto\",\"type\":\"bar\",\"x\":[\"TV Show\",\"TV Show\",\"TV Show\",\"TV Show\",\"TV Show\",\"TV Show\",\"TV Show\",\"TV Show\",\"TV Show\",\"TV Show\",\"TV Show\",\"TV Show\",\"TV Show\",\"TV Show\",\"TV Show\",\"TV Show\",\"TV Show\",\"TV Show\",\"TV Show\",\"TV Show\",\"TV Show\",\"TV Show\",\"TV Show\",\"TV Show\",\"TV Show\",\"TV Show\",\"TV Show\",\"TV Show\",\"TV Show\",\"TV Show\",\"TV Show\",\"TV Show\",\"TV Show\",\"TV Show\",\"TV Show\",\"TV Show\",\"TV Show\",\"TV Show\",\"TV Show\",\"TV Show\",\"TV Show\",\"TV Show\",\"TV Show\",\"TV Show\",\"TV Show\",\"TV Show\",\"TV Show\",\"TV Show\",\"TV Show\",\"TV Show\",\"TV Show\",\"TV Show\",\"TV Show\",\"TV Show\",\"TV Show\",\"TV Show\",\"TV Show\",\"TV Show\",\"TV Show\",\"TV Show\",\"TV Show\",\"TV Show\",\"TV Show\",\"TV Show\",\"TV Show\",\"TV Show\",\"TV Show\",\"TV Show\",\"TV Show\",\"TV Show\",\"TV Show\",\"TV Show\",\"TV Show\",\"TV Show\",\"TV Show\",\"TV Show\",\"TV Show\",\"TV Show\",\"TV Show\",\"TV Show\",\"TV Show\",\"TV Show\",\"TV Show\",\"TV Show\",\"TV Show\",\"TV Show\",\"TV Show\",\"TV Show\",\"TV Show\",\"TV Show\",\"TV Show\",\"TV Show\",\"TV Show\",\"TV Show\",\"TV Show\",\"TV Show\",\"TV Show\",\"TV Show\",\"TV Show\",\"TV Show\",\"TV Show\",\"TV Show\",\"TV Show\",\"TV Show\",\"TV Show\",\"TV Show\",\"TV Show\",\"TV Show\",\"TV Show\",\"TV Show\",\"TV Show\",\"TV Show\",\"TV Show\",\"TV Show\",\"TV Show\",\"TV Show\",\"TV Show\",\"TV Show\",\"TV Show\",\"TV Show\",\"TV Show\",\"TV Show\",\"TV Show\",\"TV Show\",\"TV Show\",\"TV Show\",\"TV Show\",\"TV Show\",\"TV Show\",\"TV Show\",\"TV Show\",\"TV Show\",\"TV Show\",\"TV Show\",\"TV Show\",\"TV Show\",\"TV Show\",\"TV Show\",\"TV Show\",\"TV Show\",\"TV Show\",\"TV Show\",\"TV Show\",\"TV Show\",\"TV Show\",\"TV Show\",\"TV Show\",\"TV Show\",\"TV Show\",\"TV Show\",\"TV Show\",\"TV Show\",\"TV Show\",\"TV Show\",\"TV Show\",\"TV Show\",\"TV Show\",\"TV Show\",\"TV Show\",\"TV Show\",\"TV Show\",\"TV Show\",\"TV Show\",\"TV Show\",\"TV Show\",\"TV Show\",\"TV Show\",\"TV Show\",\"TV Show\",\"TV Show\",\"TV Show\",\"TV Show\",\"TV Show\",\"TV Show\",\"TV Show\",\"TV Show\",\"TV Show\",\"TV Show\"],\"xaxis\":\"x\",\"y\":[1,1,1,1,1,1,1,1,1,1,1,1,1,1,1,1,1,1,1,1,1,1,1,1,1,1,1,1,1,1,1,1,1,1,1,1,1,1,1,1,1,1,1,1,1,1,1,1,1,1,1,1,1,1,1,1,1,1,1,1,1,1,1,1,1,1,1,1,1,1,1,1,1,1,1,1,1,1,1,1,1,1,1,1,1,1,1,1,1,1,1,1,1,1,1,1,1,1,1,1,1,1,1,1,1,1,1,1,1,1,1,1,1,1,1,1,1,1,1,1,1,1,1,1,1,1,1,1,1,1,1,1,1,1,1,1,1,1,1,1,1,1,1,1,1,1,1,1,1,1,1,1,1,1,1,1,1,1,1,1,1,1,1,1,1,1,1,1,1,1,1,1,1,1,1,1,1,1],\"yaxis\":\"y\"},{\"alignmentgroup\":\"True\",\"hovertemplate\":\"type=%{x}<br>count=%{y}<extra></extra>\",\"legendgroup\":\"Movie\",\"marker\":{\"color\":\"#EF553B\",\"pattern\":{\"shape\":\"\"}},\"name\":\"Movie\",\"offsetgroup\":\"Movie\",\"orientation\":\"v\",\"showlegend\":true,\"textposition\":\"auto\",\"type\":\"bar\",\"x\":[\"Movie\",\"Movie\",\"Movie\",\"Movie\",\"Movie\",\"Movie\",\"Movie\",\"Movie\",\"Movie\",\"Movie\",\"Movie\",\"Movie\",\"Movie\",\"Movie\",\"Movie\",\"Movie\",\"Movie\",\"Movie\",\"Movie\",\"Movie\",\"Movie\",\"Movie\",\"Movie\",\"Movie\",\"Movie\",\"Movie\",\"Movie\",\"Movie\",\"Movie\",\"Movie\",\"Movie\",\"Movie\",\"Movie\",\"Movie\",\"Movie\",\"Movie\",\"Movie\",\"Movie\",\"Movie\",\"Movie\",\"Movie\",\"Movie\",\"Movie\",\"Movie\",\"Movie\",\"Movie\",\"Movie\",\"Movie\",\"Movie\",\"Movie\",\"Movie\",\"Movie\",\"Movie\",\"Movie\",\"Movie\",\"Movie\",\"Movie\",\"Movie\",\"Movie\",\"Movie\",\"Movie\",\"Movie\",\"Movie\",\"Movie\",\"Movie\",\"Movie\",\"Movie\",\"Movie\",\"Movie\",\"Movie\",\"Movie\",\"Movie\",\"Movie\",\"Movie\",\"Movie\",\"Movie\",\"Movie\",\"Movie\",\"Movie\",\"Movie\",\"Movie\",\"Movie\",\"Movie\",\"Movie\",\"Movie\",\"Movie\",\"Movie\",\"Movie\",\"Movie\",\"Movie\",\"Movie\",\"Movie\",\"Movie\",\"Movie\",\"Movie\",\"Movie\",\"Movie\",\"Movie\",\"Movie\",\"Movie\",\"Movie\",\"Movie\",\"Movie\",\"Movie\",\"Movie\",\"Movie\",\"Movie\",\"Movie\",\"Movie\",\"Movie\",\"Movie\",\"Movie\",\"Movie\",\"Movie\",\"Movie\",\"Movie\",\"Movie\",\"Movie\",\"Movie\",\"Movie\",\"Movie\",\"Movie\",\"Movie\",\"Movie\",\"Movie\",\"Movie\",\"Movie\",\"Movie\",\"Movie\",\"Movie\",\"Movie\",\"Movie\",\"Movie\",\"Movie\",\"Movie\",\"Movie\",\"Movie\",\"Movie\",\"Movie\",\"Movie\",\"Movie\",\"Movie\",\"Movie\",\"Movie\",\"Movie\",\"Movie\",\"Movie\",\"Movie\",\"Movie\",\"Movie\",\"Movie\",\"Movie\",\"Movie\",\"Movie\",\"Movie\",\"Movie\",\"Movie\",\"Movie\",\"Movie\",\"Movie\",\"Movie\",\"Movie\",\"Movie\",\"Movie\",\"Movie\",\"Movie\",\"Movie\",\"Movie\",\"Movie\",\"Movie\",\"Movie\",\"Movie\",\"Movie\",\"Movie\",\"Movie\",\"Movie\",\"Movie\",\"Movie\",\"Movie\",\"Movie\",\"Movie\",\"Movie\",\"Movie\",\"Movie\",\"Movie\",\"Movie\",\"Movie\",\"Movie\",\"Movie\",\"Movie\",\"Movie\",\"Movie\",\"Movie\",\"Movie\",\"Movie\",\"Movie\",\"Movie\",\"Movie\",\"Movie\",\"Movie\",\"Movie\",\"Movie\",\"Movie\",\"Movie\",\"Movie\",\"Movie\",\"Movie\",\"Movie\",\"Movie\",\"Movie\",\"Movie\",\"Movie\",\"Movie\",\"Movie\",\"Movie\",\"Movie\",\"Movie\",\"Movie\",\"Movie\",\"Movie\",\"Movie\",\"Movie\",\"Movie\",\"Movie\",\"Movie\",\"Movie\",\"Movie\",\"Movie\",\"Movie\",\"Movie\",\"Movie\",\"Movie\",\"Movie\",\"Movie\",\"Movie\",\"Movie\",\"Movie\",\"Movie\",\"Movie\",\"Movie\",\"Movie\",\"Movie\",\"Movie\",\"Movie\",\"Movie\",\"Movie\",\"Movie\",\"Movie\",\"Movie\",\"Movie\",\"Movie\",\"Movie\",\"Movie\",\"Movie\",\"Movie\",\"Movie\",\"Movie\",\"Movie\",\"Movie\",\"Movie\",\"Movie\",\"Movie\",\"Movie\",\"Movie\",\"Movie\",\"Movie\",\"Movie\",\"Movie\",\"Movie\",\"Movie\",\"Movie\",\"Movie\",\"Movie\",\"Movie\",\"Movie\",\"Movie\",\"Movie\",\"Movie\",\"Movie\",\"Movie\",\"Movie\",\"Movie\",\"Movie\",\"Movie\",\"Movie\",\"Movie\",\"Movie\",\"Movie\",\"Movie\",\"Movie\",\"Movie\",\"Movie\",\"Movie\",\"Movie\",\"Movie\",\"Movie\",\"Movie\",\"Movie\",\"Movie\",\"Movie\",\"Movie\",\"Movie\",\"Movie\",\"Movie\",\"Movie\",\"Movie\",\"Movie\",\"Movie\",\"Movie\",\"Movie\",\"Movie\",\"Movie\",\"Movie\",\"Movie\",\"Movie\",\"Movie\",\"Movie\",\"Movie\",\"Movie\",\"Movie\",\"Movie\",\"Movie\",\"Movie\",\"Movie\",\"Movie\",\"Movie\",\"Movie\",\"Movie\",\"Movie\",\"Movie\",\"Movie\",\"Movie\",\"Movie\",\"Movie\",\"Movie\",\"Movie\",\"Movie\",\"Movie\",\"Movie\",\"Movie\",\"Movie\",\"Movie\",\"Movie\",\"Movie\",\"Movie\",\"Movie\",\"Movie\",\"Movie\",\"Movie\",\"Movie\",\"Movie\",\"Movie\",\"Movie\",\"Movie\",\"Movie\",\"Movie\",\"Movie\",\"Movie\",\"Movie\",\"Movie\",\"Movie\",\"Movie\",\"Movie\",\"Movie\",\"Movie\",\"Movie\",\"Movie\",\"Movie\",\"Movie\",\"Movie\",\"Movie\",\"Movie\",\"Movie\",\"Movie\",\"Movie\",\"Movie\",\"Movie\",\"Movie\",\"Movie\",\"Movie\",\"Movie\",\"Movie\",\"Movie\",\"Movie\",\"Movie\",\"Movie\",\"Movie\",\"Movie\",\"Movie\",\"Movie\",\"Movie\",\"Movie\",\"Movie\",\"Movie\",\"Movie\",\"Movie\",\"Movie\",\"Movie\",\"Movie\",\"Movie\",\"Movie\",\"Movie\",\"Movie\",\"Movie\",\"Movie\",\"Movie\",\"Movie\",\"Movie\",\"Movie\",\"Movie\",\"Movie\",\"Movie\",\"Movie\",\"Movie\",\"Movie\",\"Movie\",\"Movie\",\"Movie\",\"Movie\",\"Movie\",\"Movie\",\"Movie\",\"Movie\",\"Movie\",\"Movie\",\"Movie\",\"Movie\",\"Movie\",\"Movie\",\"Movie\",\"Movie\",\"Movie\",\"Movie\",\"Movie\",\"Movie\",\"Movie\",\"Movie\",\"Movie\",\"Movie\",\"Movie\",\"Movie\",\"Movie\",\"Movie\",\"Movie\",\"Movie\",\"Movie\",\"Movie\",\"Movie\",\"Movie\",\"Movie\",\"Movie\",\"Movie\",\"Movie\",\"Movie\",\"Movie\",\"Movie\",\"Movie\",\"Movie\",\"Movie\",\"Movie\",\"Movie\",\"Movie\",\"Movie\",\"Movie\",\"Movie\",\"Movie\",\"Movie\",\"Movie\",\"Movie\",\"Movie\",\"Movie\",\"Movie\",\"Movie\",\"Movie\",\"Movie\",\"Movie\",\"Movie\",\"Movie\",\"Movie\",\"Movie\",\"Movie\",\"Movie\",\"Movie\",\"Movie\",\"Movie\",\"Movie\",\"Movie\",\"Movie\",\"Movie\",\"Movie\",\"Movie\",\"Movie\",\"Movie\",\"Movie\",\"Movie\",\"Movie\",\"Movie\",\"Movie\",\"Movie\",\"Movie\",\"Movie\",\"Movie\",\"Movie\",\"Movie\",\"Movie\",\"Movie\",\"Movie\",\"Movie\",\"Movie\",\"Movie\",\"Movie\",\"Movie\",\"Movie\",\"Movie\",\"Movie\",\"Movie\",\"Movie\",\"Movie\",\"Movie\",\"Movie\",\"Movie\",\"Movie\",\"Movie\",\"Movie\",\"Movie\",\"Movie\",\"Movie\",\"Movie\",\"Movie\",\"Movie\",\"Movie\",\"Movie\",\"Movie\",\"Movie\",\"Movie\",\"Movie\",\"Movie\",\"Movie\",\"Movie\",\"Movie\",\"Movie\",\"Movie\",\"Movie\",\"Movie\",\"Movie\",\"Movie\",\"Movie\",\"Movie\",\"Movie\",\"Movie\",\"Movie\",\"Movie\",\"Movie\",\"Movie\",\"Movie\",\"Movie\",\"Movie\",\"Movie\",\"Movie\",\"Movie\",\"Movie\",\"Movie\",\"Movie\",\"Movie\",\"Movie\",\"Movie\",\"Movie\",\"Movie\",\"Movie\",\"Movie\",\"Movie\",\"Movie\",\"Movie\",\"Movie\",\"Movie\",\"Movie\",\"Movie\",\"Movie\",\"Movie\",\"Movie\",\"Movie\",\"Movie\",\"Movie\",\"Movie\",\"Movie\",\"Movie\",\"Movie\",\"Movie\",\"Movie\",\"Movie\",\"Movie\",\"Movie\",\"Movie\",\"Movie\",\"Movie\",\"Movie\",\"Movie\",\"Movie\",\"Movie\",\"Movie\",\"Movie\",\"Movie\",\"Movie\",\"Movie\",\"Movie\",\"Movie\",\"Movie\",\"Movie\",\"Movie\",\"Movie\",\"Movie\",\"Movie\",\"Movie\",\"Movie\",\"Movie\",\"Movie\",\"Movie\",\"Movie\",\"Movie\",\"Movie\",\"Movie\",\"Movie\",\"Movie\",\"Movie\",\"Movie\",\"Movie\",\"Movie\",\"Movie\",\"Movie\",\"Movie\",\"Movie\",\"Movie\",\"Movie\",\"Movie\",\"Movie\",\"Movie\",\"Movie\",\"Movie\",\"Movie\",\"Movie\",\"Movie\",\"Movie\",\"Movie\",\"Movie\",\"Movie\",\"Movie\",\"Movie\",\"Movie\",\"Movie\",\"Movie\",\"Movie\",\"Movie\",\"Movie\",\"Movie\",\"Movie\",\"Movie\",\"Movie\",\"Movie\",\"Movie\",\"Movie\",\"Movie\",\"Movie\",\"Movie\",\"Movie\",\"Movie\",\"Movie\",\"Movie\",\"Movie\",\"Movie\",\"Movie\",\"Movie\",\"Movie\",\"Movie\",\"Movie\",\"Movie\",\"Movie\",\"Movie\",\"Movie\",\"Movie\",\"Movie\",\"Movie\",\"Movie\",\"Movie\",\"Movie\",\"Movie\",\"Movie\",\"Movie\",\"Movie\",\"Movie\",\"Movie\",\"Movie\",\"Movie\",\"Movie\",\"Movie\",\"Movie\",\"Movie\",\"Movie\",\"Movie\",\"Movie\",\"Movie\",\"Movie\",\"Movie\",\"Movie\",\"Movie\",\"Movie\",\"Movie\",\"Movie\",\"Movie\",\"Movie\",\"Movie\",\"Movie\",\"Movie\",\"Movie\",\"Movie\",\"Movie\",\"Movie\",\"Movie\",\"Movie\",\"Movie\",\"Movie\",\"Movie\",\"Movie\",\"Movie\",\"Movie\",\"Movie\",\"Movie\",\"Movie\",\"Movie\",\"Movie\",\"Movie\",\"Movie\",\"Movie\",\"Movie\",\"Movie\",\"Movie\",\"Movie\",\"Movie\",\"Movie\",\"Movie\",\"Movie\",\"Movie\",\"Movie\",\"Movie\",\"Movie\",\"Movie\",\"Movie\",\"Movie\",\"Movie\",\"Movie\",\"Movie\",\"Movie\",\"Movie\",\"Movie\",\"Movie\",\"Movie\",\"Movie\",\"Movie\",\"Movie\",\"Movie\",\"Movie\",\"Movie\",\"Movie\",\"Movie\",\"Movie\",\"Movie\",\"Movie\",\"Movie\",\"Movie\",\"Movie\",\"Movie\",\"Movie\",\"Movie\",\"Movie\",\"Movie\",\"Movie\",\"Movie\",\"Movie\",\"Movie\",\"Movie\",\"Movie\",\"Movie\",\"Movie\",\"Movie\",\"Movie\",\"Movie\",\"Movie\",\"Movie\",\"Movie\",\"Movie\",\"Movie\",\"Movie\",\"Movie\",\"Movie\",\"Movie\",\"Movie\",\"Movie\",\"Movie\",\"Movie\",\"Movie\",\"Movie\",\"Movie\",\"Movie\",\"Movie\",\"Movie\",\"Movie\",\"Movie\",\"Movie\",\"Movie\",\"Movie\",\"Movie\",\"Movie\",\"Movie\",\"Movie\",\"Movie\",\"Movie\",\"Movie\",\"Movie\",\"Movie\",\"Movie\",\"Movie\",\"Movie\",\"Movie\",\"Movie\",\"Movie\",\"Movie\",\"Movie\",\"Movie\",\"Movie\",\"Movie\",\"Movie\",\"Movie\",\"Movie\",\"Movie\",\"Movie\",\"Movie\",\"Movie\",\"Movie\",\"Movie\",\"Movie\",\"Movie\",\"Movie\",\"Movie\",\"Movie\",\"Movie\",\"Movie\",\"Movie\",\"Movie\",\"Movie\",\"Movie\",\"Movie\",\"Movie\",\"Movie\",\"Movie\",\"Movie\",\"Movie\",\"Movie\",\"Movie\",\"Movie\",\"Movie\",\"Movie\",\"Movie\",\"Movie\",\"Movie\",\"Movie\",\"Movie\",\"Movie\",\"Movie\",\"Movie\",\"Movie\",\"Movie\",\"Movie\",\"Movie\",\"Movie\",\"Movie\",\"Movie\",\"Movie\",\"Movie\",\"Movie\",\"Movie\",\"Movie\",\"Movie\",\"Movie\",\"Movie\",\"Movie\",\"Movie\",\"Movie\",\"Movie\",\"Movie\",\"Movie\",\"Movie\",\"Movie\",\"Movie\",\"Movie\",\"Movie\",\"Movie\",\"Movie\",\"Movie\",\"Movie\",\"Movie\",\"Movie\",\"Movie\",\"Movie\",\"Movie\",\"Movie\",\"Movie\",\"Movie\",\"Movie\",\"Movie\",\"Movie\",\"Movie\",\"Movie\",\"Movie\",\"Movie\",\"Movie\",\"Movie\",\"Movie\",\"Movie\",\"Movie\",\"Movie\",\"Movie\",\"Movie\",\"Movie\",\"Movie\",\"Movie\",\"Movie\",\"Movie\",\"Movie\",\"Movie\",\"Movie\",\"Movie\",\"Movie\",\"Movie\",\"Movie\",\"Movie\",\"Movie\",\"Movie\",\"Movie\",\"Movie\",\"Movie\",\"Movie\",\"Movie\",\"Movie\",\"Movie\",\"Movie\",\"Movie\",\"Movie\",\"Movie\",\"Movie\",\"Movie\",\"Movie\",\"Movie\",\"Movie\",\"Movie\",\"Movie\",\"Movie\",\"Movie\",\"Movie\",\"Movie\",\"Movie\",\"Movie\",\"Movie\",\"Movie\",\"Movie\",\"Movie\",\"Movie\",\"Movie\",\"Movie\",\"Movie\",\"Movie\",\"Movie\",\"Movie\",\"Movie\",\"Movie\",\"Movie\",\"Movie\",\"Movie\",\"Movie\",\"Movie\",\"Movie\",\"Movie\",\"Movie\",\"Movie\",\"Movie\",\"Movie\",\"Movie\",\"Movie\",\"Movie\",\"Movie\",\"Movie\",\"Movie\",\"Movie\",\"Movie\",\"Movie\",\"Movie\",\"Movie\",\"Movie\",\"Movie\",\"Movie\",\"Movie\",\"Movie\",\"Movie\",\"Movie\",\"Movie\",\"Movie\",\"Movie\",\"Movie\",\"Movie\",\"Movie\",\"Movie\",\"Movie\",\"Movie\",\"Movie\",\"Movie\",\"Movie\",\"Movie\",\"Movie\",\"Movie\",\"Movie\",\"Movie\",\"Movie\",\"Movie\",\"Movie\",\"Movie\",\"Movie\",\"Movie\",\"Movie\",\"Movie\",\"Movie\",\"Movie\",\"Movie\",\"Movie\",\"Movie\",\"Movie\",\"Movie\",\"Movie\",\"Movie\",\"Movie\",\"Movie\",\"Movie\",\"Movie\",\"Movie\",\"Movie\",\"Movie\",\"Movie\",\"Movie\",\"Movie\",\"Movie\",\"Movie\",\"Movie\",\"Movie\",\"Movie\",\"Movie\",\"Movie\",\"Movie\",\"Movie\",\"Movie\",\"Movie\",\"Movie\",\"Movie\",\"Movie\",\"Movie\",\"Movie\",\"Movie\",\"Movie\",\"Movie\",\"Movie\",\"Movie\",\"Movie\",\"Movie\",\"Movie\",\"Movie\",\"Movie\",\"Movie\",\"Movie\",\"Movie\",\"Movie\",\"Movie\",\"Movie\",\"Movie\",\"Movie\",\"Movie\",\"Movie\",\"Movie\",\"Movie\",\"Movie\",\"Movie\",\"Movie\",\"Movie\",\"Movie\",\"Movie\",\"Movie\",\"Movie\",\"Movie\",\"Movie\",\"Movie\",\"Movie\",\"Movie\",\"Movie\",\"Movie\",\"Movie\",\"Movie\",\"Movie\",\"Movie\",\"Movie\",\"Movie\",\"Movie\",\"Movie\",\"Movie\",\"Movie\",\"Movie\",\"Movie\",\"Movie\",\"Movie\",\"Movie\",\"Movie\",\"Movie\",\"Movie\",\"Movie\",\"Movie\",\"Movie\",\"Movie\",\"Movie\",\"Movie\",\"Movie\",\"Movie\",\"Movie\",\"Movie\",\"Movie\",\"Movie\",\"Movie\",\"Movie\",\"Movie\",\"Movie\",\"Movie\",\"Movie\",\"Movie\",\"Movie\",\"Movie\",\"Movie\",\"Movie\",\"Movie\",\"Movie\",\"Movie\",\"Movie\",\"Movie\",\"Movie\",\"Movie\",\"Movie\",\"Movie\",\"Movie\",\"Movie\",\"Movie\",\"Movie\",\"Movie\",\"Movie\",\"Movie\",\"Movie\",\"Movie\",\"Movie\",\"Movie\",\"Movie\",\"Movie\",\"Movie\",\"Movie\",\"Movie\",\"Movie\",\"Movie\",\"Movie\",\"Movie\",\"Movie\",\"Movie\",\"Movie\",\"Movie\",\"Movie\",\"Movie\",\"Movie\",\"Movie\",\"Movie\",\"Movie\",\"Movie\",\"Movie\",\"Movie\",\"Movie\",\"Movie\",\"Movie\",\"Movie\",\"Movie\",\"Movie\",\"Movie\",\"Movie\",\"Movie\",\"Movie\",\"Movie\",\"Movie\",\"Movie\",\"Movie\",\"Movie\",\"Movie\",\"Movie\",\"Movie\",\"Movie\",\"Movie\",\"Movie\",\"Movie\",\"Movie\",\"Movie\",\"Movie\",\"Movie\",\"Movie\",\"Movie\",\"Movie\",\"Movie\",\"Movie\",\"Movie\",\"Movie\",\"Movie\",\"Movie\",\"Movie\",\"Movie\",\"Movie\",\"Movie\",\"Movie\",\"Movie\",\"Movie\",\"Movie\",\"Movie\",\"Movie\",\"Movie\",\"Movie\",\"Movie\",\"Movie\",\"Movie\",\"Movie\",\"Movie\",\"Movie\",\"Movie\",\"Movie\",\"Movie\",\"Movie\",\"Movie\",\"Movie\",\"Movie\",\"Movie\",\"Movie\",\"Movie\",\"Movie\",\"Movie\",\"Movie\",\"Movie\",\"Movie\",\"Movie\",\"Movie\",\"Movie\",\"Movie\",\"Movie\",\"Movie\",\"Movie\",\"Movie\",\"Movie\",\"Movie\",\"Movie\",\"Movie\",\"Movie\",\"Movie\",\"Movie\",\"Movie\",\"Movie\",\"Movie\",\"Movie\",\"Movie\",\"Movie\",\"Movie\",\"Movie\",\"Movie\",\"Movie\",\"Movie\",\"Movie\",\"Movie\",\"Movie\",\"Movie\",\"Movie\",\"Movie\",\"Movie\",\"Movie\",\"Movie\",\"Movie\",\"Movie\",\"Movie\",\"Movie\",\"Movie\",\"Movie\",\"Movie\",\"Movie\",\"Movie\",\"Movie\",\"Movie\",\"Movie\",\"Movie\",\"Movie\",\"Movie\",\"Movie\",\"Movie\",\"Movie\",\"Movie\",\"Movie\",\"Movie\",\"Movie\",\"Movie\",\"Movie\",\"Movie\",\"Movie\",\"Movie\",\"Movie\",\"Movie\",\"Movie\",\"Movie\",\"Movie\",\"Movie\",\"Movie\",\"Movie\",\"Movie\",\"Movie\",\"Movie\",\"Movie\",\"Movie\",\"Movie\",\"Movie\",\"Movie\",\"Movie\",\"Movie\",\"Movie\",\"Movie\",\"Movie\",\"Movie\",\"Movie\",\"Movie\",\"Movie\",\"Movie\",\"Movie\",\"Movie\",\"Movie\",\"Movie\",\"Movie\",\"Movie\",\"Movie\",\"Movie\",\"Movie\",\"Movie\",\"Movie\",\"Movie\",\"Movie\",\"Movie\",\"Movie\",\"Movie\",\"Movie\",\"Movie\",\"Movie\",\"Movie\",\"Movie\",\"Movie\",\"Movie\",\"Movie\",\"Movie\",\"Movie\",\"Movie\",\"Movie\",\"Movie\",\"Movie\",\"Movie\",\"Movie\",\"Movie\",\"Movie\",\"Movie\",\"Movie\",\"Movie\",\"Movie\",\"Movie\",\"Movie\",\"Movie\",\"Movie\",\"Movie\",\"Movie\",\"Movie\",\"Movie\",\"Movie\",\"Movie\",\"Movie\",\"Movie\",\"Movie\",\"Movie\",\"Movie\",\"Movie\",\"Movie\",\"Movie\",\"Movie\",\"Movie\",\"Movie\",\"Movie\",\"Movie\",\"Movie\",\"Movie\",\"Movie\",\"Movie\",\"Movie\",\"Movie\",\"Movie\",\"Movie\",\"Movie\",\"Movie\",\"Movie\",\"Movie\",\"Movie\",\"Movie\",\"Movie\",\"Movie\",\"Movie\",\"Movie\",\"Movie\",\"Movie\",\"Movie\",\"Movie\",\"Movie\",\"Movie\",\"Movie\",\"Movie\",\"Movie\",\"Movie\",\"Movie\",\"Movie\",\"Movie\",\"Movie\",\"Movie\",\"Movie\",\"Movie\",\"Movie\",\"Movie\",\"Movie\",\"Movie\",\"Movie\",\"Movie\",\"Movie\",\"Movie\",\"Movie\",\"Movie\",\"Movie\",\"Movie\",\"Movie\",\"Movie\",\"Movie\",\"Movie\",\"Movie\",\"Movie\",\"Movie\",\"Movie\",\"Movie\",\"Movie\",\"Movie\",\"Movie\",\"Movie\",\"Movie\",\"Movie\",\"Movie\",\"Movie\",\"Movie\",\"Movie\",\"Movie\",\"Movie\",\"Movie\",\"Movie\",\"Movie\",\"Movie\",\"Movie\",\"Movie\",\"Movie\",\"Movie\",\"Movie\",\"Movie\",\"Movie\",\"Movie\",\"Movie\",\"Movie\",\"Movie\",\"Movie\",\"Movie\",\"Movie\",\"Movie\",\"Movie\",\"Movie\",\"Movie\",\"Movie\",\"Movie\",\"Movie\",\"Movie\",\"Movie\",\"Movie\",\"Movie\",\"Movie\",\"Movie\",\"Movie\",\"Movie\",\"Movie\",\"Movie\",\"Movie\",\"Movie\",\"Movie\",\"Movie\",\"Movie\",\"Movie\",\"Movie\",\"Movie\",\"Movie\",\"Movie\",\"Movie\",\"Movie\",\"Movie\",\"Movie\",\"Movie\",\"Movie\",\"Movie\",\"Movie\",\"Movie\",\"Movie\",\"Movie\",\"Movie\",\"Movie\",\"Movie\",\"Movie\",\"Movie\",\"Movie\",\"Movie\",\"Movie\",\"Movie\",\"Movie\",\"Movie\",\"Movie\",\"Movie\",\"Movie\",\"Movie\",\"Movie\",\"Movie\",\"Movie\",\"Movie\",\"Movie\",\"Movie\",\"Movie\",\"Movie\",\"Movie\",\"Movie\",\"Movie\",\"Movie\",\"Movie\",\"Movie\",\"Movie\",\"Movie\",\"Movie\",\"Movie\",\"Movie\",\"Movie\",\"Movie\",\"Movie\",\"Movie\",\"Movie\",\"Movie\",\"Movie\",\"Movie\",\"Movie\",\"Movie\",\"Movie\",\"Movie\",\"Movie\",\"Movie\",\"Movie\",\"Movie\",\"Movie\",\"Movie\",\"Movie\",\"Movie\",\"Movie\",\"Movie\",\"Movie\",\"Movie\",\"Movie\",\"Movie\",\"Movie\",\"Movie\",\"Movie\",\"Movie\",\"Movie\",\"Movie\",\"Movie\",\"Movie\",\"Movie\",\"Movie\",\"Movie\",\"Movie\",\"Movie\",\"Movie\",\"Movie\",\"Movie\",\"Movie\",\"Movie\",\"Movie\",\"Movie\",\"Movie\",\"Movie\",\"Movie\",\"Movie\",\"Movie\",\"Movie\",\"Movie\",\"Movie\",\"Movie\",\"Movie\",\"Movie\",\"Movie\",\"Movie\",\"Movie\",\"Movie\",\"Movie\",\"Movie\",\"Movie\",\"Movie\",\"Movie\",\"Movie\",\"Movie\",\"Movie\",\"Movie\",\"Movie\",\"Movie\",\"Movie\",\"Movie\",\"Movie\",\"Movie\",\"Movie\",\"Movie\",\"Movie\",\"Movie\",\"Movie\",\"Movie\",\"Movie\",\"Movie\",\"Movie\",\"Movie\",\"Movie\",\"Movie\",\"Movie\",\"Movie\",\"Movie\",\"Movie\",\"Movie\",\"Movie\",\"Movie\",\"Movie\",\"Movie\",\"Movie\",\"Movie\",\"Movie\",\"Movie\",\"Movie\",\"Movie\",\"Movie\",\"Movie\",\"Movie\",\"Movie\",\"Movie\",\"Movie\",\"Movie\",\"Movie\",\"Movie\",\"Movie\",\"Movie\",\"Movie\",\"Movie\",\"Movie\",\"Movie\",\"Movie\",\"Movie\",\"Movie\",\"Movie\",\"Movie\",\"Movie\",\"Movie\",\"Movie\",\"Movie\",\"Movie\",\"Movie\",\"Movie\",\"Movie\",\"Movie\",\"Movie\",\"Movie\",\"Movie\",\"Movie\",\"Movie\",\"Movie\",\"Movie\",\"Movie\",\"Movie\",\"Movie\",\"Movie\",\"Movie\",\"Movie\",\"Movie\",\"Movie\",\"Movie\",\"Movie\",\"Movie\",\"Movie\",\"Movie\",\"Movie\",\"Movie\",\"Movie\",\"Movie\",\"Movie\",\"Movie\",\"Movie\",\"Movie\",\"Movie\",\"Movie\",\"Movie\",\"Movie\",\"Movie\",\"Movie\",\"Movie\",\"Movie\",\"Movie\",\"Movie\",\"Movie\",\"Movie\",\"Movie\",\"Movie\",\"Movie\",\"Movie\",\"Movie\",\"Movie\",\"Movie\",\"Movie\",\"Movie\",\"Movie\",\"Movie\",\"Movie\",\"Movie\",\"Movie\",\"Movie\",\"Movie\",\"Movie\",\"Movie\",\"Movie\",\"Movie\",\"Movie\",\"Movie\",\"Movie\",\"Movie\",\"Movie\",\"Movie\",\"Movie\",\"Movie\",\"Movie\",\"Movie\",\"Movie\",\"Movie\",\"Movie\",\"Movie\",\"Movie\",\"Movie\",\"Movie\",\"Movie\",\"Movie\",\"Movie\",\"Movie\",\"Movie\",\"Movie\",\"Movie\",\"Movie\",\"Movie\",\"Movie\",\"Movie\",\"Movie\",\"Movie\",\"Movie\",\"Movie\",\"Movie\",\"Movie\",\"Movie\",\"Movie\",\"Movie\",\"Movie\",\"Movie\",\"Movie\",\"Movie\",\"Movie\",\"Movie\",\"Movie\",\"Movie\",\"Movie\",\"Movie\",\"Movie\",\"Movie\",\"Movie\",\"Movie\",\"Movie\",\"Movie\",\"Movie\",\"Movie\",\"Movie\",\"Movie\",\"Movie\",\"Movie\",\"Movie\",\"Movie\",\"Movie\",\"Movie\",\"Movie\",\"Movie\",\"Movie\",\"Movie\",\"Movie\",\"Movie\",\"Movie\",\"Movie\",\"Movie\",\"Movie\",\"Movie\",\"Movie\",\"Movie\",\"Movie\",\"Movie\",\"Movie\",\"Movie\",\"Movie\",\"Movie\",\"Movie\",\"Movie\",\"Movie\",\"Movie\",\"Movie\",\"Movie\",\"Movie\",\"Movie\",\"Movie\",\"Movie\",\"Movie\",\"Movie\",\"Movie\",\"Movie\",\"Movie\",\"Movie\",\"Movie\",\"Movie\",\"Movie\",\"Movie\",\"Movie\",\"Movie\",\"Movie\",\"Movie\",\"Movie\",\"Movie\",\"Movie\",\"Movie\",\"Movie\",\"Movie\",\"Movie\",\"Movie\",\"Movie\",\"Movie\",\"Movie\",\"Movie\",\"Movie\",\"Movie\",\"Movie\",\"Movie\",\"Movie\",\"Movie\",\"Movie\",\"Movie\",\"Movie\",\"Movie\",\"Movie\",\"Movie\",\"Movie\",\"Movie\",\"Movie\",\"Movie\",\"Movie\",\"Movie\",\"Movie\",\"Movie\",\"Movie\",\"Movie\",\"Movie\",\"Movie\",\"Movie\",\"Movie\",\"Movie\",\"Movie\",\"Movie\",\"Movie\",\"Movie\",\"Movie\",\"Movie\",\"Movie\",\"Movie\",\"Movie\",\"Movie\",\"Movie\",\"Movie\",\"Movie\",\"Movie\",\"Movie\",\"Movie\",\"Movie\",\"Movie\",\"Movie\",\"Movie\",\"Movie\",\"Movie\",\"Movie\",\"Movie\",\"Movie\",\"Movie\",\"Movie\",\"Movie\",\"Movie\",\"Movie\",\"Movie\",\"Movie\",\"Movie\",\"Movie\",\"Movie\",\"Movie\",\"Movie\",\"Movie\",\"Movie\",\"Movie\",\"Movie\",\"Movie\",\"Movie\",\"Movie\",\"Movie\",\"Movie\",\"Movie\",\"Movie\",\"Movie\",\"Movie\",\"Movie\",\"Movie\",\"Movie\",\"Movie\",\"Movie\",\"Movie\",\"Movie\",\"Movie\",\"Movie\",\"Movie\",\"Movie\",\"Movie\",\"Movie\",\"Movie\",\"Movie\",\"Movie\",\"Movie\",\"Movie\",\"Movie\",\"Movie\",\"Movie\",\"Movie\",\"Movie\",\"Movie\",\"Movie\",\"Movie\",\"Movie\",\"Movie\",\"Movie\",\"Movie\",\"Movie\",\"Movie\",\"Movie\",\"Movie\",\"Movie\",\"Movie\",\"Movie\",\"Movie\",\"Movie\",\"Movie\",\"Movie\",\"Movie\",\"Movie\",\"Movie\",\"Movie\",\"Movie\",\"Movie\",\"Movie\",\"Movie\",\"Movie\",\"Movie\",\"Movie\",\"Movie\",\"Movie\",\"Movie\",\"Movie\",\"Movie\",\"Movie\",\"Movie\",\"Movie\",\"Movie\",\"Movie\",\"Movie\",\"Movie\",\"Movie\",\"Movie\",\"Movie\",\"Movie\",\"Movie\",\"Movie\",\"Movie\",\"Movie\",\"Movie\",\"Movie\",\"Movie\",\"Movie\",\"Movie\",\"Movie\",\"Movie\",\"Movie\",\"Movie\",\"Movie\",\"Movie\",\"Movie\",\"Movie\",\"Movie\",\"Movie\",\"Movie\",\"Movie\",\"Movie\",\"Movie\",\"Movie\",\"Movie\",\"Movie\",\"Movie\",\"Movie\",\"Movie\",\"Movie\",\"Movie\",\"Movie\",\"Movie\",\"Movie\",\"Movie\",\"Movie\",\"Movie\",\"Movie\",\"Movie\",\"Movie\",\"Movie\",\"Movie\",\"Movie\",\"Movie\",\"Movie\",\"Movie\",\"Movie\",\"Movie\",\"Movie\",\"Movie\",\"Movie\",\"Movie\",\"Movie\",\"Movie\",\"Movie\",\"Movie\",\"Movie\",\"Movie\",\"Movie\",\"Movie\",\"Movie\",\"Movie\",\"Movie\",\"Movie\",\"Movie\",\"Movie\",\"Movie\",\"Movie\",\"Movie\",\"Movie\",\"Movie\",\"Movie\",\"Movie\",\"Movie\",\"Movie\",\"Movie\",\"Movie\",\"Movie\",\"Movie\",\"Movie\",\"Movie\",\"Movie\",\"Movie\",\"Movie\",\"Movie\",\"Movie\",\"Movie\",\"Movie\",\"Movie\",\"Movie\",\"Movie\",\"Movie\",\"Movie\",\"Movie\",\"Movie\",\"Movie\",\"Movie\",\"Movie\",\"Movie\",\"Movie\",\"Movie\",\"Movie\",\"Movie\",\"Movie\",\"Movie\",\"Movie\",\"Movie\",\"Movie\",\"Movie\",\"Movie\",\"Movie\",\"Movie\",\"Movie\",\"Movie\",\"Movie\",\"Movie\",\"Movie\",\"Movie\",\"Movie\",\"Movie\",\"Movie\",\"Movie\",\"Movie\",\"Movie\",\"Movie\",\"Movie\",\"Movie\",\"Movie\",\"Movie\",\"Movie\",\"Movie\",\"Movie\",\"Movie\",\"Movie\",\"Movie\",\"Movie\",\"Movie\",\"Movie\",\"Movie\",\"Movie\",\"Movie\",\"Movie\",\"Movie\",\"Movie\",\"Movie\",\"Movie\",\"Movie\",\"Movie\",\"Movie\",\"Movie\",\"Movie\",\"Movie\",\"Movie\",\"Movie\",\"Movie\",\"Movie\",\"Movie\",\"Movie\",\"Movie\",\"Movie\",\"Movie\",\"Movie\",\"Movie\",\"Movie\",\"Movie\",\"Movie\",\"Movie\",\"Movie\",\"Movie\",\"Movie\",\"Movie\",\"Movie\",\"Movie\",\"Movie\",\"Movie\",\"Movie\",\"Movie\",\"Movie\",\"Movie\",\"Movie\",\"Movie\",\"Movie\",\"Movie\",\"Movie\",\"Movie\",\"Movie\",\"Movie\",\"Movie\",\"Movie\",\"Movie\",\"Movie\",\"Movie\",\"Movie\",\"Movie\",\"Movie\",\"Movie\",\"Movie\",\"Movie\",\"Movie\",\"Movie\",\"Movie\",\"Movie\",\"Movie\",\"Movie\",\"Movie\",\"Movie\",\"Movie\",\"Movie\",\"Movie\",\"Movie\",\"Movie\",\"Movie\",\"Movie\",\"Movie\",\"Movie\",\"Movie\",\"Movie\",\"Movie\",\"Movie\",\"Movie\",\"Movie\",\"Movie\",\"Movie\",\"Movie\",\"Movie\",\"Movie\",\"Movie\",\"Movie\",\"Movie\",\"Movie\",\"Movie\",\"Movie\",\"Movie\",\"Movie\",\"Movie\",\"Movie\",\"Movie\",\"Movie\",\"Movie\",\"Movie\",\"Movie\",\"Movie\",\"Movie\",\"Movie\",\"Movie\",\"Movie\",\"Movie\",\"Movie\",\"Movie\",\"Movie\",\"Movie\",\"Movie\",\"Movie\",\"Movie\",\"Movie\",\"Movie\",\"Movie\",\"Movie\",\"Movie\",\"Movie\",\"Movie\",\"Movie\",\"Movie\",\"Movie\",\"Movie\",\"Movie\",\"Movie\",\"Movie\",\"Movie\",\"Movie\",\"Movie\",\"Movie\",\"Movie\",\"Movie\",\"Movie\",\"Movie\",\"Movie\",\"Movie\",\"Movie\",\"Movie\",\"Movie\",\"Movie\",\"Movie\",\"Movie\",\"Movie\",\"Movie\",\"Movie\",\"Movie\",\"Movie\",\"Movie\",\"Movie\",\"Movie\",\"Movie\",\"Movie\",\"Movie\",\"Movie\",\"Movie\",\"Movie\",\"Movie\",\"Movie\",\"Movie\",\"Movie\",\"Movie\",\"Movie\",\"Movie\",\"Movie\",\"Movie\",\"Movie\",\"Movie\",\"Movie\",\"Movie\",\"Movie\",\"Movie\",\"Movie\",\"Movie\",\"Movie\",\"Movie\",\"Movie\",\"Movie\",\"Movie\",\"Movie\",\"Movie\",\"Movie\",\"Movie\",\"Movie\",\"Movie\",\"Movie\",\"Movie\",\"Movie\",\"Movie\",\"Movie\",\"Movie\",\"Movie\",\"Movie\",\"Movie\",\"Movie\",\"Movie\",\"Movie\",\"Movie\",\"Movie\",\"Movie\",\"Movie\",\"Movie\",\"Movie\",\"Movie\",\"Movie\",\"Movie\",\"Movie\",\"Movie\",\"Movie\",\"Movie\",\"Movie\",\"Movie\",\"Movie\",\"Movie\",\"Movie\",\"Movie\",\"Movie\",\"Movie\",\"Movie\",\"Movie\",\"Movie\",\"Movie\",\"Movie\",\"Movie\",\"Movie\",\"Movie\",\"Movie\",\"Movie\",\"Movie\",\"Movie\",\"Movie\",\"Movie\",\"Movie\",\"Movie\",\"Movie\",\"Movie\",\"Movie\",\"Movie\",\"Movie\",\"Movie\",\"Movie\",\"Movie\",\"Movie\",\"Movie\",\"Movie\",\"Movie\",\"Movie\",\"Movie\",\"Movie\",\"Movie\",\"Movie\",\"Movie\",\"Movie\",\"Movie\",\"Movie\",\"Movie\",\"Movie\",\"Movie\",\"Movie\",\"Movie\",\"Movie\",\"Movie\",\"Movie\",\"Movie\",\"Movie\",\"Movie\",\"Movie\",\"Movie\",\"Movie\",\"Movie\",\"Movie\",\"Movie\",\"Movie\",\"Movie\",\"Movie\",\"Movie\",\"Movie\",\"Movie\",\"Movie\",\"Movie\",\"Movie\",\"Movie\",\"Movie\",\"Movie\",\"Movie\",\"Movie\",\"Movie\",\"Movie\",\"Movie\",\"Movie\",\"Movie\",\"Movie\",\"Movie\",\"Movie\",\"Movie\",\"Movie\",\"Movie\",\"Movie\",\"Movie\",\"Movie\",\"Movie\",\"Movie\",\"Movie\",\"Movie\",\"Movie\",\"Movie\",\"Movie\",\"Movie\",\"Movie\",\"Movie\",\"Movie\",\"Movie\",\"Movie\",\"Movie\",\"Movie\",\"Movie\",\"Movie\",\"Movie\",\"Movie\",\"Movie\",\"Movie\",\"Movie\",\"Movie\",\"Movie\",\"Movie\",\"Movie\",\"Movie\",\"Movie\",\"Movie\",\"Movie\",\"Movie\",\"Movie\",\"Movie\",\"Movie\",\"Movie\",\"Movie\",\"Movie\",\"Movie\",\"Movie\",\"Movie\",\"Movie\",\"Movie\",\"Movie\",\"Movie\",\"Movie\",\"Movie\",\"Movie\",\"Movie\",\"Movie\",\"Movie\",\"Movie\",\"Movie\",\"Movie\",\"Movie\",\"Movie\",\"Movie\",\"Movie\",\"Movie\",\"Movie\",\"Movie\",\"Movie\",\"Movie\",\"Movie\",\"Movie\",\"Movie\",\"Movie\",\"Movie\",\"Movie\",\"Movie\",\"Movie\",\"Movie\",\"Movie\",\"Movie\",\"Movie\",\"Movie\",\"Movie\",\"Movie\",\"Movie\",\"Movie\",\"Movie\",\"Movie\",\"Movie\",\"Movie\",\"Movie\",\"Movie\",\"Movie\",\"Movie\",\"Movie\",\"Movie\",\"Movie\",\"Movie\",\"Movie\",\"Movie\",\"Movie\",\"Movie\",\"Movie\",\"Movie\",\"Movie\",\"Movie\",\"Movie\",\"Movie\",\"Movie\",\"Movie\",\"Movie\",\"Movie\",\"Movie\",\"Movie\",\"Movie\",\"Movie\",\"Movie\",\"Movie\",\"Movie\",\"Movie\",\"Movie\",\"Movie\",\"Movie\",\"Movie\",\"Movie\",\"Movie\",\"Movie\",\"Movie\",\"Movie\",\"Movie\",\"Movie\",\"Movie\",\"Movie\",\"Movie\",\"Movie\",\"Movie\",\"Movie\",\"Movie\",\"Movie\",\"Movie\",\"Movie\",\"Movie\",\"Movie\",\"Movie\",\"Movie\",\"Movie\",\"Movie\",\"Movie\",\"Movie\",\"Movie\",\"Movie\",\"Movie\",\"Movie\",\"Movie\",\"Movie\",\"Movie\",\"Movie\",\"Movie\",\"Movie\",\"Movie\",\"Movie\",\"Movie\",\"Movie\",\"Movie\",\"Movie\",\"Movie\",\"Movie\",\"Movie\",\"Movie\",\"Movie\",\"Movie\",\"Movie\",\"Movie\",\"Movie\",\"Movie\",\"Movie\",\"Movie\",\"Movie\",\"Movie\",\"Movie\",\"Movie\",\"Movie\",\"Movie\",\"Movie\",\"Movie\",\"Movie\",\"Movie\",\"Movie\",\"Movie\",\"Movie\",\"Movie\",\"Movie\",\"Movie\",\"Movie\",\"Movie\",\"Movie\",\"Movie\",\"Movie\",\"Movie\",\"Movie\",\"Movie\",\"Movie\",\"Movie\",\"Movie\",\"Movie\",\"Movie\",\"Movie\",\"Movie\",\"Movie\",\"Movie\",\"Movie\",\"Movie\",\"Movie\",\"Movie\",\"Movie\",\"Movie\",\"Movie\",\"Movie\",\"Movie\",\"Movie\",\"Movie\",\"Movie\",\"Movie\",\"Movie\",\"Movie\",\"Movie\",\"Movie\",\"Movie\",\"Movie\",\"Movie\",\"Movie\",\"Movie\",\"Movie\",\"Movie\",\"Movie\",\"Movie\",\"Movie\",\"Movie\",\"Movie\",\"Movie\",\"Movie\",\"Movie\",\"Movie\",\"Movie\",\"Movie\",\"Movie\",\"Movie\",\"Movie\",\"Movie\",\"Movie\",\"Movie\",\"Movie\",\"Movie\",\"Movie\",\"Movie\",\"Movie\",\"Movie\",\"Movie\",\"Movie\",\"Movie\",\"Movie\",\"Movie\",\"Movie\",\"Movie\",\"Movie\",\"Movie\",\"Movie\",\"Movie\",\"Movie\",\"Movie\",\"Movie\",\"Movie\",\"Movie\",\"Movie\",\"Movie\",\"Movie\",\"Movie\",\"Movie\",\"Movie\",\"Movie\",\"Movie\",\"Movie\",\"Movie\",\"Movie\",\"Movie\",\"Movie\",\"Movie\",\"Movie\",\"Movie\",\"Movie\",\"Movie\",\"Movie\",\"Movie\",\"Movie\",\"Movie\",\"Movie\",\"Movie\",\"Movie\",\"Movie\",\"Movie\",\"Movie\",\"Movie\",\"Movie\",\"Movie\",\"Movie\",\"Movie\",\"Movie\",\"Movie\",\"Movie\",\"Movie\",\"Movie\",\"Movie\",\"Movie\",\"Movie\",\"Movie\",\"Movie\",\"Movie\",\"Movie\",\"Movie\",\"Movie\",\"Movie\",\"Movie\",\"Movie\",\"Movie\",\"Movie\",\"Movie\",\"Movie\",\"Movie\",\"Movie\",\"Movie\",\"Movie\",\"Movie\",\"Movie\",\"Movie\",\"Movie\",\"Movie\",\"Movie\",\"Movie\",\"Movie\",\"Movie\",\"Movie\",\"Movie\",\"Movie\",\"Movie\",\"Movie\",\"Movie\",\"Movie\",\"Movie\",\"Movie\",\"Movie\",\"Movie\",\"Movie\",\"Movie\",\"Movie\",\"Movie\",\"Movie\",\"Movie\",\"Movie\",\"Movie\",\"Movie\",\"Movie\",\"Movie\",\"Movie\",\"Movie\",\"Movie\",\"Movie\",\"Movie\",\"Movie\",\"Movie\",\"Movie\",\"Movie\",\"Movie\",\"Movie\",\"Movie\",\"Movie\",\"Movie\",\"Movie\",\"Movie\",\"Movie\",\"Movie\",\"Movie\",\"Movie\",\"Movie\",\"Movie\",\"Movie\",\"Movie\",\"Movie\",\"Movie\",\"Movie\",\"Movie\",\"Movie\",\"Movie\",\"Movie\",\"Movie\",\"Movie\",\"Movie\",\"Movie\",\"Movie\",\"Movie\",\"Movie\",\"Movie\",\"Movie\",\"Movie\",\"Movie\",\"Movie\",\"Movie\",\"Movie\",\"Movie\",\"Movie\",\"Movie\",\"Movie\",\"Movie\",\"Movie\",\"Movie\",\"Movie\",\"Movie\",\"Movie\",\"Movie\",\"Movie\",\"Movie\",\"Movie\",\"Movie\",\"Movie\",\"Movie\",\"Movie\",\"Movie\",\"Movie\",\"Movie\",\"Movie\",\"Movie\",\"Movie\",\"Movie\",\"Movie\",\"Movie\",\"Movie\",\"Movie\",\"Movie\",\"Movie\",\"Movie\",\"Movie\",\"Movie\",\"Movie\",\"Movie\",\"Movie\",\"Movie\",\"Movie\",\"Movie\",\"Movie\",\"Movie\",\"Movie\",\"Movie\",\"Movie\",\"Movie\",\"Movie\",\"Movie\",\"Movie\",\"Movie\",\"Movie\",\"Movie\",\"Movie\",\"Movie\",\"Movie\",\"Movie\",\"Movie\",\"Movie\",\"Movie\",\"Movie\",\"Movie\",\"Movie\",\"Movie\",\"Movie\",\"Movie\",\"Movie\",\"Movie\",\"Movie\",\"Movie\",\"Movie\",\"Movie\",\"Movie\",\"Movie\",\"Movie\",\"Movie\",\"Movie\",\"Movie\",\"Movie\",\"Movie\",\"Movie\",\"Movie\",\"Movie\",\"Movie\",\"Movie\",\"Movie\",\"Movie\",\"Movie\",\"Movie\",\"Movie\",\"Movie\",\"Movie\",\"Movie\",\"Movie\",\"Movie\",\"Movie\",\"Movie\",\"Movie\",\"Movie\",\"Movie\",\"Movie\",\"Movie\",\"Movie\",\"Movie\",\"Movie\",\"Movie\",\"Movie\",\"Movie\",\"Movie\",\"Movie\",\"Movie\",\"Movie\",\"Movie\",\"Movie\",\"Movie\",\"Movie\",\"Movie\",\"Movie\",\"Movie\",\"Movie\",\"Movie\",\"Movie\",\"Movie\",\"Movie\",\"Movie\",\"Movie\",\"Movie\",\"Movie\",\"Movie\",\"Movie\",\"Movie\",\"Movie\",\"Movie\",\"Movie\",\"Movie\",\"Movie\",\"Movie\",\"Movie\",\"Movie\",\"Movie\",\"Movie\",\"Movie\",\"Movie\",\"Movie\",\"Movie\",\"Movie\",\"Movie\",\"Movie\",\"Movie\",\"Movie\",\"Movie\",\"Movie\",\"Movie\",\"Movie\",\"Movie\",\"Movie\",\"Movie\",\"Movie\",\"Movie\",\"Movie\",\"Movie\",\"Movie\",\"Movie\",\"Movie\",\"Movie\",\"Movie\",\"Movie\",\"Movie\",\"Movie\",\"Movie\",\"Movie\",\"Movie\",\"Movie\",\"Movie\",\"Movie\",\"Movie\",\"Movie\",\"Movie\",\"Movie\",\"Movie\",\"Movie\",\"Movie\",\"Movie\",\"Movie\",\"Movie\",\"Movie\",\"Movie\",\"Movie\",\"Movie\",\"Movie\",\"Movie\",\"Movie\",\"Movie\",\"Movie\",\"Movie\",\"Movie\",\"Movie\",\"Movie\",\"Movie\",\"Movie\",\"Movie\",\"Movie\",\"Movie\",\"Movie\",\"Movie\",\"Movie\",\"Movie\",\"Movie\",\"Movie\",\"Movie\",\"Movie\",\"Movie\",\"Movie\",\"Movie\",\"Movie\",\"Movie\",\"Movie\",\"Movie\",\"Movie\",\"Movie\",\"Movie\",\"Movie\",\"Movie\",\"Movie\",\"Movie\",\"Movie\",\"Movie\",\"Movie\",\"Movie\",\"Movie\",\"Movie\",\"Movie\",\"Movie\",\"Movie\",\"Movie\",\"Movie\",\"Movie\",\"Movie\",\"Movie\",\"Movie\",\"Movie\",\"Movie\",\"Movie\",\"Movie\",\"Movie\",\"Movie\",\"Movie\",\"Movie\",\"Movie\",\"Movie\",\"Movie\",\"Movie\",\"Movie\",\"Movie\",\"Movie\",\"Movie\",\"Movie\",\"Movie\",\"Movie\",\"Movie\",\"Movie\",\"Movie\",\"Movie\",\"Movie\",\"Movie\",\"Movie\",\"Movie\",\"Movie\",\"Movie\",\"Movie\",\"Movie\",\"Movie\",\"Movie\",\"Movie\",\"Movie\",\"Movie\",\"Movie\",\"Movie\",\"Movie\",\"Movie\",\"Movie\",\"Movie\",\"Movie\",\"Movie\",\"Movie\",\"Movie\",\"Movie\",\"Movie\",\"Movie\",\"Movie\",\"Movie\",\"Movie\",\"Movie\",\"Movie\",\"Movie\",\"Movie\",\"Movie\",\"Movie\",\"Movie\",\"Movie\",\"Movie\",\"Movie\",\"Movie\",\"Movie\",\"Movie\",\"Movie\",\"Movie\",\"Movie\",\"Movie\",\"Movie\",\"Movie\",\"Movie\",\"Movie\",\"Movie\",\"Movie\",\"Movie\",\"Movie\",\"Movie\",\"Movie\",\"Movie\",\"Movie\",\"Movie\",\"Movie\",\"Movie\",\"Movie\",\"Movie\",\"Movie\",\"Movie\",\"Movie\",\"Movie\",\"Movie\",\"Movie\",\"Movie\",\"Movie\",\"Movie\",\"Movie\",\"Movie\",\"Movie\",\"Movie\",\"Movie\",\"Movie\",\"Movie\",\"Movie\",\"Movie\",\"Movie\",\"Movie\",\"Movie\",\"Movie\",\"Movie\",\"Movie\",\"Movie\",\"Movie\",\"Movie\",\"Movie\",\"Movie\",\"Movie\",\"Movie\",\"Movie\",\"Movie\",\"Movie\",\"Movie\",\"Movie\",\"Movie\",\"Movie\",\"Movie\",\"Movie\",\"Movie\",\"Movie\",\"Movie\",\"Movie\",\"Movie\",\"Movie\",\"Movie\",\"Movie\",\"Movie\",\"Movie\",\"Movie\",\"Movie\",\"Movie\",\"Movie\",\"Movie\",\"Movie\",\"Movie\",\"Movie\",\"Movie\",\"Movie\",\"Movie\",\"Movie\",\"Movie\",\"Movie\",\"Movie\",\"Movie\",\"Movie\",\"Movie\",\"Movie\",\"Movie\",\"Movie\",\"Movie\",\"Movie\",\"Movie\",\"Movie\",\"Movie\",\"Movie\",\"Movie\",\"Movie\",\"Movie\",\"Movie\",\"Movie\",\"Movie\",\"Movie\",\"Movie\",\"Movie\",\"Movie\",\"Movie\",\"Movie\",\"Movie\",\"Movie\",\"Movie\",\"Movie\",\"Movie\",\"Movie\",\"Movie\",\"Movie\",\"Movie\",\"Movie\",\"Movie\",\"Movie\",\"Movie\",\"Movie\",\"Movie\",\"Movie\",\"Movie\",\"Movie\",\"Movie\",\"Movie\",\"Movie\",\"Movie\",\"Movie\",\"Movie\",\"Movie\",\"Movie\",\"Movie\",\"Movie\",\"Movie\",\"Movie\",\"Movie\",\"Movie\",\"Movie\",\"Movie\",\"Movie\",\"Movie\",\"Movie\",\"Movie\",\"Movie\",\"Movie\",\"Movie\",\"Movie\",\"Movie\",\"Movie\",\"Movie\",\"Movie\",\"Movie\",\"Movie\",\"Movie\",\"Movie\",\"Movie\",\"Movie\",\"Movie\",\"Movie\",\"Movie\",\"Movie\",\"Movie\",\"Movie\",\"Movie\",\"Movie\",\"Movie\",\"Movie\",\"Movie\",\"Movie\",\"Movie\",\"Movie\",\"Movie\",\"Movie\",\"Movie\",\"Movie\",\"Movie\",\"Movie\",\"Movie\",\"Movie\",\"Movie\",\"Movie\",\"Movie\",\"Movie\",\"Movie\",\"Movie\",\"Movie\",\"Movie\",\"Movie\",\"Movie\",\"Movie\",\"Movie\",\"Movie\",\"Movie\",\"Movie\",\"Movie\",\"Movie\",\"Movie\",\"Movie\",\"Movie\",\"Movie\",\"Movie\",\"Movie\",\"Movie\",\"Movie\",\"Movie\",\"Movie\",\"Movie\",\"Movie\",\"Movie\",\"Movie\",\"Movie\",\"Movie\",\"Movie\",\"Movie\",\"Movie\",\"Movie\",\"Movie\",\"Movie\",\"Movie\",\"Movie\",\"Movie\",\"Movie\",\"Movie\",\"Movie\",\"Movie\",\"Movie\",\"Movie\",\"Movie\",\"Movie\",\"Movie\",\"Movie\",\"Movie\",\"Movie\",\"Movie\",\"Movie\",\"Movie\",\"Movie\",\"Movie\",\"Movie\",\"Movie\",\"Movie\",\"Movie\",\"Movie\",\"Movie\",\"Movie\",\"Movie\",\"Movie\",\"Movie\",\"Movie\",\"Movie\",\"Movie\",\"Movie\",\"Movie\",\"Movie\",\"Movie\",\"Movie\",\"Movie\",\"Movie\",\"Movie\",\"Movie\",\"Movie\",\"Movie\",\"Movie\",\"Movie\",\"Movie\",\"Movie\",\"Movie\",\"Movie\",\"Movie\",\"Movie\",\"Movie\",\"Movie\",\"Movie\",\"Movie\",\"Movie\",\"Movie\",\"Movie\",\"Movie\",\"Movie\",\"Movie\",\"Movie\",\"Movie\",\"Movie\",\"Movie\",\"Movie\",\"Movie\",\"Movie\",\"Movie\",\"Movie\",\"Movie\",\"Movie\",\"Movie\",\"Movie\",\"Movie\",\"Movie\",\"Movie\",\"Movie\",\"Movie\",\"Movie\",\"Movie\",\"Movie\",\"Movie\",\"Movie\",\"Movie\",\"Movie\",\"Movie\",\"Movie\",\"Movie\",\"Movie\",\"Movie\",\"Movie\",\"Movie\",\"Movie\",\"Movie\",\"Movie\",\"Movie\",\"Movie\",\"Movie\",\"Movie\",\"Movie\",\"Movie\",\"Movie\",\"Movie\",\"Movie\",\"Movie\",\"Movie\",\"Movie\",\"Movie\",\"Movie\",\"Movie\",\"Movie\",\"Movie\",\"Movie\",\"Movie\",\"Movie\",\"Movie\",\"Movie\",\"Movie\",\"Movie\",\"Movie\",\"Movie\",\"Movie\",\"Movie\",\"Movie\",\"Movie\",\"Movie\",\"Movie\",\"Movie\",\"Movie\",\"Movie\",\"Movie\",\"Movie\",\"Movie\",\"Movie\",\"Movie\",\"Movie\",\"Movie\",\"Movie\",\"Movie\",\"Movie\",\"Movie\",\"Movie\",\"Movie\",\"Movie\",\"Movie\",\"Movie\",\"Movie\",\"Movie\",\"Movie\",\"Movie\",\"Movie\",\"Movie\",\"Movie\",\"Movie\",\"Movie\",\"Movie\",\"Movie\",\"Movie\",\"Movie\",\"Movie\",\"Movie\",\"Movie\",\"Movie\",\"Movie\",\"Movie\",\"Movie\",\"Movie\",\"Movie\",\"Movie\",\"Movie\",\"Movie\",\"Movie\",\"Movie\",\"Movie\",\"Movie\",\"Movie\",\"Movie\",\"Movie\",\"Movie\",\"Movie\",\"Movie\",\"Movie\",\"Movie\",\"Movie\",\"Movie\",\"Movie\",\"Movie\",\"Movie\",\"Movie\",\"Movie\",\"Movie\",\"Movie\",\"Movie\",\"Movie\",\"Movie\",\"Movie\",\"Movie\",\"Movie\",\"Movie\",\"Movie\",\"Movie\",\"Movie\",\"Movie\",\"Movie\",\"Movie\",\"Movie\",\"Movie\",\"Movie\",\"Movie\",\"Movie\",\"Movie\",\"Movie\",\"Movie\",\"Movie\",\"Movie\",\"Movie\",\"Movie\",\"Movie\",\"Movie\",\"Movie\",\"Movie\",\"Movie\",\"Movie\",\"Movie\",\"Movie\",\"Movie\",\"Movie\",\"Movie\",\"Movie\",\"Movie\",\"Movie\",\"Movie\",\"Movie\",\"Movie\",\"Movie\",\"Movie\",\"Movie\",\"Movie\",\"Movie\",\"Movie\",\"Movie\",\"Movie\",\"Movie\",\"Movie\",\"Movie\",\"Movie\",\"Movie\",\"Movie\",\"Movie\",\"Movie\",\"Movie\",\"Movie\",\"Movie\",\"Movie\",\"Movie\",\"Movie\",\"Movie\",\"Movie\",\"Movie\",\"Movie\",\"Movie\",\"Movie\",\"Movie\",\"Movie\",\"Movie\",\"Movie\",\"Movie\",\"Movie\",\"Movie\",\"Movie\",\"Movie\",\"Movie\",\"Movie\",\"Movie\",\"Movie\",\"Movie\",\"Movie\",\"Movie\",\"Movie\",\"Movie\",\"Movie\",\"Movie\",\"Movie\",\"Movie\",\"Movie\",\"Movie\",\"Movie\",\"Movie\",\"Movie\",\"Movie\",\"Movie\",\"Movie\",\"Movie\",\"Movie\",\"Movie\",\"Movie\",\"Movie\",\"Movie\",\"Movie\",\"Movie\",\"Movie\",\"Movie\",\"Movie\",\"Movie\",\"Movie\",\"Movie\",\"Movie\",\"Movie\",\"Movie\",\"Movie\",\"Movie\",\"Movie\",\"Movie\",\"Movie\",\"Movie\",\"Movie\",\"Movie\",\"Movie\",\"Movie\",\"Movie\",\"Movie\",\"Movie\",\"Movie\",\"Movie\",\"Movie\",\"Movie\",\"Movie\",\"Movie\",\"Movie\",\"Movie\",\"Movie\",\"Movie\",\"Movie\",\"Movie\",\"Movie\",\"Movie\",\"Movie\",\"Movie\",\"Movie\",\"Movie\",\"Movie\",\"Movie\",\"Movie\",\"Movie\",\"Movie\",\"Movie\",\"Movie\",\"Movie\",\"Movie\",\"Movie\",\"Movie\",\"Movie\",\"Movie\",\"Movie\",\"Movie\",\"Movie\",\"Movie\",\"Movie\",\"Movie\",\"Movie\",\"Movie\",\"Movie\",\"Movie\",\"Movie\",\"Movie\",\"Movie\",\"Movie\",\"Movie\",\"Movie\",\"Movie\",\"Movie\",\"Movie\",\"Movie\",\"Movie\",\"Movie\",\"Movie\",\"Movie\",\"Movie\",\"Movie\",\"Movie\",\"Movie\",\"Movie\",\"Movie\",\"Movie\",\"Movie\",\"Movie\",\"Movie\",\"Movie\",\"Movie\",\"Movie\",\"Movie\",\"Movie\",\"Movie\",\"Movie\",\"Movie\",\"Movie\",\"Movie\",\"Movie\",\"Movie\",\"Movie\",\"Movie\",\"Movie\",\"Movie\",\"Movie\",\"Movie\",\"Movie\",\"Movie\",\"Movie\",\"Movie\",\"Movie\",\"Movie\",\"Movie\",\"Movie\",\"Movie\",\"Movie\",\"Movie\",\"Movie\",\"Movie\",\"Movie\",\"Movie\",\"Movie\",\"Movie\",\"Movie\",\"Movie\",\"Movie\",\"Movie\",\"Movie\",\"Movie\",\"Movie\",\"Movie\",\"Movie\",\"Movie\",\"Movie\",\"Movie\",\"Movie\",\"Movie\",\"Movie\",\"Movie\",\"Movie\",\"Movie\",\"Movie\",\"Movie\",\"Movie\",\"Movie\",\"Movie\",\"Movie\",\"Movie\",\"Movie\",\"Movie\",\"Movie\",\"Movie\",\"Movie\",\"Movie\",\"Movie\",\"Movie\",\"Movie\",\"Movie\",\"Movie\",\"Movie\",\"Movie\",\"Movie\",\"Movie\",\"Movie\",\"Movie\",\"Movie\",\"Movie\",\"Movie\",\"Movie\",\"Movie\",\"Movie\",\"Movie\",\"Movie\",\"Movie\",\"Movie\",\"Movie\",\"Movie\",\"Movie\",\"Movie\",\"Movie\",\"Movie\",\"Movie\",\"Movie\",\"Movie\",\"Movie\",\"Movie\",\"Movie\",\"Movie\",\"Movie\",\"Movie\",\"Movie\",\"Movie\",\"Movie\",\"Movie\",\"Movie\",\"Movie\",\"Movie\",\"Movie\",\"Movie\",\"Movie\",\"Movie\",\"Movie\",\"Movie\",\"Movie\",\"Movie\",\"Movie\",\"Movie\",\"Movie\",\"Movie\",\"Movie\",\"Movie\",\"Movie\",\"Movie\",\"Movie\",\"Movie\",\"Movie\",\"Movie\",\"Movie\",\"Movie\",\"Movie\",\"Movie\",\"Movie\",\"Movie\",\"Movie\",\"Movie\",\"Movie\",\"Movie\",\"Movie\",\"Movie\",\"Movie\",\"Movie\",\"Movie\",\"Movie\",\"Movie\",\"Movie\",\"Movie\",\"Movie\",\"Movie\",\"Movie\",\"Movie\",\"Movie\",\"Movie\",\"Movie\",\"Movie\",\"Movie\",\"Movie\",\"Movie\",\"Movie\",\"Movie\",\"Movie\",\"Movie\",\"Movie\",\"Movie\",\"Movie\",\"Movie\",\"Movie\",\"Movie\",\"Movie\",\"Movie\",\"Movie\",\"Movie\",\"Movie\",\"Movie\",\"Movie\",\"Movie\",\"Movie\",\"Movie\",\"Movie\",\"Movie\",\"Movie\",\"Movie\",\"Movie\",\"Movie\",\"Movie\",\"Movie\",\"Movie\",\"Movie\",\"Movie\",\"Movie\",\"Movie\",\"Movie\",\"Movie\",\"Movie\",\"Movie\",\"Movie\",\"Movie\",\"Movie\",\"Movie\",\"Movie\",\"Movie\",\"Movie\",\"Movie\",\"Movie\",\"Movie\",\"Movie\",\"Movie\",\"Movie\",\"Movie\",\"Movie\",\"Movie\",\"Movie\",\"Movie\",\"Movie\",\"Movie\",\"Movie\",\"Movie\",\"Movie\",\"Movie\",\"Movie\",\"Movie\",\"Movie\",\"Movie\",\"Movie\",\"Movie\",\"Movie\",\"Movie\",\"Movie\",\"Movie\",\"Movie\",\"Movie\",\"Movie\",\"Movie\",\"Movie\",\"Movie\",\"Movie\",\"Movie\",\"Movie\",\"Movie\",\"Movie\",\"Movie\",\"Movie\",\"Movie\",\"Movie\",\"Movie\",\"Movie\",\"Movie\",\"Movie\",\"Movie\",\"Movie\",\"Movie\",\"Movie\",\"Movie\",\"Movie\",\"Movie\",\"Movie\",\"Movie\",\"Movie\",\"Movie\",\"Movie\",\"Movie\",\"Movie\",\"Movie\",\"Movie\",\"Movie\",\"Movie\",\"Movie\",\"Movie\",\"Movie\",\"Movie\",\"Movie\",\"Movie\",\"Movie\",\"Movie\",\"Movie\",\"Movie\",\"Movie\",\"Movie\",\"Movie\",\"Movie\",\"Movie\",\"Movie\",\"Movie\",\"Movie\",\"Movie\",\"Movie\",\"Movie\",\"Movie\",\"Movie\",\"Movie\",\"Movie\",\"Movie\",\"Movie\",\"Movie\",\"Movie\",\"Movie\",\"Movie\",\"Movie\",\"Movie\",\"Movie\",\"Movie\",\"Movie\",\"Movie\",\"Movie\",\"Movie\",\"Movie\",\"Movie\",\"Movie\",\"Movie\",\"Movie\",\"Movie\",\"Movie\",\"Movie\",\"Movie\",\"Movie\",\"Movie\",\"Movie\",\"Movie\",\"Movie\",\"Movie\",\"Movie\",\"Movie\",\"Movie\",\"Movie\",\"Movie\",\"Movie\",\"Movie\",\"Movie\",\"Movie\",\"Movie\",\"Movie\",\"Movie\",\"Movie\",\"Movie\",\"Movie\",\"Movie\",\"Movie\",\"Movie\",\"Movie\",\"Movie\",\"Movie\",\"Movie\",\"Movie\",\"Movie\",\"Movie\",\"Movie\",\"Movie\",\"Movie\",\"Movie\",\"Movie\",\"Movie\",\"Movie\",\"Movie\",\"Movie\",\"Movie\",\"Movie\",\"Movie\",\"Movie\",\"Movie\",\"Movie\",\"Movie\",\"Movie\",\"Movie\",\"Movie\",\"Movie\",\"Movie\",\"Movie\",\"Movie\",\"Movie\",\"Movie\",\"Movie\",\"Movie\",\"Movie\",\"Movie\",\"Movie\",\"Movie\",\"Movie\",\"Movie\",\"Movie\",\"Movie\",\"Movie\",\"Movie\",\"Movie\",\"Movie\",\"Movie\",\"Movie\",\"Movie\",\"Movie\",\"Movie\",\"Movie\",\"Movie\",\"Movie\",\"Movie\",\"Movie\",\"Movie\",\"Movie\",\"Movie\",\"Movie\",\"Movie\",\"Movie\",\"Movie\",\"Movie\",\"Movie\",\"Movie\",\"Movie\",\"Movie\",\"Movie\",\"Movie\",\"Movie\",\"Movie\",\"Movie\",\"Movie\",\"Movie\",\"Movie\",\"Movie\",\"Movie\",\"Movie\",\"Movie\",\"Movie\",\"Movie\",\"Movie\",\"Movie\",\"Movie\",\"Movie\",\"Movie\",\"Movie\",\"Movie\",\"Movie\",\"Movie\",\"Movie\",\"Movie\",\"Movie\",\"Movie\",\"Movie\",\"Movie\",\"Movie\",\"Movie\",\"Movie\",\"Movie\",\"Movie\",\"Movie\",\"Movie\",\"Movie\",\"Movie\",\"Movie\",\"Movie\",\"Movie\",\"Movie\",\"Movie\",\"Movie\",\"Movie\",\"Movie\",\"Movie\",\"Movie\",\"Movie\",\"Movie\",\"Movie\",\"Movie\",\"Movie\",\"Movie\",\"Movie\",\"Movie\",\"Movie\",\"Movie\",\"Movie\",\"Movie\",\"Movie\",\"Movie\",\"Movie\",\"Movie\",\"Movie\",\"Movie\",\"Movie\",\"Movie\",\"Movie\",\"Movie\",\"Movie\",\"Movie\",\"Movie\",\"Movie\",\"Movie\",\"Movie\",\"Movie\",\"Movie\",\"Movie\",\"Movie\",\"Movie\",\"Movie\",\"Movie\",\"Movie\",\"Movie\",\"Movie\",\"Movie\",\"Movie\",\"Movie\",\"Movie\",\"Movie\",\"Movie\",\"Movie\",\"Movie\",\"Movie\",\"Movie\",\"Movie\",\"Movie\",\"Movie\",\"Movie\",\"Movie\",\"Movie\",\"Movie\",\"Movie\",\"Movie\",\"Movie\",\"Movie\",\"Movie\",\"Movie\",\"Movie\",\"Movie\",\"Movie\",\"Movie\",\"Movie\",\"Movie\",\"Movie\",\"Movie\",\"Movie\",\"Movie\",\"Movie\",\"Movie\",\"Movie\",\"Movie\",\"Movie\",\"Movie\",\"Movie\",\"Movie\",\"Movie\",\"Movie\",\"Movie\",\"Movie\",\"Movie\",\"Movie\",\"Movie\",\"Movie\",\"Movie\",\"Movie\",\"Movie\",\"Movie\",\"Movie\",\"Movie\",\"Movie\",\"Movie\",\"Movie\",\"Movie\",\"Movie\",\"Movie\",\"Movie\",\"Movie\",\"Movie\",\"Movie\",\"Movie\",\"Movie\",\"Movie\",\"Movie\",\"Movie\",\"Movie\",\"Movie\",\"Movie\",\"Movie\",\"Movie\",\"Movie\",\"Movie\",\"Movie\",\"Movie\",\"Movie\",\"Movie\",\"Movie\",\"Movie\",\"Movie\",\"Movie\",\"Movie\",\"Movie\",\"Movie\",\"Movie\",\"Movie\",\"Movie\",\"Movie\",\"Movie\",\"Movie\",\"Movie\",\"Movie\",\"Movie\",\"Movie\",\"Movie\",\"Movie\",\"Movie\",\"Movie\",\"Movie\",\"Movie\",\"Movie\",\"Movie\",\"Movie\",\"Movie\",\"Movie\",\"Movie\",\"Movie\",\"Movie\",\"Movie\",\"Movie\",\"Movie\",\"Movie\",\"Movie\",\"Movie\",\"Movie\",\"Movie\",\"Movie\",\"Movie\",\"Movie\",\"Movie\",\"Movie\",\"Movie\",\"Movie\",\"Movie\",\"Movie\",\"Movie\",\"Movie\",\"Movie\",\"Movie\",\"Movie\",\"Movie\",\"Movie\",\"Movie\",\"Movie\",\"Movie\",\"Movie\",\"Movie\",\"Movie\",\"Movie\",\"Movie\",\"Movie\",\"Movie\",\"Movie\",\"Movie\",\"Movie\",\"Movie\",\"Movie\",\"Movie\",\"Movie\",\"Movie\",\"Movie\",\"Movie\",\"Movie\",\"Movie\",\"Movie\",\"Movie\",\"Movie\",\"Movie\",\"Movie\",\"Movie\",\"Movie\",\"Movie\",\"Movie\",\"Movie\",\"Movie\",\"Movie\",\"Movie\",\"Movie\",\"Movie\",\"Movie\",\"Movie\",\"Movie\",\"Movie\",\"Movie\",\"Movie\",\"Movie\",\"Movie\",\"Movie\",\"Movie\",\"Movie\",\"Movie\",\"Movie\",\"Movie\",\"Movie\",\"Movie\",\"Movie\",\"Movie\",\"Movie\",\"Movie\",\"Movie\",\"Movie\",\"Movie\",\"Movie\",\"Movie\",\"Movie\",\"Movie\",\"Movie\",\"Movie\",\"Movie\",\"Movie\",\"Movie\",\"Movie\",\"Movie\",\"Movie\",\"Movie\",\"Movie\",\"Movie\",\"Movie\",\"Movie\",\"Movie\",\"Movie\",\"Movie\",\"Movie\",\"Movie\",\"Movie\",\"Movie\",\"Movie\",\"Movie\",\"Movie\",\"Movie\",\"Movie\",\"Movie\",\"Movie\",\"Movie\",\"Movie\",\"Movie\",\"Movie\",\"Movie\",\"Movie\",\"Movie\",\"Movie\",\"Movie\",\"Movie\",\"Movie\",\"Movie\",\"Movie\",\"Movie\",\"Movie\",\"Movie\",\"Movie\",\"Movie\",\"Movie\",\"Movie\",\"Movie\",\"Movie\",\"Movie\",\"Movie\",\"Movie\",\"Movie\",\"Movie\",\"Movie\",\"Movie\",\"Movie\",\"Movie\",\"Movie\",\"Movie\",\"Movie\",\"Movie\",\"Movie\",\"Movie\",\"Movie\",\"Movie\",\"Movie\",\"Movie\",\"Movie\",\"Movie\",\"Movie\",\"Movie\",\"Movie\",\"Movie\",\"Movie\",\"Movie\",\"Movie\",\"Movie\",\"Movie\",\"Movie\",\"Movie\",\"Movie\",\"Movie\",\"Movie\",\"Movie\",\"Movie\",\"Movie\",\"Movie\",\"Movie\",\"Movie\",\"Movie\",\"Movie\",\"Movie\",\"Movie\",\"Movie\",\"Movie\",\"Movie\",\"Movie\",\"Movie\",\"Movie\",\"Movie\",\"Movie\",\"Movie\",\"Movie\",\"Movie\",\"Movie\",\"Movie\",\"Movie\",\"Movie\",\"Movie\",\"Movie\",\"Movie\",\"Movie\",\"Movie\",\"Movie\",\"Movie\",\"Movie\",\"Movie\",\"Movie\",\"Movie\",\"Movie\",\"Movie\",\"Movie\",\"Movie\",\"Movie\",\"Movie\",\"Movie\",\"Movie\",\"Movie\",\"Movie\",\"Movie\",\"Movie\",\"Movie\",\"Movie\",\"Movie\",\"Movie\",\"Movie\",\"Movie\",\"Movie\",\"Movie\",\"Movie\",\"Movie\",\"Movie\",\"Movie\",\"Movie\",\"Movie\",\"Movie\",\"Movie\",\"Movie\",\"Movie\",\"Movie\",\"Movie\",\"Movie\",\"Movie\",\"Movie\",\"Movie\",\"Movie\",\"Movie\",\"Movie\",\"Movie\",\"Movie\",\"Movie\",\"Movie\",\"Movie\",\"Movie\",\"Movie\",\"Movie\",\"Movie\",\"Movie\",\"Movie\",\"Movie\",\"Movie\",\"Movie\",\"Movie\",\"Movie\",\"Movie\",\"Movie\",\"Movie\",\"Movie\",\"Movie\",\"Movie\",\"Movie\",\"Movie\",\"Movie\",\"Movie\",\"Movie\",\"Movie\",\"Movie\",\"Movie\",\"Movie\",\"Movie\",\"Movie\",\"Movie\",\"Movie\",\"Movie\",\"Movie\",\"Movie\",\"Movie\",\"Movie\",\"Movie\",\"Movie\",\"Movie\",\"Movie\",\"Movie\",\"Movie\",\"Movie\",\"Movie\",\"Movie\",\"Movie\",\"Movie\",\"Movie\",\"Movie\",\"Movie\",\"Movie\",\"Movie\",\"Movie\",\"Movie\",\"Movie\",\"Movie\",\"Movie\",\"Movie\",\"Movie\",\"Movie\",\"Movie\",\"Movie\",\"Movie\",\"Movie\",\"Movie\",\"Movie\",\"Movie\",\"Movie\",\"Movie\",\"Movie\",\"Movie\",\"Movie\",\"Movie\",\"Movie\",\"Movie\",\"Movie\",\"Movie\",\"Movie\",\"Movie\",\"Movie\",\"Movie\",\"Movie\",\"Movie\",\"Movie\",\"Movie\",\"Movie\",\"Movie\",\"Movie\",\"Movie\",\"Movie\",\"Movie\",\"Movie\",\"Movie\",\"Movie\",\"Movie\",\"Movie\",\"Movie\",\"Movie\",\"Movie\",\"Movie\",\"Movie\",\"Movie\",\"Movie\",\"Movie\",\"Movie\",\"Movie\",\"Movie\",\"Movie\",\"Movie\",\"Movie\",\"Movie\",\"Movie\",\"Movie\",\"Movie\",\"Movie\",\"Movie\",\"Movie\",\"Movie\",\"Movie\",\"Movie\",\"Movie\",\"Movie\",\"Movie\",\"Movie\",\"Movie\",\"Movie\",\"Movie\",\"Movie\",\"Movie\",\"Movie\",\"Movie\",\"Movie\",\"Movie\",\"Movie\",\"Movie\",\"Movie\",\"Movie\",\"Movie\",\"Movie\",\"Movie\",\"Movie\",\"Movie\",\"Movie\",\"Movie\",\"Movie\",\"Movie\",\"Movie\",\"Movie\",\"Movie\",\"Movie\",\"Movie\",\"Movie\",\"Movie\",\"Movie\",\"Movie\",\"Movie\",\"Movie\",\"Movie\",\"Movie\",\"Movie\",\"Movie\",\"Movie\",\"Movie\",\"Movie\",\"Movie\",\"Movie\",\"Movie\",\"Movie\",\"Movie\",\"Movie\",\"Movie\",\"Movie\",\"Movie\",\"Movie\",\"Movie\",\"Movie\",\"Movie\",\"Movie\",\"Movie\",\"Movie\",\"Movie\",\"Movie\",\"Movie\",\"Movie\",\"Movie\",\"Movie\",\"Movie\",\"Movie\",\"Movie\",\"Movie\",\"Movie\",\"Movie\",\"Movie\",\"Movie\",\"Movie\",\"Movie\",\"Movie\",\"Movie\",\"Movie\",\"Movie\",\"Movie\",\"Movie\",\"Movie\",\"Movie\",\"Movie\",\"Movie\",\"Movie\",\"Movie\",\"Movie\",\"Movie\",\"Movie\",\"Movie\",\"Movie\",\"Movie\",\"Movie\",\"Movie\",\"Movie\",\"Movie\",\"Movie\",\"Movie\",\"Movie\",\"Movie\",\"Movie\",\"Movie\",\"Movie\",\"Movie\",\"Movie\",\"Movie\",\"Movie\",\"Movie\",\"Movie\",\"Movie\",\"Movie\",\"Movie\",\"Movie\",\"Movie\",\"Movie\",\"Movie\",\"Movie\",\"Movie\",\"Movie\",\"Movie\",\"Movie\",\"Movie\",\"Movie\",\"Movie\",\"Movie\",\"Movie\",\"Movie\",\"Movie\",\"Movie\",\"Movie\",\"Movie\",\"Movie\",\"Movie\",\"Movie\",\"Movie\",\"Movie\",\"Movie\",\"Movie\",\"Movie\",\"Movie\",\"Movie\",\"Movie\",\"Movie\",\"Movie\",\"Movie\",\"Movie\",\"Movie\",\"Movie\",\"Movie\",\"Movie\",\"Movie\",\"Movie\",\"Movie\",\"Movie\",\"Movie\",\"Movie\",\"Movie\",\"Movie\",\"Movie\",\"Movie\",\"Movie\",\"Movie\",\"Movie\",\"Movie\",\"Movie\",\"Movie\",\"Movie\",\"Movie\",\"Movie\",\"Movie\",\"Movie\",\"Movie\",\"Movie\",\"Movie\",\"Movie\",\"Movie\",\"Movie\",\"Movie\",\"Movie\",\"Movie\",\"Movie\",\"Movie\",\"Movie\",\"Movie\",\"Movie\",\"Movie\",\"Movie\",\"Movie\",\"Movie\",\"Movie\",\"Movie\",\"Movie\",\"Movie\",\"Movie\",\"Movie\",\"Movie\",\"Movie\",\"Movie\",\"Movie\",\"Movie\",\"Movie\",\"Movie\",\"Movie\",\"Movie\",\"Movie\",\"Movie\",\"Movie\",\"Movie\",\"Movie\",\"Movie\",\"Movie\",\"Movie\",\"Movie\",\"Movie\",\"Movie\",\"Movie\",\"Movie\",\"Movie\",\"Movie\",\"Movie\",\"Movie\",\"Movie\",\"Movie\",\"Movie\",\"Movie\",\"Movie\",\"Movie\",\"Movie\",\"Movie\",\"Movie\",\"Movie\",\"Movie\",\"Movie\",\"Movie\",\"Movie\",\"Movie\",\"Movie\",\"Movie\",\"Movie\",\"Movie\",\"Movie\",\"Movie\",\"Movie\",\"Movie\",\"Movie\",\"Movie\",\"Movie\",\"Movie\",\"Movie\",\"Movie\",\"Movie\",\"Movie\",\"Movie\",\"Movie\",\"Movie\",\"Movie\",\"Movie\",\"Movie\",\"Movie\",\"Movie\",\"Movie\",\"Movie\",\"Movie\",\"Movie\",\"Movie\",\"Movie\",\"Movie\",\"Movie\",\"Movie\",\"Movie\",\"Movie\",\"Movie\",\"Movie\",\"Movie\",\"Movie\",\"Movie\",\"Movie\",\"Movie\",\"Movie\",\"Movie\",\"Movie\",\"Movie\",\"Movie\",\"Movie\",\"Movie\",\"Movie\",\"Movie\",\"Movie\",\"Movie\",\"Movie\",\"Movie\",\"Movie\",\"Movie\",\"Movie\",\"Movie\",\"Movie\",\"Movie\",\"Movie\",\"Movie\",\"Movie\",\"Movie\",\"Movie\",\"Movie\",\"Movie\",\"Movie\",\"Movie\",\"Movie\",\"Movie\",\"Movie\",\"Movie\",\"Movie\",\"Movie\",\"Movie\",\"Movie\",\"Movie\",\"Movie\",\"Movie\",\"Movie\",\"Movie\",\"Movie\",\"Movie\",\"Movie\",\"Movie\",\"Movie\",\"Movie\",\"Movie\",\"Movie\",\"Movie\",\"Movie\",\"Movie\",\"Movie\",\"Movie\",\"Movie\",\"Movie\",\"Movie\",\"Movie\",\"Movie\",\"Movie\",\"Movie\",\"Movie\",\"Movie\",\"Movie\",\"Movie\",\"Movie\",\"Movie\",\"Movie\",\"Movie\",\"Movie\",\"Movie\",\"Movie\",\"Movie\",\"Movie\",\"Movie\",\"Movie\",\"Movie\",\"Movie\",\"Movie\",\"Movie\",\"Movie\",\"Movie\",\"Movie\",\"Movie\",\"Movie\",\"Movie\",\"Movie\",\"Movie\",\"Movie\",\"Movie\",\"Movie\",\"Movie\",\"Movie\",\"Movie\",\"Movie\",\"Movie\",\"Movie\",\"Movie\",\"Movie\",\"Movie\",\"Movie\",\"Movie\",\"Movie\",\"Movie\",\"Movie\",\"Movie\",\"Movie\",\"Movie\",\"Movie\",\"Movie\",\"Movie\",\"Movie\",\"Movie\",\"Movie\",\"Movie\",\"Movie\",\"Movie\",\"Movie\",\"Movie\",\"Movie\",\"Movie\",\"Movie\",\"Movie\",\"Movie\",\"Movie\",\"Movie\",\"Movie\",\"Movie\",\"Movie\",\"Movie\",\"Movie\",\"Movie\",\"Movie\",\"Movie\",\"Movie\",\"Movie\",\"Movie\",\"Movie\",\"Movie\",\"Movie\",\"Movie\",\"Movie\",\"Movie\",\"Movie\",\"Movie\",\"Movie\",\"Movie\",\"Movie\",\"Movie\",\"Movie\",\"Movie\",\"Movie\",\"Movie\",\"Movie\",\"Movie\",\"Movie\",\"Movie\",\"Movie\",\"Movie\",\"Movie\",\"Movie\",\"Movie\",\"Movie\",\"Movie\",\"Movie\",\"Movie\",\"Movie\",\"Movie\",\"Movie\",\"Movie\",\"Movie\",\"Movie\",\"Movie\",\"Movie\",\"Movie\",\"Movie\",\"Movie\",\"Movie\",\"Movie\",\"Movie\",\"Movie\",\"Movie\",\"Movie\",\"Movie\",\"Movie\",\"Movie\",\"Movie\",\"Movie\",\"Movie\",\"Movie\",\"Movie\",\"Movie\",\"Movie\",\"Movie\",\"Movie\",\"Movie\",\"Movie\",\"Movie\",\"Movie\",\"Movie\",\"Movie\",\"Movie\",\"Movie\",\"Movie\",\"Movie\",\"Movie\",\"Movie\",\"Movie\",\"Movie\",\"Movie\",\"Movie\",\"Movie\",\"Movie\",\"Movie\",\"Movie\",\"Movie\",\"Movie\",\"Movie\",\"Movie\",\"Movie\",\"Movie\",\"Movie\",\"Movie\",\"Movie\",\"Movie\",\"Movie\",\"Movie\",\"Movie\",\"Movie\",\"Movie\",\"Movie\",\"Movie\",\"Movie\",\"Movie\",\"Movie\",\"Movie\",\"Movie\",\"Movie\",\"Movie\",\"Movie\",\"Movie\",\"Movie\",\"Movie\",\"Movie\",\"Movie\",\"Movie\",\"Movie\",\"Movie\",\"Movie\",\"Movie\",\"Movie\",\"Movie\",\"Movie\",\"Movie\",\"Movie\",\"Movie\",\"Movie\",\"Movie\",\"Movie\",\"Movie\",\"Movie\",\"Movie\",\"Movie\",\"Movie\",\"Movie\",\"Movie\",\"Movie\",\"Movie\",\"Movie\",\"Movie\",\"Movie\",\"Movie\",\"Movie\",\"Movie\",\"Movie\",\"Movie\",\"Movie\",\"Movie\",\"Movie\",\"Movie\",\"Movie\",\"Movie\",\"Movie\",\"Movie\",\"Movie\",\"Movie\",\"Movie\",\"Movie\",\"Movie\",\"Movie\",\"Movie\",\"Movie\",\"Movie\",\"Movie\",\"Movie\",\"Movie\",\"Movie\",\"Movie\",\"Movie\",\"Movie\",\"Movie\",\"Movie\",\"Movie\",\"Movie\",\"Movie\",\"Movie\",\"Movie\",\"Movie\",\"Movie\",\"Movie\",\"Movie\",\"Movie\",\"Movie\",\"Movie\",\"Movie\",\"Movie\",\"Movie\",\"Movie\",\"Movie\",\"Movie\",\"Movie\",\"Movie\",\"Movie\",\"Movie\",\"Movie\",\"Movie\",\"Movie\",\"Movie\",\"Movie\",\"Movie\",\"Movie\",\"Movie\",\"Movie\",\"Movie\",\"Movie\",\"Movie\",\"Movie\",\"Movie\",\"Movie\",\"Movie\",\"Movie\",\"Movie\",\"Movie\",\"Movie\",\"Movie\",\"Movie\",\"Movie\",\"Movie\",\"Movie\",\"Movie\",\"Movie\",\"Movie\",\"Movie\",\"Movie\",\"Movie\",\"Movie\",\"Movie\",\"Movie\",\"Movie\",\"Movie\",\"Movie\",\"Movie\",\"Movie\",\"Movie\",\"Movie\",\"Movie\",\"Movie\",\"Movie\",\"Movie\",\"Movie\",\"Movie\",\"Movie\",\"Movie\",\"Movie\",\"Movie\",\"Movie\",\"Movie\",\"Movie\",\"Movie\",\"Movie\",\"Movie\",\"Movie\",\"Movie\",\"Movie\",\"Movie\",\"Movie\",\"Movie\",\"Movie\",\"Movie\",\"Movie\",\"Movie\",\"Movie\",\"Movie\",\"Movie\",\"Movie\",\"Movie\",\"Movie\",\"Movie\",\"Movie\",\"Movie\",\"Movie\",\"Movie\",\"Movie\",\"Movie\",\"Movie\",\"Movie\",\"Movie\",\"Movie\",\"Movie\",\"Movie\",\"Movie\",\"Movie\",\"Movie\",\"Movie\",\"Movie\",\"Movie\",\"Movie\",\"Movie\",\"Movie\",\"Movie\",\"Movie\",\"Movie\",\"Movie\",\"Movie\",\"Movie\",\"Movie\",\"Movie\",\"Movie\",\"Movie\",\"Movie\",\"Movie\",\"Movie\",\"Movie\",\"Movie\",\"Movie\",\"Movie\",\"Movie\",\"Movie\",\"Movie\",\"Movie\",\"Movie\",\"Movie\",\"Movie\",\"Movie\",\"Movie\",\"Movie\",\"Movie\",\"Movie\",\"Movie\",\"Movie\",\"Movie\",\"Movie\",\"Movie\",\"Movie\",\"Movie\",\"Movie\",\"Movie\",\"Movie\",\"Movie\",\"Movie\",\"Movie\",\"Movie\",\"Movie\",\"Movie\",\"Movie\",\"Movie\",\"Movie\",\"Movie\",\"Movie\",\"Movie\",\"Movie\",\"Movie\",\"Movie\",\"Movie\",\"Movie\",\"Movie\",\"Movie\",\"Movie\",\"Movie\",\"Movie\",\"Movie\",\"Movie\",\"Movie\",\"Movie\",\"Movie\",\"Movie\",\"Movie\",\"Movie\",\"Movie\",\"Movie\",\"Movie\",\"Movie\",\"Movie\"],\"xaxis\":\"x\",\"y\":[1,1,1,1,1,1,1,1,1,1,1,1,1,1,1,1,1,1,1,1,1,1,1,1,1,1,1,1,1,1,1,1,1,1,1,1,1,1,1,1,1,1,1,1,1,1,1,1,1,1,1,1,1,1,1,1,1,1,1,1,1,1,1,1,1,1,1,1,1,1,1,1,1,1,1,1,1,1,1,1,1,1,1,1,1,1,1,1,1,1,1,1,1,1,1,1,1,1,1,1,1,1,1,1,1,1,1,1,1,1,1,1,1,1,1,1,1,1,1,1,1,1,1,1,1,1,1,1,1,1,1,1,1,1,1,1,1,1,1,1,1,1,1,1,1,1,1,1,1,1,1,1,1,1,1,1,1,1,1,1,1,1,1,1,1,1,1,1,1,1,1,1,1,1,1,1,1,1,1,1,1,1,1,1,1,1,1,1,1,1,1,1,1,1,1,1,1,1,1,1,1,1,1,1,1,1,1,1,1,1,1,1,1,1,1,1,1,1,1,1,1,1,1,1,1,1,1,1,1,1,1,1,1,1,1,1,1,1,1,1,1,1,1,1,1,1,1,1,1,1,1,1,1,1,1,1,1,1,1,1,1,1,1,1,1,1,1,1,1,1,1,1,1,1,1,1,1,1,1,1,1,1,1,1,1,1,1,1,1,1,1,1,1,1,1,1,1,1,1,1,1,1,1,1,1,1,1,1,1,1,1,1,1,1,1,1,1,1,1,1,1,1,1,1,1,1,1,1,1,1,1,1,1,1,1,1,1,1,1,1,1,1,1,1,1,1,1,1,1,1,1,1,1,1,1,1,1,1,1,1,1,1,1,1,1,1,1,1,1,1,1,1,1,1,1,1,1,1,1,1,1,1,1,1,1,1,1,1,1,1,1,1,1,1,1,1,1,1,1,1,1,1,1,1,1,1,1,1,1,1,1,1,1,1,1,1,1,1,1,1,1,1,1,1,1,1,1,1,1,1,1,1,1,1,1,1,1,1,1,1,1,1,1,1,1,1,1,1,1,1,1,1,1,1,1,1,1,1,1,1,1,1,1,1,1,1,1,1,1,1,1,1,1,1,1,1,1,1,1,1,1,1,1,1,1,1,1,1,1,1,1,1,1,1,1,1,1,1,1,1,1,1,1,1,1,1,1,1,1,1,1,1,1,1,1,1,1,1,1,1,1,1,1,1,1,1,1,1,1,1,1,1,1,1,1,1,1,1,1,1,1,1,1,1,1,1,1,1,1,1,1,1,1,1,1,1,1,1,1,1,1,1,1,1,1,1,1,1,1,1,1,1,1,1,1,1,1,1,1,1,1,1,1,1,1,1,1,1,1,1,1,1,1,1,1,1,1,1,1,1,1,1,1,1,1,1,1,1,1,1,1,1,1,1,1,1,1,1,1,1,1,1,1,1,1,1,1,1,1,1,1,1,1,1,1,1,1,1,1,1,1,1,1,1,1,1,1,1,1,1,1,1,1,1,1,1,1,1,1,1,1,1,1,1,1,1,1,1,1,1,1,1,1,1,1,1,1,1,1,1,1,1,1,1,1,1,1,1,1,1,1,1,1,1,1,1,1,1,1,1,1,1,1,1,1,1,1,1,1,1,1,1,1,1,1,1,1,1,1,1,1,1,1,1,1,1,1,1,1,1,1,1,1,1,1,1,1,1,1,1,1,1,1,1,1,1,1,1,1,1,1,1,1,1,1,1,1,1,1,1,1,1,1,1,1,1,1,1,1,1,1,1,1,1,1,1,1,1,1,1,1,1,1,1,1,1,1,1,1,1,1,1,1,1,1,1,1,1,1,1,1,1,1,1,1,1,1,1,1,1,1,1,1,1,1,1,1,1,1,1,1,1,1,1,1,1,1,1,1,1,1,1,1,1,1,1,1,1,1,1,1,1,1,1,1,1,1,1,1,1,1,1,1,1,1,1,1,1,1,1,1,1,1,1,1,1,1,1,1,1,1,1,1,1,1,1,1,1,1,1,1,1,1,1,1,1,1,1,1,1,1,1,1,1,1,1,1,1,1,1,1,1,1,1,1,1,1,1,1,1,1,1,1,1,1,1,1,1,1,1,1,1,1,1,1,1,1,1,1,1,1,1,1,1,1,1,1,1,1,1,1,1,1,1,1,1,1,1,1,1,1,1,1,1,1,1,1,1,1,1,1,1,1,1,1,1,1,1,1,1,1,1,1,1,1,1,1,1,1,1,1,1,1,1,1,1,1,1,1,1,1,1,1,1,1,1,1,1,1,1,1,1,1,1,1,1,1,1,1,1,1,1,1,1,1,1,1,1,1,1,1,1,1,1,1,1,1,1,1,1,1,1,1,1,1,1,1,1,1,1,1,1,1,1,1,1,1,1,1,1,1,1,1,1,1,1,1,1,1,1,1,1,1,1,1,1,1,1,1,1,1,1,1,1,1,1,1,1,1,1,1,1,1,1,1,1,1,1,1,1,1,1,1,1,1,1,1,1,1,1,1,1,1,1,1,1,1,1,1,1,1,1,1,1,1,1,1,1,1,1,1,1,1,1,1,1,1,1,1,1,1,1,1,1,1,1,1,1,1,1,1,1,1,1,1,1,1,1,1,1,1,1,1,1,1,1,1,1,1,1,1,1,1,1,1,1,1,1,1,1,1,1,1,1,1,1,1,1,1,1,1,1,1,1,1,1,1,1,1,1,1,1,1,1,1,1,1,1,1,1,1,1,1,1,1,1,1,1,1,1,1,1,1,1,1,1,1,1,1,1,1,1,1,1,1,1,1,1,1,1,1,1,1,1,1,1,1,1,1,1,1,1,1,1,1,1,1,1,1,1,1,1,1,1,1,1,1,1,1,1,1,1,1,1,1,1,1,1,1,1,1,1,1,1,1,1,1,1,1,1,1,1,1,1,1,1,1,1,1,1,1,1,1,1,1,1,1,1,1,1,1,1,1,1,1,1,1,1,1,1,1,1,1,1,1,1,1,1,1,1,1,1,1,1,1,1,1,1,1,1,1,1,1,1,1,1,1,1,1,1,1,1,1,1,1,1,1,1,1,1,1,1,1,1,1,1,1,1,1,1,1,1,1,1,1,1,1,1,1,1,1,1,1,1,1,1,1,1,1,1,1,1,1,1,1,1,1,1,1,1,1,1,1,1,1,1,1,1,1,1,1,1,1,1,1,1,1,1,1,1,1,1,1,1,1,1,1,1,1,1,1,1,1,1,1,1,1,1,1,1,1,1,1,1,1,1,1,1,1,1,1,1,1,1,1,1,1,1,1,1,1,1,1,1,1,1,1,1,1,1,1,1,1,1,1,1,1,1,1,1,1,1,1,1,1,1,1,1,1,1,1,1,1,1,1,1,1,1,1,1,1,1,1,1,1,1,1,1,1,1,1,1,1,1,1,1,1,1,1,1,1,1,1,1,1,1,1,1,1,1,1,1,1,1,1,1,1,1,1,1,1,1,1,1,1,1,1,1,1,1,1,1,1,1,1,1,1,1,1,1,1,1,1,1,1,1,1,1,1,1,1,1,1,1,1,1,1,1,1,1,1,1,1,1,1,1,1,1,1,1,1,1,1,1,1,1,1,1,1,1,1,1,1,1,1,1,1,1,1,1,1,1,1,1,1,1,1,1,1,1,1,1,1,1,1,1,1,1,1,1,1,1,1,1,1,1,1,1,1,1,1,1,1,1,1,1,1,1,1,1,1,1,1,1,1,1,1,1,1,1,1,1,1,1,1,1,1,1,1,1,1,1,1,1,1,1,1,1,1,1,1,1,1,1,1,1,1,1,1,1,1,1,1,1,1,1,1,1,1,1,1,1,1,1,1,1,1,1,1,1,1,1,1,1,1,1,1,1,1,1,1,1,1,1,1,1,1,1,1,1,1,1,1,1,1,1,1,1,1,1,1,1,1,1,1,1,1,1,1,1,1,1,1,1,1,1,1,1,1,1,1,1,1,1,1,1,1,1,1,1,1,1,1,1,1,1,1,1,1,1,1,1,1,1,1,1,1,1,1,1,1,1,1,1,1,1,1,1,1,1,1,1,1,1,1,1,1,1,1,1,1,1,1,1,1,1,1,1,1,1,1,1,1,1,1,1,1,1,1,1,1,1,1,1,1,1,1,1,1,1,1,1,1,1,1,1,1,1,1,1,1,1,1,1,1,1,1,1,1,1,1,1,1,1,1,1,1,1,1,1,1,1,1,1,1,1,1,1,1,1,1,1,1,1,1,1,1,1,1,1,1,1,1,1,1,1,1,1,1,1,1,1,1,1,1,1,1,1,1,1,1,1,1,1,1,1,1,1,1,1,1,1,1,1,1,1,1,1,1,1,1,1,1,1,1,1,1,1,1,1,1,1,1,1,1,1,1,1,1,1,1,1,1,1,1,1,1,1,1,1,1,1,1,1,1,1,1,1,1,1,1,1,1,1,1,1,1,1,1,1,1,1,1,1,1,1,1,1,1,1,1,1,1,1,1,1,1,1,1,1,1,1,1,1,1,1,1,1,1,1,1,1,1,1,1,1,1,1,1,1,1,1,1,1,1,1,1,1,1,1,1,1,1,1,1,1,1,1,1,1,1,1,1,1,1,1,1,1,1,1,1,1,1,1,1,1,1,1,1,1,1,1,1,1,1,1,1,1,1,1,1,1,1,1,1,1,1,1,1,1,1,1,1,1,1,1,1,1,1,1,1,1,1,1,1,1,1,1,1,1,1,1,1,1,1,1,1,1,1,1,1,1,1,1,1,1,1,1,1,1,1,1,1,1,1,1,1,1,1,1,1,1,1,1,1,1,1,1,1,1,1,1,1,1,1,1,1,1,1,1,1,1,1,1,1,1,1,1,1,1,1,1,1,1,1,1,1,1,1,1,1,1,1,1,1,1,1,1,1,1,1,1,1,1,1,1,1,1,1,1,1,1,1,1,1,1,1,1,1,1,1,1,1,1,1,1,1,1,1,1,1,1,1,1,1,1,1,1,1,1,1,1,1,1,1,1,1,1,1,1,1,1,1,1,1,1,1,1,1,1,1,1,1,1,1,1,1,1,1,1,1,1,1,1,1,1,1,1,1,1,1,1,1,1,1,1,1,1,1,1,1,1,1,1,1,1,1,1,1,1,1,1,1,1,1,1,1,1,1,1,1,1,1,1,1,1,1,1,1,1,1,1,1,1,1,1,1,1,1,1,1,1,1,1,1,1,1,1,1,1,1,1,1,1,1,1,1,1,1,1,1,1,1,1,1,1,1,1,1,1,1,1,1,1,1,1,1,1,1,1,1,1,1,1,1,1,1,1,1,1,1,1,1,1,1,1,1,1,1,1,1,1,1,1,1,1,1,1,1,1,1,1,1,1,1,1,1,1,1,1,1,1,1,1,1,1,1,1,1,1,1,1,1,1,1,1,1,1,1,1,1,1,1,1,1,1,1,1,1,1,1,1,1,1,1,1,1,1,1,1,1,1,1,1,1,1,1,1,1,1,1,1,1,1,1,1,1,1,1,1,1,1,1,1,1,1,1,1,1,1,1,1,1,1,1,1,1,1,1,1,1,1,1,1,1,1,1,1,1,1,1,1,1,1,1,1,1,1,1,1,1,1,1,1,1,1,1,1,1,1,1,1,1,1,1,1,1,1,1,1,1,1,1,1,1,1,1,1,1,1,1,1,1,1,1,1,1,1,1,1,1,1,1,1,1,1,1,1,1,1,1,1,1,1,1,1,1,1,1,1,1,1,1,1,1,1,1,1,1,1,1,1,1,1,1,1,1,1,1,1,1,1,1,1,1,1,1,1,1,1,1,1,1,1,1,1,1,1,1,1,1,1,1,1,1,1,1,1,1,1,1,1,1,1,1,1,1,1,1,1,1,1,1,1,1,1,1,1,1,1,1,1,1,1,1,1,1,1,1,1,1,1,1,1,1,1,1,1,1,1,1,1,1,1,1,1,1,1,1,1,1,1,1,1,1,1,1,1,1,1,1,1,1,1,1,1,1,1,1,1,1,1,1,1,1,1,1,1,1,1,1,1,1,1,1,1,1,1,1,1,1,1,1,1,1,1,1,1,1,1,1,1,1,1,1,1,1,1,1,1,1,1,1,1,1,1,1,1,1,1,1,1,1,1,1,1,1,1,1,1,1,1,1,1,1,1,1,1,1,1,1,1,1,1,1,1,1,1,1,1,1,1,1,1,1,1,1,1,1,1,1,1,1,1,1,1,1,1,1,1,1,1,1,1,1,1,1,1,1,1,1,1,1,1,1,1,1,1,1,1,1,1,1,1,1,1,1,1,1,1,1,1,1,1,1,1,1,1,1,1,1,1,1,1,1,1,1,1,1,1,1,1,1,1,1,1,1,1,1,1,1,1,1,1,1,1,1,1,1,1,1,1,1,1,1,1,1,1,1,1,1,1,1,1,1,1,1,1,1,1,1,1,1,1,1,1,1,1,1,1,1,1,1,1,1,1,1,1,1,1,1,1,1,1,1,1,1,1,1,1,1,1,1,1,1,1,1,1,1,1,1,1,1,1,1,1,1,1,1,1,1,1,1,1,1,1,1,1,1,1,1,1,1,1,1,1,1,1,1,1,1,1,1,1,1,1,1,1,1,1,1,1,1,1,1,1,1,1,1,1,1,1,1,1,1,1,1,1,1,1,1,1,1,1,1,1,1,1,1,1,1,1,1,1,1,1,1,1,1,1,1,1,1,1,1,1,1,1,1,1,1,1,1,1,1,1,1,1,1,1,1,1,1,1,1,1,1,1,1,1,1,1,1,1,1,1,1,1,1,1,1,1,1,1,1,1,1,1,1,1,1,1,1,1,1,1,1,1,1,1,1,1,1,1,1,1,1,1,1,1,1,1,1,1,1,1,1,1,1,1,1,1,1,1,1,1,1,1,1,1,1,1,1,1,1,1,1,1,1,1,1,1,1,1,1,1,1,1,1,1,1,1,1,1,1,1,1,1,1,1,1,1,1,1,1,1,1,1,1,1,1,1,1,1,1,1,1,1,1,1,1,1,1,1,1,1,1,1,1,1,1,1,1,1,1,1,1,1,1,1,1,1,1,1,1,1,1,1,1,1,1,1,1,1,1,1,1,1,1,1,1,1,1,1,1,1,1,1,1,1,1,1,1,1,1,1,1,1,1,1,1,1,1,1,1,1,1,1,1,1,1,1,1,1,1,1,1,1,1,1,1,1,1,1,1,1,1,1,1,1,1,1,1,1,1,1,1,1,1,1,1,1,1,1,1,1,1,1,1,1,1,1,1,1,1,1,1,1,1,1,1,1,1,1,1,1,1,1,1,1,1,1,1,1,1,1,1,1,1,1,1,1,1,1,1,1,1,1,1,1,1,1,1,1,1,1,1,1,1,1,1,1,1,1,1,1,1,1,1,1,1,1,1,1,1,1,1,1,1,1,1,1,1,1,1,1,1,1,1,1,1,1,1,1,1,1,1,1,1,1,1,1,1,1,1,1,1,1,1,1,1,1,1,1,1,1,1,1,1,1,1,1,1,1,1,1,1,1,1,1,1,1,1,1,1,1,1,1,1,1,1,1,1,1,1,1,1,1,1,1,1,1,1,1,1,1,1,1,1,1,1,1,1,1,1,1,1,1,1,1,1,1,1,1,1,1,1,1,1,1,1,1,1,1,1,1,1,1,1,1,1,1,1,1,1,1,1,1,1,1,1,1,1,1,1,1,1,1,1,1,1,1,1,1,1,1,1,1,1,1,1,1,1,1,1,1,1,1,1,1,1,1,1,1,1,1,1,1,1,1,1,1,1,1,1,1,1,1,1,1,1,1,1,1,1,1,1,1,1,1,1,1,1,1,1,1,1,1,1,1,1,1,1,1,1,1,1,1,1,1,1,1,1,1,1,1,1,1,1,1,1,1,1,1,1,1,1,1,1,1,1,1,1,1,1,1,1,1,1,1,1,1,1,1,1,1,1,1,1,1,1,1,1,1,1,1,1,1,1,1,1,1,1,1,1,1,1,1,1,1,1,1,1,1,1,1,1,1,1,1,1,1,1,1,1,1,1,1,1,1,1,1,1,1,1,1,1,1,1,1,1,1,1,1,1,1,1,1,1,1,1,1,1,1,1,1,1,1,1,1,1,1,1,1,1,1,1,1,1,1,1,1,1,1,1,1,1,1,1,1,1,1,1,1,1,1,1,1,1,1,1,1,1,1,1,1,1,1,1,1,1,1,1,1,1,1,1,1,1,1,1,1,1,1,1,1,1,1,1,1,1,1,1,1,1,1,1,1,1,1,1,1,1,1,1,1,1,1,1,1,1,1,1,1,1,1,1,1,1,1,1,1,1,1,1,1,1,1,1,1,1,1,1,1,1,1,1,1,1,1,1,1,1,1,1,1,1,1,1,1,1,1,1,1,1,1,1,1,1,1,1,1,1,1,1,1,1,1,1,1,1,1,1,1,1,1,1,1,1,1,1,1,1,1,1,1,1,1,1,1,1,1,1,1,1,1,1,1,1,1,1,1,1,1,1,1,1,1,1,1,1,1,1,1,1,1,1,1,1,1,1,1,1,1,1,1,1,1,1,1,1,1,1,1,1,1,1,1,1,1,1,1,1,1,1,1,1,1,1,1,1,1,1,1,1,1,1,1,1,1,1,1,1,1,1,1,1,1,1,1,1,1,1,1,1,1,1,1,1,1,1,1,1,1,1,1,1,1,1,1,1,1,1,1,1,1,1,1,1,1,1,1,1,1,1,1,1,1,1,1,1,1,1,1,1,1,1,1,1,1,1,1,1,1,1,1,1,1,1,1,1,1,1,1,1,1,1,1,1,1,1,1,1,1,1,1,1,1,1,1,1,1,1,1,1,1,1,1,1,1,1,1,1,1,1,1,1,1,1,1,1,1,1,1,1,1,1,1,1,1,1,1,1,1,1,1,1,1,1,1,1,1,1,1,1,1,1,1,1,1,1,1,1,1,1,1,1,1,1,1,1,1,1,1,1,1,1,1,1,1,1,1,1,1,1,1,1,1,1,1,1,1,1,1,1,1,1,1,1,1,1,1,1,1,1,1,1,1,1,1,1,1,1,1,1,1,1,1,1,1,1,1,1,1,1,1,1,1,1,1,1,1,1,1,1,1,1,1,1,1,1,1,1,1,1,1,1,1,1,1,1,1,1,1,1,1,1,1,1,1,1,1,1,1,1,1,1,1,1,1,1,1,1,1,1,1,1,1,1,1,1,1,1,1,1,1,1,1,1,1,1,1,1,1,1,1,1,1,1,1,1,1,1,1,1,1,1,1,1,1,1,1,1,1,1,1,1,1,1,1,1,1,1,1,1,1,1,1,1,1,1,1,1,1,1,1,1,1,1,1,1,1,1,1,1,1,1,1,1,1,1,1,1,1,1,1,1,1,1,1,1,1,1,1,1,1,1,1,1,1,1,1,1,1,1,1,1,1,1,1,1,1,1,1,1,1,1,1,1,1,1,1,1,1,1,1,1,1,1,1,1,1,1,1,1,1,1,1,1,1,1,1,1,1,1,1,1,1,1,1,1,1,1,1,1,1,1,1,1,1,1,1,1,1,1,1,1,1,1,1,1,1,1,1,1,1,1,1,1,1,1,1,1,1,1,1,1,1,1,1,1,1,1,1,1,1,1,1,1,1,1,1,1,1,1,1,1,1,1,1,1,1,1,1,1,1,1,1,1,1,1,1,1,1,1,1,1,1,1,1,1,1,1,1,1,1,1,1,1,1,1,1,1,1,1,1,1,1,1,1,1,1,1,1,1,1,1,1,1,1,1,1,1,1,1,1,1,1,1,1,1,1,1,1,1,1,1,1,1,1,1,1,1,1,1,1,1,1,1,1,1,1,1,1,1,1,1,1,1,1,1,1,1,1,1,1,1,1,1,1,1,1,1,1,1,1,1,1,1,1,1,1,1,1,1,1,1,1,1,1,1,1,1,1,1,1,1,1,1,1,1,1,1,1,1,1,1,1,1,1,1,1,1,1,1,1,1,1,1,1,1,1,1,1,1,1,1,1,1,1,1,1,1,1,1,1,1,1,1,1,1,1,1,1,1,1,1,1,1,1,1,1,1,1,1,1,1,1,1,1,1,1,1,1,1,1,1,1,1,1,1,1,1,1,1,1,1,1,1,1,1,1,1,1,1,1,1,1,1,1,1,1,1,1,1,1,1,1,1,1,1,1,1,1,1,1,1,1,1,1,1,1,1,1,1,1,1,1,1,1,1,1,1,1,1,1,1,1,1,1,1,1,1,1,1,1,1,1,1,1,1,1,1,1,1,1,1,1,1,1,1,1,1,1,1,1,1,1,1,1,1,1,1,1,1,1,1,1,1,1,1,1,1,1,1,1,1,1,1,1,1,1,1,1,1,1,1,1,1,1,1,1,1,1,1,1,1,1,1,1,1,1,1,1,1,1,1,1,1,1,1,1,1,1,1,1,1,1,1,1,1,1,1,1,1,1,1,1,1,1,1,1,1,1,1,1,1,1,1,1,1,1,1,1,1,1,1,1,1,1,1,1,1,1,1,1,1,1,1,1,1,1,1,1,1,1,1,1,1,1,1,1,1,1,1,1,1,1,1,1,1,1,1,1,1,1,1,1,1,1,1,1,1,1,1,1,1,1,1,1,1,1,1,1,1,1,1,1,1,1,1,1,1,1,1,1,1,1,1,1,1,1,1,1,1,1,1,1,1,1,1,1,1,1,1,1,1,1,1,1,1,1,1,1,1,1,1,1,1,1,1,1,1,1,1,1,1,1,1,1,1,1,1,1,1,1,1,1,1,1,1,1,1,1,1,1,1,1,1,1,1,1,1,1,1,1,1,1,1,1,1,1,1,1,1,1,1,1,1,1,1,1,1,1,1,1,1,1,1,1,1,1,1,1,1,1,1,1,1,1,1,1,1,1,1,1,1,1,1,1,1,1,1,1,1,1,1,1,1,1,1,1,1,1,1,1,1,1,1,1,1,1,1,1,1,1,1,1,1,1,1,1,1,1,1,1,1,1,1,1,1,1,1,1,1,1,1,1,1,1,1,1,1,1,1,1,1,1,1,1,1,1,1,1,1,1,1,1,1,1,1,1,1,1,1,1,1,1,1,1,1,1,1,1,1,1,1,1,1,1,1,1,1,1,1,1,1,1,1,1,1,1,1,1,1,1,1,1,1,1,1,1,1,1,1,1,1,1,1,1,1,1,1,1,1,1,1,1,1,1,1,1,1,1,1,1,1,1,1,1,1,1,1,1,1,1,1,1,1,1,1,1,1,1,1,1,1,1,1,1,1,1,1,1,1,1,1,1,1,1,1,1,1,1,1,1,1,1,1,1,1,1,1,1,1,1,1,1,1,1,1,1,1,1,1,1,1,1,1,1,1,1,1,1,1,1,1,1,1,1,1,1,1,1,1,1,1,1,1,1,1,1,1,1,1,1,1,1,1,1,1,1,1,1,1,1,1,1,1,1,1,1,1,1,1,1,1,1,1,1,1,1,1,1,1,1,1,1,1,1,1,1,1,1,1,1,1,1,1,1,1,1,1,1,1,1,1,1,1,1,1,1,1,1,1,1,1,1,1,1,1,1,1,1,1,1,1,1,1,1,1,1,1,1,1,1,1,1,1,1,1,1,1,1,1,1,1,1,1,1,1,1,1,1,1,1,1,1,1,1,1,1,1,1,1,1,1,1,1,1,1,1,1,1,1,1,1,1,1,1,1,1,1,1,1,1,1,1,1,1,1,1,1,1,1,1,1,1,1,1,1,1,1,1,1,1,1,1,1,1,1,1,1,1,1,1,1,1,1,1,1,1,1,1,1,1,1,1,1,1,1,1,1,1,1,1,1,1,1,1,1,1,1,1,1,1,1,1,1,1,1,1,1,1,1,1,1,1,1,1,1,1,1,1,1,1,1,1,1,1,1,1,1,1,1,1,1,1,1,1,1,1,1,1,1,1,1,1,1,1,1,1,1,1,1,1,1,1,1,1,1,1,1,1,1,1,1,1,1,1,1,1,1,1,1,1,1,1,1,1,1,1,1,1,1,1,1,1,1,1,1,1,1,1,1,1,1,1,1,1,1,1,1,1,1,1,1,1,1,1,1,1,1,1,1,1,1,1,1,1,1,1,1,1,1,1,1,1,1,1,1,1,1,1,1,1,1,1,1,1,1,1,1,1,1,1,1,1,1,1,1,1,1,1,1,1,1,1,1,1,1,1,1,1,1,1,1,1,1,1,1,1,1,1,1,1,1,1,1,1,1,1,1,1,1,1,1,1,1,1,1,1,1,1,1,1,1,1,1,1,1,1,1,1,1,1,1,1,1,1,1,1,1,1,1,1,1,1,1,1,1,1,1,1,1,1,1,1,1,1,1,1,1,1,1,1,1,1,1,1,1,1,1,1,1,1,1,1,1,1,1,1,1,1,1,1,1,1],\"yaxis\":\"y\"}],                        {\"barmode\":\"group\",\"legend\":{\"title\":{\"text\":\"type\"},\"tracegroupgap\":0},\"margin\":{\"t\":60},\"template\":{\"data\":{\"bar\":[{\"error_x\":{\"color\":\"#2a3f5f\"},\"error_y\":{\"color\":\"#2a3f5f\"},\"marker\":{\"line\":{\"color\":\"#E5ECF6\",\"width\":0.5},\"pattern\":{\"fillmode\":\"overlay\",\"size\":10,\"solidity\":0.2}},\"type\":\"bar\"}],\"barpolar\":[{\"marker\":{\"line\":{\"color\":\"#E5ECF6\",\"width\":0.5},\"pattern\":{\"fillmode\":\"overlay\",\"size\":10,\"solidity\":0.2}},\"type\":\"barpolar\"}],\"carpet\":[{\"aaxis\":{\"endlinecolor\":\"#2a3f5f\",\"gridcolor\":\"white\",\"linecolor\":\"white\",\"minorgridcolor\":\"white\",\"startlinecolor\":\"#2a3f5f\"},\"baxis\":{\"endlinecolor\":\"#2a3f5f\",\"gridcolor\":\"white\",\"linecolor\":\"white\",\"minorgridcolor\":\"white\",\"startlinecolor\":\"#2a3f5f\"},\"type\":\"carpet\"}],\"choropleth\":[{\"colorbar\":{\"outlinewidth\":0,\"ticks\":\"\"},\"type\":\"choropleth\"}],\"contour\":[{\"colorbar\":{\"outlinewidth\":0,\"ticks\":\"\"},\"colorscale\":[[0.0,\"#0d0887\"],[0.1111111111111111,\"#46039f\"],[0.2222222222222222,\"#7201a8\"],[0.3333333333333333,\"#9c179e\"],[0.4444444444444444,\"#bd3786\"],[0.5555555555555556,\"#d8576b\"],[0.6666666666666666,\"#ed7953\"],[0.7777777777777778,\"#fb9f3a\"],[0.8888888888888888,\"#fdca26\"],[1.0,\"#f0f921\"]],\"type\":\"contour\"}],\"contourcarpet\":[{\"colorbar\":{\"outlinewidth\":0,\"ticks\":\"\"},\"type\":\"contourcarpet\"}],\"heatmap\":[{\"colorbar\":{\"outlinewidth\":0,\"ticks\":\"\"},\"colorscale\":[[0.0,\"#0d0887\"],[0.1111111111111111,\"#46039f\"],[0.2222222222222222,\"#7201a8\"],[0.3333333333333333,\"#9c179e\"],[0.4444444444444444,\"#bd3786\"],[0.5555555555555556,\"#d8576b\"],[0.6666666666666666,\"#ed7953\"],[0.7777777777777778,\"#fb9f3a\"],[0.8888888888888888,\"#fdca26\"],[1.0,\"#f0f921\"]],\"type\":\"heatmap\"}],\"heatmapgl\":[{\"colorbar\":{\"outlinewidth\":0,\"ticks\":\"\"},\"colorscale\":[[0.0,\"#0d0887\"],[0.1111111111111111,\"#46039f\"],[0.2222222222222222,\"#7201a8\"],[0.3333333333333333,\"#9c179e\"],[0.4444444444444444,\"#bd3786\"],[0.5555555555555556,\"#d8576b\"],[0.6666666666666666,\"#ed7953\"],[0.7777777777777778,\"#fb9f3a\"],[0.8888888888888888,\"#fdca26\"],[1.0,\"#f0f921\"]],\"type\":\"heatmapgl\"}],\"histogram\":[{\"marker\":{\"pattern\":{\"fillmode\":\"overlay\",\"size\":10,\"solidity\":0.2}},\"type\":\"histogram\"}],\"histogram2d\":[{\"colorbar\":{\"outlinewidth\":0,\"ticks\":\"\"},\"colorscale\":[[0.0,\"#0d0887\"],[0.1111111111111111,\"#46039f\"],[0.2222222222222222,\"#7201a8\"],[0.3333333333333333,\"#9c179e\"],[0.4444444444444444,\"#bd3786\"],[0.5555555555555556,\"#d8576b\"],[0.6666666666666666,\"#ed7953\"],[0.7777777777777778,\"#fb9f3a\"],[0.8888888888888888,\"#fdca26\"],[1.0,\"#f0f921\"]],\"type\":\"histogram2d\"}],\"histogram2dcontour\":[{\"colorbar\":{\"outlinewidth\":0,\"ticks\":\"\"},\"colorscale\":[[0.0,\"#0d0887\"],[0.1111111111111111,\"#46039f\"],[0.2222222222222222,\"#7201a8\"],[0.3333333333333333,\"#9c179e\"],[0.4444444444444444,\"#bd3786\"],[0.5555555555555556,\"#d8576b\"],[0.6666666666666666,\"#ed7953\"],[0.7777777777777778,\"#fb9f3a\"],[0.8888888888888888,\"#fdca26\"],[1.0,\"#f0f921\"]],\"type\":\"histogram2dcontour\"}],\"mesh3d\":[{\"colorbar\":{\"outlinewidth\":0,\"ticks\":\"\"},\"type\":\"mesh3d\"}],\"parcoords\":[{\"line\":{\"colorbar\":{\"outlinewidth\":0,\"ticks\":\"\"}},\"type\":\"parcoords\"}],\"pie\":[{\"automargin\":true,\"type\":\"pie\"}],\"scatter\":[{\"marker\":{\"colorbar\":{\"outlinewidth\":0,\"ticks\":\"\"}},\"type\":\"scatter\"}],\"scatter3d\":[{\"line\":{\"colorbar\":{\"outlinewidth\":0,\"ticks\":\"\"}},\"marker\":{\"colorbar\":{\"outlinewidth\":0,\"ticks\":\"\"}},\"type\":\"scatter3d\"}],\"scattercarpet\":[{\"marker\":{\"colorbar\":{\"outlinewidth\":0,\"ticks\":\"\"}},\"type\":\"scattercarpet\"}],\"scattergeo\":[{\"marker\":{\"colorbar\":{\"outlinewidth\":0,\"ticks\":\"\"}},\"type\":\"scattergeo\"}],\"scattergl\":[{\"marker\":{\"colorbar\":{\"outlinewidth\":0,\"ticks\":\"\"}},\"type\":\"scattergl\"}],\"scattermapbox\":[{\"marker\":{\"colorbar\":{\"outlinewidth\":0,\"ticks\":\"\"}},\"type\":\"scattermapbox\"}],\"scatterpolar\":[{\"marker\":{\"colorbar\":{\"outlinewidth\":0,\"ticks\":\"\"}},\"type\":\"scatterpolar\"}],\"scatterpolargl\":[{\"marker\":{\"colorbar\":{\"outlinewidth\":0,\"ticks\":\"\"}},\"type\":\"scatterpolargl\"}],\"scatterternary\":[{\"marker\":{\"colorbar\":{\"outlinewidth\":0,\"ticks\":\"\"}},\"type\":\"scatterternary\"}],\"surface\":[{\"colorbar\":{\"outlinewidth\":0,\"ticks\":\"\"},\"colorscale\":[[0.0,\"#0d0887\"],[0.1111111111111111,\"#46039f\"],[0.2222222222222222,\"#7201a8\"],[0.3333333333333333,\"#9c179e\"],[0.4444444444444444,\"#bd3786\"],[0.5555555555555556,\"#d8576b\"],[0.6666666666666666,\"#ed7953\"],[0.7777777777777778,\"#fb9f3a\"],[0.8888888888888888,\"#fdca26\"],[1.0,\"#f0f921\"]],\"type\":\"surface\"}],\"table\":[{\"cells\":{\"fill\":{\"color\":\"#EBF0F8\"},\"line\":{\"color\":\"white\"}},\"header\":{\"fill\":{\"color\":\"#C8D4E3\"},\"line\":{\"color\":\"white\"}},\"type\":\"table\"}]},\"layout\":{\"annotationdefaults\":{\"arrowcolor\":\"#2a3f5f\",\"arrowhead\":0,\"arrowwidth\":1},\"autotypenumbers\":\"strict\",\"coloraxis\":{\"colorbar\":{\"outlinewidth\":0,\"ticks\":\"\"}},\"colorscale\":{\"diverging\":[[0,\"#8e0152\"],[0.1,\"#c51b7d\"],[0.2,\"#de77ae\"],[0.3,\"#f1b6da\"],[0.4,\"#fde0ef\"],[0.5,\"#f7f7f7\"],[0.6,\"#e6f5d0\"],[0.7,\"#b8e186\"],[0.8,\"#7fbc41\"],[0.9,\"#4d9221\"],[1,\"#276419\"]],\"sequential\":[[0.0,\"#0d0887\"],[0.1111111111111111,\"#46039f\"],[0.2222222222222222,\"#7201a8\"],[0.3333333333333333,\"#9c179e\"],[0.4444444444444444,\"#bd3786\"],[0.5555555555555556,\"#d8576b\"],[0.6666666666666666,\"#ed7953\"],[0.7777777777777778,\"#fb9f3a\"],[0.8888888888888888,\"#fdca26\"],[1.0,\"#f0f921\"]],\"sequentialminus\":[[0.0,\"#0d0887\"],[0.1111111111111111,\"#46039f\"],[0.2222222222222222,\"#7201a8\"],[0.3333333333333333,\"#9c179e\"],[0.4444444444444444,\"#bd3786\"],[0.5555555555555556,\"#d8576b\"],[0.6666666666666666,\"#ed7953\"],[0.7777777777777778,\"#fb9f3a\"],[0.8888888888888888,\"#fdca26\"],[1.0,\"#f0f921\"]]},\"colorway\":[\"#636efa\",\"#EF553B\",\"#00cc96\",\"#ab63fa\",\"#FFA15A\",\"#19d3f3\",\"#FF6692\",\"#B6E880\",\"#FF97FF\",\"#FECB52\"],\"font\":{\"color\":\"#2a3f5f\"},\"geo\":{\"bgcolor\":\"white\",\"lakecolor\":\"white\",\"landcolor\":\"#E5ECF6\",\"showlakes\":true,\"showland\":true,\"subunitcolor\":\"white\"},\"hoverlabel\":{\"align\":\"left\"},\"hovermode\":\"closest\",\"mapbox\":{\"style\":\"light\"},\"paper_bgcolor\":\"white\",\"plot_bgcolor\":\"#E5ECF6\",\"polar\":{\"angularaxis\":{\"gridcolor\":\"white\",\"linecolor\":\"white\",\"ticks\":\"\"},\"bgcolor\":\"#E5ECF6\",\"radialaxis\":{\"gridcolor\":\"white\",\"linecolor\":\"white\",\"ticks\":\"\"}},\"scene\":{\"xaxis\":{\"backgroundcolor\":\"#E5ECF6\",\"gridcolor\":\"white\",\"gridwidth\":2,\"linecolor\":\"white\",\"showbackground\":true,\"ticks\":\"\",\"zerolinecolor\":\"white\"},\"yaxis\":{\"backgroundcolor\":\"#E5ECF6\",\"gridcolor\":\"white\",\"gridwidth\":2,\"linecolor\":\"white\",\"showbackground\":true,\"ticks\":\"\",\"zerolinecolor\":\"white\"},\"zaxis\":{\"backgroundcolor\":\"#E5ECF6\",\"gridcolor\":\"white\",\"gridwidth\":2,\"linecolor\":\"white\",\"showbackground\":true,\"ticks\":\"\",\"zerolinecolor\":\"white\"}},\"shapedefaults\":{\"line\":{\"color\":\"#2a3f5f\"}},\"ternary\":{\"aaxis\":{\"gridcolor\":\"white\",\"linecolor\":\"white\",\"ticks\":\"\"},\"baxis\":{\"gridcolor\":\"white\",\"linecolor\":\"white\",\"ticks\":\"\"},\"bgcolor\":\"#E5ECF6\",\"caxis\":{\"gridcolor\":\"white\",\"linecolor\":\"white\",\"ticks\":\"\"}},\"title\":{\"x\":0.05},\"xaxis\":{\"automargin\":true,\"gridcolor\":\"white\",\"linecolor\":\"white\",\"ticks\":\"\",\"title\":{\"standoff\":15},\"zerolinecolor\":\"white\",\"zerolinewidth\":2},\"yaxis\":{\"automargin\":true,\"gridcolor\":\"white\",\"linecolor\":\"white\",\"ticks\":\"\",\"title\":{\"standoff\":15},\"zerolinecolor\":\"white\",\"zerolinewidth\":2}}},\"xaxis\":{\"anchor\":\"y\",\"categoryarray\":[\"TV Show\",\"Movie\"],\"categoryorder\":\"array\",\"domain\":[0.0,1.0],\"title\":{\"text\":\"type\"}},\"yaxis\":{\"anchor\":\"x\",\"domain\":[0.0,1.0],\"title\":{\"text\":\"count\"}}},                        {\"responsive\": true}                    ).then(function(){\n",
              "                            \n",
              "var gd = document.getElementById('f2015c83-0e2e-4043-9f3d-e3e8f2fbc527');\n",
              "var x = new MutationObserver(function (mutations, observer) {{\n",
              "        var display = window.getComputedStyle(gd).display;\n",
              "        if (!display || display === 'none') {{\n",
              "            console.log([gd, 'removed!']);\n",
              "            Plotly.purge(gd);\n",
              "            observer.disconnect();\n",
              "        }}\n",
              "}});\n",
              "\n",
              "// Listen for the removal of the full notebook cells\n",
              "var notebookContainer = gd.closest('#notebook-container');\n",
              "if (notebookContainer) {{\n",
              "    x.observe(notebookContainer, {childList: true});\n",
              "}}\n",
              "\n",
              "// Listen for the clearing of the current output cell\n",
              "var outputEl = gd.closest('.output');\n",
              "if (outputEl) {{\n",
              "    x.observe(outputEl, {childList: true});\n",
              "}}\n",
              "\n",
              "                        })                };                            </script>        </div>\n",
              "</body>\n",
              "</html>"
            ]
          },
          "metadata": {}
        }
      ]
    },
    {
      "cell_type": "markdown",
      "source": [
        "Use bar graphs to show the rating scale of movies"
      ],
      "metadata": {
        "id": "-98xKSfkICSY"
      }
    },
    {
      "cell_type": "code",
      "source": [
        "df = df.groupby(['rating']).sum().reset_index(level=[0])\n",
        "fig = px.bar(movie_df, x='rating', color = 'rating')\n",
        "fig.show()"
      ],
      "metadata": {
        "colab": {
          "base_uri": "https://localhost:8080/",
          "height": 542
        },
        "id": "-D7pofkifGBn",
        "outputId": "beb75e6b-6aca-4a5a-e79e-1cfcdbaa946e"
      },
      "execution_count": 325,
      "outputs": [
        {
          "output_type": "display_data",
          "data": {
            "text/html": [
              "<html>\n",
              "<head><meta charset=\"utf-8\" /></head>\n",
              "<body>\n",
              "    <div>            <script src=\"https://cdnjs.cloudflare.com/ajax/libs/mathjax/2.7.5/MathJax.js?config=TeX-AMS-MML_SVG\"></script><script type=\"text/javascript\">if (window.MathJax) {MathJax.Hub.Config({SVG: {font: \"STIX-Web\"}});}</script>                <script type=\"text/javascript\">window.PlotlyConfig = {MathJaxConfig: 'local'};</script>\n",
              "        <script src=\"https://cdn.plot.ly/plotly-2.4.2.min.js\"></script>                <div id=\"ee8b6182-d73f-4937-b9aa-778b5c611a3a\" class=\"plotly-graph-div\" style=\"height:525px; width:100%;\"></div>            <script type=\"text/javascript\">                                    window.PLOTLYENV=window.PLOTLYENV || {};                                    if (document.getElementById(\"ee8b6182-d73f-4937-b9aa-778b5c611a3a\")) {                    Plotly.newPlot(                        \"ee8b6182-d73f-4937-b9aa-778b5c611a3a\",                        [{\"alignmentgroup\":\"True\",\"hovertemplate\":\"rating=%{x}<br>count=%{y}<extra></extra>\",\"legendgroup\":\"PG\",\"marker\":{\"color\":\"#636efa\",\"pattern\":{\"shape\":\"\"}},\"name\":\"PG\",\"offsetgroup\":\"PG\",\"orientation\":\"v\",\"showlegend\":true,\"textposition\":\"auto\",\"type\":\"bar\",\"x\":[\"PG\",\"PG\",\"PG\",\"PG\",\"PG\",\"PG\",\"PG\",\"PG\",\"PG\",\"PG\",\"PG\",\"PG\",\"PG\",\"PG\",\"PG\",\"PG\",\"PG\",\"PG\",\"PG\",\"PG\",\"PG\",\"PG\",\"PG\",\"PG\",\"PG\",\"PG\",\"PG\",\"PG\",\"PG\",\"PG\",\"PG\",\"PG\",\"PG\",\"PG\",\"PG\",\"PG\",\"PG\",\"PG\",\"PG\",\"PG\",\"PG\",\"PG\",\"PG\",\"PG\",\"PG\",\"PG\",\"PG\",\"PG\",\"PG\",\"PG\",\"PG\",\"PG\",\"PG\",\"PG\",\"PG\",\"PG\",\"PG\",\"PG\",\"PG\",\"PG\",\"PG\",\"PG\",\"PG\",\"PG\",\"PG\",\"PG\",\"PG\",\"PG\",\"PG\",\"PG\",\"PG\",\"PG\",\"PG\",\"PG\",\"PG\",\"PG\",\"PG\",\"PG\",\"PG\",\"PG\",\"PG\",\"PG\",\"PG\",\"PG\",\"PG\",\"PG\",\"PG\",\"PG\",\"PG\",\"PG\",\"PG\",\"PG\",\"PG\",\"PG\",\"PG\",\"PG\",\"PG\",\"PG\",\"PG\",\"PG\",\"PG\",\"PG\",\"PG\",\"PG\",\"PG\",\"PG\",\"PG\",\"PG\",\"PG\",\"PG\",\"PG\",\"PG\",\"PG\",\"PG\",\"PG\",\"PG\",\"PG\",\"PG\",\"PG\",\"PG\",\"PG\",\"PG\",\"PG\",\"PG\",\"PG\",\"PG\",\"PG\",\"PG\",\"PG\",\"PG\",\"PG\",\"PG\",\"PG\",\"PG\",\"PG\",\"PG\",\"PG\",\"PG\",\"PG\",\"PG\",\"PG\",\"PG\",\"PG\",\"PG\",\"PG\",\"PG\",\"PG\",\"PG\",\"PG\",\"PG\",\"PG\",\"PG\",\"PG\",\"PG\",\"PG\",\"PG\",\"PG\",\"PG\",\"PG\",\"PG\",\"PG\",\"PG\",\"PG\",\"PG\",\"PG\",\"PG\",\"PG\",\"PG\",\"PG\",\"PG\",\"PG\",\"PG\",\"PG\",\"PG\",\"PG\",\"PG\",\"PG\",\"PG\",\"PG\",\"PG\",\"PG\",\"PG\",\"PG\",\"PG\",\"PG\",\"PG\",\"PG\",\"PG\",\"PG\",\"PG\",\"PG\",\"PG\",\"PG\",\"PG\",\"PG\",\"PG\",\"PG\",\"PG\",\"PG\",\"PG\",\"PG\",\"PG\",\"PG\",\"PG\",\"PG\",\"PG\",\"PG\",\"PG\",\"PG\",\"PG\",\"PG\",\"PG\",\"PG\",\"PG\",\"PG\",\"PG\",\"PG\",\"PG\",\"PG\",\"PG\",\"PG\",\"PG\",\"PG\",\"PG\",\"PG\",\"PG\",\"PG\",\"PG\",\"PG\",\"PG\",\"PG\",\"PG\",\"PG\",\"PG\",\"PG\",\"PG\",\"PG\",\"PG\",\"PG\",\"PG\",\"PG\",\"PG\",\"PG\",\"PG\",\"PG\",\"PG\",\"PG\",\"PG\",\"PG\",\"PG\",\"PG\",\"PG\",\"PG\",\"PG\",\"PG\",\"PG\",\"PG\",\"PG\",\"PG\",\"PG\",\"PG\",\"PG\",\"PG\",\"PG\",\"PG\",\"PG\",\"PG\",\"PG\",\"PG\",\"PG\",\"PG\",\"PG\",\"PG\",\"PG\",\"PG\",\"PG\",\"PG\",\"PG\",\"PG\"],\"xaxis\":\"x\",\"y\":[1,1,1,1,1,1,1,1,1,1,1,1,1,1,1,1,1,1,1,1,1,1,1,1,1,1,1,1,1,1,1,1,1,1,1,1,1,1,1,1,1,1,1,1,1,1,1,1,1,1,1,1,1,1,1,1,1,1,1,1,1,1,1,1,1,1,1,1,1,1,1,1,1,1,1,1,1,1,1,1,1,1,1,1,1,1,1,1,1,1,1,1,1,1,1,1,1,1,1,1,1,1,1,1,1,1,1,1,1,1,1,1,1,1,1,1,1,1,1,1,1,1,1,1,1,1,1,1,1,1,1,1,1,1,1,1,1,1,1,1,1,1,1,1,1,1,1,1,1,1,1,1,1,1,1,1,1,1,1,1,1,1,1,1,1,1,1,1,1,1,1,1,1,1,1,1,1,1,1,1,1,1,1,1,1,1,1,1,1,1,1,1,1,1,1,1,1,1,1,1,1,1,1,1,1,1,1,1,1,1,1,1,1,1,1,1,1,1,1,1,1,1,1,1,1,1,1,1,1,1,1,1,1,1,1,1,1,1,1,1,1,1,1,1,1,1,1,1,1,1,1,1,1,1,1,1,1,1,1,1,1,1,1,1,1,1,1,1,1,1,1,1,1,1,1,1,1,1,1],\"yaxis\":\"y\"},{\"alignmentgroup\":\"True\",\"hovertemplate\":\"rating=%{x}<br>count=%{y}<extra></extra>\",\"legendgroup\":\"TV-MA\",\"marker\":{\"color\":\"#EF553B\",\"pattern\":{\"shape\":\"\"}},\"name\":\"TV-MA\",\"offsetgroup\":\"TV-MA\",\"orientation\":\"v\",\"showlegend\":true,\"textposition\":\"auto\",\"type\":\"bar\",\"x\":[\"TV-MA\",\"TV-MA\",\"TV-MA\",\"TV-MA\",\"TV-MA\",\"TV-MA\",\"TV-MA\",\"TV-MA\",\"TV-MA\",\"TV-MA\",\"TV-MA\",\"TV-MA\",\"TV-MA\",\"TV-MA\",\"TV-MA\",\"TV-MA\",\"TV-MA\",\"TV-MA\",\"TV-MA\",\"TV-MA\",\"TV-MA\",\"TV-MA\",\"TV-MA\",\"TV-MA\",\"TV-MA\",\"TV-MA\",\"TV-MA\",\"TV-MA\",\"TV-MA\",\"TV-MA\",\"TV-MA\",\"TV-MA\",\"TV-MA\",\"TV-MA\",\"TV-MA\",\"TV-MA\",\"TV-MA\",\"TV-MA\",\"TV-MA\",\"TV-MA\",\"TV-MA\",\"TV-MA\",\"TV-MA\",\"TV-MA\",\"TV-MA\",\"TV-MA\",\"TV-MA\",\"TV-MA\",\"TV-MA\",\"TV-MA\",\"TV-MA\",\"TV-MA\",\"TV-MA\",\"TV-MA\",\"TV-MA\",\"TV-MA\",\"TV-MA\",\"TV-MA\",\"TV-MA\",\"TV-MA\",\"TV-MA\",\"TV-MA\",\"TV-MA\",\"TV-MA\",\"TV-MA\",\"TV-MA\",\"TV-MA\",\"TV-MA\",\"TV-MA\",\"TV-MA\",\"TV-MA\",\"TV-MA\",\"TV-MA\",\"TV-MA\",\"TV-MA\",\"TV-MA\",\"TV-MA\",\"TV-MA\",\"TV-MA\",\"TV-MA\",\"TV-MA\",\"TV-MA\",\"TV-MA\",\"TV-MA\",\"TV-MA\",\"TV-MA\",\"TV-MA\",\"TV-MA\",\"TV-MA\",\"TV-MA\",\"TV-MA\",\"TV-MA\",\"TV-MA\",\"TV-MA\",\"TV-MA\",\"TV-MA\",\"TV-MA\",\"TV-MA\",\"TV-MA\",\"TV-MA\",\"TV-MA\",\"TV-MA\",\"TV-MA\",\"TV-MA\",\"TV-MA\",\"TV-MA\",\"TV-MA\",\"TV-MA\",\"TV-MA\",\"TV-MA\",\"TV-MA\",\"TV-MA\",\"TV-MA\",\"TV-MA\",\"TV-MA\",\"TV-MA\",\"TV-MA\",\"TV-MA\",\"TV-MA\",\"TV-MA\",\"TV-MA\",\"TV-MA\",\"TV-MA\",\"TV-MA\",\"TV-MA\",\"TV-MA\",\"TV-MA\",\"TV-MA\",\"TV-MA\",\"TV-MA\",\"TV-MA\",\"TV-MA\",\"TV-MA\",\"TV-MA\",\"TV-MA\",\"TV-MA\",\"TV-MA\",\"TV-MA\",\"TV-MA\",\"TV-MA\",\"TV-MA\",\"TV-MA\",\"TV-MA\",\"TV-MA\",\"TV-MA\",\"TV-MA\",\"TV-MA\",\"TV-MA\",\"TV-MA\",\"TV-MA\",\"TV-MA\",\"TV-MA\",\"TV-MA\",\"TV-MA\",\"TV-MA\",\"TV-MA\",\"TV-MA\",\"TV-MA\",\"TV-MA\",\"TV-MA\",\"TV-MA\",\"TV-MA\",\"TV-MA\",\"TV-MA\",\"TV-MA\",\"TV-MA\",\"TV-MA\",\"TV-MA\",\"TV-MA\",\"TV-MA\",\"TV-MA\",\"TV-MA\",\"TV-MA\",\"TV-MA\",\"TV-MA\",\"TV-MA\",\"TV-MA\",\"TV-MA\",\"TV-MA\",\"TV-MA\",\"TV-MA\",\"TV-MA\",\"TV-MA\",\"TV-MA\",\"TV-MA\",\"TV-MA\",\"TV-MA\",\"TV-MA\",\"TV-MA\",\"TV-MA\",\"TV-MA\",\"TV-MA\",\"TV-MA\",\"TV-MA\",\"TV-MA\",\"TV-MA\",\"TV-MA\",\"TV-MA\",\"TV-MA\",\"TV-MA\",\"TV-MA\",\"TV-MA\",\"TV-MA\",\"TV-MA\",\"TV-MA\",\"TV-MA\",\"TV-MA\",\"TV-MA\",\"TV-MA\",\"TV-MA\",\"TV-MA\",\"TV-MA\",\"TV-MA\",\"TV-MA\",\"TV-MA\",\"TV-MA\",\"TV-MA\",\"TV-MA\",\"TV-MA\",\"TV-MA\",\"TV-MA\",\"TV-MA\",\"TV-MA\",\"TV-MA\",\"TV-MA\",\"TV-MA\",\"TV-MA\",\"TV-MA\",\"TV-MA\",\"TV-MA\",\"TV-MA\",\"TV-MA\",\"TV-MA\",\"TV-MA\",\"TV-MA\",\"TV-MA\",\"TV-MA\",\"TV-MA\",\"TV-MA\",\"TV-MA\",\"TV-MA\",\"TV-MA\",\"TV-MA\",\"TV-MA\",\"TV-MA\",\"TV-MA\",\"TV-MA\",\"TV-MA\",\"TV-MA\",\"TV-MA\",\"TV-MA\",\"TV-MA\",\"TV-MA\",\"TV-MA\",\"TV-MA\",\"TV-MA\",\"TV-MA\",\"TV-MA\",\"TV-MA\",\"TV-MA\",\"TV-MA\",\"TV-MA\",\"TV-MA\",\"TV-MA\",\"TV-MA\",\"TV-MA\",\"TV-MA\",\"TV-MA\",\"TV-MA\",\"TV-MA\",\"TV-MA\",\"TV-MA\",\"TV-MA\",\"TV-MA\",\"TV-MA\",\"TV-MA\",\"TV-MA\",\"TV-MA\",\"TV-MA\",\"TV-MA\",\"TV-MA\",\"TV-MA\",\"TV-MA\",\"TV-MA\",\"TV-MA\",\"TV-MA\",\"TV-MA\",\"TV-MA\",\"TV-MA\",\"TV-MA\",\"TV-MA\",\"TV-MA\",\"TV-MA\",\"TV-MA\",\"TV-MA\",\"TV-MA\",\"TV-MA\",\"TV-MA\",\"TV-MA\",\"TV-MA\",\"TV-MA\",\"TV-MA\",\"TV-MA\",\"TV-MA\",\"TV-MA\",\"TV-MA\",\"TV-MA\",\"TV-MA\",\"TV-MA\",\"TV-MA\",\"TV-MA\",\"TV-MA\",\"TV-MA\",\"TV-MA\",\"TV-MA\",\"TV-MA\",\"TV-MA\",\"TV-MA\",\"TV-MA\",\"TV-MA\",\"TV-MA\",\"TV-MA\",\"TV-MA\",\"TV-MA\",\"TV-MA\",\"TV-MA\",\"TV-MA\",\"TV-MA\",\"TV-MA\",\"TV-MA\",\"TV-MA\",\"TV-MA\",\"TV-MA\",\"TV-MA\",\"TV-MA\",\"TV-MA\",\"TV-MA\",\"TV-MA\",\"TV-MA\",\"TV-MA\",\"TV-MA\",\"TV-MA\",\"TV-MA\",\"TV-MA\",\"TV-MA\",\"TV-MA\",\"TV-MA\",\"TV-MA\",\"TV-MA\",\"TV-MA\",\"TV-MA\",\"TV-MA\",\"TV-MA\",\"TV-MA\",\"TV-MA\",\"TV-MA\",\"TV-MA\",\"TV-MA\",\"TV-MA\",\"TV-MA\",\"TV-MA\",\"TV-MA\",\"TV-MA\",\"TV-MA\",\"TV-MA\",\"TV-MA\",\"TV-MA\",\"TV-MA\",\"TV-MA\",\"TV-MA\",\"TV-MA\",\"TV-MA\",\"TV-MA\",\"TV-MA\",\"TV-MA\",\"TV-MA\",\"TV-MA\",\"TV-MA\",\"TV-MA\",\"TV-MA\",\"TV-MA\",\"TV-MA\",\"TV-MA\",\"TV-MA\",\"TV-MA\",\"TV-MA\",\"TV-MA\",\"TV-MA\",\"TV-MA\",\"TV-MA\",\"TV-MA\",\"TV-MA\",\"TV-MA\",\"TV-MA\",\"TV-MA\",\"TV-MA\",\"TV-MA\",\"TV-MA\",\"TV-MA\",\"TV-MA\",\"TV-MA\",\"TV-MA\",\"TV-MA\",\"TV-MA\",\"TV-MA\",\"TV-MA\",\"TV-MA\",\"TV-MA\",\"TV-MA\",\"TV-MA\",\"TV-MA\",\"TV-MA\",\"TV-MA\",\"TV-MA\",\"TV-MA\",\"TV-MA\",\"TV-MA\",\"TV-MA\",\"TV-MA\",\"TV-MA\",\"TV-MA\",\"TV-MA\",\"TV-MA\",\"TV-MA\",\"TV-MA\",\"TV-MA\",\"TV-MA\",\"TV-MA\",\"TV-MA\",\"TV-MA\",\"TV-MA\",\"TV-MA\",\"TV-MA\",\"TV-MA\",\"TV-MA\",\"TV-MA\",\"TV-MA\",\"TV-MA\",\"TV-MA\",\"TV-MA\",\"TV-MA\",\"TV-MA\",\"TV-MA\",\"TV-MA\",\"TV-MA\",\"TV-MA\",\"TV-MA\",\"TV-MA\",\"TV-MA\",\"TV-MA\",\"TV-MA\",\"TV-MA\",\"TV-MA\",\"TV-MA\",\"TV-MA\",\"TV-MA\",\"TV-MA\",\"TV-MA\",\"TV-MA\",\"TV-MA\",\"TV-MA\",\"TV-MA\",\"TV-MA\",\"TV-MA\",\"TV-MA\",\"TV-MA\",\"TV-MA\",\"TV-MA\",\"TV-MA\",\"TV-MA\",\"TV-MA\",\"TV-MA\",\"TV-MA\",\"TV-MA\",\"TV-MA\",\"TV-MA\",\"TV-MA\",\"TV-MA\",\"TV-MA\",\"TV-MA\",\"TV-MA\",\"TV-MA\",\"TV-MA\",\"TV-MA\",\"TV-MA\",\"TV-MA\",\"TV-MA\",\"TV-MA\",\"TV-MA\",\"TV-MA\",\"TV-MA\",\"TV-MA\",\"TV-MA\",\"TV-MA\",\"TV-MA\",\"TV-MA\",\"TV-MA\",\"TV-MA\",\"TV-MA\",\"TV-MA\",\"TV-MA\",\"TV-MA\",\"TV-MA\",\"TV-MA\",\"TV-MA\",\"TV-MA\",\"TV-MA\",\"TV-MA\",\"TV-MA\",\"TV-MA\",\"TV-MA\",\"TV-MA\",\"TV-MA\",\"TV-MA\",\"TV-MA\",\"TV-MA\",\"TV-MA\",\"TV-MA\",\"TV-MA\",\"TV-MA\",\"TV-MA\",\"TV-MA\",\"TV-MA\",\"TV-MA\",\"TV-MA\",\"TV-MA\",\"TV-MA\",\"TV-MA\",\"TV-MA\",\"TV-MA\",\"TV-MA\",\"TV-MA\",\"TV-MA\",\"TV-MA\",\"TV-MA\",\"TV-MA\",\"TV-MA\",\"TV-MA\",\"TV-MA\",\"TV-MA\",\"TV-MA\",\"TV-MA\",\"TV-MA\",\"TV-MA\",\"TV-MA\",\"TV-MA\",\"TV-MA\",\"TV-MA\",\"TV-MA\",\"TV-MA\",\"TV-MA\",\"TV-MA\",\"TV-MA\",\"TV-MA\",\"TV-MA\",\"TV-MA\",\"TV-MA\",\"TV-MA\",\"TV-MA\",\"TV-MA\",\"TV-MA\",\"TV-MA\",\"TV-MA\",\"TV-MA\",\"TV-MA\",\"TV-MA\",\"TV-MA\",\"TV-MA\",\"TV-MA\",\"TV-MA\",\"TV-MA\",\"TV-MA\",\"TV-MA\",\"TV-MA\",\"TV-MA\",\"TV-MA\",\"TV-MA\",\"TV-MA\",\"TV-MA\",\"TV-MA\",\"TV-MA\",\"TV-MA\",\"TV-MA\",\"TV-MA\",\"TV-MA\",\"TV-MA\",\"TV-MA\",\"TV-MA\",\"TV-MA\",\"TV-MA\",\"TV-MA\",\"TV-MA\",\"TV-MA\",\"TV-MA\",\"TV-MA\",\"TV-MA\",\"TV-MA\",\"TV-MA\",\"TV-MA\",\"TV-MA\",\"TV-MA\",\"TV-MA\",\"TV-MA\",\"TV-MA\",\"TV-MA\",\"TV-MA\",\"TV-MA\",\"TV-MA\",\"TV-MA\",\"TV-MA\",\"TV-MA\",\"TV-MA\",\"TV-MA\",\"TV-MA\",\"TV-MA\",\"TV-MA\",\"TV-MA\",\"TV-MA\",\"TV-MA\",\"TV-MA\",\"TV-MA\",\"TV-MA\",\"TV-MA\",\"TV-MA\",\"TV-MA\",\"TV-MA\",\"TV-MA\",\"TV-MA\",\"TV-MA\",\"TV-MA\",\"TV-MA\",\"TV-MA\",\"TV-MA\",\"TV-MA\",\"TV-MA\",\"TV-MA\",\"TV-MA\",\"TV-MA\",\"TV-MA\",\"TV-MA\",\"TV-MA\",\"TV-MA\",\"TV-MA\",\"TV-MA\",\"TV-MA\",\"TV-MA\",\"TV-MA\",\"TV-MA\",\"TV-MA\",\"TV-MA\",\"TV-MA\",\"TV-MA\",\"TV-MA\",\"TV-MA\",\"TV-MA\",\"TV-MA\",\"TV-MA\",\"TV-MA\",\"TV-MA\",\"TV-MA\",\"TV-MA\",\"TV-MA\",\"TV-MA\",\"TV-MA\",\"TV-MA\",\"TV-MA\",\"TV-MA\",\"TV-MA\",\"TV-MA\",\"TV-MA\",\"TV-MA\",\"TV-MA\",\"TV-MA\",\"TV-MA\",\"TV-MA\",\"TV-MA\",\"TV-MA\",\"TV-MA\",\"TV-MA\",\"TV-MA\",\"TV-MA\",\"TV-MA\",\"TV-MA\",\"TV-MA\",\"TV-MA\",\"TV-MA\",\"TV-MA\",\"TV-MA\",\"TV-MA\",\"TV-MA\",\"TV-MA\",\"TV-MA\",\"TV-MA\",\"TV-MA\",\"TV-MA\",\"TV-MA\",\"TV-MA\",\"TV-MA\",\"TV-MA\",\"TV-MA\",\"TV-MA\",\"TV-MA\",\"TV-MA\",\"TV-MA\",\"TV-MA\",\"TV-MA\",\"TV-MA\",\"TV-MA\",\"TV-MA\",\"TV-MA\",\"TV-MA\",\"TV-MA\",\"TV-MA\",\"TV-MA\",\"TV-MA\",\"TV-MA\",\"TV-MA\",\"TV-MA\",\"TV-MA\",\"TV-MA\",\"TV-MA\",\"TV-MA\",\"TV-MA\",\"TV-MA\",\"TV-MA\",\"TV-MA\",\"TV-MA\",\"TV-MA\",\"TV-MA\",\"TV-MA\",\"TV-MA\",\"TV-MA\",\"TV-MA\",\"TV-MA\",\"TV-MA\",\"TV-MA\",\"TV-MA\",\"TV-MA\",\"TV-MA\",\"TV-MA\",\"TV-MA\",\"TV-MA\",\"TV-MA\",\"TV-MA\",\"TV-MA\",\"TV-MA\",\"TV-MA\",\"TV-MA\",\"TV-MA\",\"TV-MA\",\"TV-MA\",\"TV-MA\",\"TV-MA\",\"TV-MA\",\"TV-MA\",\"TV-MA\",\"TV-MA\",\"TV-MA\",\"TV-MA\",\"TV-MA\",\"TV-MA\",\"TV-MA\",\"TV-MA\",\"TV-MA\",\"TV-MA\",\"TV-MA\",\"TV-MA\",\"TV-MA\",\"TV-MA\",\"TV-MA\",\"TV-MA\",\"TV-MA\",\"TV-MA\",\"TV-MA\",\"TV-MA\",\"TV-MA\",\"TV-MA\",\"TV-MA\",\"TV-MA\",\"TV-MA\",\"TV-MA\",\"TV-MA\",\"TV-MA\",\"TV-MA\",\"TV-MA\",\"TV-MA\",\"TV-MA\",\"TV-MA\",\"TV-MA\",\"TV-MA\",\"TV-MA\",\"TV-MA\",\"TV-MA\",\"TV-MA\",\"TV-MA\",\"TV-MA\",\"TV-MA\",\"TV-MA\",\"TV-MA\",\"TV-MA\",\"TV-MA\",\"TV-MA\",\"TV-MA\",\"TV-MA\",\"TV-MA\",\"TV-MA\",\"TV-MA\",\"TV-MA\",\"TV-MA\",\"TV-MA\",\"TV-MA\",\"TV-MA\",\"TV-MA\",\"TV-MA\",\"TV-MA\",\"TV-MA\",\"TV-MA\",\"TV-MA\",\"TV-MA\",\"TV-MA\",\"TV-MA\",\"TV-MA\",\"TV-MA\",\"TV-MA\",\"TV-MA\",\"TV-MA\",\"TV-MA\",\"TV-MA\",\"TV-MA\",\"TV-MA\",\"TV-MA\",\"TV-MA\",\"TV-MA\",\"TV-MA\",\"TV-MA\",\"TV-MA\",\"TV-MA\",\"TV-MA\",\"TV-MA\",\"TV-MA\",\"TV-MA\",\"TV-MA\",\"TV-MA\",\"TV-MA\",\"TV-MA\",\"TV-MA\",\"TV-MA\",\"TV-MA\",\"TV-MA\",\"TV-MA\",\"TV-MA\",\"TV-MA\",\"TV-MA\",\"TV-MA\",\"TV-MA\",\"TV-MA\",\"TV-MA\",\"TV-MA\",\"TV-MA\",\"TV-MA\",\"TV-MA\",\"TV-MA\",\"TV-MA\",\"TV-MA\",\"TV-MA\",\"TV-MA\",\"TV-MA\",\"TV-MA\",\"TV-MA\",\"TV-MA\",\"TV-MA\",\"TV-MA\",\"TV-MA\",\"TV-MA\",\"TV-MA\",\"TV-MA\",\"TV-MA\",\"TV-MA\",\"TV-MA\",\"TV-MA\",\"TV-MA\",\"TV-MA\",\"TV-MA\",\"TV-MA\",\"TV-MA\",\"TV-MA\",\"TV-MA\",\"TV-MA\",\"TV-MA\",\"TV-MA\",\"TV-MA\",\"TV-MA\",\"TV-MA\",\"TV-MA\",\"TV-MA\",\"TV-MA\",\"TV-MA\",\"TV-MA\",\"TV-MA\",\"TV-MA\",\"TV-MA\",\"TV-MA\",\"TV-MA\",\"TV-MA\",\"TV-MA\",\"TV-MA\",\"TV-MA\",\"TV-MA\",\"TV-MA\",\"TV-MA\",\"TV-MA\",\"TV-MA\",\"TV-MA\",\"TV-MA\",\"TV-MA\",\"TV-MA\",\"TV-MA\",\"TV-MA\",\"TV-MA\",\"TV-MA\",\"TV-MA\",\"TV-MA\",\"TV-MA\",\"TV-MA\",\"TV-MA\",\"TV-MA\",\"TV-MA\",\"TV-MA\",\"TV-MA\",\"TV-MA\",\"TV-MA\",\"TV-MA\",\"TV-MA\",\"TV-MA\",\"TV-MA\",\"TV-MA\",\"TV-MA\",\"TV-MA\",\"TV-MA\",\"TV-MA\",\"TV-MA\",\"TV-MA\",\"TV-MA\",\"TV-MA\",\"TV-MA\",\"TV-MA\",\"TV-MA\",\"TV-MA\",\"TV-MA\",\"TV-MA\",\"TV-MA\",\"TV-MA\",\"TV-MA\",\"TV-MA\",\"TV-MA\",\"TV-MA\",\"TV-MA\",\"TV-MA\",\"TV-MA\",\"TV-MA\",\"TV-MA\",\"TV-MA\",\"TV-MA\",\"TV-MA\",\"TV-MA\",\"TV-MA\",\"TV-MA\",\"TV-MA\",\"TV-MA\",\"TV-MA\",\"TV-MA\",\"TV-MA\",\"TV-MA\",\"TV-MA\",\"TV-MA\",\"TV-MA\",\"TV-MA\",\"TV-MA\",\"TV-MA\",\"TV-MA\",\"TV-MA\",\"TV-MA\",\"TV-MA\",\"TV-MA\",\"TV-MA\",\"TV-MA\",\"TV-MA\",\"TV-MA\",\"TV-MA\",\"TV-MA\",\"TV-MA\",\"TV-MA\",\"TV-MA\",\"TV-MA\",\"TV-MA\",\"TV-MA\",\"TV-MA\",\"TV-MA\",\"TV-MA\",\"TV-MA\",\"TV-MA\",\"TV-MA\",\"TV-MA\",\"TV-MA\",\"TV-MA\",\"TV-MA\",\"TV-MA\",\"TV-MA\",\"TV-MA\",\"TV-MA\",\"TV-MA\",\"TV-MA\",\"TV-MA\",\"TV-MA\",\"TV-MA\",\"TV-MA\",\"TV-MA\",\"TV-MA\",\"TV-MA\",\"TV-MA\",\"TV-MA\",\"TV-MA\",\"TV-MA\",\"TV-MA\",\"TV-MA\",\"TV-MA\",\"TV-MA\",\"TV-MA\",\"TV-MA\",\"TV-MA\",\"TV-MA\",\"TV-MA\",\"TV-MA\",\"TV-MA\",\"TV-MA\",\"TV-MA\",\"TV-MA\",\"TV-MA\",\"TV-MA\",\"TV-MA\",\"TV-MA\",\"TV-MA\",\"TV-MA\",\"TV-MA\",\"TV-MA\",\"TV-MA\",\"TV-MA\",\"TV-MA\",\"TV-MA\",\"TV-MA\",\"TV-MA\",\"TV-MA\",\"TV-MA\",\"TV-MA\",\"TV-MA\",\"TV-MA\",\"TV-MA\",\"TV-MA\",\"TV-MA\",\"TV-MA\",\"TV-MA\",\"TV-MA\",\"TV-MA\",\"TV-MA\",\"TV-MA\",\"TV-MA\",\"TV-MA\",\"TV-MA\",\"TV-MA\",\"TV-MA\",\"TV-MA\",\"TV-MA\",\"TV-MA\",\"TV-MA\",\"TV-MA\",\"TV-MA\",\"TV-MA\",\"TV-MA\",\"TV-MA\",\"TV-MA\",\"TV-MA\",\"TV-MA\",\"TV-MA\",\"TV-MA\",\"TV-MA\",\"TV-MA\",\"TV-MA\",\"TV-MA\",\"TV-MA\",\"TV-MA\",\"TV-MA\",\"TV-MA\",\"TV-MA\",\"TV-MA\",\"TV-MA\",\"TV-MA\",\"TV-MA\",\"TV-MA\",\"TV-MA\",\"TV-MA\",\"TV-MA\",\"TV-MA\",\"TV-MA\",\"TV-MA\",\"TV-MA\",\"TV-MA\",\"TV-MA\",\"TV-MA\",\"TV-MA\",\"TV-MA\",\"TV-MA\",\"TV-MA\",\"TV-MA\",\"TV-MA\",\"TV-MA\",\"TV-MA\",\"TV-MA\",\"TV-MA\",\"TV-MA\",\"TV-MA\",\"TV-MA\",\"TV-MA\",\"TV-MA\",\"TV-MA\",\"TV-MA\",\"TV-MA\",\"TV-MA\",\"TV-MA\",\"TV-MA\",\"TV-MA\",\"TV-MA\",\"TV-MA\",\"TV-MA\",\"TV-MA\",\"TV-MA\",\"TV-MA\",\"TV-MA\",\"TV-MA\",\"TV-MA\",\"TV-MA\",\"TV-MA\",\"TV-MA\",\"TV-MA\",\"TV-MA\",\"TV-MA\",\"TV-MA\",\"TV-MA\",\"TV-MA\",\"TV-MA\",\"TV-MA\",\"TV-MA\",\"TV-MA\",\"TV-MA\",\"TV-MA\",\"TV-MA\",\"TV-MA\",\"TV-MA\",\"TV-MA\",\"TV-MA\",\"TV-MA\",\"TV-MA\",\"TV-MA\",\"TV-MA\",\"TV-MA\",\"TV-MA\",\"TV-MA\",\"TV-MA\",\"TV-MA\",\"TV-MA\",\"TV-MA\",\"TV-MA\",\"TV-MA\",\"TV-MA\",\"TV-MA\",\"TV-MA\",\"TV-MA\",\"TV-MA\",\"TV-MA\",\"TV-MA\",\"TV-MA\",\"TV-MA\",\"TV-MA\",\"TV-MA\",\"TV-MA\",\"TV-MA\",\"TV-MA\",\"TV-MA\",\"TV-MA\",\"TV-MA\",\"TV-MA\",\"TV-MA\",\"TV-MA\",\"TV-MA\",\"TV-MA\",\"TV-MA\",\"TV-MA\",\"TV-MA\",\"TV-MA\",\"TV-MA\",\"TV-MA\",\"TV-MA\",\"TV-MA\",\"TV-MA\",\"TV-MA\",\"TV-MA\",\"TV-MA\",\"TV-MA\",\"TV-MA\",\"TV-MA\",\"TV-MA\",\"TV-MA\",\"TV-MA\",\"TV-MA\",\"TV-MA\",\"TV-MA\",\"TV-MA\",\"TV-MA\",\"TV-MA\",\"TV-MA\",\"TV-MA\",\"TV-MA\",\"TV-MA\",\"TV-MA\",\"TV-MA\",\"TV-MA\",\"TV-MA\",\"TV-MA\",\"TV-MA\",\"TV-MA\",\"TV-MA\",\"TV-MA\",\"TV-MA\",\"TV-MA\",\"TV-MA\",\"TV-MA\",\"TV-MA\",\"TV-MA\",\"TV-MA\",\"TV-MA\",\"TV-MA\",\"TV-MA\",\"TV-MA\",\"TV-MA\",\"TV-MA\",\"TV-MA\",\"TV-MA\",\"TV-MA\",\"TV-MA\",\"TV-MA\",\"TV-MA\",\"TV-MA\",\"TV-MA\",\"TV-MA\",\"TV-MA\",\"TV-MA\",\"TV-MA\",\"TV-MA\",\"TV-MA\",\"TV-MA\",\"TV-MA\",\"TV-MA\",\"TV-MA\",\"TV-MA\",\"TV-MA\",\"TV-MA\",\"TV-MA\",\"TV-MA\",\"TV-MA\",\"TV-MA\",\"TV-MA\",\"TV-MA\",\"TV-MA\",\"TV-MA\",\"TV-MA\",\"TV-MA\",\"TV-MA\",\"TV-MA\",\"TV-MA\",\"TV-MA\",\"TV-MA\",\"TV-MA\",\"TV-MA\",\"TV-MA\",\"TV-MA\",\"TV-MA\",\"TV-MA\",\"TV-MA\",\"TV-MA\",\"TV-MA\",\"TV-MA\",\"TV-MA\",\"TV-MA\",\"TV-MA\",\"TV-MA\",\"TV-MA\",\"TV-MA\",\"TV-MA\",\"TV-MA\",\"TV-MA\",\"TV-MA\",\"TV-MA\",\"TV-MA\",\"TV-MA\",\"TV-MA\",\"TV-MA\",\"TV-MA\",\"TV-MA\",\"TV-MA\",\"TV-MA\",\"TV-MA\",\"TV-MA\",\"TV-MA\",\"TV-MA\",\"TV-MA\",\"TV-MA\",\"TV-MA\",\"TV-MA\",\"TV-MA\",\"TV-MA\",\"TV-MA\",\"TV-MA\",\"TV-MA\",\"TV-MA\",\"TV-MA\",\"TV-MA\",\"TV-MA\",\"TV-MA\",\"TV-MA\",\"TV-MA\",\"TV-MA\",\"TV-MA\",\"TV-MA\",\"TV-MA\",\"TV-MA\",\"TV-MA\",\"TV-MA\",\"TV-MA\",\"TV-MA\",\"TV-MA\",\"TV-MA\",\"TV-MA\",\"TV-MA\",\"TV-MA\",\"TV-MA\",\"TV-MA\",\"TV-MA\",\"TV-MA\",\"TV-MA\",\"TV-MA\",\"TV-MA\",\"TV-MA\",\"TV-MA\",\"TV-MA\",\"TV-MA\",\"TV-MA\",\"TV-MA\",\"TV-MA\",\"TV-MA\",\"TV-MA\",\"TV-MA\",\"TV-MA\",\"TV-MA\",\"TV-MA\",\"TV-MA\",\"TV-MA\",\"TV-MA\",\"TV-MA\",\"TV-MA\",\"TV-MA\",\"TV-MA\",\"TV-MA\",\"TV-MA\",\"TV-MA\",\"TV-MA\",\"TV-MA\",\"TV-MA\",\"TV-MA\",\"TV-MA\",\"TV-MA\",\"TV-MA\",\"TV-MA\",\"TV-MA\",\"TV-MA\",\"TV-MA\",\"TV-MA\",\"TV-MA\",\"TV-MA\",\"TV-MA\",\"TV-MA\",\"TV-MA\",\"TV-MA\",\"TV-MA\",\"TV-MA\",\"TV-MA\",\"TV-MA\",\"TV-MA\",\"TV-MA\",\"TV-MA\",\"TV-MA\",\"TV-MA\",\"TV-MA\",\"TV-MA\",\"TV-MA\",\"TV-MA\",\"TV-MA\",\"TV-MA\",\"TV-MA\",\"TV-MA\",\"TV-MA\",\"TV-MA\",\"TV-MA\",\"TV-MA\",\"TV-MA\",\"TV-MA\",\"TV-MA\",\"TV-MA\",\"TV-MA\",\"TV-MA\",\"TV-MA\",\"TV-MA\",\"TV-MA\",\"TV-MA\",\"TV-MA\",\"TV-MA\",\"TV-MA\",\"TV-MA\",\"TV-MA\",\"TV-MA\",\"TV-MA\",\"TV-MA\",\"TV-MA\",\"TV-MA\",\"TV-MA\",\"TV-MA\",\"TV-MA\",\"TV-MA\",\"TV-MA\",\"TV-MA\",\"TV-MA\",\"TV-MA\",\"TV-MA\",\"TV-MA\",\"TV-MA\",\"TV-MA\",\"TV-MA\",\"TV-MA\",\"TV-MA\",\"TV-MA\",\"TV-MA\",\"TV-MA\",\"TV-MA\",\"TV-MA\",\"TV-MA\",\"TV-MA\",\"TV-MA\",\"TV-MA\",\"TV-MA\",\"TV-MA\",\"TV-MA\",\"TV-MA\",\"TV-MA\",\"TV-MA\",\"TV-MA\",\"TV-MA\",\"TV-MA\",\"TV-MA\",\"TV-MA\",\"TV-MA\",\"TV-MA\",\"TV-MA\",\"TV-MA\",\"TV-MA\",\"TV-MA\",\"TV-MA\",\"TV-MA\",\"TV-MA\",\"TV-MA\",\"TV-MA\",\"TV-MA\",\"TV-MA\",\"TV-MA\",\"TV-MA\",\"TV-MA\",\"TV-MA\",\"TV-MA\",\"TV-MA\",\"TV-MA\",\"TV-MA\",\"TV-MA\",\"TV-MA\",\"TV-MA\",\"TV-MA\",\"TV-MA\",\"TV-MA\",\"TV-MA\",\"TV-MA\",\"TV-MA\",\"TV-MA\",\"TV-MA\",\"TV-MA\",\"TV-MA\",\"TV-MA\",\"TV-MA\",\"TV-MA\",\"TV-MA\",\"TV-MA\",\"TV-MA\",\"TV-MA\",\"TV-MA\",\"TV-MA\",\"TV-MA\",\"TV-MA\",\"TV-MA\",\"TV-MA\",\"TV-MA\",\"TV-MA\",\"TV-MA\",\"TV-MA\",\"TV-MA\",\"TV-MA\",\"TV-MA\",\"TV-MA\",\"TV-MA\",\"TV-MA\",\"TV-MA\",\"TV-MA\",\"TV-MA\",\"TV-MA\",\"TV-MA\",\"TV-MA\",\"TV-MA\",\"TV-MA\",\"TV-MA\",\"TV-MA\",\"TV-MA\",\"TV-MA\",\"TV-MA\",\"TV-MA\",\"TV-MA\",\"TV-MA\",\"TV-MA\",\"TV-MA\",\"TV-MA\",\"TV-MA\",\"TV-MA\",\"TV-MA\",\"TV-MA\",\"TV-MA\",\"TV-MA\",\"TV-MA\",\"TV-MA\",\"TV-MA\",\"TV-MA\",\"TV-MA\",\"TV-MA\",\"TV-MA\",\"TV-MA\",\"TV-MA\",\"TV-MA\",\"TV-MA\",\"TV-MA\",\"TV-MA\",\"TV-MA\",\"TV-MA\",\"TV-MA\",\"TV-MA\",\"TV-MA\",\"TV-MA\",\"TV-MA\",\"TV-MA\",\"TV-MA\",\"TV-MA\",\"TV-MA\",\"TV-MA\",\"TV-MA\",\"TV-MA\",\"TV-MA\",\"TV-MA\",\"TV-MA\",\"TV-MA\",\"TV-MA\",\"TV-MA\",\"TV-MA\",\"TV-MA\",\"TV-MA\",\"TV-MA\",\"TV-MA\",\"TV-MA\",\"TV-MA\",\"TV-MA\",\"TV-MA\",\"TV-MA\",\"TV-MA\",\"TV-MA\",\"TV-MA\",\"TV-MA\",\"TV-MA\",\"TV-MA\",\"TV-MA\",\"TV-MA\",\"TV-MA\",\"TV-MA\",\"TV-MA\",\"TV-MA\",\"TV-MA\",\"TV-MA\",\"TV-MA\",\"TV-MA\",\"TV-MA\",\"TV-MA\",\"TV-MA\",\"TV-MA\",\"TV-MA\",\"TV-MA\",\"TV-MA\",\"TV-MA\",\"TV-MA\",\"TV-MA\",\"TV-MA\",\"TV-MA\",\"TV-MA\",\"TV-MA\",\"TV-MA\",\"TV-MA\",\"TV-MA\",\"TV-MA\",\"TV-MA\",\"TV-MA\",\"TV-MA\",\"TV-MA\",\"TV-MA\",\"TV-MA\",\"TV-MA\",\"TV-MA\",\"TV-MA\",\"TV-MA\",\"TV-MA\",\"TV-MA\",\"TV-MA\",\"TV-MA\",\"TV-MA\",\"TV-MA\",\"TV-MA\",\"TV-MA\",\"TV-MA\",\"TV-MA\",\"TV-MA\",\"TV-MA\",\"TV-MA\",\"TV-MA\",\"TV-MA\",\"TV-MA\",\"TV-MA\",\"TV-MA\",\"TV-MA\",\"TV-MA\",\"TV-MA\",\"TV-MA\",\"TV-MA\",\"TV-MA\",\"TV-MA\",\"TV-MA\",\"TV-MA\",\"TV-MA\",\"TV-MA\",\"TV-MA\",\"TV-MA\",\"TV-MA\",\"TV-MA\",\"TV-MA\",\"TV-MA\",\"TV-MA\",\"TV-MA\",\"TV-MA\",\"TV-MA\",\"TV-MA\",\"TV-MA\",\"TV-MA\",\"TV-MA\",\"TV-MA\",\"TV-MA\",\"TV-MA\",\"TV-MA\",\"TV-MA\",\"TV-MA\",\"TV-MA\",\"TV-MA\",\"TV-MA\",\"TV-MA\",\"TV-MA\",\"TV-MA\",\"TV-MA\",\"TV-MA\",\"TV-MA\",\"TV-MA\",\"TV-MA\",\"TV-MA\",\"TV-MA\",\"TV-MA\",\"TV-MA\",\"TV-MA\",\"TV-MA\",\"TV-MA\",\"TV-MA\",\"TV-MA\",\"TV-MA\",\"TV-MA\",\"TV-MA\",\"TV-MA\",\"TV-MA\",\"TV-MA\",\"TV-MA\",\"TV-MA\",\"TV-MA\",\"TV-MA\",\"TV-MA\",\"TV-MA\",\"TV-MA\",\"TV-MA\",\"TV-MA\",\"TV-MA\",\"TV-MA\",\"TV-MA\",\"TV-MA\",\"TV-MA\",\"TV-MA\",\"TV-MA\",\"TV-MA\",\"TV-MA\",\"TV-MA\",\"TV-MA\",\"TV-MA\",\"TV-MA\",\"TV-MA\",\"TV-MA\",\"TV-MA\",\"TV-MA\",\"TV-MA\",\"TV-MA\",\"TV-MA\",\"TV-MA\",\"TV-MA\",\"TV-MA\",\"TV-MA\",\"TV-MA\",\"TV-MA\",\"TV-MA\",\"TV-MA\",\"TV-MA\",\"TV-MA\",\"TV-MA\",\"TV-MA\",\"TV-MA\",\"TV-MA\",\"TV-MA\",\"TV-MA\",\"TV-MA\",\"TV-MA\",\"TV-MA\",\"TV-MA\",\"TV-MA\",\"TV-MA\",\"TV-MA\",\"TV-MA\",\"TV-MA\",\"TV-MA\",\"TV-MA\",\"TV-MA\",\"TV-MA\",\"TV-MA\",\"TV-MA\",\"TV-MA\",\"TV-MA\",\"TV-MA\",\"TV-MA\",\"TV-MA\",\"TV-MA\",\"TV-MA\",\"TV-MA\",\"TV-MA\",\"TV-MA\",\"TV-MA\",\"TV-MA\",\"TV-MA\",\"TV-MA\",\"TV-MA\",\"TV-MA\",\"TV-MA\",\"TV-MA\",\"TV-MA\",\"TV-MA\",\"TV-MA\",\"TV-MA\",\"TV-MA\",\"TV-MA\",\"TV-MA\",\"TV-MA\",\"TV-MA\",\"TV-MA\",\"TV-MA\",\"TV-MA\",\"TV-MA\",\"TV-MA\",\"TV-MA\",\"TV-MA\",\"TV-MA\",\"TV-MA\",\"TV-MA\",\"TV-MA\",\"TV-MA\",\"TV-MA\",\"TV-MA\",\"TV-MA\",\"TV-MA\",\"TV-MA\",\"TV-MA\",\"TV-MA\",\"TV-MA\",\"TV-MA\",\"TV-MA\",\"TV-MA\",\"TV-MA\",\"TV-MA\",\"TV-MA\",\"TV-MA\",\"TV-MA\",\"TV-MA\",\"TV-MA\",\"TV-MA\",\"TV-MA\",\"TV-MA\",\"TV-MA\",\"TV-MA\",\"TV-MA\",\"TV-MA\",\"TV-MA\",\"TV-MA\",\"TV-MA\",\"TV-MA\",\"TV-MA\",\"TV-MA\",\"TV-MA\"],\"xaxis\":\"x\",\"y\":[1,1,1,1,1,1,1,1,1,1,1,1,1,1,1,1,1,1,1,1,1,1,1,1,1,1,1,1,1,1,1,1,1,1,1,1,1,1,1,1,1,1,1,1,1,1,1,1,1,1,1,1,1,1,1,1,1,1,1,1,1,1,1,1,1,1,1,1,1,1,1,1,1,1,1,1,1,1,1,1,1,1,1,1,1,1,1,1,1,1,1,1,1,1,1,1,1,1,1,1,1,1,1,1,1,1,1,1,1,1,1,1,1,1,1,1,1,1,1,1,1,1,1,1,1,1,1,1,1,1,1,1,1,1,1,1,1,1,1,1,1,1,1,1,1,1,1,1,1,1,1,1,1,1,1,1,1,1,1,1,1,1,1,1,1,1,1,1,1,1,1,1,1,1,1,1,1,1,1,1,1,1,1,1,1,1,1,1,1,1,1,1,1,1,1,1,1,1,1,1,1,1,1,1,1,1,1,1,1,1,1,1,1,1,1,1,1,1,1,1,1,1,1,1,1,1,1,1,1,1,1,1,1,1,1,1,1,1,1,1,1,1,1,1,1,1,1,1,1,1,1,1,1,1,1,1,1,1,1,1,1,1,1,1,1,1,1,1,1,1,1,1,1,1,1,1,1,1,1,1,1,1,1,1,1,1,1,1,1,1,1,1,1,1,1,1,1,1,1,1,1,1,1,1,1,1,1,1,1,1,1,1,1,1,1,1,1,1,1,1,1,1,1,1,1,1,1,1,1,1,1,1,1,1,1,1,1,1,1,1,1,1,1,1,1,1,1,1,1,1,1,1,1,1,1,1,1,1,1,1,1,1,1,1,1,1,1,1,1,1,1,1,1,1,1,1,1,1,1,1,1,1,1,1,1,1,1,1,1,1,1,1,1,1,1,1,1,1,1,1,1,1,1,1,1,1,1,1,1,1,1,1,1,1,1,1,1,1,1,1,1,1,1,1,1,1,1,1,1,1,1,1,1,1,1,1,1,1,1,1,1,1,1,1,1,1,1,1,1,1,1,1,1,1,1,1,1,1,1,1,1,1,1,1,1,1,1,1,1,1,1,1,1,1,1,1,1,1,1,1,1,1,1,1,1,1,1,1,1,1,1,1,1,1,1,1,1,1,1,1,1,1,1,1,1,1,1,1,1,1,1,1,1,1,1,1,1,1,1,1,1,1,1,1,1,1,1,1,1,1,1,1,1,1,1,1,1,1,1,1,1,1,1,1,1,1,1,1,1,1,1,1,1,1,1,1,1,1,1,1,1,1,1,1,1,1,1,1,1,1,1,1,1,1,1,1,1,1,1,1,1,1,1,1,1,1,1,1,1,1,1,1,1,1,1,1,1,1,1,1,1,1,1,1,1,1,1,1,1,1,1,1,1,1,1,1,1,1,1,1,1,1,1,1,1,1,1,1,1,1,1,1,1,1,1,1,1,1,1,1,1,1,1,1,1,1,1,1,1,1,1,1,1,1,1,1,1,1,1,1,1,1,1,1,1,1,1,1,1,1,1,1,1,1,1,1,1,1,1,1,1,1,1,1,1,1,1,1,1,1,1,1,1,1,1,1,1,1,1,1,1,1,1,1,1,1,1,1,1,1,1,1,1,1,1,1,1,1,1,1,1,1,1,1,1,1,1,1,1,1,1,1,1,1,1,1,1,1,1,1,1,1,1,1,1,1,1,1,1,1,1,1,1,1,1,1,1,1,1,1,1,1,1,1,1,1,1,1,1,1,1,1,1,1,1,1,1,1,1,1,1,1,1,1,1,1,1,1,1,1,1,1,1,1,1,1,1,1,1,1,1,1,1,1,1,1,1,1,1,1,1,1,1,1,1,1,1,1,1,1,1,1,1,1,1,1,1,1,1,1,1,1,1,1,1,1,1,1,1,1,1,1,1,1,1,1,1,1,1,1,1,1,1,1,1,1,1,1,1,1,1,1,1,1,1,1,1,1,1,1,1,1,1,1,1,1,1,1,1,1,1,1,1,1,1,1,1,1,1,1,1,1,1,1,1,1,1,1,1,1,1,1,1,1,1,1,1,1,1,1,1,1,1,1,1,1,1,1,1,1,1,1,1,1,1,1,1,1,1,1,1,1,1,1,1,1,1,1,1,1,1,1,1,1,1,1,1,1,1,1,1,1,1,1,1,1,1,1,1,1,1,1,1,1,1,1,1,1,1,1,1,1,1,1,1,1,1,1,1,1,1,1,1,1,1,1,1,1,1,1,1,1,1,1,1,1,1,1,1,1,1,1,1,1,1,1,1,1,1,1,1,1,1,1,1,1,1,1,1,1,1,1,1,1,1,1,1,1,1,1,1,1,1,1,1,1,1,1,1,1,1,1,1,1,1,1,1,1,1,1,1,1,1,1,1,1,1,1,1,1,1,1,1,1,1,1,1,1,1,1,1,1,1,1,1,1,1,1,1,1,1,1,1,1,1,1,1,1,1,1,1,1,1,1,1,1,1,1,1,1,1,1,1,1,1,1,1,1,1,1,1,1,1,1,1,1,1,1,1,1,1,1,1,1,1,1,1,1,1,1,1,1,1,1,1,1,1,1,1,1,1,1,1,1,1,1,1,1,1,1,1,1,1,1,1,1,1,1,1,1,1,1,1,1,1,1,1,1,1,1,1,1,1,1,1,1,1,1,1,1,1,1,1,1,1,1,1,1,1,1,1,1,1,1,1,1,1,1,1,1,1,1,1,1,1,1,1,1,1,1,1,1,1,1,1,1,1,1,1,1,1,1,1,1,1,1,1,1,1,1,1,1,1,1,1,1,1,1,1,1,1,1,1,1,1,1,1,1,1,1,1,1,1,1,1,1,1,1,1,1,1,1,1,1,1,1,1,1,1,1,1,1,1,1,1,1,1,1,1,1,1,1,1,1,1,1,1,1,1,1,1,1,1,1,1,1,1,1,1,1,1,1,1,1,1,1,1,1,1,1,1,1,1,1,1,1,1,1,1,1,1,1,1,1,1,1,1,1,1,1,1,1,1,1,1,1,1,1,1,1,1,1,1,1,1,1,1,1,1,1,1,1,1,1,1,1,1,1,1,1,1,1,1,1,1,1,1,1,1,1,1,1,1,1,1,1,1,1,1,1,1,1,1,1,1,1,1,1,1,1,1,1,1,1,1,1,1,1,1,1,1,1,1,1,1,1,1,1,1,1,1,1,1,1,1,1,1,1,1,1,1,1,1,1,1,1,1,1,1,1,1,1,1,1,1,1,1,1,1,1,1,1,1,1,1,1,1,1,1,1,1,1,1,1,1,1,1,1,1,1,1,1,1,1,1,1,1,1,1,1,1,1,1,1,1,1,1,1,1,1,1,1,1,1,1,1,1,1,1,1,1,1,1,1,1,1,1,1,1,1,1,1,1,1,1,1,1,1,1,1,1,1,1,1,1,1,1,1,1,1,1,1,1,1,1,1,1,1,1,1,1,1,1,1,1,1,1,1,1,1,1,1,1,1,1,1,1,1,1,1,1,1,1,1,1,1,1,1,1,1,1,1,1,1,1,1,1,1,1,1,1,1,1,1,1,1,1,1,1,1,1,1,1,1,1,1,1,1,1,1,1,1,1,1,1,1,1,1,1,1,1,1,1,1,1,1,1,1,1,1,1,1,1,1,1,1,1,1,1,1,1,1,1,1,1,1,1,1,1,1,1,1,1,1,1,1,1,1,1,1,1,1,1,1,1,1,1,1,1,1,1,1,1,1,1,1,1,1,1,1,1,1,1,1,1,1,1,1,1,1,1,1,1,1,1,1,1,1,1,1,1,1,1,1,1,1,1,1,1,1,1,1,1,1,1,1,1,1,1,1,1,1,1,1,1,1,1,1,1,1,1,1,1,1,1,1,1,1,1,1,1,1,1,1,1,1,1,1,1,1,1,1,1,1,1,1,1,1,1,1,1,1,1,1,1,1,1,1,1,1,1,1,1,1,1,1,1,1,1,1,1,1,1,1,1,1,1,1,1,1,1,1,1,1,1,1,1,1,1,1,1,1,1,1,1,1,1,1,1,1,1,1,1,1,1,1,1,1,1,1,1,1,1,1,1,1,1,1,1,1,1,1,1,1,1,1,1,1,1,1,1,1,1,1,1,1,1,1,1,1,1,1,1,1,1,1,1,1,1,1,1,1],\"yaxis\":\"y\"},{\"alignmentgroup\":\"True\",\"hovertemplate\":\"rating=%{x}<br>count=%{y}<extra></extra>\",\"legendgroup\":\"PG-13\",\"marker\":{\"color\":\"#00cc96\",\"pattern\":{\"shape\":\"\"}},\"name\":\"PG-13\",\"offsetgroup\":\"PG-13\",\"orientation\":\"v\",\"showlegend\":true,\"textposition\":\"auto\",\"type\":\"bar\",\"x\":[\"PG-13\",\"PG-13\",\"PG-13\",\"PG-13\",\"PG-13\",\"PG-13\",\"PG-13\",\"PG-13\",\"PG-13\",\"PG-13\",\"PG-13\",\"PG-13\",\"PG-13\",\"PG-13\",\"PG-13\",\"PG-13\",\"PG-13\",\"PG-13\",\"PG-13\",\"PG-13\",\"PG-13\",\"PG-13\",\"PG-13\",\"PG-13\",\"PG-13\",\"PG-13\",\"PG-13\",\"PG-13\",\"PG-13\",\"PG-13\",\"PG-13\",\"PG-13\",\"PG-13\",\"PG-13\",\"PG-13\",\"PG-13\",\"PG-13\",\"PG-13\",\"PG-13\",\"PG-13\",\"PG-13\",\"PG-13\",\"PG-13\",\"PG-13\",\"PG-13\",\"PG-13\",\"PG-13\",\"PG-13\",\"PG-13\",\"PG-13\",\"PG-13\",\"PG-13\",\"PG-13\",\"PG-13\",\"PG-13\",\"PG-13\",\"PG-13\",\"PG-13\",\"PG-13\",\"PG-13\",\"PG-13\",\"PG-13\",\"PG-13\",\"PG-13\",\"PG-13\",\"PG-13\",\"PG-13\",\"PG-13\",\"PG-13\",\"PG-13\",\"PG-13\",\"PG-13\",\"PG-13\",\"PG-13\",\"PG-13\",\"PG-13\",\"PG-13\",\"PG-13\",\"PG-13\",\"PG-13\",\"PG-13\",\"PG-13\",\"PG-13\",\"PG-13\",\"PG-13\",\"PG-13\",\"PG-13\",\"PG-13\",\"PG-13\",\"PG-13\",\"PG-13\",\"PG-13\",\"PG-13\",\"PG-13\",\"PG-13\",\"PG-13\",\"PG-13\",\"PG-13\",\"PG-13\",\"PG-13\",\"PG-13\",\"PG-13\",\"PG-13\",\"PG-13\",\"PG-13\",\"PG-13\",\"PG-13\",\"PG-13\",\"PG-13\",\"PG-13\",\"PG-13\",\"PG-13\",\"PG-13\",\"PG-13\",\"PG-13\",\"PG-13\",\"PG-13\",\"PG-13\",\"PG-13\",\"PG-13\",\"PG-13\",\"PG-13\",\"PG-13\",\"PG-13\",\"PG-13\",\"PG-13\",\"PG-13\",\"PG-13\",\"PG-13\",\"PG-13\",\"PG-13\",\"PG-13\",\"PG-13\",\"PG-13\",\"PG-13\",\"PG-13\",\"PG-13\",\"PG-13\",\"PG-13\",\"PG-13\",\"PG-13\",\"PG-13\",\"PG-13\",\"PG-13\",\"PG-13\",\"PG-13\",\"PG-13\",\"PG-13\",\"PG-13\",\"PG-13\",\"PG-13\",\"PG-13\",\"PG-13\",\"PG-13\",\"PG-13\",\"PG-13\",\"PG-13\",\"PG-13\",\"PG-13\",\"PG-13\",\"PG-13\",\"PG-13\",\"PG-13\",\"PG-13\",\"PG-13\",\"PG-13\",\"PG-13\",\"PG-13\",\"PG-13\",\"PG-13\",\"PG-13\",\"PG-13\",\"PG-13\",\"PG-13\",\"PG-13\",\"PG-13\",\"PG-13\",\"PG-13\",\"PG-13\",\"PG-13\",\"PG-13\",\"PG-13\",\"PG-13\",\"PG-13\",\"PG-13\",\"PG-13\",\"PG-13\",\"PG-13\",\"PG-13\",\"PG-13\",\"PG-13\",\"PG-13\",\"PG-13\",\"PG-13\",\"PG-13\",\"PG-13\",\"PG-13\",\"PG-13\",\"PG-13\",\"PG-13\",\"PG-13\",\"PG-13\",\"PG-13\",\"PG-13\",\"PG-13\",\"PG-13\",\"PG-13\",\"PG-13\",\"PG-13\",\"PG-13\",\"PG-13\",\"PG-13\",\"PG-13\",\"PG-13\",\"PG-13\",\"PG-13\",\"PG-13\",\"PG-13\",\"PG-13\",\"PG-13\",\"PG-13\",\"PG-13\",\"PG-13\",\"PG-13\",\"PG-13\",\"PG-13\",\"PG-13\",\"PG-13\",\"PG-13\",\"PG-13\",\"PG-13\",\"PG-13\",\"PG-13\",\"PG-13\",\"PG-13\",\"PG-13\",\"PG-13\",\"PG-13\",\"PG-13\",\"PG-13\",\"PG-13\",\"PG-13\",\"PG-13\",\"PG-13\",\"PG-13\",\"PG-13\",\"PG-13\",\"PG-13\",\"PG-13\",\"PG-13\",\"PG-13\",\"PG-13\",\"PG-13\",\"PG-13\",\"PG-13\",\"PG-13\",\"PG-13\",\"PG-13\",\"PG-13\",\"PG-13\",\"PG-13\",\"PG-13\",\"PG-13\",\"PG-13\",\"PG-13\",\"PG-13\",\"PG-13\",\"PG-13\",\"PG-13\",\"PG-13\",\"PG-13\",\"PG-13\",\"PG-13\",\"PG-13\",\"PG-13\",\"PG-13\",\"PG-13\",\"PG-13\",\"PG-13\",\"PG-13\",\"PG-13\",\"PG-13\",\"PG-13\",\"PG-13\",\"PG-13\",\"PG-13\",\"PG-13\",\"PG-13\",\"PG-13\",\"PG-13\",\"PG-13\",\"PG-13\",\"PG-13\",\"PG-13\",\"PG-13\",\"PG-13\",\"PG-13\",\"PG-13\",\"PG-13\",\"PG-13\",\"PG-13\",\"PG-13\",\"PG-13\",\"PG-13\",\"PG-13\",\"PG-13\",\"PG-13\",\"PG-13\",\"PG-13\",\"PG-13\",\"PG-13\",\"PG-13\",\"PG-13\",\"PG-13\",\"PG-13\",\"PG-13\",\"PG-13\",\"PG-13\",\"PG-13\",\"PG-13\",\"PG-13\",\"PG-13\",\"PG-13\",\"PG-13\",\"PG-13\",\"PG-13\",\"PG-13\",\"PG-13\",\"PG-13\",\"PG-13\",\"PG-13\",\"PG-13\",\"PG-13\",\"PG-13\",\"PG-13\",\"PG-13\",\"PG-13\",\"PG-13\",\"PG-13\",\"PG-13\",\"PG-13\",\"PG-13\",\"PG-13\",\"PG-13\",\"PG-13\",\"PG-13\",\"PG-13\",\"PG-13\",\"PG-13\",\"PG-13\",\"PG-13\",\"PG-13\",\"PG-13\",\"PG-13\",\"PG-13\",\"PG-13\",\"PG-13\",\"PG-13\",\"PG-13\",\"PG-13\",\"PG-13\",\"PG-13\",\"PG-13\",\"PG-13\",\"PG-13\",\"PG-13\",\"PG-13\",\"PG-13\",\"PG-13\",\"PG-13\",\"PG-13\",\"PG-13\",\"PG-13\",\"PG-13\",\"PG-13\",\"PG-13\",\"PG-13\",\"PG-13\",\"PG-13\",\"PG-13\",\"PG-13\",\"PG-13\",\"PG-13\",\"PG-13\",\"PG-13\",\"PG-13\",\"PG-13\",\"PG-13\",\"PG-13\",\"PG-13\",\"PG-13\",\"PG-13\",\"PG-13\",\"PG-13\",\"PG-13\",\"PG-13\",\"PG-13\",\"PG-13\",\"PG-13\",\"PG-13\",\"PG-13\",\"PG-13\",\"PG-13\",\"PG-13\",\"PG-13\",\"PG-13\",\"PG-13\",\"PG-13\",\"PG-13\",\"PG-13\",\"PG-13\",\"PG-13\",\"PG-13\",\"PG-13\",\"PG-13\",\"PG-13\",\"PG-13\",\"PG-13\",\"PG-13\",\"PG-13\",\"PG-13\",\"PG-13\",\"PG-13\",\"PG-13\",\"PG-13\",\"PG-13\",\"PG-13\",\"PG-13\",\"PG-13\",\"PG-13\",\"PG-13\",\"PG-13\",\"PG-13\",\"PG-13\",\"PG-13\",\"PG-13\",\"PG-13\",\"PG-13\",\"PG-13\",\"PG-13\",\"PG-13\",\"PG-13\",\"PG-13\",\"PG-13\",\"PG-13\",\"PG-13\",\"PG-13\",\"PG-13\",\"PG-13\",\"PG-13\",\"PG-13\",\"PG-13\",\"PG-13\",\"PG-13\",\"PG-13\",\"PG-13\",\"PG-13\",\"PG-13\",\"PG-13\",\"PG-13\",\"PG-13\",\"PG-13\",\"PG-13\",\"PG-13\",\"PG-13\",\"PG-13\",\"PG-13\",\"PG-13\",\"PG-13\",\"PG-13\",\"PG-13\",\"PG-13\",\"PG-13\",\"PG-13\",\"PG-13\",\"PG-13\",\"PG-13\"],\"xaxis\":\"x\",\"y\":[1,1,1,1,1,1,1,1,1,1,1,1,1,1,1,1,1,1,1,1,1,1,1,1,1,1,1,1,1,1,1,1,1,1,1,1,1,1,1,1,1,1,1,1,1,1,1,1,1,1,1,1,1,1,1,1,1,1,1,1,1,1,1,1,1,1,1,1,1,1,1,1,1,1,1,1,1,1,1,1,1,1,1,1,1,1,1,1,1,1,1,1,1,1,1,1,1,1,1,1,1,1,1,1,1,1,1,1,1,1,1,1,1,1,1,1,1,1,1,1,1,1,1,1,1,1,1,1,1,1,1,1,1,1,1,1,1,1,1,1,1,1,1,1,1,1,1,1,1,1,1,1,1,1,1,1,1,1,1,1,1,1,1,1,1,1,1,1,1,1,1,1,1,1,1,1,1,1,1,1,1,1,1,1,1,1,1,1,1,1,1,1,1,1,1,1,1,1,1,1,1,1,1,1,1,1,1,1,1,1,1,1,1,1,1,1,1,1,1,1,1,1,1,1,1,1,1,1,1,1,1,1,1,1,1,1,1,1,1,1,1,1,1,1,1,1,1,1,1,1,1,1,1,1,1,1,1,1,1,1,1,1,1,1,1,1,1,1,1,1,1,1,1,1,1,1,1,1,1,1,1,1,1,1,1,1,1,1,1,1,1,1,1,1,1,1,1,1,1,1,1,1,1,1,1,1,1,1,1,1,1,1,1,1,1,1,1,1,1,1,1,1,1,1,1,1,1,1,1,1,1,1,1,1,1,1,1,1,1,1,1,1,1,1,1,1,1,1,1,1,1,1,1,1,1,1,1,1,1,1,1,1,1,1,1,1,1,1,1,1,1,1,1,1,1,1,1,1,1,1,1,1,1,1,1,1,1,1,1,1,1,1,1,1,1,1,1,1,1,1,1,1,1,1,1,1,1,1,1,1,1,1,1,1,1,1,1,1,1,1,1,1,1,1,1,1,1,1,1,1,1,1,1,1,1,1,1,1,1,1,1,1,1,1,1,1,1,1,1,1,1,1,1,1,1,1,1,1,1,1,1,1,1,1,1,1,1,1,1,1,1,1,1,1,1,1,1],\"yaxis\":\"y\"},{\"alignmentgroup\":\"True\",\"hovertemplate\":\"rating=%{x}<br>count=%{y}<extra></extra>\",\"legendgroup\":\"TV-PG\",\"marker\":{\"color\":\"#ab63fa\",\"pattern\":{\"shape\":\"\"}},\"name\":\"TV-PG\",\"offsetgroup\":\"TV-PG\",\"orientation\":\"v\",\"showlegend\":true,\"textposition\":\"auto\",\"type\":\"bar\",\"x\":[\"TV-PG\",\"TV-PG\",\"TV-PG\",\"TV-PG\",\"TV-PG\",\"TV-PG\",\"TV-PG\",\"TV-PG\",\"TV-PG\",\"TV-PG\",\"TV-PG\",\"TV-PG\",\"TV-PG\",\"TV-PG\",\"TV-PG\",\"TV-PG\",\"TV-PG\",\"TV-PG\",\"TV-PG\",\"TV-PG\",\"TV-PG\",\"TV-PG\",\"TV-PG\",\"TV-PG\",\"TV-PG\",\"TV-PG\",\"TV-PG\",\"TV-PG\",\"TV-PG\",\"TV-PG\",\"TV-PG\",\"TV-PG\",\"TV-PG\",\"TV-PG\",\"TV-PG\",\"TV-PG\",\"TV-PG\",\"TV-PG\",\"TV-PG\",\"TV-PG\",\"TV-PG\",\"TV-PG\",\"TV-PG\",\"TV-PG\",\"TV-PG\",\"TV-PG\",\"TV-PG\",\"TV-PG\",\"TV-PG\",\"TV-PG\",\"TV-PG\",\"TV-PG\",\"TV-PG\",\"TV-PG\",\"TV-PG\",\"TV-PG\",\"TV-PG\",\"TV-PG\",\"TV-PG\",\"TV-PG\",\"TV-PG\",\"TV-PG\",\"TV-PG\",\"TV-PG\",\"TV-PG\",\"TV-PG\",\"TV-PG\",\"TV-PG\",\"TV-PG\",\"TV-PG\",\"TV-PG\",\"TV-PG\",\"TV-PG\",\"TV-PG\",\"TV-PG\",\"TV-PG\",\"TV-PG\",\"TV-PG\",\"TV-PG\",\"TV-PG\",\"TV-PG\",\"TV-PG\",\"TV-PG\",\"TV-PG\",\"TV-PG\",\"TV-PG\",\"TV-PG\",\"TV-PG\",\"TV-PG\",\"TV-PG\",\"TV-PG\",\"TV-PG\",\"TV-PG\",\"TV-PG\",\"TV-PG\",\"TV-PG\",\"TV-PG\",\"TV-PG\",\"TV-PG\",\"TV-PG\",\"TV-PG\",\"TV-PG\",\"TV-PG\",\"TV-PG\",\"TV-PG\",\"TV-PG\",\"TV-PG\",\"TV-PG\",\"TV-PG\",\"TV-PG\",\"TV-PG\",\"TV-PG\",\"TV-PG\",\"TV-PG\",\"TV-PG\",\"TV-PG\",\"TV-PG\",\"TV-PG\",\"TV-PG\",\"TV-PG\",\"TV-PG\",\"TV-PG\",\"TV-PG\",\"TV-PG\",\"TV-PG\",\"TV-PG\",\"TV-PG\",\"TV-PG\",\"TV-PG\",\"TV-PG\",\"TV-PG\",\"TV-PG\",\"TV-PG\",\"TV-PG\",\"TV-PG\",\"TV-PG\",\"TV-PG\",\"TV-PG\",\"TV-PG\",\"TV-PG\",\"TV-PG\",\"TV-PG\",\"TV-PG\",\"TV-PG\",\"TV-PG\",\"TV-PG\",\"TV-PG\",\"TV-PG\",\"TV-PG\",\"TV-PG\",\"TV-PG\",\"TV-PG\",\"TV-PG\",\"TV-PG\",\"TV-PG\",\"TV-PG\",\"TV-PG\",\"TV-PG\",\"TV-PG\",\"TV-PG\",\"TV-PG\",\"TV-PG\",\"TV-PG\",\"TV-PG\",\"TV-PG\",\"TV-PG\",\"TV-PG\",\"TV-PG\",\"TV-PG\",\"TV-PG\",\"TV-PG\",\"TV-PG\",\"TV-PG\",\"TV-PG\",\"TV-PG\",\"TV-PG\",\"TV-PG\",\"TV-PG\",\"TV-PG\",\"TV-PG\",\"TV-PG\",\"TV-PG\",\"TV-PG\",\"TV-PG\",\"TV-PG\",\"TV-PG\",\"TV-PG\",\"TV-PG\",\"TV-PG\",\"TV-PG\",\"TV-PG\",\"TV-PG\",\"TV-PG\",\"TV-PG\",\"TV-PG\",\"TV-PG\",\"TV-PG\",\"TV-PG\",\"TV-PG\",\"TV-PG\",\"TV-PG\",\"TV-PG\",\"TV-PG\",\"TV-PG\",\"TV-PG\",\"TV-PG\",\"TV-PG\",\"TV-PG\",\"TV-PG\",\"TV-PG\",\"TV-PG\",\"TV-PG\",\"TV-PG\",\"TV-PG\",\"TV-PG\",\"TV-PG\",\"TV-PG\",\"TV-PG\",\"TV-PG\",\"TV-PG\",\"TV-PG\",\"TV-PG\",\"TV-PG\",\"TV-PG\",\"TV-PG\",\"TV-PG\",\"TV-PG\",\"TV-PG\",\"TV-PG\",\"TV-PG\",\"TV-PG\",\"TV-PG\",\"TV-PG\",\"TV-PG\",\"TV-PG\",\"TV-PG\",\"TV-PG\",\"TV-PG\",\"TV-PG\",\"TV-PG\",\"TV-PG\",\"TV-PG\",\"TV-PG\",\"TV-PG\",\"TV-PG\",\"TV-PG\",\"TV-PG\",\"TV-PG\",\"TV-PG\",\"TV-PG\",\"TV-PG\",\"TV-PG\",\"TV-PG\",\"TV-PG\",\"TV-PG\",\"TV-PG\",\"TV-PG\",\"TV-PG\",\"TV-PG\",\"TV-PG\",\"TV-PG\",\"TV-PG\",\"TV-PG\",\"TV-PG\",\"TV-PG\",\"TV-PG\",\"TV-PG\",\"TV-PG\",\"TV-PG\",\"TV-PG\",\"TV-PG\",\"TV-PG\",\"TV-PG\",\"TV-PG\",\"TV-PG\",\"TV-PG\",\"TV-PG\",\"TV-PG\",\"TV-PG\",\"TV-PG\",\"TV-PG\",\"TV-PG\",\"TV-PG\",\"TV-PG\",\"TV-PG\",\"TV-PG\",\"TV-PG\",\"TV-PG\",\"TV-PG\",\"TV-PG\",\"TV-PG\",\"TV-PG\",\"TV-PG\",\"TV-PG\",\"TV-PG\",\"TV-PG\",\"TV-PG\",\"TV-PG\",\"TV-PG\",\"TV-PG\",\"TV-PG\",\"TV-PG\",\"TV-PG\",\"TV-PG\",\"TV-PG\",\"TV-PG\",\"TV-PG\",\"TV-PG\",\"TV-PG\",\"TV-PG\",\"TV-PG\",\"TV-PG\",\"TV-PG\",\"TV-PG\",\"TV-PG\",\"TV-PG\",\"TV-PG\",\"TV-PG\",\"TV-PG\",\"TV-PG\",\"TV-PG\",\"TV-PG\",\"TV-PG\",\"TV-PG\",\"TV-PG\",\"TV-PG\",\"TV-PG\",\"TV-PG\",\"TV-PG\",\"TV-PG\",\"TV-PG\",\"TV-PG\",\"TV-PG\",\"TV-PG\",\"TV-PG\",\"TV-PG\",\"TV-PG\",\"TV-PG\",\"TV-PG\",\"TV-PG\",\"TV-PG\",\"TV-PG\",\"TV-PG\",\"TV-PG\",\"TV-PG\",\"TV-PG\",\"TV-PG\",\"TV-PG\",\"TV-PG\",\"TV-PG\",\"TV-PG\",\"TV-PG\",\"TV-PG\",\"TV-PG\",\"TV-PG\",\"TV-PG\",\"TV-PG\",\"TV-PG\",\"TV-PG\",\"TV-PG\",\"TV-PG\",\"TV-PG\",\"TV-PG\",\"TV-PG\",\"TV-PG\",\"TV-PG\",\"TV-PG\",\"TV-PG\",\"TV-PG\",\"TV-PG\",\"TV-PG\",\"TV-PG\",\"TV-PG\",\"TV-PG\",\"TV-PG\",\"TV-PG\",\"TV-PG\",\"TV-PG\",\"TV-PG\",\"TV-PG\",\"TV-PG\",\"TV-PG\",\"TV-PG\",\"TV-PG\",\"TV-PG\",\"TV-PG\",\"TV-PG\",\"TV-PG\",\"TV-PG\",\"TV-PG\",\"TV-PG\",\"TV-PG\",\"TV-PG\",\"TV-PG\",\"TV-PG\",\"TV-PG\",\"TV-PG\",\"TV-PG\",\"TV-PG\",\"TV-PG\",\"TV-PG\",\"TV-PG\",\"TV-PG\",\"TV-PG\",\"TV-PG\",\"TV-PG\",\"TV-PG\",\"TV-PG\",\"TV-PG\",\"TV-PG\",\"TV-PG\",\"TV-PG\",\"TV-PG\",\"TV-PG\",\"TV-PG\",\"TV-PG\",\"TV-PG\",\"TV-PG\",\"TV-PG\",\"TV-PG\",\"TV-PG\",\"TV-PG\",\"TV-PG\",\"TV-PG\",\"TV-PG\",\"TV-PG\",\"TV-PG\",\"TV-PG\",\"TV-PG\",\"TV-PG\",\"TV-PG\",\"TV-PG\",\"TV-PG\",\"TV-PG\",\"TV-PG\",\"TV-PG\",\"TV-PG\",\"TV-PG\",\"TV-PG\",\"TV-PG\",\"TV-PG\"],\"xaxis\":\"x\",\"y\":[1,1,1,1,1,1,1,1,1,1,1,1,1,1,1,1,1,1,1,1,1,1,1,1,1,1,1,1,1,1,1,1,1,1,1,1,1,1,1,1,1,1,1,1,1,1,1,1,1,1,1,1,1,1,1,1,1,1,1,1,1,1,1,1,1,1,1,1,1,1,1,1,1,1,1,1,1,1,1,1,1,1,1,1,1,1,1,1,1,1,1,1,1,1,1,1,1,1,1,1,1,1,1,1,1,1,1,1,1,1,1,1,1,1,1,1,1,1,1,1,1,1,1,1,1,1,1,1,1,1,1,1,1,1,1,1,1,1,1,1,1,1,1,1,1,1,1,1,1,1,1,1,1,1,1,1,1,1,1,1,1,1,1,1,1,1,1,1,1,1,1,1,1,1,1,1,1,1,1,1,1,1,1,1,1,1,1,1,1,1,1,1,1,1,1,1,1,1,1,1,1,1,1,1,1,1,1,1,1,1,1,1,1,1,1,1,1,1,1,1,1,1,1,1,1,1,1,1,1,1,1,1,1,1,1,1,1,1,1,1,1,1,1,1,1,1,1,1,1,1,1,1,1,1,1,1,1,1,1,1,1,1,1,1,1,1,1,1,1,1,1,1,1,1,1,1,1,1,1,1,1,1,1,1,1,1,1,1,1,1,1,1,1,1,1,1,1,1,1,1,1,1,1,1,1,1,1,1,1,1,1,1,1,1,1,1,1,1,1,1,1,1,1,1,1,1,1,1,1,1,1,1,1,1,1,1,1,1,1,1,1,1,1,1,1,1,1,1,1,1,1,1,1,1,1,1,1,1,1,1,1,1,1,1,1,1,1,1,1,1,1,1,1,1,1,1,1,1,1,1,1,1,1,1,1,1,1,1,1,1,1,1,1,1,1,1,1,1,1,1,1,1,1,1,1,1,1,1,1,1,1,1,1,1,1,1,1,1,1,1,1,1,1,1,1,1,1,1,1,1,1,1,1,1,1,1,1,1,1,1,1],\"yaxis\":\"y\"},{\"alignmentgroup\":\"True\",\"hovertemplate\":\"rating=%{x}<br>count=%{y}<extra></extra>\",\"legendgroup\":\"TV-14\",\"marker\":{\"color\":\"#FFA15A\",\"pattern\":{\"shape\":\"\"}},\"name\":\"TV-14\",\"offsetgroup\":\"TV-14\",\"orientation\":\"v\",\"showlegend\":true,\"textposition\":\"auto\",\"type\":\"bar\",\"x\":[\"TV-14\",\"TV-14\",\"TV-14\",\"TV-14\",\"TV-14\",\"TV-14\",\"TV-14\",\"TV-14\",\"TV-14\",\"TV-14\",\"TV-14\",\"TV-14\",\"TV-14\",\"TV-14\",\"TV-14\",\"TV-14\",\"TV-14\",\"TV-14\",\"TV-14\",\"TV-14\",\"TV-14\",\"TV-14\",\"TV-14\",\"TV-14\",\"TV-14\",\"TV-14\",\"TV-14\",\"TV-14\",\"TV-14\",\"TV-14\",\"TV-14\",\"TV-14\",\"TV-14\",\"TV-14\",\"TV-14\",\"TV-14\",\"TV-14\",\"TV-14\",\"TV-14\",\"TV-14\",\"TV-14\",\"TV-14\",\"TV-14\",\"TV-14\",\"TV-14\",\"TV-14\",\"TV-14\",\"TV-14\",\"TV-14\",\"TV-14\",\"TV-14\",\"TV-14\",\"TV-14\",\"TV-14\",\"TV-14\",\"TV-14\",\"TV-14\",\"TV-14\",\"TV-14\",\"TV-14\",\"TV-14\",\"TV-14\",\"TV-14\",\"TV-14\",\"TV-14\",\"TV-14\",\"TV-14\",\"TV-14\",\"TV-14\",\"TV-14\",\"TV-14\",\"TV-14\",\"TV-14\",\"TV-14\",\"TV-14\",\"TV-14\",\"TV-14\",\"TV-14\",\"TV-14\",\"TV-14\",\"TV-14\",\"TV-14\",\"TV-14\",\"TV-14\",\"TV-14\",\"TV-14\",\"TV-14\",\"TV-14\",\"TV-14\",\"TV-14\",\"TV-14\",\"TV-14\",\"TV-14\",\"TV-14\",\"TV-14\",\"TV-14\",\"TV-14\",\"TV-14\",\"TV-14\",\"TV-14\",\"TV-14\",\"TV-14\",\"TV-14\",\"TV-14\",\"TV-14\",\"TV-14\",\"TV-14\",\"TV-14\",\"TV-14\",\"TV-14\",\"TV-14\",\"TV-14\",\"TV-14\",\"TV-14\",\"TV-14\",\"TV-14\",\"TV-14\",\"TV-14\",\"TV-14\",\"TV-14\",\"TV-14\",\"TV-14\",\"TV-14\",\"TV-14\",\"TV-14\",\"TV-14\",\"TV-14\",\"TV-14\",\"TV-14\",\"TV-14\",\"TV-14\",\"TV-14\",\"TV-14\",\"TV-14\",\"TV-14\",\"TV-14\",\"TV-14\",\"TV-14\",\"TV-14\",\"TV-14\",\"TV-14\",\"TV-14\",\"TV-14\",\"TV-14\",\"TV-14\",\"TV-14\",\"TV-14\",\"TV-14\",\"TV-14\",\"TV-14\",\"TV-14\",\"TV-14\",\"TV-14\",\"TV-14\",\"TV-14\",\"TV-14\",\"TV-14\",\"TV-14\",\"TV-14\",\"TV-14\",\"TV-14\",\"TV-14\",\"TV-14\",\"TV-14\",\"TV-14\",\"TV-14\",\"TV-14\",\"TV-14\",\"TV-14\",\"TV-14\",\"TV-14\",\"TV-14\",\"TV-14\",\"TV-14\",\"TV-14\",\"TV-14\",\"TV-14\",\"TV-14\",\"TV-14\",\"TV-14\",\"TV-14\",\"TV-14\",\"TV-14\",\"TV-14\",\"TV-14\",\"TV-14\",\"TV-14\",\"TV-14\",\"TV-14\",\"TV-14\",\"TV-14\",\"TV-14\",\"TV-14\",\"TV-14\",\"TV-14\",\"TV-14\",\"TV-14\",\"TV-14\",\"TV-14\",\"TV-14\",\"TV-14\",\"TV-14\",\"TV-14\",\"TV-14\",\"TV-14\",\"TV-14\",\"TV-14\",\"TV-14\",\"TV-14\",\"TV-14\",\"TV-14\",\"TV-14\",\"TV-14\",\"TV-14\",\"TV-14\",\"TV-14\",\"TV-14\",\"TV-14\",\"TV-14\",\"TV-14\",\"TV-14\",\"TV-14\",\"TV-14\",\"TV-14\",\"TV-14\",\"TV-14\",\"TV-14\",\"TV-14\",\"TV-14\",\"TV-14\",\"TV-14\",\"TV-14\",\"TV-14\",\"TV-14\",\"TV-14\",\"TV-14\",\"TV-14\",\"TV-14\",\"TV-14\",\"TV-14\",\"TV-14\",\"TV-14\",\"TV-14\",\"TV-14\",\"TV-14\",\"TV-14\",\"TV-14\",\"TV-14\",\"TV-14\",\"TV-14\",\"TV-14\",\"TV-14\",\"TV-14\",\"TV-14\",\"TV-14\",\"TV-14\",\"TV-14\",\"TV-14\",\"TV-14\",\"TV-14\",\"TV-14\",\"TV-14\",\"TV-14\",\"TV-14\",\"TV-14\",\"TV-14\",\"TV-14\",\"TV-14\",\"TV-14\",\"TV-14\",\"TV-14\",\"TV-14\",\"TV-14\",\"TV-14\",\"TV-14\",\"TV-14\",\"TV-14\",\"TV-14\",\"TV-14\",\"TV-14\",\"TV-14\",\"TV-14\",\"TV-14\",\"TV-14\",\"TV-14\",\"TV-14\",\"TV-14\",\"TV-14\",\"TV-14\",\"TV-14\",\"TV-14\",\"TV-14\",\"TV-14\",\"TV-14\",\"TV-14\",\"TV-14\",\"TV-14\",\"TV-14\",\"TV-14\",\"TV-14\",\"TV-14\",\"TV-14\",\"TV-14\",\"TV-14\",\"TV-14\",\"TV-14\",\"TV-14\",\"TV-14\",\"TV-14\",\"TV-14\",\"TV-14\",\"TV-14\",\"TV-14\",\"TV-14\",\"TV-14\",\"TV-14\",\"TV-14\",\"TV-14\",\"TV-14\",\"TV-14\",\"TV-14\",\"TV-14\",\"TV-14\",\"TV-14\",\"TV-14\",\"TV-14\",\"TV-14\",\"TV-14\",\"TV-14\",\"TV-14\",\"TV-14\",\"TV-14\",\"TV-14\",\"TV-14\",\"TV-14\",\"TV-14\",\"TV-14\",\"TV-14\",\"TV-14\",\"TV-14\",\"TV-14\",\"TV-14\",\"TV-14\",\"TV-14\",\"TV-14\",\"TV-14\",\"TV-14\",\"TV-14\",\"TV-14\",\"TV-14\",\"TV-14\",\"TV-14\",\"TV-14\",\"TV-14\",\"TV-14\",\"TV-14\",\"TV-14\",\"TV-14\",\"TV-14\",\"TV-14\",\"TV-14\",\"TV-14\",\"TV-14\",\"TV-14\",\"TV-14\",\"TV-14\",\"TV-14\",\"TV-14\",\"TV-14\",\"TV-14\",\"TV-14\",\"TV-14\",\"TV-14\",\"TV-14\",\"TV-14\",\"TV-14\",\"TV-14\",\"TV-14\",\"TV-14\",\"TV-14\",\"TV-14\",\"TV-14\",\"TV-14\",\"TV-14\",\"TV-14\",\"TV-14\",\"TV-14\",\"TV-14\",\"TV-14\",\"TV-14\",\"TV-14\",\"TV-14\",\"TV-14\",\"TV-14\",\"TV-14\",\"TV-14\",\"TV-14\",\"TV-14\",\"TV-14\",\"TV-14\",\"TV-14\",\"TV-14\",\"TV-14\",\"TV-14\",\"TV-14\",\"TV-14\",\"TV-14\",\"TV-14\",\"TV-14\",\"TV-14\",\"TV-14\",\"TV-14\",\"TV-14\",\"TV-14\",\"TV-14\",\"TV-14\",\"TV-14\",\"TV-14\",\"TV-14\",\"TV-14\",\"TV-14\",\"TV-14\",\"TV-14\",\"TV-14\",\"TV-14\",\"TV-14\",\"TV-14\",\"TV-14\",\"TV-14\",\"TV-14\",\"TV-14\",\"TV-14\",\"TV-14\",\"TV-14\",\"TV-14\",\"TV-14\",\"TV-14\",\"TV-14\",\"TV-14\",\"TV-14\",\"TV-14\",\"TV-14\",\"TV-14\",\"TV-14\",\"TV-14\",\"TV-14\",\"TV-14\",\"TV-14\",\"TV-14\",\"TV-14\",\"TV-14\",\"TV-14\",\"TV-14\",\"TV-14\",\"TV-14\",\"TV-14\",\"TV-14\",\"TV-14\",\"TV-14\",\"TV-14\",\"TV-14\",\"TV-14\",\"TV-14\",\"TV-14\",\"TV-14\",\"TV-14\",\"TV-14\",\"TV-14\",\"TV-14\",\"TV-14\",\"TV-14\",\"TV-14\",\"TV-14\",\"TV-14\",\"TV-14\",\"TV-14\",\"TV-14\",\"TV-14\",\"TV-14\",\"TV-14\",\"TV-14\",\"TV-14\",\"TV-14\",\"TV-14\",\"TV-14\",\"TV-14\",\"TV-14\",\"TV-14\",\"TV-14\",\"TV-14\",\"TV-14\",\"TV-14\",\"TV-14\",\"TV-14\",\"TV-14\",\"TV-14\",\"TV-14\",\"TV-14\",\"TV-14\",\"TV-14\",\"TV-14\",\"TV-14\",\"TV-14\",\"TV-14\",\"TV-14\",\"TV-14\",\"TV-14\",\"TV-14\",\"TV-14\",\"TV-14\",\"TV-14\",\"TV-14\",\"TV-14\",\"TV-14\",\"TV-14\",\"TV-14\",\"TV-14\",\"TV-14\",\"TV-14\",\"TV-14\",\"TV-14\",\"TV-14\",\"TV-14\",\"TV-14\",\"TV-14\",\"TV-14\",\"TV-14\",\"TV-14\",\"TV-14\",\"TV-14\",\"TV-14\",\"TV-14\",\"TV-14\",\"TV-14\",\"TV-14\",\"TV-14\",\"TV-14\",\"TV-14\",\"TV-14\",\"TV-14\",\"TV-14\",\"TV-14\",\"TV-14\",\"TV-14\",\"TV-14\",\"TV-14\",\"TV-14\",\"TV-14\",\"TV-14\",\"TV-14\",\"TV-14\",\"TV-14\",\"TV-14\",\"TV-14\",\"TV-14\",\"TV-14\",\"TV-14\",\"TV-14\",\"TV-14\",\"TV-14\",\"TV-14\",\"TV-14\",\"TV-14\",\"TV-14\",\"TV-14\",\"TV-14\",\"TV-14\",\"TV-14\",\"TV-14\",\"TV-14\",\"TV-14\",\"TV-14\",\"TV-14\",\"TV-14\",\"TV-14\",\"TV-14\",\"TV-14\",\"TV-14\",\"TV-14\",\"TV-14\",\"TV-14\",\"TV-14\",\"TV-14\",\"TV-14\",\"TV-14\",\"TV-14\",\"TV-14\",\"TV-14\",\"TV-14\",\"TV-14\",\"TV-14\",\"TV-14\",\"TV-14\",\"TV-14\",\"TV-14\",\"TV-14\",\"TV-14\",\"TV-14\",\"TV-14\",\"TV-14\",\"TV-14\",\"TV-14\",\"TV-14\",\"TV-14\",\"TV-14\",\"TV-14\",\"TV-14\",\"TV-14\",\"TV-14\",\"TV-14\",\"TV-14\",\"TV-14\",\"TV-14\",\"TV-14\",\"TV-14\",\"TV-14\",\"TV-14\",\"TV-14\",\"TV-14\",\"TV-14\",\"TV-14\",\"TV-14\",\"TV-14\",\"TV-14\",\"TV-14\",\"TV-14\",\"TV-14\",\"TV-14\",\"TV-14\",\"TV-14\",\"TV-14\",\"TV-14\",\"TV-14\",\"TV-14\",\"TV-14\",\"TV-14\",\"TV-14\",\"TV-14\",\"TV-14\",\"TV-14\",\"TV-14\",\"TV-14\",\"TV-14\",\"TV-14\",\"TV-14\",\"TV-14\",\"TV-14\",\"TV-14\",\"TV-14\",\"TV-14\",\"TV-14\",\"TV-14\",\"TV-14\",\"TV-14\",\"TV-14\",\"TV-14\",\"TV-14\",\"TV-14\",\"TV-14\",\"TV-14\",\"TV-14\",\"TV-14\",\"TV-14\",\"TV-14\",\"TV-14\",\"TV-14\",\"TV-14\",\"TV-14\",\"TV-14\",\"TV-14\",\"TV-14\",\"TV-14\",\"TV-14\",\"TV-14\",\"TV-14\",\"TV-14\",\"TV-14\",\"TV-14\",\"TV-14\",\"TV-14\",\"TV-14\",\"TV-14\",\"TV-14\",\"TV-14\",\"TV-14\",\"TV-14\",\"TV-14\",\"TV-14\",\"TV-14\",\"TV-14\",\"TV-14\",\"TV-14\",\"TV-14\",\"TV-14\",\"TV-14\",\"TV-14\",\"TV-14\",\"TV-14\",\"TV-14\",\"TV-14\",\"TV-14\",\"TV-14\",\"TV-14\",\"TV-14\",\"TV-14\",\"TV-14\",\"TV-14\",\"TV-14\",\"TV-14\",\"TV-14\",\"TV-14\",\"TV-14\",\"TV-14\",\"TV-14\",\"TV-14\",\"TV-14\",\"TV-14\",\"TV-14\",\"TV-14\",\"TV-14\",\"TV-14\",\"TV-14\",\"TV-14\",\"TV-14\",\"TV-14\",\"TV-14\",\"TV-14\",\"TV-14\",\"TV-14\",\"TV-14\",\"TV-14\",\"TV-14\",\"TV-14\",\"TV-14\",\"TV-14\",\"TV-14\",\"TV-14\",\"TV-14\",\"TV-14\",\"TV-14\",\"TV-14\",\"TV-14\",\"TV-14\",\"TV-14\",\"TV-14\",\"TV-14\",\"TV-14\",\"TV-14\",\"TV-14\",\"TV-14\",\"TV-14\",\"TV-14\",\"TV-14\",\"TV-14\",\"TV-14\",\"TV-14\",\"TV-14\",\"TV-14\",\"TV-14\",\"TV-14\",\"TV-14\",\"TV-14\",\"TV-14\",\"TV-14\",\"TV-14\",\"TV-14\",\"TV-14\",\"TV-14\",\"TV-14\",\"TV-14\",\"TV-14\",\"TV-14\",\"TV-14\",\"TV-14\",\"TV-14\",\"TV-14\",\"TV-14\",\"TV-14\",\"TV-14\",\"TV-14\",\"TV-14\",\"TV-14\",\"TV-14\",\"TV-14\",\"TV-14\",\"TV-14\",\"TV-14\",\"TV-14\",\"TV-14\",\"TV-14\",\"TV-14\",\"TV-14\",\"TV-14\",\"TV-14\",\"TV-14\",\"TV-14\",\"TV-14\",\"TV-14\",\"TV-14\",\"TV-14\",\"TV-14\",\"TV-14\",\"TV-14\",\"TV-14\",\"TV-14\",\"TV-14\",\"TV-14\",\"TV-14\",\"TV-14\",\"TV-14\",\"TV-14\",\"TV-14\",\"TV-14\",\"TV-14\",\"TV-14\",\"TV-14\",\"TV-14\",\"TV-14\",\"TV-14\",\"TV-14\",\"TV-14\",\"TV-14\",\"TV-14\",\"TV-14\",\"TV-14\",\"TV-14\",\"TV-14\",\"TV-14\",\"TV-14\",\"TV-14\",\"TV-14\",\"TV-14\",\"TV-14\",\"TV-14\",\"TV-14\",\"TV-14\",\"TV-14\",\"TV-14\",\"TV-14\",\"TV-14\",\"TV-14\",\"TV-14\",\"TV-14\",\"TV-14\",\"TV-14\",\"TV-14\",\"TV-14\",\"TV-14\",\"TV-14\",\"TV-14\",\"TV-14\",\"TV-14\",\"TV-14\",\"TV-14\",\"TV-14\",\"TV-14\",\"TV-14\",\"TV-14\",\"TV-14\",\"TV-14\",\"TV-14\",\"TV-14\",\"TV-14\",\"TV-14\",\"TV-14\",\"TV-14\",\"TV-14\",\"TV-14\",\"TV-14\",\"TV-14\",\"TV-14\",\"TV-14\",\"TV-14\",\"TV-14\",\"TV-14\",\"TV-14\",\"TV-14\",\"TV-14\",\"TV-14\",\"TV-14\",\"TV-14\",\"TV-14\",\"TV-14\",\"TV-14\",\"TV-14\",\"TV-14\",\"TV-14\",\"TV-14\",\"TV-14\",\"TV-14\",\"TV-14\",\"TV-14\",\"TV-14\",\"TV-14\",\"TV-14\",\"TV-14\",\"TV-14\",\"TV-14\",\"TV-14\",\"TV-14\",\"TV-14\",\"TV-14\",\"TV-14\",\"TV-14\",\"TV-14\",\"TV-14\",\"TV-14\",\"TV-14\",\"TV-14\",\"TV-14\",\"TV-14\",\"TV-14\",\"TV-14\",\"TV-14\",\"TV-14\",\"TV-14\",\"TV-14\",\"TV-14\",\"TV-14\",\"TV-14\",\"TV-14\",\"TV-14\",\"TV-14\",\"TV-14\",\"TV-14\",\"TV-14\",\"TV-14\",\"TV-14\",\"TV-14\",\"TV-14\",\"TV-14\",\"TV-14\",\"TV-14\",\"TV-14\",\"TV-14\",\"TV-14\",\"TV-14\",\"TV-14\",\"TV-14\",\"TV-14\",\"TV-14\",\"TV-14\",\"TV-14\",\"TV-14\",\"TV-14\",\"TV-14\",\"TV-14\",\"TV-14\",\"TV-14\",\"TV-14\",\"TV-14\",\"TV-14\",\"TV-14\",\"TV-14\",\"TV-14\",\"TV-14\",\"TV-14\",\"TV-14\",\"TV-14\",\"TV-14\",\"TV-14\",\"TV-14\",\"TV-14\",\"TV-14\",\"TV-14\",\"TV-14\",\"TV-14\",\"TV-14\",\"TV-14\",\"TV-14\",\"TV-14\",\"TV-14\",\"TV-14\",\"TV-14\",\"TV-14\",\"TV-14\",\"TV-14\",\"TV-14\",\"TV-14\",\"TV-14\",\"TV-14\",\"TV-14\",\"TV-14\",\"TV-14\",\"TV-14\",\"TV-14\",\"TV-14\",\"TV-14\",\"TV-14\",\"TV-14\",\"TV-14\",\"TV-14\",\"TV-14\",\"TV-14\",\"TV-14\",\"TV-14\",\"TV-14\",\"TV-14\",\"TV-14\",\"TV-14\",\"TV-14\",\"TV-14\",\"TV-14\",\"TV-14\",\"TV-14\",\"TV-14\",\"TV-14\",\"TV-14\",\"TV-14\",\"TV-14\",\"TV-14\",\"TV-14\",\"TV-14\",\"TV-14\",\"TV-14\",\"TV-14\",\"TV-14\",\"TV-14\",\"TV-14\",\"TV-14\",\"TV-14\",\"TV-14\",\"TV-14\",\"TV-14\",\"TV-14\",\"TV-14\",\"TV-14\",\"TV-14\",\"TV-14\",\"TV-14\",\"TV-14\",\"TV-14\",\"TV-14\",\"TV-14\",\"TV-14\",\"TV-14\",\"TV-14\",\"TV-14\",\"TV-14\",\"TV-14\",\"TV-14\",\"TV-14\",\"TV-14\",\"TV-14\",\"TV-14\",\"TV-14\",\"TV-14\",\"TV-14\",\"TV-14\",\"TV-14\",\"TV-14\",\"TV-14\",\"TV-14\",\"TV-14\",\"TV-14\",\"TV-14\",\"TV-14\",\"TV-14\",\"TV-14\",\"TV-14\",\"TV-14\",\"TV-14\",\"TV-14\",\"TV-14\",\"TV-14\",\"TV-14\",\"TV-14\",\"TV-14\",\"TV-14\",\"TV-14\",\"TV-14\",\"TV-14\",\"TV-14\",\"TV-14\",\"TV-14\",\"TV-14\",\"TV-14\",\"TV-14\",\"TV-14\",\"TV-14\",\"TV-14\",\"TV-14\",\"TV-14\",\"TV-14\",\"TV-14\",\"TV-14\",\"TV-14\",\"TV-14\",\"TV-14\",\"TV-14\",\"TV-14\",\"TV-14\",\"TV-14\",\"TV-14\",\"TV-14\",\"TV-14\",\"TV-14\",\"TV-14\",\"TV-14\",\"TV-14\",\"TV-14\",\"TV-14\",\"TV-14\",\"TV-14\",\"TV-14\",\"TV-14\",\"TV-14\",\"TV-14\",\"TV-14\",\"TV-14\",\"TV-14\",\"TV-14\",\"TV-14\",\"TV-14\",\"TV-14\",\"TV-14\",\"TV-14\",\"TV-14\",\"TV-14\",\"TV-14\",\"TV-14\",\"TV-14\",\"TV-14\",\"TV-14\",\"TV-14\",\"TV-14\",\"TV-14\",\"TV-14\",\"TV-14\",\"TV-14\",\"TV-14\",\"TV-14\",\"TV-14\",\"TV-14\",\"TV-14\",\"TV-14\",\"TV-14\",\"TV-14\",\"TV-14\",\"TV-14\",\"TV-14\",\"TV-14\",\"TV-14\",\"TV-14\",\"TV-14\",\"TV-14\",\"TV-14\",\"TV-14\",\"TV-14\",\"TV-14\",\"TV-14\",\"TV-14\",\"TV-14\",\"TV-14\",\"TV-14\",\"TV-14\",\"TV-14\",\"TV-14\",\"TV-14\",\"TV-14\",\"TV-14\",\"TV-14\",\"TV-14\",\"TV-14\",\"TV-14\",\"TV-14\",\"TV-14\",\"TV-14\",\"TV-14\",\"TV-14\",\"TV-14\",\"TV-14\",\"TV-14\",\"TV-14\",\"TV-14\",\"TV-14\",\"TV-14\",\"TV-14\",\"TV-14\",\"TV-14\",\"TV-14\",\"TV-14\",\"TV-14\",\"TV-14\",\"TV-14\",\"TV-14\",\"TV-14\",\"TV-14\",\"TV-14\",\"TV-14\",\"TV-14\",\"TV-14\",\"TV-14\",\"TV-14\",\"TV-14\",\"TV-14\",\"TV-14\",\"TV-14\",\"TV-14\",\"TV-14\",\"TV-14\",\"TV-14\",\"TV-14\",\"TV-14\",\"TV-14\",\"TV-14\",\"TV-14\",\"TV-14\",\"TV-14\",\"TV-14\",\"TV-14\",\"TV-14\",\"TV-14\",\"TV-14\",\"TV-14\",\"TV-14\",\"TV-14\",\"TV-14\",\"TV-14\",\"TV-14\",\"TV-14\",\"TV-14\",\"TV-14\",\"TV-14\",\"TV-14\",\"TV-14\",\"TV-14\",\"TV-14\",\"TV-14\",\"TV-14\",\"TV-14\",\"TV-14\",\"TV-14\",\"TV-14\",\"TV-14\",\"TV-14\",\"TV-14\",\"TV-14\",\"TV-14\",\"TV-14\",\"TV-14\",\"TV-14\",\"TV-14\",\"TV-14\",\"TV-14\",\"TV-14\",\"TV-14\",\"TV-14\",\"TV-14\",\"TV-14\",\"TV-14\",\"TV-14\",\"TV-14\",\"TV-14\",\"TV-14\",\"TV-14\",\"TV-14\",\"TV-14\",\"TV-14\",\"TV-14\",\"TV-14\",\"TV-14\",\"TV-14\",\"TV-14\",\"TV-14\",\"TV-14\",\"TV-14\",\"TV-14\",\"TV-14\",\"TV-14\",\"TV-14\",\"TV-14\",\"TV-14\",\"TV-14\",\"TV-14\",\"TV-14\",\"TV-14\",\"TV-14\",\"TV-14\"],\"xaxis\":\"x\",\"y\":[1,1,1,1,1,1,1,1,1,1,1,1,1,1,1,1,1,1,1,1,1,1,1,1,1,1,1,1,1,1,1,1,1,1,1,1,1,1,1,1,1,1,1,1,1,1,1,1,1,1,1,1,1,1,1,1,1,1,1,1,1,1,1,1,1,1,1,1,1,1,1,1,1,1,1,1,1,1,1,1,1,1,1,1,1,1,1,1,1,1,1,1,1,1,1,1,1,1,1,1,1,1,1,1,1,1,1,1,1,1,1,1,1,1,1,1,1,1,1,1,1,1,1,1,1,1,1,1,1,1,1,1,1,1,1,1,1,1,1,1,1,1,1,1,1,1,1,1,1,1,1,1,1,1,1,1,1,1,1,1,1,1,1,1,1,1,1,1,1,1,1,1,1,1,1,1,1,1,1,1,1,1,1,1,1,1,1,1,1,1,1,1,1,1,1,1,1,1,1,1,1,1,1,1,1,1,1,1,1,1,1,1,1,1,1,1,1,1,1,1,1,1,1,1,1,1,1,1,1,1,1,1,1,1,1,1,1,1,1,1,1,1,1,1,1,1,1,1,1,1,1,1,1,1,1,1,1,1,1,1,1,1,1,1,1,1,1,1,1,1,1,1,1,1,1,1,1,1,1,1,1,1,1,1,1,1,1,1,1,1,1,1,1,1,1,1,1,1,1,1,1,1,1,1,1,1,1,1,1,1,1,1,1,1,1,1,1,1,1,1,1,1,1,1,1,1,1,1,1,1,1,1,1,1,1,1,1,1,1,1,1,1,1,1,1,1,1,1,1,1,1,1,1,1,1,1,1,1,1,1,1,1,1,1,1,1,1,1,1,1,1,1,1,1,1,1,1,1,1,1,1,1,1,1,1,1,1,1,1,1,1,1,1,1,1,1,1,1,1,1,1,1,1,1,1,1,1,1,1,1,1,1,1,1,1,1,1,1,1,1,1,1,1,1,1,1,1,1,1,1,1,1,1,1,1,1,1,1,1,1,1,1,1,1,1,1,1,1,1,1,1,1,1,1,1,1,1,1,1,1,1,1,1,1,1,1,1,1,1,1,1,1,1,1,1,1,1,1,1,1,1,1,1,1,1,1,1,1,1,1,1,1,1,1,1,1,1,1,1,1,1,1,1,1,1,1,1,1,1,1,1,1,1,1,1,1,1,1,1,1,1,1,1,1,1,1,1,1,1,1,1,1,1,1,1,1,1,1,1,1,1,1,1,1,1,1,1,1,1,1,1,1,1,1,1,1,1,1,1,1,1,1,1,1,1,1,1,1,1,1,1,1,1,1,1,1,1,1,1,1,1,1,1,1,1,1,1,1,1,1,1,1,1,1,1,1,1,1,1,1,1,1,1,1,1,1,1,1,1,1,1,1,1,1,1,1,1,1,1,1,1,1,1,1,1,1,1,1,1,1,1,1,1,1,1,1,1,1,1,1,1,1,1,1,1,1,1,1,1,1,1,1,1,1,1,1,1,1,1,1,1,1,1,1,1,1,1,1,1,1,1,1,1,1,1,1,1,1,1,1,1,1,1,1,1,1,1,1,1,1,1,1,1,1,1,1,1,1,1,1,1,1,1,1,1,1,1,1,1,1,1,1,1,1,1,1,1,1,1,1,1,1,1,1,1,1,1,1,1,1,1,1,1,1,1,1,1,1,1,1,1,1,1,1,1,1,1,1,1,1,1,1,1,1,1,1,1,1,1,1,1,1,1,1,1,1,1,1,1,1,1,1,1,1,1,1,1,1,1,1,1,1,1,1,1,1,1,1,1,1,1,1,1,1,1,1,1,1,1,1,1,1,1,1,1,1,1,1,1,1,1,1,1,1,1,1,1,1,1,1,1,1,1,1,1,1,1,1,1,1,1,1,1,1,1,1,1,1,1,1,1,1,1,1,1,1,1,1,1,1,1,1,1,1,1,1,1,1,1,1,1,1,1,1,1,1,1,1,1,1,1,1,1,1,1,1,1,1,1,1,1,1,1,1,1,1,1,1,1,1,1,1,1,1,1,1,1,1,1,1,1,1,1,1,1,1,1,1,1,1,1,1,1,1,1,1,1,1,1,1,1,1,1,1,1,1,1,1,1,1,1,1,1,1,1,1,1,1,1,1,1,1,1,1,1,1,1,1,1,1,1,1,1,1,1,1,1,1,1,1,1,1,1,1,1,1,1,1,1,1,1,1,1,1,1,1,1,1,1,1,1,1,1,1,1,1,1,1,1,1,1,1,1,1,1,1,1,1,1,1,1,1,1,1,1,1,1,1,1,1,1,1,1,1,1,1,1,1,1,1,1,1,1,1,1,1,1,1,1,1,1,1,1,1,1,1,1,1,1,1,1,1,1,1,1,1,1,1,1,1,1,1,1,1,1,1,1,1,1,1,1,1,1,1,1,1,1,1,1,1,1,1,1,1,1,1,1,1,1,1,1,1,1,1,1,1,1,1,1,1,1,1,1,1,1,1,1,1,1,1,1,1,1,1,1,1,1,1,1,1,1,1,1,1,1,1,1,1,1,1,1,1,1,1,1,1,1,1,1,1,1,1,1,1,1,1,1,1,1,1,1,1,1,1,1,1,1,1,1,1,1,1,1,1,1,1,1,1,1,1,1,1,1,1,1,1,1,1,1,1,1,1,1,1,1,1,1,1,1,1,1,1,1,1,1,1,1,1,1,1,1,1,1,1,1,1,1,1,1,1,1,1,1,1,1,1,1,1,1,1,1,1,1,1,1,1,1,1,1,1,1,1,1,1,1,1,1,1,1,1,1,1,1,1,1,1,1,1,1,1,1,1,1,1,1,1,1,1,1,1,1,1,1,1,1,1,1,1,1,1,1,1,1,1,1,1,1,1,1,1,1,1,1,1,1,1,1,1,1],\"yaxis\":\"y\"},{\"alignmentgroup\":\"True\",\"hovertemplate\":\"rating=%{x}<br>count=%{y}<extra></extra>\",\"legendgroup\":\"TV-Y\",\"marker\":{\"color\":\"#19d3f3\",\"pattern\":{\"shape\":\"\"}},\"name\":\"TV-Y\",\"offsetgroup\":\"TV-Y\",\"orientation\":\"v\",\"showlegend\":true,\"textposition\":\"auto\",\"type\":\"bar\",\"x\":[\"TV-Y\",\"TV-Y\",\"TV-Y\",\"TV-Y\",\"TV-Y\",\"TV-Y\",\"TV-Y\",\"TV-Y\",\"TV-Y\",\"TV-Y\",\"TV-Y\",\"TV-Y\",\"TV-Y\",\"TV-Y\",\"TV-Y\",\"TV-Y\",\"TV-Y\",\"TV-Y\",\"TV-Y\",\"TV-Y\",\"TV-Y\",\"TV-Y\",\"TV-Y\",\"TV-Y\",\"TV-Y\",\"TV-Y\",\"TV-Y\",\"TV-Y\",\"TV-Y\",\"TV-Y\",\"TV-Y\",\"TV-Y\",\"TV-Y\",\"TV-Y\",\"TV-Y\",\"TV-Y\",\"TV-Y\",\"TV-Y\",\"TV-Y\",\"TV-Y\",\"TV-Y\",\"TV-Y\",\"TV-Y\",\"TV-Y\",\"TV-Y\",\"TV-Y\",\"TV-Y\",\"TV-Y\",\"TV-Y\",\"TV-Y\",\"TV-Y\",\"TV-Y\",\"TV-Y\",\"TV-Y\",\"TV-Y\",\"TV-Y\",\"TV-Y\",\"TV-Y\",\"TV-Y\",\"TV-Y\",\"TV-Y\",\"TV-Y\",\"TV-Y\",\"TV-Y\",\"TV-Y\",\"TV-Y\",\"TV-Y\",\"TV-Y\",\"TV-Y\",\"TV-Y\",\"TV-Y\",\"TV-Y\",\"TV-Y\",\"TV-Y\",\"TV-Y\",\"TV-Y\",\"TV-Y\",\"TV-Y\",\"TV-Y\",\"TV-Y\",\"TV-Y\",\"TV-Y\",\"TV-Y\",\"TV-Y\",\"TV-Y\",\"TV-Y\",\"TV-Y\",\"TV-Y\",\"TV-Y\",\"TV-Y\",\"TV-Y\",\"TV-Y\",\"TV-Y\",\"TV-Y\",\"TV-Y\",\"TV-Y\",\"TV-Y\"],\"xaxis\":\"x\",\"y\":[1,1,1,1,1,1,1,1,1,1,1,1,1,1,1,1,1,1,1,1,1,1,1,1,1,1,1,1,1,1,1,1,1,1,1,1,1,1,1,1,1,1,1,1,1,1,1,1,1,1,1,1,1,1,1,1,1,1,1,1,1,1,1,1,1,1,1,1,1,1,1,1,1,1,1,1,1,1,1,1,1,1,1,1,1,1,1,1,1,1,1,1,1,1,1,1,1],\"yaxis\":\"y\"},{\"alignmentgroup\":\"True\",\"hovertemplate\":\"rating=%{x}<br>count=%{y}<extra></extra>\",\"legendgroup\":\"R\",\"marker\":{\"color\":\"#FF6692\",\"pattern\":{\"shape\":\"\"}},\"name\":\"R\",\"offsetgroup\":\"R\",\"orientation\":\"v\",\"showlegend\":true,\"textposition\":\"auto\",\"type\":\"bar\",\"x\":[\"R\",\"R\",\"R\",\"R\",\"R\",\"R\",\"R\",\"R\",\"R\",\"R\",\"R\",\"R\",\"R\",\"R\",\"R\",\"R\",\"R\",\"R\",\"R\",\"R\",\"R\",\"R\",\"R\",\"R\",\"R\",\"R\",\"R\",\"R\",\"R\",\"R\",\"R\",\"R\",\"R\",\"R\",\"R\",\"R\",\"R\",\"R\",\"R\",\"R\",\"R\",\"R\",\"R\",\"R\",\"R\",\"R\",\"R\",\"R\",\"R\",\"R\",\"R\",\"R\",\"R\",\"R\",\"R\",\"R\",\"R\",\"R\",\"R\",\"R\",\"R\",\"R\",\"R\",\"R\",\"R\",\"R\",\"R\",\"R\",\"R\",\"R\",\"R\",\"R\",\"R\",\"R\",\"R\",\"R\",\"R\",\"R\",\"R\",\"R\",\"R\",\"R\",\"R\",\"R\",\"R\",\"R\",\"R\",\"R\",\"R\",\"R\",\"R\",\"R\",\"R\",\"R\",\"R\",\"R\",\"R\",\"R\",\"R\",\"R\",\"R\",\"R\",\"R\",\"R\",\"R\",\"R\",\"R\",\"R\",\"R\",\"R\",\"R\",\"R\",\"R\",\"R\",\"R\",\"R\",\"R\",\"R\",\"R\",\"R\",\"R\",\"R\",\"R\",\"R\",\"R\",\"R\",\"R\",\"R\",\"R\",\"R\",\"R\",\"R\",\"R\",\"R\",\"R\",\"R\",\"R\",\"R\",\"R\",\"R\",\"R\",\"R\",\"R\",\"R\",\"R\",\"R\",\"R\",\"R\",\"R\",\"R\",\"R\",\"R\",\"R\",\"R\",\"R\",\"R\",\"R\",\"R\",\"R\",\"R\",\"R\",\"R\",\"R\",\"R\",\"R\",\"R\",\"R\",\"R\",\"R\",\"R\",\"R\",\"R\",\"R\",\"R\",\"R\",\"R\",\"R\",\"R\",\"R\",\"R\",\"R\",\"R\",\"R\",\"R\",\"R\",\"R\",\"R\",\"R\",\"R\",\"R\",\"R\",\"R\",\"R\",\"R\",\"R\",\"R\",\"R\",\"R\",\"R\",\"R\",\"R\",\"R\",\"R\",\"R\",\"R\",\"R\",\"R\",\"R\",\"R\",\"R\",\"R\",\"R\",\"R\",\"R\",\"R\",\"R\",\"R\",\"R\",\"R\",\"R\",\"R\",\"R\",\"R\",\"R\",\"R\",\"R\",\"R\",\"R\",\"R\",\"R\",\"R\",\"R\",\"R\",\"R\",\"R\",\"R\",\"R\",\"R\",\"R\",\"R\",\"R\",\"R\",\"R\",\"R\",\"R\",\"R\",\"R\",\"R\",\"R\",\"R\",\"R\",\"R\",\"R\",\"R\",\"R\",\"R\",\"R\",\"R\",\"R\",\"R\",\"R\",\"R\",\"R\",\"R\",\"R\",\"R\",\"R\",\"R\",\"R\",\"R\",\"R\",\"R\",\"R\",\"R\",\"R\",\"R\",\"R\",\"R\",\"R\",\"R\",\"R\",\"R\",\"R\",\"R\",\"R\",\"R\",\"R\",\"R\",\"R\",\"R\",\"R\",\"R\",\"R\",\"R\",\"R\",\"R\",\"R\",\"R\",\"R\",\"R\",\"R\",\"R\",\"R\",\"R\",\"R\",\"R\",\"R\",\"R\",\"R\",\"R\",\"R\",\"R\",\"R\",\"R\",\"R\",\"R\",\"R\",\"R\",\"R\",\"R\",\"R\",\"R\",\"R\",\"R\",\"R\",\"R\",\"R\",\"R\",\"R\",\"R\",\"R\",\"R\",\"R\",\"R\",\"R\",\"R\",\"R\",\"R\",\"R\",\"R\",\"R\",\"R\",\"R\",\"R\",\"R\",\"R\",\"R\",\"R\",\"R\",\"R\",\"R\",\"R\",\"R\",\"R\",\"R\",\"R\",\"R\",\"R\",\"R\",\"R\",\"R\",\"R\",\"R\",\"R\",\"R\",\"R\",\"R\",\"R\",\"R\",\"R\",\"R\",\"R\",\"R\",\"R\",\"R\",\"R\",\"R\",\"R\",\"R\",\"R\",\"R\",\"R\",\"R\",\"R\",\"R\",\"R\",\"R\",\"R\",\"R\",\"R\",\"R\",\"R\",\"R\",\"R\",\"R\",\"R\",\"R\",\"R\",\"R\",\"R\",\"R\",\"R\",\"R\",\"R\",\"R\",\"R\",\"R\",\"R\",\"R\",\"R\",\"R\",\"R\",\"R\",\"R\",\"R\",\"R\",\"R\",\"R\",\"R\",\"R\",\"R\",\"R\",\"R\",\"R\",\"R\",\"R\",\"R\",\"R\",\"R\",\"R\",\"R\",\"R\",\"R\",\"R\",\"R\",\"R\",\"R\",\"R\",\"R\",\"R\",\"R\",\"R\",\"R\",\"R\",\"R\",\"R\",\"R\",\"R\",\"R\",\"R\",\"R\",\"R\",\"R\",\"R\",\"R\",\"R\",\"R\",\"R\",\"R\",\"R\",\"R\",\"R\",\"R\",\"R\",\"R\",\"R\",\"R\",\"R\",\"R\",\"R\",\"R\",\"R\",\"R\",\"R\",\"R\",\"R\",\"R\",\"R\",\"R\",\"R\",\"R\",\"R\",\"R\",\"R\",\"R\",\"R\",\"R\",\"R\",\"R\",\"R\",\"R\",\"R\",\"R\",\"R\",\"R\",\"R\",\"R\",\"R\",\"R\",\"R\",\"R\",\"R\",\"R\",\"R\",\"R\",\"R\",\"R\",\"R\",\"R\",\"R\",\"R\",\"R\",\"R\",\"R\",\"R\",\"R\",\"R\",\"R\",\"R\",\"R\",\"R\",\"R\",\"R\",\"R\",\"R\",\"R\",\"R\",\"R\",\"R\",\"R\",\"R\",\"R\",\"R\",\"R\",\"R\",\"R\",\"R\",\"R\",\"R\",\"R\",\"R\",\"R\",\"R\",\"R\",\"R\",\"R\",\"R\",\"R\",\"R\",\"R\",\"R\",\"R\",\"R\",\"R\",\"R\",\"R\",\"R\",\"R\",\"R\",\"R\",\"R\",\"R\",\"R\",\"R\",\"R\",\"R\",\"R\",\"R\",\"R\",\"R\",\"R\",\"R\",\"R\",\"R\",\"R\",\"R\",\"R\",\"R\",\"R\",\"R\",\"R\",\"R\",\"R\",\"R\",\"R\",\"R\",\"R\",\"R\",\"R\",\"R\",\"R\",\"R\",\"R\",\"R\",\"R\",\"R\",\"R\",\"R\",\"R\",\"R\",\"R\",\"R\",\"R\",\"R\",\"R\",\"R\",\"R\",\"R\",\"R\",\"R\",\"R\",\"R\",\"R\",\"R\",\"R\",\"R\",\"R\",\"R\",\"R\",\"R\",\"R\",\"R\",\"R\",\"R\",\"R\",\"R\",\"R\",\"R\",\"R\",\"R\",\"R\",\"R\",\"R\",\"R\",\"R\",\"R\",\"R\",\"R\",\"R\",\"R\",\"R\",\"R\",\"R\",\"R\",\"R\",\"R\",\"R\",\"R\",\"R\",\"R\",\"R\",\"R\",\"R\",\"R\",\"R\",\"R\",\"R\",\"R\",\"R\",\"R\",\"R\",\"R\",\"R\",\"R\",\"R\",\"R\",\"R\",\"R\",\"R\",\"R\",\"R\",\"R\",\"R\",\"R\",\"R\",\"R\",\"R\",\"R\",\"R\",\"R\",\"R\",\"R\",\"R\",\"R\",\"R\",\"R\",\"R\",\"R\",\"R\",\"R\",\"R\",\"R\",\"R\",\"R\",\"R\",\"R\",\"R\",\"R\",\"R\",\"R\",\"R\",\"R\",\"R\",\"R\",\"R\",\"R\",\"R\",\"R\",\"R\",\"R\",\"R\",\"R\",\"R\",\"R\",\"R\",\"R\",\"R\",\"R\",\"R\",\"R\",\"R\",\"R\",\"R\",\"R\",\"R\",\"R\",\"R\",\"R\",\"R\",\"R\",\"R\",\"R\",\"R\",\"R\",\"R\",\"R\",\"R\",\"R\",\"R\",\"R\",\"R\",\"R\",\"R\",\"R\",\"R\",\"R\",\"R\",\"R\",\"R\",\"R\",\"R\",\"R\",\"R\",\"R\",\"R\",\"R\",\"R\",\"R\",\"R\",\"R\",\"R\",\"R\",\"R\",\"R\",\"R\",\"R\",\"R\",\"R\",\"R\",\"R\",\"R\",\"R\",\"R\",\"R\",\"R\",\"R\",\"R\",\"R\",\"R\",\"R\",\"R\",\"R\",\"R\",\"R\",\"R\",\"R\",\"R\",\"R\"],\"xaxis\":\"x\",\"y\":[1,1,1,1,1,1,1,1,1,1,1,1,1,1,1,1,1,1,1,1,1,1,1,1,1,1,1,1,1,1,1,1,1,1,1,1,1,1,1,1,1,1,1,1,1,1,1,1,1,1,1,1,1,1,1,1,1,1,1,1,1,1,1,1,1,1,1,1,1,1,1,1,1,1,1,1,1,1,1,1,1,1,1,1,1,1,1,1,1,1,1,1,1,1,1,1,1,1,1,1,1,1,1,1,1,1,1,1,1,1,1,1,1,1,1,1,1,1,1,1,1,1,1,1,1,1,1,1,1,1,1,1,1,1,1,1,1,1,1,1,1,1,1,1,1,1,1,1,1,1,1,1,1,1,1,1,1,1,1,1,1,1,1,1,1,1,1,1,1,1,1,1,1,1,1,1,1,1,1,1,1,1,1,1,1,1,1,1,1,1,1,1,1,1,1,1,1,1,1,1,1,1,1,1,1,1,1,1,1,1,1,1,1,1,1,1,1,1,1,1,1,1,1,1,1,1,1,1,1,1,1,1,1,1,1,1,1,1,1,1,1,1,1,1,1,1,1,1,1,1,1,1,1,1,1,1,1,1,1,1,1,1,1,1,1,1,1,1,1,1,1,1,1,1,1,1,1,1,1,1,1,1,1,1,1,1,1,1,1,1,1,1,1,1,1,1,1,1,1,1,1,1,1,1,1,1,1,1,1,1,1,1,1,1,1,1,1,1,1,1,1,1,1,1,1,1,1,1,1,1,1,1,1,1,1,1,1,1,1,1,1,1,1,1,1,1,1,1,1,1,1,1,1,1,1,1,1,1,1,1,1,1,1,1,1,1,1,1,1,1,1,1,1,1,1,1,1,1,1,1,1,1,1,1,1,1,1,1,1,1,1,1,1,1,1,1,1,1,1,1,1,1,1,1,1,1,1,1,1,1,1,1,1,1,1,1,1,1,1,1,1,1,1,1,1,1,1,1,1,1,1,1,1,1,1,1,1,1,1,1,1,1,1,1,1,1,1,1,1,1,1,1,1,1,1,1,1,1,1,1,1,1,1,1,1,1,1,1,1,1,1,1,1,1,1,1,1,1,1,1,1,1,1,1,1,1,1,1,1,1,1,1,1,1,1,1,1,1,1,1,1,1,1,1,1,1,1,1,1,1,1,1,1,1,1,1,1,1,1,1,1,1,1,1,1,1,1,1,1,1,1,1,1,1,1,1,1,1,1,1,1,1,1,1,1,1,1,1,1,1,1,1,1,1,1,1,1,1,1,1,1,1,1,1,1,1,1,1,1,1,1,1,1,1,1,1,1,1,1,1,1,1,1,1,1,1,1,1,1,1,1,1,1,1,1,1,1,1,1,1,1,1,1,1,1,1,1,1,1,1,1,1,1,1,1,1,1,1,1,1,1,1,1,1,1,1,1,1,1,1,1,1,1,1,1,1,1,1,1,1,1,1,1,1,1,1,1,1,1,1,1,1,1,1,1,1,1,1,1,1,1,1,1,1,1,1,1,1,1,1,1,1,1,1,1,1,1,1,1,1,1,1,1,1,1,1,1,1,1,1,1,1,1,1,1,1,1,1,1,1,1,1,1,1,1,1,1,1,1,1,1,1,1,1,1,1,1,1,1,1,1,1,1,1,1,1,1,1,1,1,1,1,1,1,1,1,1,1,1,1,1,1,1,1,1,1,1,1,1,1,1,1,1,1,1,1,1,1,1,1,1,1,1,1,1,1,1,1,1,1,1,1,1,1,1,1,1,1,1,1,1,1,1,1,1,1,1,1],\"yaxis\":\"y\"},{\"alignmentgroup\":\"True\",\"hovertemplate\":\"rating=%{x}<br>count=%{y}<extra></extra>\",\"legendgroup\":\"TV-G\",\"marker\":{\"color\":\"#B6E880\",\"pattern\":{\"shape\":\"\"}},\"name\":\"TV-G\",\"offsetgroup\":\"TV-G\",\"orientation\":\"v\",\"showlegend\":true,\"textposition\":\"auto\",\"type\":\"bar\",\"x\":[\"TV-G\",\"TV-G\",\"TV-G\",\"TV-G\",\"TV-G\",\"TV-G\",\"TV-G\",\"TV-G\",\"TV-G\",\"TV-G\",\"TV-G\",\"TV-G\",\"TV-G\",\"TV-G\",\"TV-G\",\"TV-G\",\"TV-G\",\"TV-G\",\"TV-G\",\"TV-G\",\"TV-G\",\"TV-G\",\"TV-G\",\"TV-G\",\"TV-G\",\"TV-G\",\"TV-G\",\"TV-G\",\"TV-G\",\"TV-G\",\"TV-G\",\"TV-G\",\"TV-G\",\"TV-G\",\"TV-G\",\"TV-G\",\"TV-G\",\"TV-G\",\"TV-G\",\"TV-G\",\"TV-G\",\"TV-G\",\"TV-G\",\"TV-G\",\"TV-G\",\"TV-G\",\"TV-G\",\"TV-G\",\"TV-G\",\"TV-G\",\"TV-G\",\"TV-G\",\"TV-G\",\"TV-G\",\"TV-G\",\"TV-G\",\"TV-G\",\"TV-G\",\"TV-G\",\"TV-G\",\"TV-G\",\"TV-G\",\"TV-G\",\"TV-G\",\"TV-G\",\"TV-G\",\"TV-G\",\"TV-G\",\"TV-G\",\"TV-G\",\"TV-G\",\"TV-G\",\"TV-G\",\"TV-G\",\"TV-G\",\"TV-G\",\"TV-G\",\"TV-G\",\"TV-G\",\"TV-G\",\"TV-G\",\"TV-G\",\"TV-G\",\"TV-G\",\"TV-G\",\"TV-G\",\"TV-G\",\"TV-G\",\"TV-G\",\"TV-G\",\"TV-G\",\"TV-G\",\"TV-G\"],\"xaxis\":\"x\",\"y\":[1,1,1,1,1,1,1,1,1,1,1,1,1,1,1,1,1,1,1,1,1,1,1,1,1,1,1,1,1,1,1,1,1,1,1,1,1,1,1,1,1,1,1,1,1,1,1,1,1,1,1,1,1,1,1,1,1,1,1,1,1,1,1,1,1,1,1,1,1,1,1,1,1,1,1,1,1,1,1,1,1,1,1,1,1,1,1,1,1,1,1,1,1],\"yaxis\":\"y\"},{\"alignmentgroup\":\"True\",\"hovertemplate\":\"rating=%{x}<br>count=%{y}<extra></extra>\",\"legendgroup\":\"TV-Y7\",\"marker\":{\"color\":\"#FF97FF\",\"pattern\":{\"shape\":\"\"}},\"name\":\"TV-Y7\",\"offsetgroup\":\"TV-Y7\",\"orientation\":\"v\",\"showlegend\":true,\"textposition\":\"auto\",\"type\":\"bar\",\"x\":[\"TV-Y7\",\"TV-Y7\",\"TV-Y7\",\"TV-Y7\",\"TV-Y7\",\"TV-Y7\",\"TV-Y7\",\"TV-Y7\",\"TV-Y7\",\"TV-Y7\",\"TV-Y7\",\"TV-Y7\",\"TV-Y7\",\"TV-Y7\",\"TV-Y7\",\"TV-Y7\",\"TV-Y7\",\"TV-Y7\",\"TV-Y7\",\"TV-Y7\",\"TV-Y7\",\"TV-Y7\",\"TV-Y7\",\"TV-Y7\",\"TV-Y7\",\"TV-Y7\",\"TV-Y7\",\"TV-Y7\",\"TV-Y7\",\"TV-Y7\",\"TV-Y7\",\"TV-Y7\",\"TV-Y7\",\"TV-Y7\",\"TV-Y7\",\"TV-Y7\",\"TV-Y7\",\"TV-Y7\",\"TV-Y7\",\"TV-Y7\",\"TV-Y7\",\"TV-Y7\",\"TV-Y7\",\"TV-Y7\",\"TV-Y7\",\"TV-Y7\",\"TV-Y7\",\"TV-Y7\",\"TV-Y7\",\"TV-Y7\",\"TV-Y7\",\"TV-Y7\",\"TV-Y7\",\"TV-Y7\",\"TV-Y7\",\"TV-Y7\",\"TV-Y7\",\"TV-Y7\",\"TV-Y7\",\"TV-Y7\",\"TV-Y7\",\"TV-Y7\",\"TV-Y7\",\"TV-Y7\",\"TV-Y7\",\"TV-Y7\",\"TV-Y7\",\"TV-Y7\",\"TV-Y7\",\"TV-Y7\",\"TV-Y7\",\"TV-Y7\",\"TV-Y7\",\"TV-Y7\",\"TV-Y7\",\"TV-Y7\",\"TV-Y7\",\"TV-Y7\",\"TV-Y7\",\"TV-Y7\",\"TV-Y7\",\"TV-Y7\",\"TV-Y7\",\"TV-Y7\",\"TV-Y7\",\"TV-Y7\",\"TV-Y7\",\"TV-Y7\",\"TV-Y7\",\"TV-Y7\",\"TV-Y7\",\"TV-Y7\",\"TV-Y7\",\"TV-Y7\",\"TV-Y7\",\"TV-Y7\",\"TV-Y7\",\"TV-Y7\",\"TV-Y7\",\"TV-Y7\",\"TV-Y7\",\"TV-Y7\",\"TV-Y7\",\"TV-Y7\",\"TV-Y7\",\"TV-Y7\",\"TV-Y7\",\"TV-Y7\",\"TV-Y7\",\"TV-Y7\",\"TV-Y7\",\"TV-Y7\",\"TV-Y7\",\"TV-Y7\",\"TV-Y7\",\"TV-Y7\"],\"xaxis\":\"x\",\"y\":[1,1,1,1,1,1,1,1,1,1,1,1,1,1,1,1,1,1,1,1,1,1,1,1,1,1,1,1,1,1,1,1,1,1,1,1,1,1,1,1,1,1,1,1,1,1,1,1,1,1,1,1,1,1,1,1,1,1,1,1,1,1,1,1,1,1,1,1,1,1,1,1,1,1,1,1,1,1,1,1,1,1,1,1,1,1,1,1,1,1,1,1,1,1,1,1,1,1,1,1,1,1,1,1,1,1,1,1,1,1,1,1,1,1,1,1],\"yaxis\":\"y\"},{\"alignmentgroup\":\"True\",\"hovertemplate\":\"rating=%{x}<br>count=%{y}<extra></extra>\",\"legendgroup\":\"G\",\"marker\":{\"color\":\"#FECB52\",\"pattern\":{\"shape\":\"\"}},\"name\":\"G\",\"offsetgroup\":\"G\",\"orientation\":\"v\",\"showlegend\":true,\"textposition\":\"auto\",\"type\":\"bar\",\"x\":[\"G\",\"G\",\"G\",\"G\",\"G\",\"G\",\"G\",\"G\",\"G\",\"G\",\"G\",\"G\",\"G\",\"G\",\"G\",\"G\",\"G\",\"G\",\"G\",\"G\",\"G\",\"G\",\"G\",\"G\",\"G\",\"G\",\"G\",\"G\",\"G\",\"G\",\"G\",\"G\",\"G\",\"G\",\"G\",\"G\",\"G\",\"G\",\"G\",\"G\"],\"xaxis\":\"x\",\"y\":[1,1,1,1,1,1,1,1,1,1,1,1,1,1,1,1,1,1,1,1,1,1,1,1,1,1,1,1,1,1,1,1,1,1,1,1,1,1,1,1],\"yaxis\":\"y\"},{\"alignmentgroup\":\"True\",\"hovertemplate\":\"rating=%{x}<br>count=%{y}<extra></extra>\",\"legendgroup\":\"NC-17\",\"marker\":{\"color\":\"#636efa\",\"pattern\":{\"shape\":\"\"}},\"name\":\"NC-17\",\"offsetgroup\":\"NC-17\",\"orientation\":\"v\",\"showlegend\":true,\"textposition\":\"auto\",\"type\":\"bar\",\"x\":[\"NC-17\",\"NC-17\"],\"xaxis\":\"x\",\"y\":[1,1],\"yaxis\":\"y\"},{\"alignmentgroup\":\"True\",\"hovertemplate\":\"rating=%{x}<br>count=%{y}<extra></extra>\",\"legendgroup\":\"NR\",\"marker\":{\"color\":\"#EF553B\",\"pattern\":{\"shape\":\"\"}},\"name\":\"NR\",\"offsetgroup\":\"NR\",\"orientation\":\"v\",\"showlegend\":true,\"textposition\":\"auto\",\"type\":\"bar\",\"x\":[\"NR\",\"NR\",\"NR\",\"NR\",\"NR\",\"NR\",\"NR\",\"NR\",\"NR\",\"NR\",\"NR\",\"NR\",\"NR\",\"NR\",\"NR\",\"NR\",\"NR\",\"NR\",\"NR\",\"NR\",\"NR\",\"NR\",\"NR\",\"NR\",\"NR\",\"NR\",\"NR\",\"NR\",\"NR\",\"NR\",\"NR\",\"NR\",\"NR\",\"NR\",\"NR\",\"NR\",\"NR\",\"NR\",\"NR\",\"NR\",\"NR\",\"NR\",\"NR\",\"NR\",\"NR\",\"NR\",\"NR\",\"NR\",\"NR\",\"NR\",\"NR\",\"NR\",\"NR\",\"NR\",\"NR\",\"NR\",\"NR\",\"NR\"],\"xaxis\":\"x\",\"y\":[1,1,1,1,1,1,1,1,1,1,1,1,1,1,1,1,1,1,1,1,1,1,1,1,1,1,1,1,1,1,1,1,1,1,1,1,1,1,1,1,1,1,1,1,1,1,1,1,1,1,1,1,1,1,1,1,1,1],\"yaxis\":\"y\"},{\"alignmentgroup\":\"True\",\"hovertemplate\":\"rating=%{x}<br>count=%{y}<extra></extra>\",\"legendgroup\":\"TV-Y7-FV\",\"marker\":{\"color\":\"#00cc96\",\"pattern\":{\"shape\":\"\"}},\"name\":\"TV-Y7-FV\",\"offsetgroup\":\"TV-Y7-FV\",\"orientation\":\"v\",\"showlegend\":true,\"textposition\":\"auto\",\"type\":\"bar\",\"x\":[\"TV-Y7-FV\",\"TV-Y7-FV\",\"TV-Y7-FV\"],\"xaxis\":\"x\",\"y\":[1,1,1],\"yaxis\":\"y\"},{\"alignmentgroup\":\"True\",\"hovertemplate\":\"rating=%{x}<br>count=%{y}<extra></extra>\",\"legendgroup\":\"UR\",\"marker\":{\"color\":\"#ab63fa\",\"pattern\":{\"shape\":\"\"}},\"name\":\"UR\",\"offsetgroup\":\"UR\",\"orientation\":\"v\",\"showlegend\":true,\"textposition\":\"auto\",\"type\":\"bar\",\"x\":[\"UR\",\"UR\",\"UR\"],\"xaxis\":\"x\",\"y\":[1,1,1],\"yaxis\":\"y\"}],                        {\"barmode\":\"relative\",\"legend\":{\"title\":{\"text\":\"rating\"},\"tracegroupgap\":0},\"margin\":{\"t\":60},\"template\":{\"data\":{\"bar\":[{\"error_x\":{\"color\":\"#2a3f5f\"},\"error_y\":{\"color\":\"#2a3f5f\"},\"marker\":{\"line\":{\"color\":\"#E5ECF6\",\"width\":0.5},\"pattern\":{\"fillmode\":\"overlay\",\"size\":10,\"solidity\":0.2}},\"type\":\"bar\"}],\"barpolar\":[{\"marker\":{\"line\":{\"color\":\"#E5ECF6\",\"width\":0.5},\"pattern\":{\"fillmode\":\"overlay\",\"size\":10,\"solidity\":0.2}},\"type\":\"barpolar\"}],\"carpet\":[{\"aaxis\":{\"endlinecolor\":\"#2a3f5f\",\"gridcolor\":\"white\",\"linecolor\":\"white\",\"minorgridcolor\":\"white\",\"startlinecolor\":\"#2a3f5f\"},\"baxis\":{\"endlinecolor\":\"#2a3f5f\",\"gridcolor\":\"white\",\"linecolor\":\"white\",\"minorgridcolor\":\"white\",\"startlinecolor\":\"#2a3f5f\"},\"type\":\"carpet\"}],\"choropleth\":[{\"colorbar\":{\"outlinewidth\":0,\"ticks\":\"\"},\"type\":\"choropleth\"}],\"contour\":[{\"colorbar\":{\"outlinewidth\":0,\"ticks\":\"\"},\"colorscale\":[[0.0,\"#0d0887\"],[0.1111111111111111,\"#46039f\"],[0.2222222222222222,\"#7201a8\"],[0.3333333333333333,\"#9c179e\"],[0.4444444444444444,\"#bd3786\"],[0.5555555555555556,\"#d8576b\"],[0.6666666666666666,\"#ed7953\"],[0.7777777777777778,\"#fb9f3a\"],[0.8888888888888888,\"#fdca26\"],[1.0,\"#f0f921\"]],\"type\":\"contour\"}],\"contourcarpet\":[{\"colorbar\":{\"outlinewidth\":0,\"ticks\":\"\"},\"type\":\"contourcarpet\"}],\"heatmap\":[{\"colorbar\":{\"outlinewidth\":0,\"ticks\":\"\"},\"colorscale\":[[0.0,\"#0d0887\"],[0.1111111111111111,\"#46039f\"],[0.2222222222222222,\"#7201a8\"],[0.3333333333333333,\"#9c179e\"],[0.4444444444444444,\"#bd3786\"],[0.5555555555555556,\"#d8576b\"],[0.6666666666666666,\"#ed7953\"],[0.7777777777777778,\"#fb9f3a\"],[0.8888888888888888,\"#fdca26\"],[1.0,\"#f0f921\"]],\"type\":\"heatmap\"}],\"heatmapgl\":[{\"colorbar\":{\"outlinewidth\":0,\"ticks\":\"\"},\"colorscale\":[[0.0,\"#0d0887\"],[0.1111111111111111,\"#46039f\"],[0.2222222222222222,\"#7201a8\"],[0.3333333333333333,\"#9c179e\"],[0.4444444444444444,\"#bd3786\"],[0.5555555555555556,\"#d8576b\"],[0.6666666666666666,\"#ed7953\"],[0.7777777777777778,\"#fb9f3a\"],[0.8888888888888888,\"#fdca26\"],[1.0,\"#f0f921\"]],\"type\":\"heatmapgl\"}],\"histogram\":[{\"marker\":{\"pattern\":{\"fillmode\":\"overlay\",\"size\":10,\"solidity\":0.2}},\"type\":\"histogram\"}],\"histogram2d\":[{\"colorbar\":{\"outlinewidth\":0,\"ticks\":\"\"},\"colorscale\":[[0.0,\"#0d0887\"],[0.1111111111111111,\"#46039f\"],[0.2222222222222222,\"#7201a8\"],[0.3333333333333333,\"#9c179e\"],[0.4444444444444444,\"#bd3786\"],[0.5555555555555556,\"#d8576b\"],[0.6666666666666666,\"#ed7953\"],[0.7777777777777778,\"#fb9f3a\"],[0.8888888888888888,\"#fdca26\"],[1.0,\"#f0f921\"]],\"type\":\"histogram2d\"}],\"histogram2dcontour\":[{\"colorbar\":{\"outlinewidth\":0,\"ticks\":\"\"},\"colorscale\":[[0.0,\"#0d0887\"],[0.1111111111111111,\"#46039f\"],[0.2222222222222222,\"#7201a8\"],[0.3333333333333333,\"#9c179e\"],[0.4444444444444444,\"#bd3786\"],[0.5555555555555556,\"#d8576b\"],[0.6666666666666666,\"#ed7953\"],[0.7777777777777778,\"#fb9f3a\"],[0.8888888888888888,\"#fdca26\"],[1.0,\"#f0f921\"]],\"type\":\"histogram2dcontour\"}],\"mesh3d\":[{\"colorbar\":{\"outlinewidth\":0,\"ticks\":\"\"},\"type\":\"mesh3d\"}],\"parcoords\":[{\"line\":{\"colorbar\":{\"outlinewidth\":0,\"ticks\":\"\"}},\"type\":\"parcoords\"}],\"pie\":[{\"automargin\":true,\"type\":\"pie\"}],\"scatter\":[{\"marker\":{\"colorbar\":{\"outlinewidth\":0,\"ticks\":\"\"}},\"type\":\"scatter\"}],\"scatter3d\":[{\"line\":{\"colorbar\":{\"outlinewidth\":0,\"ticks\":\"\"}},\"marker\":{\"colorbar\":{\"outlinewidth\":0,\"ticks\":\"\"}},\"type\":\"scatter3d\"}],\"scattercarpet\":[{\"marker\":{\"colorbar\":{\"outlinewidth\":0,\"ticks\":\"\"}},\"type\":\"scattercarpet\"}],\"scattergeo\":[{\"marker\":{\"colorbar\":{\"outlinewidth\":0,\"ticks\":\"\"}},\"type\":\"scattergeo\"}],\"scattergl\":[{\"marker\":{\"colorbar\":{\"outlinewidth\":0,\"ticks\":\"\"}},\"type\":\"scattergl\"}],\"scattermapbox\":[{\"marker\":{\"colorbar\":{\"outlinewidth\":0,\"ticks\":\"\"}},\"type\":\"scattermapbox\"}],\"scatterpolar\":[{\"marker\":{\"colorbar\":{\"outlinewidth\":0,\"ticks\":\"\"}},\"type\":\"scatterpolar\"}],\"scatterpolargl\":[{\"marker\":{\"colorbar\":{\"outlinewidth\":0,\"ticks\":\"\"}},\"type\":\"scatterpolargl\"}],\"scatterternary\":[{\"marker\":{\"colorbar\":{\"outlinewidth\":0,\"ticks\":\"\"}},\"type\":\"scatterternary\"}],\"surface\":[{\"colorbar\":{\"outlinewidth\":0,\"ticks\":\"\"},\"colorscale\":[[0.0,\"#0d0887\"],[0.1111111111111111,\"#46039f\"],[0.2222222222222222,\"#7201a8\"],[0.3333333333333333,\"#9c179e\"],[0.4444444444444444,\"#bd3786\"],[0.5555555555555556,\"#d8576b\"],[0.6666666666666666,\"#ed7953\"],[0.7777777777777778,\"#fb9f3a\"],[0.8888888888888888,\"#fdca26\"],[1.0,\"#f0f921\"]],\"type\":\"surface\"}],\"table\":[{\"cells\":{\"fill\":{\"color\":\"#EBF0F8\"},\"line\":{\"color\":\"white\"}},\"header\":{\"fill\":{\"color\":\"#C8D4E3\"},\"line\":{\"color\":\"white\"}},\"type\":\"table\"}]},\"layout\":{\"annotationdefaults\":{\"arrowcolor\":\"#2a3f5f\",\"arrowhead\":0,\"arrowwidth\":1},\"autotypenumbers\":\"strict\",\"coloraxis\":{\"colorbar\":{\"outlinewidth\":0,\"ticks\":\"\"}},\"colorscale\":{\"diverging\":[[0,\"#8e0152\"],[0.1,\"#c51b7d\"],[0.2,\"#de77ae\"],[0.3,\"#f1b6da\"],[0.4,\"#fde0ef\"],[0.5,\"#f7f7f7\"],[0.6,\"#e6f5d0\"],[0.7,\"#b8e186\"],[0.8,\"#7fbc41\"],[0.9,\"#4d9221\"],[1,\"#276419\"]],\"sequential\":[[0.0,\"#0d0887\"],[0.1111111111111111,\"#46039f\"],[0.2222222222222222,\"#7201a8\"],[0.3333333333333333,\"#9c179e\"],[0.4444444444444444,\"#bd3786\"],[0.5555555555555556,\"#d8576b\"],[0.6666666666666666,\"#ed7953\"],[0.7777777777777778,\"#fb9f3a\"],[0.8888888888888888,\"#fdca26\"],[1.0,\"#f0f921\"]],\"sequentialminus\":[[0.0,\"#0d0887\"],[0.1111111111111111,\"#46039f\"],[0.2222222222222222,\"#7201a8\"],[0.3333333333333333,\"#9c179e\"],[0.4444444444444444,\"#bd3786\"],[0.5555555555555556,\"#d8576b\"],[0.6666666666666666,\"#ed7953\"],[0.7777777777777778,\"#fb9f3a\"],[0.8888888888888888,\"#fdca26\"],[1.0,\"#f0f921\"]]},\"colorway\":[\"#636efa\",\"#EF553B\",\"#00cc96\",\"#ab63fa\",\"#FFA15A\",\"#19d3f3\",\"#FF6692\",\"#B6E880\",\"#FF97FF\",\"#FECB52\"],\"font\":{\"color\":\"#2a3f5f\"},\"geo\":{\"bgcolor\":\"white\",\"lakecolor\":\"white\",\"landcolor\":\"#E5ECF6\",\"showlakes\":true,\"showland\":true,\"subunitcolor\":\"white\"},\"hoverlabel\":{\"align\":\"left\"},\"hovermode\":\"closest\",\"mapbox\":{\"style\":\"light\"},\"paper_bgcolor\":\"white\",\"plot_bgcolor\":\"#E5ECF6\",\"polar\":{\"angularaxis\":{\"gridcolor\":\"white\",\"linecolor\":\"white\",\"ticks\":\"\"},\"bgcolor\":\"#E5ECF6\",\"radialaxis\":{\"gridcolor\":\"white\",\"linecolor\":\"white\",\"ticks\":\"\"}},\"scene\":{\"xaxis\":{\"backgroundcolor\":\"#E5ECF6\",\"gridcolor\":\"white\",\"gridwidth\":2,\"linecolor\":\"white\",\"showbackground\":true,\"ticks\":\"\",\"zerolinecolor\":\"white\"},\"yaxis\":{\"backgroundcolor\":\"#E5ECF6\",\"gridcolor\":\"white\",\"gridwidth\":2,\"linecolor\":\"white\",\"showbackground\":true,\"ticks\":\"\",\"zerolinecolor\":\"white\"},\"zaxis\":{\"backgroundcolor\":\"#E5ECF6\",\"gridcolor\":\"white\",\"gridwidth\":2,\"linecolor\":\"white\",\"showbackground\":true,\"ticks\":\"\",\"zerolinecolor\":\"white\"}},\"shapedefaults\":{\"line\":{\"color\":\"#2a3f5f\"}},\"ternary\":{\"aaxis\":{\"gridcolor\":\"white\",\"linecolor\":\"white\",\"ticks\":\"\"},\"baxis\":{\"gridcolor\":\"white\",\"linecolor\":\"white\",\"ticks\":\"\"},\"bgcolor\":\"#E5ECF6\",\"caxis\":{\"gridcolor\":\"white\",\"linecolor\":\"white\",\"ticks\":\"\"}},\"title\":{\"x\":0.05},\"xaxis\":{\"automargin\":true,\"gridcolor\":\"white\",\"linecolor\":\"white\",\"ticks\":\"\",\"title\":{\"standoff\":15},\"zerolinecolor\":\"white\",\"zerolinewidth\":2},\"yaxis\":{\"automargin\":true,\"gridcolor\":\"white\",\"linecolor\":\"white\",\"ticks\":\"\",\"title\":{\"standoff\":15},\"zerolinecolor\":\"white\",\"zerolinewidth\":2}}},\"xaxis\":{\"anchor\":\"y\",\"categoryarray\":[\"PG\",\"TV-MA\",\"PG-13\",\"TV-PG\",\"TV-14\",\"TV-Y\",\"R\",\"TV-G\",\"TV-Y7\",\"G\",\"NC-17\",\"NR\",\"TV-Y7-FV\",\"UR\"],\"categoryorder\":\"array\",\"domain\":[0.0,1.0],\"title\":{\"text\":\"rating\"}},\"yaxis\":{\"anchor\":\"x\",\"domain\":[0.0,1.0],\"title\":{\"text\":\"count\"}}},                        {\"responsive\": true}                    ).then(function(){\n",
              "                            \n",
              "var gd = document.getElementById('ee8b6182-d73f-4937-b9aa-778b5c611a3a');\n",
              "var x = new MutationObserver(function (mutations, observer) {{\n",
              "        var display = window.getComputedStyle(gd).display;\n",
              "        if (!display || display === 'none') {{\n",
              "            console.log([gd, 'removed!']);\n",
              "            Plotly.purge(gd);\n",
              "            observer.disconnect();\n",
              "        }}\n",
              "}});\n",
              "\n",
              "// Listen for the removal of the full notebook cells\n",
              "var notebookContainer = gd.closest('#notebook-container');\n",
              "if (notebookContainer) {{\n",
              "    x.observe(notebookContainer, {childList: true});\n",
              "}}\n",
              "\n",
              "// Listen for the clearing of the current output cell\n",
              "var outputEl = gd.closest('.output');\n",
              "if (outputEl) {{\n",
              "    x.observe(outputEl, {childList: true});\n",
              "}}\n",
              "\n",
              "                        })                };                            </script>        </div>\n",
              "</body>\n",
              "</html>"
            ]
          },
          "metadata": {}
        }
      ]
    },
    {
      "cell_type": "markdown",
      "source": [
        "Use bar charts to scale the rating of TV shows "
      ],
      "metadata": {
        "id": "iNxitmF2IKBw"
      }
    },
    {
      "cell_type": "code",
      "source": [
        "fig = px.bar(tv_df, x='rating', color = 'rating')\n",
        "fig.show()"
      ],
      "metadata": {
        "colab": {
          "base_uri": "https://localhost:8080/",
          "height": 542
        },
        "id": "eGXbj14ghpOi",
        "outputId": "b51f53bc-3b45-461c-9359-16be02335d29"
      },
      "execution_count": 326,
      "outputs": [
        {
          "output_type": "display_data",
          "data": {
            "text/html": [
              "<html>\n",
              "<head><meta charset=\"utf-8\" /></head>\n",
              "<body>\n",
              "    <div>            <script src=\"https://cdnjs.cloudflare.com/ajax/libs/mathjax/2.7.5/MathJax.js?config=TeX-AMS-MML_SVG\"></script><script type=\"text/javascript\">if (window.MathJax) {MathJax.Hub.Config({SVG: {font: \"STIX-Web\"}});}</script>                <script type=\"text/javascript\">window.PlotlyConfig = {MathJaxConfig: 'local'};</script>\n",
              "        <script src=\"https://cdn.plot.ly/plotly-2.4.2.min.js\"></script>                <div id=\"c7d7eecb-9844-4796-84b0-dfc0d8f936ad\" class=\"plotly-graph-div\" style=\"height:525px; width:100%;\"></div>            <script type=\"text/javascript\">                                    window.PLOTLYENV=window.PLOTLYENV || {};                                    if (document.getElementById(\"c7d7eecb-9844-4796-84b0-dfc0d8f936ad\")) {                    Plotly.newPlot(                        \"c7d7eecb-9844-4796-84b0-dfc0d8f936ad\",                        [{\"alignmentgroup\":\"True\",\"hovertemplate\":\"rating=%{x}<br>count=%{y}<extra></extra>\",\"legendgroup\":\"TV-MA\",\"marker\":{\"color\":\"#636efa\",\"pattern\":{\"shape\":\"\"}},\"name\":\"TV-MA\",\"offsetgroup\":\"TV-MA\",\"orientation\":\"v\",\"showlegend\":true,\"textposition\":\"auto\",\"type\":\"bar\",\"x\":[\"TV-MA\",\"TV-MA\",\"TV-MA\",\"TV-MA\",\"TV-MA\",\"TV-MA\",\"TV-MA\",\"TV-MA\",\"TV-MA\",\"TV-MA\",\"TV-MA\",\"TV-MA\",\"TV-MA\",\"TV-MA\",\"TV-MA\",\"TV-MA\",\"TV-MA\",\"TV-MA\",\"TV-MA\",\"TV-MA\",\"TV-MA\",\"TV-MA\",\"TV-MA\",\"TV-MA\",\"TV-MA\",\"TV-MA\",\"TV-MA\",\"TV-MA\",\"TV-MA\",\"TV-MA\",\"TV-MA\",\"TV-MA\",\"TV-MA\",\"TV-MA\",\"TV-MA\",\"TV-MA\",\"TV-MA\",\"TV-MA\",\"TV-MA\",\"TV-MA\",\"TV-MA\",\"TV-MA\",\"TV-MA\",\"TV-MA\",\"TV-MA\",\"TV-MA\",\"TV-MA\",\"TV-MA\",\"TV-MA\",\"TV-MA\",\"TV-MA\",\"TV-MA\",\"TV-MA\",\"TV-MA\",\"TV-MA\",\"TV-MA\",\"TV-MA\",\"TV-MA\",\"TV-MA\",\"TV-MA\",\"TV-MA\",\"TV-MA\",\"TV-MA\",\"TV-MA\",\"TV-MA\",\"TV-MA\",\"TV-MA\",\"TV-MA\",\"TV-MA\",\"TV-MA\",\"TV-MA\",\"TV-MA\",\"TV-MA\",\"TV-MA\",\"TV-MA\",\"TV-MA\",\"TV-MA\",\"TV-MA\",\"TV-MA\",\"TV-MA\",\"TV-MA\",\"TV-MA\",\"TV-MA\",\"TV-MA\",\"TV-MA\",\"TV-MA\",\"TV-MA\",\"TV-MA\",\"TV-MA\",\"TV-MA\",\"TV-MA\",\"TV-MA\",\"TV-MA\",\"TV-MA\",\"TV-MA\",\"TV-MA\",\"TV-MA\"],\"xaxis\":\"x\",\"y\":[1,1,1,1,1,1,1,1,1,1,1,1,1,1,1,1,1,1,1,1,1,1,1,1,1,1,1,1,1,1,1,1,1,1,1,1,1,1,1,1,1,1,1,1,1,1,1,1,1,1,1,1,1,1,1,1,1,1,1,1,1,1,1,1,1,1,1,1,1,1,1,1,1,1,1,1,1,1,1,1,1,1,1,1,1,1,1,1,1,1,1,1,1,1,1,1,1],\"yaxis\":\"y\"},{\"alignmentgroup\":\"True\",\"hovertemplate\":\"rating=%{x}<br>count=%{y}<extra></extra>\",\"legendgroup\":\"TV-14\",\"marker\":{\"color\":\"#EF553B\",\"pattern\":{\"shape\":\"\"}},\"name\":\"TV-14\",\"offsetgroup\":\"TV-14\",\"orientation\":\"v\",\"showlegend\":true,\"textposition\":\"auto\",\"type\":\"bar\",\"x\":[\"TV-14\",\"TV-14\",\"TV-14\",\"TV-14\",\"TV-14\",\"TV-14\",\"TV-14\",\"TV-14\",\"TV-14\",\"TV-14\",\"TV-14\",\"TV-14\",\"TV-14\",\"TV-14\",\"TV-14\",\"TV-14\",\"TV-14\",\"TV-14\",\"TV-14\",\"TV-14\",\"TV-14\",\"TV-14\",\"TV-14\",\"TV-14\",\"TV-14\",\"TV-14\",\"TV-14\",\"TV-14\",\"TV-14\",\"TV-14\",\"TV-14\",\"TV-14\",\"TV-14\",\"TV-14\",\"TV-14\",\"TV-14\",\"TV-14\",\"TV-14\",\"TV-14\",\"TV-14\",\"TV-14\",\"TV-14\",\"TV-14\",\"TV-14\",\"TV-14\",\"TV-14\",\"TV-14\",\"TV-14\",\"TV-14\",\"TV-14\"],\"xaxis\":\"x\",\"y\":[1,1,1,1,1,1,1,1,1,1,1,1,1,1,1,1,1,1,1,1,1,1,1,1,1,1,1,1,1,1,1,1,1,1,1,1,1,1,1,1,1,1,1,1,1,1,1,1,1,1],\"yaxis\":\"y\"},{\"alignmentgroup\":\"True\",\"hovertemplate\":\"rating=%{x}<br>count=%{y}<extra></extra>\",\"legendgroup\":\"TV-G\",\"marker\":{\"color\":\"#00cc96\",\"pattern\":{\"shape\":\"\"}},\"name\":\"TV-G\",\"offsetgroup\":\"TV-G\",\"orientation\":\"v\",\"showlegend\":true,\"textposition\":\"auto\",\"type\":\"bar\",\"x\":[\"TV-G\",\"TV-G\",\"TV-G\"],\"xaxis\":\"x\",\"y\":[1,1,1],\"yaxis\":\"y\"},{\"alignmentgroup\":\"True\",\"hovertemplate\":\"rating=%{x}<br>count=%{y}<extra></extra>\",\"legendgroup\":\"TV-PG\",\"marker\":{\"color\":\"#ab63fa\",\"pattern\":{\"shape\":\"\"}},\"name\":\"TV-PG\",\"offsetgroup\":\"TV-PG\",\"orientation\":\"v\",\"showlegend\":true,\"textposition\":\"auto\",\"type\":\"bar\",\"x\":[\"TV-PG\",\"TV-PG\",\"TV-PG\",\"TV-PG\",\"TV-PG\",\"TV-PG\",\"TV-PG\",\"TV-PG\",\"TV-PG\",\"TV-PG\",\"TV-PG\",\"TV-PG\",\"TV-PG\",\"TV-PG\",\"TV-PG\"],\"xaxis\":\"x\",\"y\":[1,1,1,1,1,1,1,1,1,1,1,1,1,1,1],\"yaxis\":\"y\"},{\"alignmentgroup\":\"True\",\"hovertemplate\":\"rating=%{x}<br>count=%{y}<extra></extra>\",\"legendgroup\":\"TV-Y\",\"marker\":{\"color\":\"#FFA15A\",\"pattern\":{\"shape\":\"\"}},\"name\":\"TV-Y\",\"offsetgroup\":\"TV-Y\",\"orientation\":\"v\",\"showlegend\":true,\"textposition\":\"auto\",\"type\":\"bar\",\"x\":[\"TV-Y\",\"TV-Y\",\"TV-Y\",\"TV-Y\",\"TV-Y\"],\"xaxis\":\"x\",\"y\":[1,1,1,1,1],\"yaxis\":\"y\"},{\"alignmentgroup\":\"True\",\"hovertemplate\":\"rating=%{x}<br>count=%{y}<extra></extra>\",\"legendgroup\":\"TV-Y7\",\"marker\":{\"color\":\"#19d3f3\",\"pattern\":{\"shape\":\"\"}},\"name\":\"TV-Y7\",\"offsetgroup\":\"TV-Y7\",\"orientation\":\"v\",\"showlegend\":true,\"textposition\":\"auto\",\"type\":\"bar\",\"x\":[\"TV-Y7\",\"TV-Y7\",\"TV-Y7\",\"TV-Y7\",\"TV-Y7\",\"TV-Y7\",\"TV-Y7\"],\"xaxis\":\"x\",\"y\":[1,1,1,1,1,1,1],\"yaxis\":\"y\"},{\"alignmentgroup\":\"True\",\"hovertemplate\":\"rating=%{x}<br>count=%{y}<extra></extra>\",\"legendgroup\":\"R\",\"marker\":{\"color\":\"#FF6692\",\"pattern\":{\"shape\":\"\"}},\"name\":\"R\",\"offsetgroup\":\"R\",\"orientation\":\"v\",\"showlegend\":true,\"textposition\":\"auto\",\"type\":\"bar\",\"x\":[\"R\"],\"xaxis\":\"x\",\"y\":[1],\"yaxis\":\"y\"}],                        {\"barmode\":\"relative\",\"legend\":{\"title\":{\"text\":\"rating\"},\"tracegroupgap\":0},\"margin\":{\"t\":60},\"template\":{\"data\":{\"bar\":[{\"error_x\":{\"color\":\"#2a3f5f\"},\"error_y\":{\"color\":\"#2a3f5f\"},\"marker\":{\"line\":{\"color\":\"#E5ECF6\",\"width\":0.5},\"pattern\":{\"fillmode\":\"overlay\",\"size\":10,\"solidity\":0.2}},\"type\":\"bar\"}],\"barpolar\":[{\"marker\":{\"line\":{\"color\":\"#E5ECF6\",\"width\":0.5},\"pattern\":{\"fillmode\":\"overlay\",\"size\":10,\"solidity\":0.2}},\"type\":\"barpolar\"}],\"carpet\":[{\"aaxis\":{\"endlinecolor\":\"#2a3f5f\",\"gridcolor\":\"white\",\"linecolor\":\"white\",\"minorgridcolor\":\"white\",\"startlinecolor\":\"#2a3f5f\"},\"baxis\":{\"endlinecolor\":\"#2a3f5f\",\"gridcolor\":\"white\",\"linecolor\":\"white\",\"minorgridcolor\":\"white\",\"startlinecolor\":\"#2a3f5f\"},\"type\":\"carpet\"}],\"choropleth\":[{\"colorbar\":{\"outlinewidth\":0,\"ticks\":\"\"},\"type\":\"choropleth\"}],\"contour\":[{\"colorbar\":{\"outlinewidth\":0,\"ticks\":\"\"},\"colorscale\":[[0.0,\"#0d0887\"],[0.1111111111111111,\"#46039f\"],[0.2222222222222222,\"#7201a8\"],[0.3333333333333333,\"#9c179e\"],[0.4444444444444444,\"#bd3786\"],[0.5555555555555556,\"#d8576b\"],[0.6666666666666666,\"#ed7953\"],[0.7777777777777778,\"#fb9f3a\"],[0.8888888888888888,\"#fdca26\"],[1.0,\"#f0f921\"]],\"type\":\"contour\"}],\"contourcarpet\":[{\"colorbar\":{\"outlinewidth\":0,\"ticks\":\"\"},\"type\":\"contourcarpet\"}],\"heatmap\":[{\"colorbar\":{\"outlinewidth\":0,\"ticks\":\"\"},\"colorscale\":[[0.0,\"#0d0887\"],[0.1111111111111111,\"#46039f\"],[0.2222222222222222,\"#7201a8\"],[0.3333333333333333,\"#9c179e\"],[0.4444444444444444,\"#bd3786\"],[0.5555555555555556,\"#d8576b\"],[0.6666666666666666,\"#ed7953\"],[0.7777777777777778,\"#fb9f3a\"],[0.8888888888888888,\"#fdca26\"],[1.0,\"#f0f921\"]],\"type\":\"heatmap\"}],\"heatmapgl\":[{\"colorbar\":{\"outlinewidth\":0,\"ticks\":\"\"},\"colorscale\":[[0.0,\"#0d0887\"],[0.1111111111111111,\"#46039f\"],[0.2222222222222222,\"#7201a8\"],[0.3333333333333333,\"#9c179e\"],[0.4444444444444444,\"#bd3786\"],[0.5555555555555556,\"#d8576b\"],[0.6666666666666666,\"#ed7953\"],[0.7777777777777778,\"#fb9f3a\"],[0.8888888888888888,\"#fdca26\"],[1.0,\"#f0f921\"]],\"type\":\"heatmapgl\"}],\"histogram\":[{\"marker\":{\"pattern\":{\"fillmode\":\"overlay\",\"size\":10,\"solidity\":0.2}},\"type\":\"histogram\"}],\"histogram2d\":[{\"colorbar\":{\"outlinewidth\":0,\"ticks\":\"\"},\"colorscale\":[[0.0,\"#0d0887\"],[0.1111111111111111,\"#46039f\"],[0.2222222222222222,\"#7201a8\"],[0.3333333333333333,\"#9c179e\"],[0.4444444444444444,\"#bd3786\"],[0.5555555555555556,\"#d8576b\"],[0.6666666666666666,\"#ed7953\"],[0.7777777777777778,\"#fb9f3a\"],[0.8888888888888888,\"#fdca26\"],[1.0,\"#f0f921\"]],\"type\":\"histogram2d\"}],\"histogram2dcontour\":[{\"colorbar\":{\"outlinewidth\":0,\"ticks\":\"\"},\"colorscale\":[[0.0,\"#0d0887\"],[0.1111111111111111,\"#46039f\"],[0.2222222222222222,\"#7201a8\"],[0.3333333333333333,\"#9c179e\"],[0.4444444444444444,\"#bd3786\"],[0.5555555555555556,\"#d8576b\"],[0.6666666666666666,\"#ed7953\"],[0.7777777777777778,\"#fb9f3a\"],[0.8888888888888888,\"#fdca26\"],[1.0,\"#f0f921\"]],\"type\":\"histogram2dcontour\"}],\"mesh3d\":[{\"colorbar\":{\"outlinewidth\":0,\"ticks\":\"\"},\"type\":\"mesh3d\"}],\"parcoords\":[{\"line\":{\"colorbar\":{\"outlinewidth\":0,\"ticks\":\"\"}},\"type\":\"parcoords\"}],\"pie\":[{\"automargin\":true,\"type\":\"pie\"}],\"scatter\":[{\"marker\":{\"colorbar\":{\"outlinewidth\":0,\"ticks\":\"\"}},\"type\":\"scatter\"}],\"scatter3d\":[{\"line\":{\"colorbar\":{\"outlinewidth\":0,\"ticks\":\"\"}},\"marker\":{\"colorbar\":{\"outlinewidth\":0,\"ticks\":\"\"}},\"type\":\"scatter3d\"}],\"scattercarpet\":[{\"marker\":{\"colorbar\":{\"outlinewidth\":0,\"ticks\":\"\"}},\"type\":\"scattercarpet\"}],\"scattergeo\":[{\"marker\":{\"colorbar\":{\"outlinewidth\":0,\"ticks\":\"\"}},\"type\":\"scattergeo\"}],\"scattergl\":[{\"marker\":{\"colorbar\":{\"outlinewidth\":0,\"ticks\":\"\"}},\"type\":\"scattergl\"}],\"scattermapbox\":[{\"marker\":{\"colorbar\":{\"outlinewidth\":0,\"ticks\":\"\"}},\"type\":\"scattermapbox\"}],\"scatterpolar\":[{\"marker\":{\"colorbar\":{\"outlinewidth\":0,\"ticks\":\"\"}},\"type\":\"scatterpolar\"}],\"scatterpolargl\":[{\"marker\":{\"colorbar\":{\"outlinewidth\":0,\"ticks\":\"\"}},\"type\":\"scatterpolargl\"}],\"scatterternary\":[{\"marker\":{\"colorbar\":{\"outlinewidth\":0,\"ticks\":\"\"}},\"type\":\"scatterternary\"}],\"surface\":[{\"colorbar\":{\"outlinewidth\":0,\"ticks\":\"\"},\"colorscale\":[[0.0,\"#0d0887\"],[0.1111111111111111,\"#46039f\"],[0.2222222222222222,\"#7201a8\"],[0.3333333333333333,\"#9c179e\"],[0.4444444444444444,\"#bd3786\"],[0.5555555555555556,\"#d8576b\"],[0.6666666666666666,\"#ed7953\"],[0.7777777777777778,\"#fb9f3a\"],[0.8888888888888888,\"#fdca26\"],[1.0,\"#f0f921\"]],\"type\":\"surface\"}],\"table\":[{\"cells\":{\"fill\":{\"color\":\"#EBF0F8\"},\"line\":{\"color\":\"white\"}},\"header\":{\"fill\":{\"color\":\"#C8D4E3\"},\"line\":{\"color\":\"white\"}},\"type\":\"table\"}]},\"layout\":{\"annotationdefaults\":{\"arrowcolor\":\"#2a3f5f\",\"arrowhead\":0,\"arrowwidth\":1},\"autotypenumbers\":\"strict\",\"coloraxis\":{\"colorbar\":{\"outlinewidth\":0,\"ticks\":\"\"}},\"colorscale\":{\"diverging\":[[0,\"#8e0152\"],[0.1,\"#c51b7d\"],[0.2,\"#de77ae\"],[0.3,\"#f1b6da\"],[0.4,\"#fde0ef\"],[0.5,\"#f7f7f7\"],[0.6,\"#e6f5d0\"],[0.7,\"#b8e186\"],[0.8,\"#7fbc41\"],[0.9,\"#4d9221\"],[1,\"#276419\"]],\"sequential\":[[0.0,\"#0d0887\"],[0.1111111111111111,\"#46039f\"],[0.2222222222222222,\"#7201a8\"],[0.3333333333333333,\"#9c179e\"],[0.4444444444444444,\"#bd3786\"],[0.5555555555555556,\"#d8576b\"],[0.6666666666666666,\"#ed7953\"],[0.7777777777777778,\"#fb9f3a\"],[0.8888888888888888,\"#fdca26\"],[1.0,\"#f0f921\"]],\"sequentialminus\":[[0.0,\"#0d0887\"],[0.1111111111111111,\"#46039f\"],[0.2222222222222222,\"#7201a8\"],[0.3333333333333333,\"#9c179e\"],[0.4444444444444444,\"#bd3786\"],[0.5555555555555556,\"#d8576b\"],[0.6666666666666666,\"#ed7953\"],[0.7777777777777778,\"#fb9f3a\"],[0.8888888888888888,\"#fdca26\"],[1.0,\"#f0f921\"]]},\"colorway\":[\"#636efa\",\"#EF553B\",\"#00cc96\",\"#ab63fa\",\"#FFA15A\",\"#19d3f3\",\"#FF6692\",\"#B6E880\",\"#FF97FF\",\"#FECB52\"],\"font\":{\"color\":\"#2a3f5f\"},\"geo\":{\"bgcolor\":\"white\",\"lakecolor\":\"white\",\"landcolor\":\"#E5ECF6\",\"showlakes\":true,\"showland\":true,\"subunitcolor\":\"white\"},\"hoverlabel\":{\"align\":\"left\"},\"hovermode\":\"closest\",\"mapbox\":{\"style\":\"light\"},\"paper_bgcolor\":\"white\",\"plot_bgcolor\":\"#E5ECF6\",\"polar\":{\"angularaxis\":{\"gridcolor\":\"white\",\"linecolor\":\"white\",\"ticks\":\"\"},\"bgcolor\":\"#E5ECF6\",\"radialaxis\":{\"gridcolor\":\"white\",\"linecolor\":\"white\",\"ticks\":\"\"}},\"scene\":{\"xaxis\":{\"backgroundcolor\":\"#E5ECF6\",\"gridcolor\":\"white\",\"gridwidth\":2,\"linecolor\":\"white\",\"showbackground\":true,\"ticks\":\"\",\"zerolinecolor\":\"white\"},\"yaxis\":{\"backgroundcolor\":\"#E5ECF6\",\"gridcolor\":\"white\",\"gridwidth\":2,\"linecolor\":\"white\",\"showbackground\":true,\"ticks\":\"\",\"zerolinecolor\":\"white\"},\"zaxis\":{\"backgroundcolor\":\"#E5ECF6\",\"gridcolor\":\"white\",\"gridwidth\":2,\"linecolor\":\"white\",\"showbackground\":true,\"ticks\":\"\",\"zerolinecolor\":\"white\"}},\"shapedefaults\":{\"line\":{\"color\":\"#2a3f5f\"}},\"ternary\":{\"aaxis\":{\"gridcolor\":\"white\",\"linecolor\":\"white\",\"ticks\":\"\"},\"baxis\":{\"gridcolor\":\"white\",\"linecolor\":\"white\",\"ticks\":\"\"},\"bgcolor\":\"#E5ECF6\",\"caxis\":{\"gridcolor\":\"white\",\"linecolor\":\"white\",\"ticks\":\"\"}},\"title\":{\"x\":0.05},\"xaxis\":{\"automargin\":true,\"gridcolor\":\"white\",\"linecolor\":\"white\",\"ticks\":\"\",\"title\":{\"standoff\":15},\"zerolinecolor\":\"white\",\"zerolinewidth\":2},\"yaxis\":{\"automargin\":true,\"gridcolor\":\"white\",\"linecolor\":\"white\",\"ticks\":\"\",\"title\":{\"standoff\":15},\"zerolinecolor\":\"white\",\"zerolinewidth\":2}}},\"xaxis\":{\"anchor\":\"y\",\"categoryarray\":[\"TV-MA\",\"TV-14\",\"TV-G\",\"TV-PG\",\"TV-Y\",\"TV-Y7\",\"R\"],\"categoryorder\":\"array\",\"domain\":[0.0,1.0],\"title\":{\"text\":\"rating\"}},\"yaxis\":{\"anchor\":\"x\",\"domain\":[0.0,1.0],\"title\":{\"text\":\"count\"}}},                        {\"responsive\": true}                    ).then(function(){\n",
              "                            \n",
              "var gd = document.getElementById('c7d7eecb-9844-4796-84b0-dfc0d8f936ad');\n",
              "var x = new MutationObserver(function (mutations, observer) {{\n",
              "        var display = window.getComputedStyle(gd).display;\n",
              "        if (!display || display === 'none') {{\n",
              "            console.log([gd, 'removed!']);\n",
              "            Plotly.purge(gd);\n",
              "            observer.disconnect();\n",
              "        }}\n",
              "}});\n",
              "\n",
              "// Listen for the removal of the full notebook cells\n",
              "var notebookContainer = gd.closest('#notebook-container');\n",
              "if (notebookContainer) {{\n",
              "    x.observe(notebookContainer, {childList: true});\n",
              "}}\n",
              "\n",
              "// Listen for the clearing of the current output cell\n",
              "var outputEl = gd.closest('.output');\n",
              "if (outputEl) {{\n",
              "    x.observe(outputEl, {childList: true});\n",
              "}}\n",
              "\n",
              "                        })                };                            </script>        </div>\n",
              "</body>\n",
              "</html>"
            ]
          },
          "metadata": {}
        }
      ]
    },
    {
      "cell_type": "code",
      "source": [
        "import warnings\n",
        "warnings.filterwarnings(\"ignore\")"
      ],
      "metadata": {
        "id": "tE950Tj2KblV"
      },
      "execution_count": 327,
      "outputs": []
    },
    {
      "cell_type": "markdown",
      "source": [
        "Top 15 TV Shows with most number of seasons"
      ],
      "metadata": {
        "id": "rNWphMteLe5p"
      }
    },
    {
      "cell_type": "code",
      "source": [
        "tv_df['duration']=tv_df['duration'].str.replace(' Season','')\n",
        "tv_df['duration']=tv_df['duration'].str.replace('s','')\n",
        "tv_df['duration']=tv_df['duration'].astype(str).astype(int)\n",
        "tv_df['duration']"
      ],
      "metadata": {
        "colab": {
          "base_uri": "https://localhost:8080/"
        },
        "id": "tRims3L5LG8Q",
        "outputId": "e266bd11-876a-4566-c2bd-cb4ab853953c"
      },
      "execution_count": 328,
      "outputs": [
        {
          "output_type": "execute_result",
          "data": {
            "text/plain": [
              "2       1\n",
              "5       1\n",
              "8       9\n",
              "11      1\n",
              "47      1\n",
              "       ..\n",
              "8172    1\n",
              "8214    1\n",
              "8293    1\n",
              "8302    1\n",
              "8599    3\n",
              "Name: duration, Length: 178, dtype: int64"
            ]
          },
          "metadata": {},
          "execution_count": 328
        }
      ]
    },
    {
      "cell_type": "code",
      "source": [
        "columns=['title','duration']\n",
        "tv_shows = tv_df[columns]"
      ],
      "metadata": {
        "id": "Qv_adu39LYow"
      },
      "execution_count": 329,
      "outputs": []
    },
    {
      "cell_type": "code",
      "source": [
        "tv_shows = tv_shows.sort_values(by='duration',ascending=False)\n",
        "tv_shows\n",
        "top15 = tv_shows[0:15]\n",
        "top15"
      ],
      "metadata": {
        "colab": {
          "base_uri": "https://localhost:8080/",
          "height": 514
        },
        "id": "PRuDMeyRLaCr",
        "outputId": "ef1283d8-f14d-45e9-fcda-8a132fb44f67"
      },
      "execution_count": 330,
      "outputs": [
        {
          "output_type": "execute_result",
          "data": {
            "text/html": [
              "<div>\n",
              "<style scoped>\n",
              "    .dataframe tbody tr th:only-of-type {\n",
              "        vertical-align: middle;\n",
              "    }\n",
              "\n",
              "    .dataframe tbody tr th {\n",
              "        vertical-align: top;\n",
              "    }\n",
              "\n",
              "    .dataframe thead th {\n",
              "        text-align: right;\n",
              "    }\n",
              "</style>\n",
              "<table border=\"1\" class=\"dataframe\">\n",
              "  <thead>\n",
              "    <tr style=\"text-align: right;\">\n",
              "      <th></th>\n",
              "      <th>title</th>\n",
              "      <th>duration</th>\n",
              "    </tr>\n",
              "  </thead>\n",
              "  <tbody>\n",
              "    <tr>\n",
              "      <th>2423</th>\n",
              "      <td>Supernatural</td>\n",
              "      <td>15</td>\n",
              "    </tr>\n",
              "    <tr>\n",
              "      <th>3541</th>\n",
              "      <td>Naruto</td>\n",
              "      <td>9</td>\n",
              "    </tr>\n",
              "    <tr>\n",
              "      <th>8</th>\n",
              "      <td>The Great British Baking Show</td>\n",
              "      <td>9</td>\n",
              "    </tr>\n",
              "    <tr>\n",
              "      <th>1998</th>\n",
              "      <td>Call the Midwife</td>\n",
              "      <td>9</td>\n",
              "    </tr>\n",
              "    <tr>\n",
              "      <th>2947</th>\n",
              "      <td>Arrow</td>\n",
              "      <td>8</td>\n",
              "    </tr>\n",
              "    <tr>\n",
              "      <th>7896</th>\n",
              "      <td>Royal Pains</td>\n",
              "      <td>8</td>\n",
              "    </tr>\n",
              "    <tr>\n",
              "      <th>380</th>\n",
              "      <td>The Flash</td>\n",
              "      <td>7</td>\n",
              "    </tr>\n",
              "    <tr>\n",
              "      <th>3653</th>\n",
              "      <td>Comedians in Cars Getting Coffee</td>\n",
              "      <td>6</td>\n",
              "    </tr>\n",
              "    <tr>\n",
              "      <th>1173</th>\n",
              "      <td>Men on a Mission</td>\n",
              "      <td>6</td>\n",
              "    </tr>\n",
              "    <tr>\n",
              "      <th>6742</th>\n",
              "      <td>Father Brown</td>\n",
              "      <td>6</td>\n",
              "    </tr>\n",
              "    <tr>\n",
              "      <th>5096</th>\n",
              "      <td>Fullmetal Alchemist: Brotherhood</td>\n",
              "      <td>5</td>\n",
              "    </tr>\n",
              "    <tr>\n",
              "      <th>3477</th>\n",
              "      <td>Gotham</td>\n",
              "      <td>5</td>\n",
              "    </tr>\n",
              "    <tr>\n",
              "      <th>2962</th>\n",
              "      <td>Miraculous: Tales of Ladybug &amp; Cat Noir</td>\n",
              "      <td>5</td>\n",
              "    </tr>\n",
              "    <tr>\n",
              "      <th>2470</th>\n",
              "      <td>Supergirl</td>\n",
              "      <td>5</td>\n",
              "    </tr>\n",
              "    <tr>\n",
              "      <th>2405</th>\n",
              "      <td>DC's Legends of Tomorrow</td>\n",
              "      <td>5</td>\n",
              "    </tr>\n",
              "  </tbody>\n",
              "</table>\n",
              "</div>"
            ],
            "text/plain": [
              "                                        title  duration\n",
              "2423                             Supernatural        15\n",
              "3541                                   Naruto         9\n",
              "8               The Great British Baking Show         9\n",
              "1998                         Call the Midwife         9\n",
              "2947                                    Arrow         8\n",
              "7896                              Royal Pains         8\n",
              "380                                 The Flash         7\n",
              "3653         Comedians in Cars Getting Coffee         6\n",
              "1173                         Men on a Mission         6\n",
              "6742                             Father Brown         6\n",
              "5096         Fullmetal Alchemist: Brotherhood         5\n",
              "3477                                   Gotham         5\n",
              "2962  Miraculous: Tales of Ladybug & Cat Noir         5\n",
              "2470                                Supergirl         5\n",
              "2405                 DC's Legends of Tomorrow         5"
            ]
          },
          "metadata": {},
          "execution_count": 330
        }
      ]
    },
    {
      "cell_type": "code",
      "source": [
        "plt.figure(figsize=(10,6))\n",
        "top15.plot(kind='bar',x='title',y='duration', color='blue')"
      ],
      "metadata": {
        "colab": {
          "base_uri": "https://localhost:8080/",
          "height": 502
        },
        "id": "v2yR8K9qLn2Z",
        "outputId": "213f55df-a382-4868-a051-c7b0ff18c315"
      },
      "execution_count": 331,
      "outputs": [
        {
          "output_type": "execute_result",
          "data": {
            "text/plain": [
              "<matplotlib.axes._subplots.AxesSubplot at 0x7fea14e8f3d0>"
            ]
          },
          "metadata": {},
          "execution_count": 331
        },
        {
          "output_type": "display_data",
          "data": {
            "text/plain": [
              "<Figure size 720x432 with 0 Axes>"
            ]
          },
          "metadata": {}
        },
        {
          "output_type": "display_data",
          "data": {
            "image/png": "[encoded data removed]",
            "text/plain": [
              "<Figure size 432x288 with 1 Axes>"
            ]
          },
          "metadata": {
            "needs_background": "light"
          }
        }
      ]
    },
    {
      "cell_type": "markdown",
      "source": [
        "Top 10 directors with most number of movies"
      ],
      "metadata": {
        "id": "n0w0_ltBMXe9"
      }
    },
    {
      "cell_type": "code",
      "source": [
        "plt.figure(figsize=(10,8))\n",
        "sb.barplot(y= movie_df.director.value_counts()[:10].sort_values().index, x=movie_df.director.value_counts()[:10].sort_values().values);\n",
        "plt.title('Top 10 Directors', color='red', fontsize=18)\n",
        "plt.xticks(movie_df.director.value_counts()[:10].sort_values().values);\n",
        "plt.xlabel('Movies Released');"
      ],
      "metadata": {
        "colab": {
          "base_uri": "https://localhost:8080/",
          "height": 517
        },
        "id": "OZGHLUmJMVeg",
        "outputId": "2b6c227a-24ca-41e4-f2c4-7b8065cfe739"
      },
      "execution_count": 332,
      "outputs": [
        {
          "output_type": "display_data",
          "data": {
            "image/png": "[encoded data removed]",
            "text/plain": [
              "<Figure size 720x576 with 1 Axes>"
            ]
          },
          "metadata": {
            "needs_background": "light"
          }
        }
      ]
    },
    {
      "cell_type": "markdown",
      "source": [
        "Convert duration to integer "
      ],
      "metadata": {
        "id": "pxEMONWpIQ12"
      }
    },
    {
      "cell_type": "code",
      "source": [
        "movie_df['duration']=movie_df['duration'].str.replace(' min','')\n",
        "movie_df['duration']=movie_df['duration'].astype(str).astype(int)\n",
        "movie_df['duration']"
      ],
      "metadata": {
        "colab": {
          "base_uri": "https://localhost:8080/"
        },
        "id": "fKtlTFVbl3_l",
        "outputId": "1d3cbb4e-2ada-4dc8-bc92-59604fe54924"
      },
      "execution_count": 333,
      "outputs": [
        {
          "output_type": "execute_result",
          "data": {
            "text/plain": [
              "6        91\n",
              "7       125\n",
              "9       104\n",
              "12      127\n",
              "13       91\n",
              "       ... \n",
              "8801     96\n",
              "8802    158\n",
              "8804     88\n",
              "8805     88\n",
              "8806    111\n",
              "Name: duration, Length: 5518, dtype: int64"
            ]
          },
          "metadata": {},
          "execution_count": 333
        }
      ]
    },
    {
      "cell_type": "code",
      "source": [
        "columns=['title','duration']\n",
        "tv_shows = tv_df[columns]"
      ],
      "metadata": {
        "id": "oTqdZ4zXnJQj"
      },
      "execution_count": 334,
      "outputs": []
    },
    {
      "cell_type": "code",
      "source": [
        "tv_shows = tv_shows.sort_values(by='duration',ascending=False)\n",
        "tv_shows.head(20)"
      ],
      "metadata": {
        "colab": {
          "base_uri": "https://localhost:8080/",
          "height": 669
        },
        "id": "Pe8GZNWWG52C",
        "outputId": "3049c862-e7d7-4fa8-8ba5-fccd961f170d"
      },
      "execution_count": 335,
      "outputs": [
        {
          "output_type": "execute_result",
          "data": {
            "text/html": [
              "<div>\n",
              "<style scoped>\n",
              "    .dataframe tbody tr th:only-of-type {\n",
              "        vertical-align: middle;\n",
              "    }\n",
              "\n",
              "    .dataframe tbody tr th {\n",
              "        vertical-align: top;\n",
              "    }\n",
              "\n",
              "    .dataframe thead th {\n",
              "        text-align: right;\n",
              "    }\n",
              "</style>\n",
              "<table border=\"1\" class=\"dataframe\">\n",
              "  <thead>\n",
              "    <tr style=\"text-align: right;\">\n",
              "      <th></th>\n",
              "      <th>title</th>\n",
              "      <th>duration</th>\n",
              "    </tr>\n",
              "  </thead>\n",
              "  <tbody>\n",
              "    <tr>\n",
              "      <th>2423</th>\n",
              "      <td>Supernatural</td>\n",
              "      <td>15</td>\n",
              "    </tr>\n",
              "    <tr>\n",
              "      <th>3541</th>\n",
              "      <td>Naruto</td>\n",
              "      <td>9</td>\n",
              "    </tr>\n",
              "    <tr>\n",
              "      <th>8</th>\n",
              "      <td>The Great British Baking Show</td>\n",
              "      <td>9</td>\n",
              "    </tr>\n",
              "    <tr>\n",
              "      <th>1998</th>\n",
              "      <td>Call the Midwife</td>\n",
              "      <td>9</td>\n",
              "    </tr>\n",
              "    <tr>\n",
              "      <th>2947</th>\n",
              "      <td>Arrow</td>\n",
              "      <td>8</td>\n",
              "    </tr>\n",
              "    <tr>\n",
              "      <th>7896</th>\n",
              "      <td>Royal Pains</td>\n",
              "      <td>8</td>\n",
              "    </tr>\n",
              "    <tr>\n",
              "      <th>380</th>\n",
              "      <td>The Flash</td>\n",
              "      <td>7</td>\n",
              "    </tr>\n",
              "    <tr>\n",
              "      <th>3653</th>\n",
              "      <td>Comedians in Cars Getting Coffee</td>\n",
              "      <td>6</td>\n",
              "    </tr>\n",
              "    <tr>\n",
              "      <th>1173</th>\n",
              "      <td>Men on a Mission</td>\n",
              "      <td>6</td>\n",
              "    </tr>\n",
              "    <tr>\n",
              "      <th>6742</th>\n",
              "      <td>Father Brown</td>\n",
              "      <td>6</td>\n",
              "    </tr>\n",
              "    <tr>\n",
              "      <th>5096</th>\n",
              "      <td>Fullmetal Alchemist: Brotherhood</td>\n",
              "      <td>5</td>\n",
              "    </tr>\n",
              "    <tr>\n",
              "      <th>3477</th>\n",
              "      <td>Gotham</td>\n",
              "      <td>5</td>\n",
              "    </tr>\n",
              "    <tr>\n",
              "      <th>2962</th>\n",
              "      <td>Miraculous: Tales of Ladybug &amp; Cat Noir</td>\n",
              "      <td>5</td>\n",
              "    </tr>\n",
              "    <tr>\n",
              "      <th>2470</th>\n",
              "      <td>Supergirl</td>\n",
              "      <td>5</td>\n",
              "    </tr>\n",
              "    <tr>\n",
              "      <th>2405</th>\n",
              "      <td>DC's Legends of Tomorrow</td>\n",
              "      <td>5</td>\n",
              "    </tr>\n",
              "    <tr>\n",
              "      <th>5674</th>\n",
              "      <td>Merlin</td>\n",
              "      <td>5</td>\n",
              "    </tr>\n",
              "    <tr>\n",
              "      <th>5381</th>\n",
              "      <td>Degrassi: Next Class</td>\n",
              "      <td>4</td>\n",
              "    </tr>\n",
              "    <tr>\n",
              "      <th>2846</th>\n",
              "      <td>Velvet</td>\n",
              "      <td>4</td>\n",
              "    </tr>\n",
              "    <tr>\n",
              "      <th>1419</th>\n",
              "      <td>Last Tango in Halifax</td>\n",
              "      <td>4</td>\n",
              "    </tr>\n",
              "    <tr>\n",
              "      <th>676</th>\n",
              "      <td>Riverdale</td>\n",
              "      <td>4</td>\n",
              "    </tr>\n",
              "  </tbody>\n",
              "</table>\n",
              "</div>"
            ],
            "text/plain": [
              "                                        title  duration\n",
              "2423                             Supernatural        15\n",
              "3541                                   Naruto         9\n",
              "8               The Great British Baking Show         9\n",
              "1998                         Call the Midwife         9\n",
              "2947                                    Arrow         8\n",
              "7896                              Royal Pains         8\n",
              "380                                 The Flash         7\n",
              "3653         Comedians in Cars Getting Coffee         6\n",
              "1173                         Men on a Mission         6\n",
              "6742                             Father Brown         6\n",
              "5096         Fullmetal Alchemist: Brotherhood         5\n",
              "3477                                   Gotham         5\n",
              "2962  Miraculous: Tales of Ladybug & Cat Noir         5\n",
              "2470                                Supergirl         5\n",
              "2405                 DC's Legends of Tomorrow         5\n",
              "5674                                   Merlin         5\n",
              "5381                     Degrassi: Next Class         4\n",
              "2846                                   Velvet         4\n",
              "1419                    Last Tango in Halifax         4\n",
              "676                                 Riverdale         4"
            ]
          },
          "metadata": {},
          "execution_count": 335
        }
      ]
    },
    {
      "cell_type": "code",
      "source": [
        "tv_df = tv_shows.merge(tv_df, left_on = 'title',right_on = 'title')\n",
        "tv_df"
      ],
      "metadata": {
        "colab": {
          "base_uri": "https://localhost:8080/",
          "height": 1000
        },
        "id": "CWcMLcQSTbi3",
        "outputId": "dbf816c3-5c28-4963-abaa-1998fe25890a"
      },
      "execution_count": 351,
      "outputs": [
        {
          "output_type": "execute_result",
          "data": {
            "text/html": [
              "<div>\n",
              "<style scoped>\n",
              "    .dataframe tbody tr th:only-of-type {\n",
              "        vertical-align: middle;\n",
              "    }\n",
              "\n",
              "    .dataframe tbody tr th {\n",
              "        vertical-align: top;\n",
              "    }\n",
              "\n",
              "    .dataframe thead th {\n",
              "        text-align: right;\n",
              "    }\n",
              "</style>\n",
              "<table border=\"1\" class=\"dataframe\">\n",
              "  <thead>\n",
              "    <tr style=\"text-align: right;\">\n",
              "      <th></th>\n",
              "      <th>title</th>\n",
              "      <th>duration_x</th>\n",
              "      <th>show_id</th>\n",
              "      <th>type</th>\n",
              "      <th>director</th>\n",
              "      <th>cast</th>\n",
              "      <th>country</th>\n",
              "      <th>release_year</th>\n",
              "      <th>rating</th>\n",
              "      <th>duration_y</th>\n",
              "      <th>Genre</th>\n",
              "      <th>description</th>\n",
              "      <th>date_added_parsed</th>\n",
              "      <th>year_added</th>\n",
              "      <th>month_added</th>\n",
              "      <th>day_added</th>\n",
              "    </tr>\n",
              "  </thead>\n",
              "  <tbody>\n",
              "    <tr>\n",
              "      <th>0</th>\n",
              "      <td>Supernatural</td>\n",
              "      <td>15</td>\n",
              "      <td>s2424</td>\n",
              "      <td>TV Show</td>\n",
              "      <td>Phil Sgriccia</td>\n",
              "      <td>Jared Padalecki, Jensen Ackles, Mark Sheppard,...</td>\n",
              "      <td>United States, Canada</td>\n",
              "      <td>2019</td>\n",
              "      <td>TV-14</td>\n",
              "      <td>15</td>\n",
              "      <td>Classic &amp; Cult TV</td>\n",
              "      <td>Siblings Dean and Sam crisscross the country, ...</td>\n",
              "      <td>2020-06-05</td>\n",
              "      <td>2020</td>\n",
              "      <td>6</td>\n",
              "      <td>5</td>\n",
              "    </tr>\n",
              "    <tr>\n",
              "      <th>1</th>\n",
              "      <td>Naruto</td>\n",
              "      <td>9</td>\n",
              "      <td>s3542</td>\n",
              "      <td>TV Show</td>\n",
              "      <td>Hayato Date</td>\n",
              "      <td>Junko Takeuchi, Chie Nakamura, Noriaki Sugiyam...</td>\n",
              "      <td>Japan</td>\n",
              "      <td>2006</td>\n",
              "      <td>TV-14</td>\n",
              "      <td>9</td>\n",
              "      <td>Anime Series</td>\n",
              "      <td>Guided by the spirit demon within him, orphane...</td>\n",
              "      <td>2019-09-01</td>\n",
              "      <td>2019</td>\n",
              "      <td>9</td>\n",
              "      <td>1</td>\n",
              "    </tr>\n",
              "    <tr>\n",
              "      <th>2</th>\n",
              "      <td>The Great British Baking Show</td>\n",
              "      <td>9</td>\n",
              "      <td>s9</td>\n",
              "      <td>TV Show</td>\n",
              "      <td>Andy Devonshire</td>\n",
              "      <td>Mel Giedroyc, Sue Perkins, Mary Berry, Paul Ho...</td>\n",
              "      <td>United Kingdom</td>\n",
              "      <td>2021</td>\n",
              "      <td>TV-14</td>\n",
              "      <td>9</td>\n",
              "      <td>British TV Shows</td>\n",
              "      <td>A talented batch of amateur bakers face off in...</td>\n",
              "      <td>2021-09-24</td>\n",
              "      <td>2021</td>\n",
              "      <td>9</td>\n",
              "      <td>24</td>\n",
              "    </tr>\n",
              "    <tr>\n",
              "      <th>3</th>\n",
              "      <td>Call the Midwife</td>\n",
              "      <td>9</td>\n",
              "      <td>s1999</td>\n",
              "      <td>TV Show</td>\n",
              "      <td>Philippa Lowthorpe</td>\n",
              "      <td>Vanessa Redgrave, Bryony Hannah, Helen George,...</td>\n",
              "      <td>United Kingdom</td>\n",
              "      <td>2020</td>\n",
              "      <td>TV-MA</td>\n",
              "      <td>9</td>\n",
              "      <td>British TV Shows</td>\n",
              "      <td>This period drama set in impoverished East Lon...</td>\n",
              "      <td>2020-09-15</td>\n",
              "      <td>2020</td>\n",
              "      <td>9</td>\n",
              "      <td>15</td>\n",
              "    </tr>\n",
              "    <tr>\n",
              "      <th>4</th>\n",
              "      <td>Arrow</td>\n",
              "      <td>8</td>\n",
              "      <td>s2948</td>\n",
              "      <td>TV Show</td>\n",
              "      <td>James Bamford</td>\n",
              "      <td>Stephen Amell, Katie Cassidy, David Ramsey, Wi...</td>\n",
              "      <td>United States</td>\n",
              "      <td>2019</td>\n",
              "      <td>TV-14</td>\n",
              "      <td>8</td>\n",
              "      <td>Crime TV Shows</td>\n",
              "      <td>Based on DC Comics' Green Arrow, an affluent p...</td>\n",
              "      <td>2020-02-05</td>\n",
              "      <td>2020</td>\n",
              "      <td>2</td>\n",
              "      <td>5</td>\n",
              "    </tr>\n",
              "    <tr>\n",
              "      <th>...</th>\n",
              "      <td>...</td>\n",
              "      <td>...</td>\n",
              "      <td>...</td>\n",
              "      <td>...</td>\n",
              "      <td>...</td>\n",
              "      <td>...</td>\n",
              "      <td>...</td>\n",
              "      <td>...</td>\n",
              "      <td>...</td>\n",
              "      <td>...</td>\n",
              "      <td>...</td>\n",
              "      <td>...</td>\n",
              "      <td>...</td>\n",
              "      <td>...</td>\n",
              "      <td>...</td>\n",
              "      <td>...</td>\n",
              "    </tr>\n",
              "    <tr>\n",
              "      <th>173</th>\n",
              "      <td>Almost Happy</td>\n",
              "      <td>1</td>\n",
              "      <td>s2566</td>\n",
              "      <td>TV Show</td>\n",
              "      <td>Hernán Guerschuny</td>\n",
              "      <td>Sebastián Wainraich, Natalie Pérez, Santiago K...</td>\n",
              "      <td>Argentina</td>\n",
              "      <td>2020</td>\n",
              "      <td>TV-MA</td>\n",
              "      <td>1</td>\n",
              "      <td>International TV Shows</td>\n",
              "      <td>Sebastián is a radio show host of modest fame,...</td>\n",
              "      <td>2020-05-02</td>\n",
              "      <td>2020</td>\n",
              "      <td>5</td>\n",
              "      <td>2</td>\n",
              "    </tr>\n",
              "    <tr>\n",
              "      <th>174</th>\n",
              "      <td>The Forest of Love: Deep Cut</td>\n",
              "      <td>1</td>\n",
              "      <td>s2603</td>\n",
              "      <td>TV Show</td>\n",
              "      <td>Sion Sono</td>\n",
              "      <td>Kippei Shiina, Shinnosuke Mitsushima, Kyooko H...</td>\n",
              "      <td>Japan</td>\n",
              "      <td>2020</td>\n",
              "      <td>TV-MA</td>\n",
              "      <td>1</td>\n",
              "      <td>Crime TV Shows</td>\n",
              "      <td>Nothing's as it seems when a charismatic conma...</td>\n",
              "      <td>2020-04-30</td>\n",
              "      <td>2020</td>\n",
              "      <td>4</td>\n",
              "      <td>30</td>\n",
              "    </tr>\n",
              "    <tr>\n",
              "      <th>175</th>\n",
              "      <td>The Victims' Game</td>\n",
              "      <td>1</td>\n",
              "      <td>s2604</td>\n",
              "      <td>TV Show</td>\n",
              "      <td>David Chuang, Chen Kuan-chung</td>\n",
              "      <td>Joseph Chang, Hsu Wei-ning, Jason Wang, Ruby L...</td>\n",
              "      <td>Taiwan</td>\n",
              "      <td>2020</td>\n",
              "      <td>TV-MA</td>\n",
              "      <td>1</td>\n",
              "      <td>Crime TV Shows</td>\n",
              "      <td>After discovering his estranged daughter's lin...</td>\n",
              "      <td>2020-04-30</td>\n",
              "      <td>2020</td>\n",
              "      <td>4</td>\n",
              "      <td>30</td>\n",
              "    </tr>\n",
              "    <tr>\n",
              "      <th>176</th>\n",
              "      <td>Middleditch &amp; Schwartz</td>\n",
              "      <td>1</td>\n",
              "      <td>s2660</td>\n",
              "      <td>TV Show</td>\n",
              "      <td>Ryan Polito</td>\n",
              "      <td>Thomas Middleditch, Ben Schwartz</td>\n",
              "      <td>United States</td>\n",
              "      <td>2020</td>\n",
              "      <td>TV-MA</td>\n",
              "      <td>1</td>\n",
              "      <td>TV Comedies</td>\n",
              "      <td>Comedy duo Thomas Middleditch and Ben Schwartz...</td>\n",
              "      <td>2020-04-21</td>\n",
              "      <td>2020</td>\n",
              "      <td>4</td>\n",
              "      <td>21</td>\n",
              "    </tr>\n",
              "    <tr>\n",
              "      <th>177</th>\n",
              "      <td>Ganglands</td>\n",
              "      <td>1</td>\n",
              "      <td>s3</td>\n",
              "      <td>TV Show</td>\n",
              "      <td>Julien Leclercq</td>\n",
              "      <td>Sami Bouajila, Tracy Gotoas, Samuel Jouy, Nabi...</td>\n",
              "      <td>United States</td>\n",
              "      <td>2021</td>\n",
              "      <td>TV-MA</td>\n",
              "      <td>1</td>\n",
              "      <td>Crime TV Shows</td>\n",
              "      <td>To protect his family from a powerful drug lor...</td>\n",
              "      <td>2021-09-24</td>\n",
              "      <td>2021</td>\n",
              "      <td>9</td>\n",
              "      <td>24</td>\n",
              "    </tr>\n",
              "  </tbody>\n",
              "</table>\n",
              "<p>178 rows × 16 columns</p>\n",
              "</div>"
            ],
            "text/plain": [
              "                             title  duration_x show_id     type  \\\n",
              "0                     Supernatural          15   s2424  TV Show   \n",
              "1                           Naruto           9   s3542  TV Show   \n",
              "2    The Great British Baking Show           9      s9  TV Show   \n",
              "3                 Call the Midwife           9   s1999  TV Show   \n",
              "4                            Arrow           8   s2948  TV Show   \n",
              "..                             ...         ...     ...      ...   \n",
              "173                   Almost Happy           1   s2566  TV Show   \n",
              "174   The Forest of Love: Deep Cut           1   s2603  TV Show   \n",
              "175              The Victims' Game           1   s2604  TV Show   \n",
              "176         Middleditch & Schwartz           1   s2660  TV Show   \n",
              "177                      Ganglands           1      s3  TV Show   \n",
              "\n",
              "                          director  \\\n",
              "0                    Phil Sgriccia   \n",
              "1                      Hayato Date   \n",
              "2                  Andy Devonshire   \n",
              "3               Philippa Lowthorpe   \n",
              "4                    James Bamford   \n",
              "..                             ...   \n",
              "173              Hernán Guerschuny   \n",
              "174                      Sion Sono   \n",
              "175  David Chuang, Chen Kuan-chung   \n",
              "176                    Ryan Polito   \n",
              "177                Julien Leclercq   \n",
              "\n",
              "                                                  cast                country  \\\n",
              "0    Jared Padalecki, Jensen Ackles, Mark Sheppard,...  United States, Canada   \n",
              "1    Junko Takeuchi, Chie Nakamura, Noriaki Sugiyam...                  Japan   \n",
              "2    Mel Giedroyc, Sue Perkins, Mary Berry, Paul Ho...         United Kingdom   \n",
              "3    Vanessa Redgrave, Bryony Hannah, Helen George,...         United Kingdom   \n",
              "4    Stephen Amell, Katie Cassidy, David Ramsey, Wi...          United States   \n",
              "..                                                 ...                    ...   \n",
              "173  Sebastián Wainraich, Natalie Pérez, Santiago K...              Argentina   \n",
              "174  Kippei Shiina, Shinnosuke Mitsushima, Kyooko H...                  Japan   \n",
              "175  Joseph Chang, Hsu Wei-ning, Jason Wang, Ruby L...                 Taiwan   \n",
              "176                   Thomas Middleditch, Ben Schwartz          United States   \n",
              "177  Sami Bouajila, Tracy Gotoas, Samuel Jouy, Nabi...          United States   \n",
              "\n",
              "     release_year rating  duration_y                   Genre  \\\n",
              "0            2019  TV-14          15       Classic & Cult TV   \n",
              "1            2006  TV-14           9            Anime Series   \n",
              "2            2021  TV-14           9        British TV Shows   \n",
              "3            2020  TV-MA           9        British TV Shows   \n",
              "4            2019  TV-14           8          Crime TV Shows   \n",
              "..            ...    ...         ...                     ...   \n",
              "173          2020  TV-MA           1  International TV Shows   \n",
              "174          2020  TV-MA           1          Crime TV Shows   \n",
              "175          2020  TV-MA           1          Crime TV Shows   \n",
              "176          2020  TV-MA           1             TV Comedies   \n",
              "177          2021  TV-MA           1          Crime TV Shows   \n",
              "\n",
              "                                           description date_added_parsed  \\\n",
              "0    Siblings Dean and Sam crisscross the country, ...        2020-06-05   \n",
              "1    Guided by the spirit demon within him, orphane...        2019-09-01   \n",
              "2    A talented batch of amateur bakers face off in...        2021-09-24   \n",
              "3    This period drama set in impoverished East Lon...        2020-09-15   \n",
              "4    Based on DC Comics' Green Arrow, an affluent p...        2020-02-05   \n",
              "..                                                 ...               ...   \n",
              "173  Sebastián is a radio show host of modest fame,...        2020-05-02   \n",
              "174  Nothing's as it seems when a charismatic conma...        2020-04-30   \n",
              "175  After discovering his estranged daughter's lin...        2020-04-30   \n",
              "176  Comedy duo Thomas Middleditch and Ben Schwartz...        2020-04-21   \n",
              "177  To protect his family from a powerful drug lor...        2021-09-24   \n",
              "\n",
              "     year_added  month_added  day_added  \n",
              "0          2020            6          5  \n",
              "1          2019            9          1  \n",
              "2          2021            9         24  \n",
              "3          2020            9         15  \n",
              "4          2020            2          5  \n",
              "..          ...          ...        ...  \n",
              "173        2020            5          2  \n",
              "174        2020            4         30  \n",
              "175        2020            4         30  \n",
              "176        2020            4         21  \n",
              "177        2021            9         24  \n",
              "\n",
              "[178 rows x 16 columns]"
            ]
          },
          "metadata": {},
          "execution_count": 351
        }
      ]
    },
    {
      "cell_type": "code",
      "source": [
        "fig = px.treemap(\n",
        "    tv_df,\n",
        "    path=['country', 'Genre'], \n",
        "    values = 'duration_x',\n",
        "    title = 'Country and Genre of TV show scaled by duration time',\n",
        "    height = 600\n",
        ")\n",
        "fig.show()"
      ],
      "metadata": {
        "colab": {
          "base_uri": "https://localhost:8080/",
          "height": 617
        },
        "id": "hfIkjUyYx7ds",
        "outputId": "eff98eea-9691-4441-8c47-4396096e0d49"
      },
      "execution_count": 353,
      "outputs": [
        {
          "output_type": "display_data",
          "data": {
            "text/html": [
              "<html>\n",
              "<head><meta charset=\"utf-8\" /></head>\n",
              "<body>\n",
              "    <div>            <script src=\"https://cdnjs.cloudflare.com/ajax/libs/mathjax/2.7.5/MathJax.js?config=TeX-AMS-MML_SVG\"></script><script type=\"text/javascript\">if (window.MathJax) {MathJax.Hub.Config({SVG: {font: \"STIX-Web\"}});}</script>                <script type=\"text/javascript\">window.PlotlyConfig = {MathJaxConfig: 'local'};</script>\n",
              "        <script src=\"https://cdn.plot.ly/plotly-2.4.2.min.js\"></script>                <div id=\"d857f80c-fa04-4666-b740-06dc901f9187\" class=\"plotly-graph-div\" style=\"height:600px; width:100%;\"></div>            <script type=\"text/javascript\">                                    window.PLOTLYENV=window.PLOTLYENV || {};                                    if (document.getElementById(\"d857f80c-fa04-4666-b740-06dc901f9187\")) {                    Plotly.newPlot(                        \"d857f80c-fa04-4666-b740-06dc901f9187\",                        [{\"branchvalues\":\"total\",\"domain\":{\"x\":[0.0,1.0],\"y\":[0.0,1.0]},\"hovertemplate\":\"labels=%{label}<br>duration_x=%{value}<br>parent=%{parent}<br>id=%{id}<extra></extra>\",\"ids\":[\"Japan/Anime Series\",\"Philippines, Singapore, Indonesia/Anime Series\",\"Spain/Anime Series\",\"United States/Anime Series\",\"Spain/British TV Shows\",\"United Kingdom/British TV Shows\",\"United Kingdom, Ireland, United States/British TV Shows\",\"United Kingdom, United States, Spain, Germany, Greece, Canada/British TV Shows\",\"United States/Classic & Cult TV\",\"United States, Canada/Classic & Cult TV\",\"Belgium/Crime TV Shows\",\"Canada/Crime TV Shows\",\"Colombia, Mexico, United States/Crime TV Shows\",\"France/Crime TV Shows\",\"India/Crime TV Shows\",\"India, United States/Crime TV Shows\",\"Italy/Crime TV Shows\",\"Japan/Crime TV Shows\",\"Mexico/Crime TV Shows\",\"Mexico, Spain/Crime TV Shows\",\"Mexico, United States/Crime TV Shows\",\"Nigeria/Crime TV Shows\",\"Poland/Crime TV Shows\",\"South Korea/Crime TV Shows\",\"Spain/Crime TV Shows\",\"Taiwan/Crime TV Shows\",\"Thailand/Crime TV Shows\",\"Turkey/Crime TV Shows\",\"United States/Crime TV Shows\",\"United States, Ireland/Crime TV Shows\",\"United States, Israel, Italy, South Africa/Crime TV Shows\",\"Brazil/Docuseries\",\"United States/Docuseries\",\"Argentina/International TV Shows\",\"Australia/International TV Shows\",\"Brazil/International TV Shows\",\"Canada/International TV Shows\",\"China/International TV Shows\",\"Colombia/International TV Shows\",\"Denmark/International TV Shows\",\"France/International TV Shows\",\"India/International TV Shows\",\"Nigeria/International TV Shows\",\"Pakistan/International TV Shows\",\"Philippines/International TV Shows\",\"Russia/International TV Shows\",\"South Korea/International TV Shows\",\"South Korea, United States/International TV Shows\",\"Spain/International TV Shows\",\"Taiwan/International TV Shows\",\"Taiwan, Malaysia/International TV Shows\",\"Thailand/International TV Shows\",\"Turkey/International TV Shows\",\"United Kingdom, Germany, United States, France/International TV Shows\",\"United States/International TV Shows\",\"Canada, United Kingdom, United States/Kids' TV\",\"Denmark/Kids' TV\",\"France/Kids' TV\",\"France, South Korea, Japan, United States/Kids' TV\",\"India/Kids' TV\",\"Italy/Kids' TV\",\"Italy, Canada, France/Kids' TV\",\"Italy, United States/Kids' TV\",\"United States/Kids' TV\",\"United States, Canada/Kids' TV\",\"United States/Reality TV\",\"United Kingdom/Romantic TV Shows\",\"United States/Stand-Up Comedy & Talk Shows\",\"United States/TV Action & Adventure\",\"Canada/TV Comedies\",\"United States/TV Comedies\",\"United States/TV Dramas\",\"United States/TV Horror\",\"India/TV Shows\",\"Japan/TV Shows\",\"Saudi Arabia/TV Shows\",\"United States/TV Shows\",\"Argentina\",\"Australia\",\"Belgium\",\"Brazil\",\"Canada\",\"Canada, United Kingdom, United States\",\"China\",\"Colombia\",\"Colombia, Mexico, United States\",\"Denmark\",\"France\",\"France, South Korea, Japan, United States\",\"India\",\"India, United States\",\"Italy\",\"Italy, Canada, France\",\"Italy, United States\",\"Japan\",\"Mexico\",\"Mexico, Spain\",\"Mexico, United States\",\"Nigeria\",\"Pakistan\",\"Philippines\",\"Philippines, Singapore, Indonesia\",\"Poland\",\"Russia\",\"Saudi Arabia\",\"South Korea\",\"South Korea, United States\",\"Spain\",\"Taiwan\",\"Taiwan, Malaysia\",\"Thailand\",\"Turkey\",\"United Kingdom\",\"United Kingdom, Germany, United States, France\",\"United Kingdom, Ireland, United States\",\"United Kingdom, United States, Spain, Germany, Greece, Canada\",\"United States\",\"United States, Canada\",\"United States, Ireland\",\"United States, Israel, Italy, South Africa\"],\"labels\":[\"Anime Series\",\"Anime Series\",\"Anime Series\",\"Anime Series\",\"British TV Shows\",\"British TV Shows\",\"British TV Shows\",\"British TV Shows\",\"Classic & Cult TV\",\"Classic & Cult TV\",\"Crime TV Shows\",\"Crime TV Shows\",\"Crime TV Shows\",\"Crime TV Shows\",\"Crime TV Shows\",\"Crime TV Shows\",\"Crime TV Shows\",\"Crime TV Shows\",\"Crime TV Shows\",\"Crime TV Shows\",\"Crime TV Shows\",\"Crime TV Shows\",\"Crime TV Shows\",\"Crime TV Shows\",\"Crime TV Shows\",\"Crime TV Shows\",\"Crime TV Shows\",\"Crime TV Shows\",\"Crime TV Shows\",\"Crime TV Shows\",\"Crime TV Shows\",\"Docuseries\",\"Docuseries\",\"International TV Shows\",\"International TV Shows\",\"International TV Shows\",\"International TV Shows\",\"International TV Shows\",\"International TV Shows\",\"International TV Shows\",\"International TV Shows\",\"International TV Shows\",\"International TV Shows\",\"International TV Shows\",\"International TV Shows\",\"International TV Shows\",\"International TV Shows\",\"International TV Shows\",\"International TV Shows\",\"International TV Shows\",\"International TV Shows\",\"International TV Shows\",\"International TV Shows\",\"International TV Shows\",\"International TV Shows\",\"Kids' TV\",\"Kids' TV\",\"Kids' TV\",\"Kids' TV\",\"Kids' TV\",\"Kids' TV\",\"Kids' TV\",\"Kids' TV\",\"Kids' TV\",\"Kids' TV\",\"Reality TV\",\"Romantic TV Shows\",\"Stand-Up Comedy & Talk Shows\",\"TV Action & Adventure\",\"TV Comedies\",\"TV Comedies\",\"TV Dramas\",\"TV Horror\",\"TV Shows\",\"TV Shows\",\"TV Shows\",\"TV Shows\",\"Argentina\",\"Australia\",\"Belgium\",\"Brazil\",\"Canada\",\"Canada, United Kingdom, United States\",\"China\",\"Colombia\",\"Colombia, Mexico, United States\",\"Denmark\",\"France\",\"France, South Korea, Japan, United States\",\"India\",\"India, United States\",\"Italy\",\"Italy, Canada, France\",\"Italy, United States\",\"Japan\",\"Mexico\",\"Mexico, Spain\",\"Mexico, United States\",\"Nigeria\",\"Pakistan\",\"Philippines\",\"Philippines, Singapore, Indonesia\",\"Poland\",\"Russia\",\"Saudi Arabia\",\"South Korea\",\"South Korea, United States\",\"Spain\",\"Taiwan\",\"Taiwan, Malaysia\",\"Thailand\",\"Turkey\",\"United Kingdom\",\"United Kingdom, Germany, United States, France\",\"United Kingdom, Ireland, United States\",\"United Kingdom, United States, Spain, Germany, Greece, Canada\",\"United States\",\"United States, Canada\",\"United States, Ireland\",\"United States, Israel, Italy, South Africa\"],\"name\":\"\",\"parents\":[\"Japan\",\"Philippines, Singapore, Indonesia\",\"Spain\",\"United States\",\"Spain\",\"United Kingdom\",\"United Kingdom, Ireland, United States\",\"United Kingdom, United States, Spain, Germany, Greece, Canada\",\"United States\",\"United States, Canada\",\"Belgium\",\"Canada\",\"Colombia, Mexico, United States\",\"France\",\"India\",\"India, United States\",\"Italy\",\"Japan\",\"Mexico\",\"Mexico, Spain\",\"Mexico, United States\",\"Nigeria\",\"Poland\",\"South Korea\",\"Spain\",\"Taiwan\",\"Thailand\",\"Turkey\",\"United States\",\"United States, Ireland\",\"United States, Israel, Italy, South Africa\",\"Brazil\",\"United States\",\"Argentina\",\"Australia\",\"Brazil\",\"Canada\",\"China\",\"Colombia\",\"Denmark\",\"France\",\"India\",\"Nigeria\",\"Pakistan\",\"Philippines\",\"Russia\",\"South Korea\",\"South Korea, United States\",\"Spain\",\"Taiwan\",\"Taiwan, Malaysia\",\"Thailand\",\"Turkey\",\"United Kingdom, Germany, United States, France\",\"United States\",\"Canada, United Kingdom, United States\",\"Denmark\",\"France\",\"France, South Korea, Japan, United States\",\"India\",\"Italy\",\"Italy, Canada, France\",\"Italy, United States\",\"United States\",\"United States, Canada\",\"United States\",\"United Kingdom\",\"United States\",\"United States\",\"Canada\",\"United States\",\"United States\",\"United States\",\"India\",\"Japan\",\"Saudi Arabia\",\"United States\",\"\",\"\",\"\",\"\",\"\",\"\",\"\",\"\",\"\",\"\",\"\",\"\",\"\",\"\",\"\",\"\",\"\",\"\",\"\",\"\",\"\",\"\",\"\",\"\",\"\",\"\",\"\",\"\",\"\",\"\",\"\",\"\",\"\",\"\",\"\",\"\",\"\",\"\",\"\",\"\",\"\",\"\",\"\"],\"type\":\"treemap\",\"values\":[22,1,2,1,1,50,1,1,1,15,1,1,1,3,1,2,1,1,1,1,1,1,2,1,2,3,2,2,31,1,1,2,9,1,1,3,4,3,1,1,2,3,3,1,1,1,15,2,7,4,1,3,5,1,15,1,1,1,5,1,1,1,2,2,1,1,2,13,10,2,9,2,3,2,1,1,5,1,1,1,5,7,1,3,1,1,2,6,5,7,2,2,1,2,24,1,1,1,4,1,1,1,2,1,1,16,2,12,7,1,5,7,52,1,1,1,102,16,1,1]}],                        {\"height\":600,\"legend\":{\"tracegroupgap\":0},\"template\":{\"data\":{\"bar\":[{\"error_x\":{\"color\":\"#2a3f5f\"},\"error_y\":{\"color\":\"#2a3f5f\"},\"marker\":{\"line\":{\"color\":\"#E5ECF6\",\"width\":0.5},\"pattern\":{\"fillmode\":\"overlay\",\"size\":10,\"solidity\":0.2}},\"type\":\"bar\"}],\"barpolar\":[{\"marker\":{\"line\":{\"color\":\"#E5ECF6\",\"width\":0.5},\"pattern\":{\"fillmode\":\"overlay\",\"size\":10,\"solidity\":0.2}},\"type\":\"barpolar\"}],\"carpet\":[{\"aaxis\":{\"endlinecolor\":\"#2a3f5f\",\"gridcolor\":\"white\",\"linecolor\":\"white\",\"minorgridcolor\":\"white\",\"startlinecolor\":\"#2a3f5f\"},\"baxis\":{\"endlinecolor\":\"#2a3f5f\",\"gridcolor\":\"white\",\"linecolor\":\"white\",\"minorgridcolor\":\"white\",\"startlinecolor\":\"#2a3f5f\"},\"type\":\"carpet\"}],\"choropleth\":[{\"colorbar\":{\"outlinewidth\":0,\"ticks\":\"\"},\"type\":\"choropleth\"}],\"contour\":[{\"colorbar\":{\"outlinewidth\":0,\"ticks\":\"\"},\"colorscale\":[[0.0,\"#0d0887\"],[0.1111111111111111,\"#46039f\"],[0.2222222222222222,\"#7201a8\"],[0.3333333333333333,\"#9c179e\"],[0.4444444444444444,\"#bd3786\"],[0.5555555555555556,\"#d8576b\"],[0.6666666666666666,\"#ed7953\"],[0.7777777777777778,\"#fb9f3a\"],[0.8888888888888888,\"#fdca26\"],[1.0,\"#f0f921\"]],\"type\":\"contour\"}],\"contourcarpet\":[{\"colorbar\":{\"outlinewidth\":0,\"ticks\":\"\"},\"type\":\"contourcarpet\"}],\"heatmap\":[{\"colorbar\":{\"outlinewidth\":0,\"ticks\":\"\"},\"colorscale\":[[0.0,\"#0d0887\"],[0.1111111111111111,\"#46039f\"],[0.2222222222222222,\"#7201a8\"],[0.3333333333333333,\"#9c179e\"],[0.4444444444444444,\"#bd3786\"],[0.5555555555555556,\"#d8576b\"],[0.6666666666666666,\"#ed7953\"],[0.7777777777777778,\"#fb9f3a\"],[0.8888888888888888,\"#fdca26\"],[1.0,\"#f0f921\"]],\"type\":\"heatmap\"}],\"heatmapgl\":[{\"colorbar\":{\"outlinewidth\":0,\"ticks\":\"\"},\"colorscale\":[[0.0,\"#0d0887\"],[0.1111111111111111,\"#46039f\"],[0.2222222222222222,\"#7201a8\"],[0.3333333333333333,\"#9c179e\"],[0.4444444444444444,\"#bd3786\"],[0.5555555555555556,\"#d8576b\"],[0.6666666666666666,\"#ed7953\"],[0.7777777777777778,\"#fb9f3a\"],[0.8888888888888888,\"#fdca26\"],[1.0,\"#f0f921\"]],\"type\":\"heatmapgl\"}],\"histogram\":[{\"marker\":{\"pattern\":{\"fillmode\":\"overlay\",\"size\":10,\"solidity\":0.2}},\"type\":\"histogram\"}],\"histogram2d\":[{\"colorbar\":{\"outlinewidth\":0,\"ticks\":\"\"},\"colorscale\":[[0.0,\"#0d0887\"],[0.1111111111111111,\"#46039f\"],[0.2222222222222222,\"#7201a8\"],[0.3333333333333333,\"#9c179e\"],[0.4444444444444444,\"#bd3786\"],[0.5555555555555556,\"#d8576b\"],[0.6666666666666666,\"#ed7953\"],[0.7777777777777778,\"#fb9f3a\"],[0.8888888888888888,\"#fdca26\"],[1.0,\"#f0f921\"]],\"type\":\"histogram2d\"}],\"histogram2dcontour\":[{\"colorbar\":{\"outlinewidth\":0,\"ticks\":\"\"},\"colorscale\":[[0.0,\"#0d0887\"],[0.1111111111111111,\"#46039f\"],[0.2222222222222222,\"#7201a8\"],[0.3333333333333333,\"#9c179e\"],[0.4444444444444444,\"#bd3786\"],[0.5555555555555556,\"#d8576b\"],[0.6666666666666666,\"#ed7953\"],[0.7777777777777778,\"#fb9f3a\"],[0.8888888888888888,\"#fdca26\"],[1.0,\"#f0f921\"]],\"type\":\"histogram2dcontour\"}],\"mesh3d\":[{\"colorbar\":{\"outlinewidth\":0,\"ticks\":\"\"},\"type\":\"mesh3d\"}],\"parcoords\":[{\"line\":{\"colorbar\":{\"outlinewidth\":0,\"ticks\":\"\"}},\"type\":\"parcoords\"}],\"pie\":[{\"automargin\":true,\"type\":\"pie\"}],\"scatter\":[{\"marker\":{\"colorbar\":{\"outlinewidth\":0,\"ticks\":\"\"}},\"type\":\"scatter\"}],\"scatter3d\":[{\"line\":{\"colorbar\":{\"outlinewidth\":0,\"ticks\":\"\"}},\"marker\":{\"colorbar\":{\"outlinewidth\":0,\"ticks\":\"\"}},\"type\":\"scatter3d\"}],\"scattercarpet\":[{\"marker\":{\"colorbar\":{\"outlinewidth\":0,\"ticks\":\"\"}},\"type\":\"scattercarpet\"}],\"scattergeo\":[{\"marker\":{\"colorbar\":{\"outlinewidth\":0,\"ticks\":\"\"}},\"type\":\"scattergeo\"}],\"scattergl\":[{\"marker\":{\"colorbar\":{\"outlinewidth\":0,\"ticks\":\"\"}},\"type\":\"scattergl\"}],\"scattermapbox\":[{\"marker\":{\"colorbar\":{\"outlinewidth\":0,\"ticks\":\"\"}},\"type\":\"scattermapbox\"}],\"scatterpolar\":[{\"marker\":{\"colorbar\":{\"outlinewidth\":0,\"ticks\":\"\"}},\"type\":\"scatterpolar\"}],\"scatterpolargl\":[{\"marker\":{\"colorbar\":{\"outlinewidth\":0,\"ticks\":\"\"}},\"type\":\"scatterpolargl\"}],\"scatterternary\":[{\"marker\":{\"colorbar\":{\"outlinewidth\":0,\"ticks\":\"\"}},\"type\":\"scatterternary\"}],\"surface\":[{\"colorbar\":{\"outlinewidth\":0,\"ticks\":\"\"},\"colorscale\":[[0.0,\"#0d0887\"],[0.1111111111111111,\"#46039f\"],[0.2222222222222222,\"#7201a8\"],[0.3333333333333333,\"#9c179e\"],[0.4444444444444444,\"#bd3786\"],[0.5555555555555556,\"#d8576b\"],[0.6666666666666666,\"#ed7953\"],[0.7777777777777778,\"#fb9f3a\"],[0.8888888888888888,\"#fdca26\"],[1.0,\"#f0f921\"]],\"type\":\"surface\"}],\"table\":[{\"cells\":{\"fill\":{\"color\":\"#EBF0F8\"},\"line\":{\"color\":\"white\"}},\"header\":{\"fill\":{\"color\":\"#C8D4E3\"},\"line\":{\"color\":\"white\"}},\"type\":\"table\"}]},\"layout\":{\"annotationdefaults\":{\"arrowcolor\":\"#2a3f5f\",\"arrowhead\":0,\"arrowwidth\":1},\"autotypenumbers\":\"strict\",\"coloraxis\":{\"colorbar\":{\"outlinewidth\":0,\"ticks\":\"\"}},\"colorscale\":{\"diverging\":[[0,\"#8e0152\"],[0.1,\"#c51b7d\"],[0.2,\"#de77ae\"],[0.3,\"#f1b6da\"],[0.4,\"#fde0ef\"],[0.5,\"#f7f7f7\"],[0.6,\"#e6f5d0\"],[0.7,\"#b8e186\"],[0.8,\"#7fbc41\"],[0.9,\"#4d9221\"],[1,\"#276419\"]],\"sequential\":[[0.0,\"#0d0887\"],[0.1111111111111111,\"#46039f\"],[0.2222222222222222,\"#7201a8\"],[0.3333333333333333,\"#9c179e\"],[0.4444444444444444,\"#bd3786\"],[0.5555555555555556,\"#d8576b\"],[0.6666666666666666,\"#ed7953\"],[0.7777777777777778,\"#fb9f3a\"],[0.8888888888888888,\"#fdca26\"],[1.0,\"#f0f921\"]],\"sequentialminus\":[[0.0,\"#0d0887\"],[0.1111111111111111,\"#46039f\"],[0.2222222222222222,\"#7201a8\"],[0.3333333333333333,\"#9c179e\"],[0.4444444444444444,\"#bd3786\"],[0.5555555555555556,\"#d8576b\"],[0.6666666666666666,\"#ed7953\"],[0.7777777777777778,\"#fb9f3a\"],[0.8888888888888888,\"#fdca26\"],[1.0,\"#f0f921\"]]},\"colorway\":[\"#636efa\",\"#EF553B\",\"#00cc96\",\"#ab63fa\",\"#FFA15A\",\"#19d3f3\",\"#FF6692\",\"#B6E880\",\"#FF97FF\",\"#FECB52\"],\"font\":{\"color\":\"#2a3f5f\"},\"geo\":{\"bgcolor\":\"white\",\"lakecolor\":\"white\",\"landcolor\":\"#E5ECF6\",\"showlakes\":true,\"showland\":true,\"subunitcolor\":\"white\"},\"hoverlabel\":{\"align\":\"left\"},\"hovermode\":\"closest\",\"mapbox\":{\"style\":\"light\"},\"paper_bgcolor\":\"white\",\"plot_bgcolor\":\"#E5ECF6\",\"polar\":{\"angularaxis\":{\"gridcolor\":\"white\",\"linecolor\":\"white\",\"ticks\":\"\"},\"bgcolor\":\"#E5ECF6\",\"radialaxis\":{\"gridcolor\":\"white\",\"linecolor\":\"white\",\"ticks\":\"\"}},\"scene\":{\"xaxis\":{\"backgroundcolor\":\"#E5ECF6\",\"gridcolor\":\"white\",\"gridwidth\":2,\"linecolor\":\"white\",\"showbackground\":true,\"ticks\":\"\",\"zerolinecolor\":\"white\"},\"yaxis\":{\"backgroundcolor\":\"#E5ECF6\",\"gridcolor\":\"white\",\"gridwidth\":2,\"linecolor\":\"white\",\"showbackground\":true,\"ticks\":\"\",\"zerolinecolor\":\"white\"},\"zaxis\":{\"backgroundcolor\":\"#E5ECF6\",\"gridcolor\":\"white\",\"gridwidth\":2,\"linecolor\":\"white\",\"showbackground\":true,\"ticks\":\"\",\"zerolinecolor\":\"white\"}},\"shapedefaults\":{\"line\":{\"color\":\"#2a3f5f\"}},\"ternary\":{\"aaxis\":{\"gridcolor\":\"white\",\"linecolor\":\"white\",\"ticks\":\"\"},\"baxis\":{\"gridcolor\":\"white\",\"linecolor\":\"white\",\"ticks\":\"\"},\"bgcolor\":\"#E5ECF6\",\"caxis\":{\"gridcolor\":\"white\",\"linecolor\":\"white\",\"ticks\":\"\"}},\"title\":{\"x\":0.05},\"xaxis\":{\"automargin\":true,\"gridcolor\":\"white\",\"linecolor\":\"white\",\"ticks\":\"\",\"title\":{\"standoff\":15},\"zerolinecolor\":\"white\",\"zerolinewidth\":2},\"yaxis\":{\"automargin\":true,\"gridcolor\":\"white\",\"linecolor\":\"white\",\"ticks\":\"\",\"title\":{\"standoff\":15},\"zerolinecolor\":\"white\",\"zerolinewidth\":2}}},\"title\":{\"text\":\"Country and Genre of TV show scaled by duration time\"}},                        {\"responsive\": true}                    ).then(function(){\n",
              "                            \n",
              "var gd = document.getElementById('d857f80c-fa04-4666-b740-06dc901f9187');\n",
              "var x = new MutationObserver(function (mutations, observer) {{\n",
              "        var display = window.getComputedStyle(gd).display;\n",
              "        if (!display || display === 'none') {{\n",
              "            console.log([gd, 'removed!']);\n",
              "            Plotly.purge(gd);\n",
              "            observer.disconnect();\n",
              "        }}\n",
              "}});\n",
              "\n",
              "// Listen for the removal of the full notebook cells\n",
              "var notebookContainer = gd.closest('#notebook-container');\n",
              "if (notebookContainer) {{\n",
              "    x.observe(notebookContainer, {childList: true});\n",
              "}}\n",
              "\n",
              "// Listen for the clearing of the current output cell\n",
              "var outputEl = gd.closest('.output');\n",
              "if (outputEl) {{\n",
              "    x.observe(outputEl, {childList: true});\n",
              "}}\n",
              "\n",
              "                        })                };                            </script>        </div>\n",
              "</body>\n",
              "</html>"
            ]
          },
          "metadata": {}
        }
      ]
    }
  ]
}